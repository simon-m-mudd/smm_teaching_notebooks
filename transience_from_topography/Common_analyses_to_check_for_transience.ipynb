{
  "nbformat": 4,
  "nbformat_minor": 0,
  "metadata": {
    "colab": {
      "provenance": [],
      "authorship_tag": "ABX9TyOuaTQ7urrCVih297FbQl3N",
      "include_colab_link": true
    },
    "kernelspec": {
      "name": "python3",
      "display_name": "Python 3"
    },
    "language_info": {
      "name": "python"
    }
  },
  "cells": [
    {
      "cell_type": "markdown",
      "metadata": {
        "id": "view-in-github",
        "colab_type": "text"
      },
      "source": [
        "<a href=\"https://colab.research.google.com/github/simon-m-mudd/smm_teaching_notebooks/blob/master/transience_from_topography/Common_analyses_to_check_for_transience.ipynb\" target=\"_parent\"><img src=\"https://colab.research.google.com/assets/colab-badge.svg\" alt=\"Open In Colab\"/></a>"
      ]
    },
    {
      "cell_type": "markdown",
      "source": [
        "# Common analyses that you can use to check for landscape transience"
      ],
      "metadata": {
        "id": "aPZuIjz9CsYr"
      }
    },
    {
      "cell_type": "markdown",
      "source": [
        "*This lesson made by Simon M Mudd and last updated 18/09/2023*"
      ],
      "metadata": {
        "id": "ATUQcCdPC2AB"
      }
    },
    {
      "cell_type": "markdown",
      "source": [
        "## READ THIS FIRST\n",
        "\n",
        "**To generate the plots in this notebook there are only a few things you should change!**\n",
        "\n",
        "**Search for the text \"Edit code block below for your site\" to find where you need to change the code. Do not alter any of the other code blocks**\n",
        "\n",
        "* You can change your location by adjusting `lower_left` and `upper_right` corner of your site.\n",
        "* You can update your basin locations.\n",
        "* You can plot different basin by changing the basin number.\n",
        "* You can change the end points of your swath.\n",
        "\n",
        "So by changing a tiny handful of things you should get a fairly extensive set of figures (saved as png, with file names that tell you what they are) for your selected landscape."
      ],
      "metadata": {
        "id": "Opt7pALZU3eS"
      }
    },
    {
      "cell_type": "markdown",
      "metadata": {
        "id": "QKy7_wKyMn9K"
      },
      "source": [
        "## Stuff we need to do if you are in colab (not required notable or in the lsdtopotools pytools container)"
      ]
    },
    {
      "cell_type": "markdown",
      "source": [
        "The assumption for these notebooks is that you are working in a notable container.\n",
        "\n",
        "So these steps are turned into comments using a `#` symbol before each line.\n",
        "\n",
        "If you want to work on google colab you will need to delete the `#` symbols"
      ],
      "metadata": {
        "id": "zOXdP-wIDGcc"
      }
    },
    {
      "cell_type": "code",
      "execution_count": null,
      "metadata": {
        "id": "Pj2pwsxkvbS8"
      },
      "outputs": [],
      "source": [
        "#!pip install lsdviztools &> /dev/null"
      ]
    },
    {
      "cell_type": "code",
      "execution_count": null,
      "metadata": {
        "id": "ea215034"
      },
      "outputs": [],
      "source": [
        "#!pip install -q condacolab\n",
        "#import condacolab\n",
        "#condacolab.install()"
      ]
    },
    {
      "cell_type": "code",
      "execution_count": null,
      "metadata": {
        "id": "0568f44f"
      },
      "outputs": [],
      "source": [
        "#!mamba install -y gdal proj lsdtopotools &> /dev/null"
      ]
    },
    {
      "cell_type": "markdown",
      "source": [
        "## Part 1: Get data"
      ],
      "metadata": {
        "id": "qMerIR8pCxuS"
      }
    },
    {
      "cell_type": "markdown",
      "source": [
        "**First step, copy your Opentopography API key into a text file called \"my_OT_api_key.txt\" and make sure it is in the same file system as this notebook.**\n",
        "\n",
        "If you don't know how to do that got to the `basic_topography` section and read lesson 1."
      ],
      "metadata": {
        "id": "XGJBcVEhD8sh"
      }
    },
    {
      "cell_type": "markdown",
      "source": [
        "Make sure we are using the latest version of `lsdviztools`"
      ],
      "metadata": {
        "id": "uI4CagdBDbo7"
      }
    },
    {
      "cell_type": "code",
      "execution_count": null,
      "metadata": {
        "id": "d9123dd4"
      },
      "outputs": [],
      "source": [
        "!pip install lsdviztools --upgrade"
      ]
    },
    {
      "cell_type": "markdown",
      "metadata": {
        "id": "a7e892dd"
      },
      "source": [
        "Double check that the version is correct. For this lesson we need version 0.4.11 or above."
      ]
    },
    {
      "cell_type": "code",
      "execution_count": null,
      "metadata": {
        "id": "904606d4"
      },
      "outputs": [],
      "source": [
        "import lsdviztools\n",
        "lsdviztools.__version__"
      ]
    },
    {
      "cell_type": "markdown",
      "source": [
        "We also need to import some stuff"
      ],
      "metadata": {
        "id": "FBGL62W-D0um"
      }
    },
    {
      "cell_type": "code",
      "execution_count": null,
      "metadata": {
        "id": "d8b43e5f"
      },
      "outputs": [],
      "source": [
        "import lsdviztools.lsdbasemaptools as bmt\n",
        "import rasterio as rio\n",
        "import matplotlib.pyplot as plt\n",
        "import numpy as np\n",
        "from lsdviztools.lsdplottingtools import lsdmap_gdalio as gio\n"
      ]
    },
    {
      "cell_type": "markdown",
      "source": [
        "**Next step: make sure the filename of your API key matches the one below.** Filenames are case sensitive. So if your file is \"my_OT_API_key.txt\" this will not work in the code block below (because api needs to be lower case).\n",
        "\n",
        "**Then update the latitude and longitude of the lower left and upper right corner of your study area. You can get a latitude and longitude by right clicking on google maps.**"
      ],
      "metadata": {
        "id": "7LAJCUSAEVro"
      }
    },
    {
      "cell_type": "markdown",
      "source": [
        "### Edit code block below for your site!\n",
        "\n",
        "* change latitude and longitude of your `lower_left` and `upper_right` corners.\n",
        "* Make sure your api filename is correct.\n",
        "\n"
      ],
      "metadata": {
        "id": "2K6UbFIaVJAc"
      }
    },
    {
      "cell_type": "code",
      "source": [
        "from lsdviztools.lsdplottingtools import lsdmap_gdalio as gio\n",
        "import lsdviztools.lsdbasemaptools as bmt\n",
        "\n",
        "lower_left = [37.87521641344407, 15.628317625157045]\n",
        "upper_right = [38.30554438686832, 16.210748067627133]\n",
        "\n",
        "# YOU NEED TO PUT YOUR API KEY IN A FILE\n",
        "your_OT_api_key_file = \"my_OT_api_key.txt\"\n",
        "\n",
        "with open(your_OT_api_key_file, 'r') as file:\n",
        "    print(\"I am reading you OT API key from the file \"+your_OT_api_key_file)\n",
        "    api_key = file.read().rstrip()\n",
        "    print(\"Your api key starts with: \"+api_key[0:4])\n",
        "\n",
        "Dataset_prefix = \"DEM\"\n",
        "source_name = \"COP30\"\n",
        "\n",
        "\n",
        "My_DEM = bmt.ot_scraper(source = source_name,\n",
        "                        lower_left_coordinates = lower_left,\n",
        "                        upper_right_coordinates = upper_right,\n",
        "                        prefix = Dataset_prefix,\n",
        "                        api_key_file = your_OT_api_key_file)\n",
        "My_DEM.print_parameters()\n",
        "My_DEM.download_pythonic()\n",
        "\n",
        "DataDirectory = \"./\"\n",
        "Fname = Dataset_prefix+\"_\"+source_name+\".tif\"\n",
        "gio.convert4lsdtt(DataDirectory,Fname)"
      ],
      "metadata": {
        "id": "HGOdFkadDaxO"
      },
      "execution_count": null,
      "outputs": []
    },
    {
      "cell_type": "markdown",
      "source": [
        "**Important**: you should always cite your data source. For this data, you should cite:\n",
        "\n",
        "*European Space Agency, Sinergise (2021). Copernicus Global Digital Elevation Model. Distributed by OpenTopography. https://doi.org/10.5069/G9028PQB. Accessed: 2023-09-26*"
      ],
      "metadata": {
        "id": "Db7dEWjiXEzu"
      }
    },
    {
      "cell_type": "markdown",
      "source": [
        "## Part 2: Get a hillshade: **you have to do this for the rest of the plotting to work**"
      ],
      "metadata": {
        "id": "LWj3VLXvE3gI"
      }
    },
    {
      "cell_type": "markdown",
      "source": [
        "We are going to get a hillshade since this is used in all of the plotting routines in `lsdviztools`.\n",
        "\n",
        "*You only need to execute this code, you don't need to change anything!*"
      ],
      "metadata": {
        "id": "7Lo0wNVZE9bD"
      }
    },
    {
      "cell_type": "code",
      "source": [
        "import lsdviztools.lsdmapwrappers as lsdmw\n",
        "\n",
        "## Get the basins\n",
        "lsdtt_parameters = {\"write_hillshade\" : \"true\"}\n",
        "r_prefix = Dataset_prefix+\"_\"+source_name +\"_UTM\"\n",
        "w_prefix = Dataset_prefix+\"_\"+source_name +\"_UTM\"\n",
        "lsdtt_drive = lsdmw.lsdtt_driver(command_line_tool = \"lsdtt-basic-metrics\",\n",
        "                                 read_prefix = r_prefix,\n",
        "                                 write_prefix= w_prefix,\n",
        "                                 read_path = \"./\",\n",
        "                                 write_path = \"./\",\n",
        "                                 parameter_dictionary=lsdtt_parameters)\n",
        "lsdtt_drive.print_parameters()\n",
        "lsdtt_drive.run_lsdtt_command_line_tool()"
      ],
      "metadata": {
        "id": "O0V8ZCrTE8yD"
      },
      "execution_count": null,
      "outputs": []
    },
    {
      "cell_type": "markdown",
      "source": [
        "This prints the image. It will also save a png file."
      ],
      "metadata": {
        "id": "F9FL__oRFvcy"
      }
    },
    {
      "cell_type": "code",
      "source": [
        "DataDirectory = \"./\"\n",
        "r_prefix = Dataset_prefix+\"_\"+source_name +\"_UTM\"\n",
        "Base_file = r_prefix\n",
        "\n",
        "this_img = lsdmw.SimpleHillshade(DataDirectory,Base_file,cmap=\"gist_earth\", save_fig=True,\n",
        "                                 size_format=\"geomorphology\",dpi=400,\n",
        "                                 out_fname_prefix = \"hillshade_plot\")\n",
        "\n",
        "print(this_img)\n",
        "from IPython.display import display, Image\n",
        "display(Image(filename=this_img, width=800))"
      ],
      "metadata": {
        "id": "HY1yx8-UFoWq"
      },
      "execution_count": null,
      "outputs": []
    },
    {
      "cell_type": "markdown",
      "source": [
        "## Part 3 Make slope and curvature maps"
      ],
      "metadata": {
        "id": "-KjQm8jdGZxk"
      }
    },
    {
      "cell_type": "markdown",
      "source": [
        "Topographic gradient and hillslope curvature give some indications of how quickly landscapes are eroding.\n",
        "\n",
        "The analyses you use below are calculated by fitting a polynomial surface to topography and calculating the derivatives of this surface. The method follows Hurst et al (2012):\n",
        "\n",
        "*Hurst, M.D., Mudd, S.M., Walcott, R., Attal, M., Yoo, K., 2012. Using hilltop curvature to derive the spatial distribution of erosion rates. J. Geophys. Res. 117, 2011JF002057. https://doi.org/10.1029/2011JF002057*\n",
        "\n",
        "\n",
        "\n",
        "You can say that you implemented this algorithm using lsdtopotools version 0.9. The citation is:\n",
        "\n",
        "*Mudd, S.M., Clubb, F.J., Grieve, S.W.D., Milodowski, D.T., Gailleton, B., Hurst, M.D., Valters, D.V., Wickert, A.D., & Hutton, E.W.H. (2023). LSDtopotools/LSDTopoTools2: LSDTopoTools2 v0.9 (v0.9). Zenodo. https://doi.org/10.5281/zenodo.8076231*"
      ],
      "metadata": {
        "id": "ZZAIIOilWr1g"
      }
    },
    {
      "cell_type": "markdown",
      "source": [
        "This part runs the analysis:"
      ],
      "metadata": {
        "id": "SfGjLbV4YoIH"
      }
    },
    {
      "cell_type": "code",
      "source": [
        "# IMPORTANT all the parameter values must be passed as strings.\n",
        "# So even if the parameter is a number it always needs to be in quotations\n",
        "lsdtt_parameters = {\"surface_fitting_radius\" : \"60\",\n",
        "                    \"print_slope\" : \"true\",\n",
        "                    \"print_curvature\" : \"true\"}\n",
        "r_prefix = Dataset_prefix+\"_\"+source_name +\"_UTM\"\n",
        "w_prefix = Dataset_prefix+\"_\"+source_name +\"_UTM\"\n",
        "lsdtt_drive = lsdmw.lsdtt_driver(read_prefix = r_prefix,\n",
        "                                 write_prefix= w_prefix,\n",
        "                                 read_path = \"./\",\n",
        "                                 write_path = \"./\",\n",
        "                                 parameter_dictionary=lsdtt_parameters)\n",
        "lsdtt_drive.print_parameters()\n",
        "lsdtt_drive.run_lsdtt_command_line_tool()"
      ],
      "metadata": {
        "id": "Da8yd1ymGgLZ"
      },
      "execution_count": null,
      "outputs": []
    },
    {
      "cell_type": "markdown",
      "source": [
        "The next two code blocks print the gradient:"
      ],
      "metadata": {
        "id": "gij-EUfjYq89"
      }
    },
    {
      "cell_type": "code",
      "source": [
        "%%capture\n",
        "Base_file = r_prefix\n",
        "\n",
        "### Plot the topographic gradient\n",
        "Drape_prefix = r_prefix+\"_SLOPE\"\n",
        "this_slope_img = lsdmw.SimpleDrape(DataDirectory,Base_file,Drape_prefix, cmap=\"inferno\",\n",
        "                                       cbar_label = \"Gradient (m/m)\",\n",
        "                                       save_fig=True, size_format=\"geomorphology\",dpi=400,\n",
        "                                       out_fname_prefix = \"gradient_plot\")"
      ],
      "metadata": {
        "id": "oSHLztd9G1j6"
      },
      "execution_count": null,
      "outputs": []
    },
    {
      "cell_type": "code",
      "source": [
        "print(this_slope_img)\n",
        "from IPython.display import display, Image\n",
        "display(Image(filename=this_slope_img, width=800))"
      ],
      "metadata": {
        "id": "aLxktJ_oG2fU"
      },
      "execution_count": null,
      "outputs": []
    },
    {
      "cell_type": "markdown",
      "source": [
        "And the next two print the curvature."
      ],
      "metadata": {
        "id": "AN9uaM42Yuvz"
      }
    },
    {
      "cell_type": "code",
      "source": [
        "%%capture\n",
        "Base_file = r_prefix\n",
        "\n",
        "### Plot the curvature\n",
        "Drape_prefix = r_prefix+\"_CURV\"\n",
        "this_curv_img = lsdmw.SimpleDrape(DataDirectory,Base_file,Drape_prefix, cmap=\"RdBu\",\n",
        "                                  cbar_label = \"Curvature (1/m)\",\n",
        "                                  cbar_loc = \"top\",\n",
        "                                  save_fig=True, size_format=\"ESURF\",dpi=400,\n",
        "                                  out_fname_prefix = \"curvature_plot\")"
      ],
      "metadata": {
        "id": "Oienqv6zHJ2D"
      },
      "execution_count": null,
      "outputs": []
    },
    {
      "cell_type": "code",
      "source": [
        "print(this_curv_img)\n",
        "from IPython.display import display, Image\n",
        "display(Image(filename=this_slope_img, width=800))"
      ],
      "metadata": {
        "id": "obS-TOBOHi6s"
      },
      "execution_count": null,
      "outputs": []
    },
    {
      "cell_type": "markdown",
      "source": [
        "## Part 4: Select basins"
      ],
      "metadata": {
        "id": "CGRsb8MOongh"
      }
    },
    {
      "cell_type": "markdown",
      "source": [
        "We can select basins by giving `lsdtopotools` basin outlets.\n",
        "\n",
        "The below code block allows you to paste in some basin outlets.\n",
        "\n",
        "So you can change some of the outlets, make sure each outlet has two numbers, separated by a comma, in square brackets.\n",
        "There needs to be a comma after each of the outlet locations, apart from the last one.\n",
        "All of these get enclosed in an outer pair of square brackets.\n",
        "\n",
        "Like this:\n",
        "```\n",
        "[ [a,b],\n",
        "  [c,d],\n",
        "  [e,f]\n",
        "  ]\n",
        "```\n",
        "\n",
        "**Important**: if your DEM does not contain the entire drainage basin, the basin will not be extracted. That is, you can't get a basin that is beheaded by the edge of your map. Also you should pick an outlet slightly upstream of where you want the basin, for reasons that are too tedious to explain here."
      ],
      "metadata": {
        "id": "A9ZTctIWYzFW"
      }
    },
    {
      "cell_type": "markdown",
      "source": [
        "### Edit code block below for your site!\n",
        "\n",
        "* change the latitude and longitude of your basin outlets using the format described above. The ways you can mess this up are by not having the correct placing of square brackets and having commas missing, or in the wrong place. Follow the format above!"
      ],
      "metadata": {
        "id": "DrYOS8eXZkFf"
      }
    },
    {
      "cell_type": "code",
      "source": [
        "# Import pandas library\n",
        "import pandas as pd\n",
        "\n",
        "data = [ [37.94234239772101, 15.790076672680563],\n",
        "         [37.93291942111813, 15.792125654538383],\n",
        "         [38.06143176957989, 16.060604039819015],\n",
        "         [38.094672987877786, 15.677112531901733],\n",
        "         [38.20455853467961, 15.67642588617276],\n",
        "         [38.12546843046537, 16.1230887795859]]\n",
        "\n",
        "# Create the pandas DataFrame\n",
        "df = pd.DataFrame(data, columns = ['latitude', 'longitude'])\n",
        "\n",
        "df.to_csv(\"basin_outlets.csv\",index=False)\n",
        "df.head()"
      ],
      "metadata": {
        "id": "5utcdT1fo3qH"
      },
      "execution_count": null,
      "outputs": []
    },
    {
      "cell_type": "markdown",
      "source": [
        "This runs the analysis."
      ],
      "metadata": {
        "id": "N96Td4x-Z1kG"
      }
    },
    {
      "cell_type": "code",
      "execution_count": null,
      "metadata": {
        "id": "72cac9aa"
      },
      "outputs": [],
      "source": [
        "import lsdviztools.lsdmapwrappers as lsdmw\n",
        "\n",
        "## Get the basins\n",
        "lsdtt_parameters = {\"print_basin_raster\" : \"true\",\n",
        "                    \"get_basins_from_outlets\" : \"true\",\n",
        "                    \"basin_outlet_csv\" : \"basin_outlets.csv\",\n",
        "                    \"print_chi_data_maps\" : \"true\"}\n",
        "r_prefix = Dataset_prefix+\"_\"+source_name +\"_UTM\"\n",
        "w_prefix = Dataset_prefix+\"_\"+source_name +\"_UTM\"\n",
        "lsdtt_drive = lsdmw.lsdtt_driver(command_line_tool = \"lsdtt-chi-mapping\",\n",
        "                                 read_prefix = r_prefix,\n",
        "                                 write_prefix= w_prefix,\n",
        "                                 read_path = \"./\",\n",
        "                                 write_path = \"./\",\n",
        "                                 parameter_dictionary=lsdtt_parameters)\n",
        "lsdtt_drive.print_parameters()\n",
        "lsdtt_drive.run_lsdtt_command_line_tool()"
      ]
    },
    {
      "cell_type": "markdown",
      "source": [
        "This makes the plots:"
      ],
      "metadata": {
        "id": "-45zN14HaK3R"
      }
    },
    {
      "cell_type": "code",
      "execution_count": null,
      "metadata": {
        "id": "b977fa23",
        "scrolled": true
      },
      "outputs": [],
      "source": [
        "#import lsdviztools.lsdmapwrappers as lsdmw\n",
        "r_prefix = Dataset_prefix+\"_\"+source_name +\"_UTM\"\n",
        "Base_file = r_prefix\n",
        "\n",
        "#%%capture\n",
        "basins_img = lsdmw.PrintBasins_Complex(DataDirectory,Base_file,cmap=\"gist_earth\",\n",
        "                             size_format=\"geomorphology\",dpi=400, save_fig = True,\n",
        "                             out_fname_prefix = \"basins_plot\")"
      ]
    },
    {
      "cell_type": "code",
      "execution_count": null,
      "metadata": {
        "id": "62c2ede4"
      },
      "outputs": [],
      "source": [
        "print(basins_img)\n",
        "from IPython.display import display, Image\n",
        "display(Image(filename=basins_img, width=800))"
      ]
    },
    {
      "cell_type": "markdown",
      "source": [
        "## Part 5: Plot channel profiles"
      ],
      "metadata": {
        "id": "prSH2qFdpklW"
      }
    },
    {
      "cell_type": "markdown",
      "source": [
        "We can look at the channel profiles in your basins.\n",
        "\n",
        "A typical channel profile will be a plot of elevation against flow distance. But this makes it a little difficult to see changes in channel steepness. Why? Because headwater channels tend to be steeper than downstream channels. In fact, the gradient of channels is thought to scale with drainage area, so to compare relative steepness, you need to control for drainage area.\n",
        "\n",
        "A clever way to do this is to integrate drainge area as you move upstream. I won't explain why this works by if you want to know about it please read this paper:\n",
        "\n",
        "*Perron, J.T, and Royden, L. 2013. An Integral Approach to Bedrock River Profile Analysis. Earth Surface Processes and Landforms 38 (6): 570–76. https://doi.org/10.1002/esp.3302.*\n",
        "\n",
        "This results in a transformed channel coordinate, which we call \"chi\" (it is this greek letter: $\\chi$).\n",
        "\n",
        "If you plot elevation against $\\chi$, you get something that looks like a channel profile. But this profile has the very convinient feature that the gradient of the profile should be proportional to something called the channel steepness index, which in many landscapes is closely correlated with the erosion rate. See:\n",
        "\n",
        "*Kirby, E., Whipple, K., 2001. Quantifying differential rock-uplift rates via stream profile analysis. Geology 29, 415–418. https://doi.org/10.1130/0091-7613(2001)029<0415:QDRURV>2.0.CO;2*\n",
        "\n"
      ],
      "metadata": {
        "id": "WY-WDTe4aVXs"
      }
    },
    {
      "cell_type": "markdown",
      "source": [
        "This first step loads the channel profile data. This came out of the little bit of code you used to get the basins."
      ],
      "metadata": {
        "id": "6ZkT4ukYc1OA"
      }
    },
    {
      "cell_type": "code",
      "source": [
        "import pandas as pd\n",
        "channel_file_name = r_prefix+\"_chi_data_map.csv\"\n",
        "df = pd.read_csv(channel_file_name)\n",
        "df.head()"
      ],
      "metadata": {
        "id": "wzV9erlTrgSx"
      },
      "execution_count": null,
      "outputs": []
    },
    {
      "cell_type": "markdown",
      "source": [
        "### Edit code block below for your site!\n",
        "\n",
        "* change the basin number to look at different basins!"
      ],
      "metadata": {
        "id": "Btby5xuzaQ3s"
      }
    },
    {
      "cell_type": "code",
      "source": [
        "basin = 2"
      ],
      "metadata": {
        "id": "nVZMvUE9sUjj"
      },
      "execution_count": null,
      "outputs": []
    },
    {
      "cell_type": "markdown",
      "source": [
        "Now we can plot the $\\chi$-elevation plot:"
      ],
      "metadata": {
        "id": "Mrh8uo1_c94W"
      }
    },
    {
      "cell_type": "code",
      "source": [
        "import matplotlib.pyplot as plt\n",
        "df_single_basin = df[(df['basin_key'] == basin)]\n",
        "\n",
        "fig = plt.figure()\n",
        "ax = fig.add_subplot(1, 1,1)\n",
        "\n",
        "plt.scatter(df_single_basin.chi,df_single_basin.elevation,c=df_single_basin.flow_distance)\n",
        "plt.xlabel(r\"$\\chi$ (m)\")\n",
        "plt.ylabel(\"elevation (m)\")\n",
        "ax.text(0.1,0.9,\"Basin \"+str(basin),transform=ax.transAxes)\n",
        "\n",
        "chi_profile_name = \"chi_profile_basin\"+str(basin)+\".png\"\n",
        "plt.savefig(chi_profile_name, bbox_inches='tight',dpi = 400)"
      ],
      "metadata": {
        "id": "wAUk1sLKpgyA"
      },
      "execution_count": null,
      "outputs": []
    },
    {
      "cell_type": "code",
      "source": [
        "print(chi_profile_name)\n",
        "from IPython.display import display, Image\n",
        "display(Image(filename=chi_profile_name, width=800))"
      ],
      "metadata": {
        "id": "FYMk3u9apjGn"
      },
      "execution_count": null,
      "outputs": []
    },
    {
      "cell_type": "markdown",
      "source": [
        "You can also plot the traditional channel profile."
      ],
      "metadata": {
        "id": "LlkMF9VZdGS1"
      }
    },
    {
      "cell_type": "code",
      "source": [
        "import matplotlib.pyplot as plt\n",
        "df_single_basin = df[(df['basin_key'] == basin)]\n",
        "\n",
        "fig = plt.figure()\n",
        "ax = fig.add_subplot(1, 1,1)\n",
        "\n",
        "plt.scatter(df_single_basin.flow_distance,df_single_basin.elevation,c=df_single_basin.chi)\n",
        "plt.xlabel(\"flow distance$ (m)\")\n",
        "plt.ylabel(\"elevation (m)\")\n",
        "ax.text(0.1,0.9,\"Basin \"+str(basin),transform=ax.transAxes)\n",
        "\n",
        "channel_profile_name = \"channel_profile_basin\"+str(basin)+\".png\"\n",
        "plt.savefig(chi_profile_name, bbox_inches='tight',dpi = 400)"
      ],
      "metadata": {
        "id": "Fz8ntr4hsY3j"
      },
      "execution_count": null,
      "outputs": []
    },
    {
      "cell_type": "code",
      "source": [
        "print(channel_profile_name)\n",
        "from IPython.display import display, Image\n",
        "display(Image(filename=chi_profile_name, width=800))"
      ],
      "metadata": {
        "id": "5et_0LQXsY3t"
      },
      "execution_count": null,
      "outputs": []
    },
    {
      "cell_type": "markdown",
      "source": [
        "## A swath example"
      ],
      "metadata": {
        "id": "EEoehTRhyrW7"
      }
    },
    {
      "cell_type": "markdown",
      "source": [
        "You could collect elevation data along a transect to see trends in elevation. For example, you could look at a transect perpendicular to a river to see what the hillslopes are doing.\n",
        "\n",
        "However, topographic data is noisy, there are ridges, etc. So an alternative is to get some average representation of the topography along a line.\n",
        "\n",
        "A *swath profile* takes some baseline (think of this as the middle of your transect) and then looks at elevations around it and calculates the statistic of elevation.\n",
        "\n",
        "The median values along this *swath* look very much like a single transect, but you can also see how much the elevations vary.\n",
        "\n",
        "In `lsdtopotools` you can make a swath profile by just telling it the two ends of your transect.\n",
        "\n",
        "The method is from:\n",
        "\n",
        "*Hergarten, S., Robl, J., Stüwe, K., 2014. Extracting topographic swath profiles across curved geomorphic features. Earth Surface Dynamics 2, 97–104. https://doi.org/10.5194/esurf-2-97-2014*\n"
      ],
      "metadata": {
        "id": "yaVu3pZQdwgt"
      }
    },
    {
      "cell_type": "markdown",
      "source": [
        "### Edit code block below for your site!\n",
        "\n",
        "* Update the two lat-long pairs below to get the ends of your swath profile"
      ],
      "metadata": {
        "id": "iV0fFsbpe6Mj"
      }
    },
    {
      "cell_type": "code",
      "source": [
        "# Import pandas library\n",
        "import pandas as pd\n",
        "\n",
        "data = [ [38.071180814769235, 15.821177352750635],\n",
        "         [38.10306680861067, 15.796114793399402]\n",
        "       ]\n",
        "\n",
        "# Create the pandas DataFrame\n",
        "df = pd.DataFrame(data, columns = ['latitude', 'longitude'])\n",
        "\n",
        "df.to_csv(\"swath1.csv\",index=False)\n",
        "df.head()"
      ],
      "metadata": {
        "id": "npvK93EWytLv"
      },
      "execution_count": null,
      "outputs": []
    },
    {
      "cell_type": "markdown",
      "source": [
        "This runs the anaylsis."
      ],
      "metadata": {
        "id": "O-FqeIf4fAmf"
      }
    },
    {
      "cell_type": "code",
      "source": [
        "## Get the basins and the channel profile\n",
        "import lsdviztools.lsdmapwrappers as lsdmw\n",
        "lsdtt_parameters = {\"calculate_swath_profile\" : \"true\",\n",
        "                    \"calculate_swath_along_line\" : \"true\",\n",
        "                    \"swath_point_spacing\" : \"45\",\n",
        "                    \"swath_bin_spacing\" : \"90\",\n",
        "                    \"swath_points_csv\" : \"swath1.csv\"}\n",
        "r_prefix = Dataset_prefix+\"_\"+source_name +\"_UTM\"\n",
        "w_prefix = Dataset_prefix+\"_\"+source_name +\"_UTM\"\n",
        "lsdtt_drive = lsdmw.lsdtt_driver(command_line_tool = \"lsdtt-basic-metrics\",\n",
        "                                 read_prefix = r_prefix,\n",
        "                                 write_prefix= w_prefix,\n",
        "                                 read_path = \"./\",\n",
        "                                 write_path = \"./\",\n",
        "                                 parameter_dictionary=lsdtt_parameters)\n",
        "lsdtt_drive.print_parameters()\n",
        "lsdtt_drive.run_lsdtt_command_line_tool()"
      ],
      "metadata": {
        "id": "jBilsRyby8_B"
      },
      "execution_count": null,
      "outputs": []
    },
    {
      "cell_type": "markdown",
      "source": [
        "This prints the swath footprint (that is, where the data comes from on the map)."
      ],
      "metadata": {
        "id": "1DzivukgfDj8"
      }
    },
    {
      "cell_type": "code",
      "source": [
        "### Plot the swath footprint\n",
        "Base_file = r_prefix\n",
        "Drape_prefix = Base_file+\"_swathval\"\n",
        "DataDirectory = \"./\"\n",
        "this_area_img = lsdmw.SimpleDrape(DataDirectory,Base_file,Drape_prefix, cmap=\"jet\",\n",
        "                                       cbar_label = \"Swath distance (m)\",\n",
        "                                       cbar_loc = \"bottom\",\n",
        "                                       save_fig=True, size_format=\"ESURF\",dpi=600,\n",
        "                                       out_fname_prefix = \"swath_footprint_plot\")"
      ],
      "metadata": {
        "id": "qm85claxzIvL"
      },
      "execution_count": null,
      "outputs": []
    },
    {
      "cell_type": "code",
      "source": [
        "print(this_area_img)\n",
        "from IPython.display import display, Image\n",
        "display(Image(filename=this_area_img, width=800))"
      ],
      "metadata": {
        "id": "5i1vDAAqzl-v"
      },
      "execution_count": null,
      "outputs": []
    },
    {
      "cell_type": "markdown",
      "source": [
        "This prints the actual swath profile."
      ],
      "metadata": {
        "id": "MYvBuqyifIdl"
      }
    },
    {
      "cell_type": "code",
      "source": [
        "import lsdviztools.lsdplottingtools.lsdmap_swathplotting as lsdsp\n",
        "import lsdviztools.lsdmapwrappers as lsdmw\n",
        "DataDirectory=\"./\"\n",
        "swathname = r_prefix+\"_swath.csv\"\n",
        "imname = lsdmw.SimpleSwath(DataDirectory,swathname, fig_format = \"png\", dpi = 500, aspect_ratio = 2)"
      ],
      "metadata": {
        "id": "NmZzzWNu06jN"
      },
      "execution_count": null,
      "outputs": []
    },
    {
      "cell_type": "code",
      "source": [
        "from IPython.display import display, Image\n",
        "display(Image(filename=imname, width=800))"
      ],
      "metadata": {
        "id": "JxQKE0Lf1Nw-"
      },
      "execution_count": null,
      "outputs": []
    }
  ]
}