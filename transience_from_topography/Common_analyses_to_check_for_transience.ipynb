{
  "nbformat": 4,
  "nbformat_minor": 0,
  "metadata": {
    "colab": {
      "provenance": [],
      "authorship_tag": "ABX9TyPKk9Z9wGa/NJ0ot7fEHJvt",
      "include_colab_link": true
    },
    "kernelspec": {
      "name": "python3",
      "display_name": "Python 3"
    },
    "language_info": {
      "name": "python"
    }
  },
  "cells": [
    {
      "cell_type": "markdown",
      "metadata": {
        "id": "view-in-github",
        "colab_type": "text"
      },
      "source": [
        "<a href=\"https://colab.research.google.com/github/simon-m-mudd/smm_teaching_notebooks/blob/master/transience_from_topography/Common_analyses_to_check_for_transience.ipynb\" target=\"_parent\"><img src=\"https://colab.research.google.com/assets/colab-badge.svg\" alt=\"Open In Colab\"/></a>"
      ]
    },
    {
      "cell_type": "markdown",
      "source": [
        "# Common analyses that you can use to check for landscape transience"
      ],
      "metadata": {
        "id": "aPZuIjz9CsYr"
      }
    },
    {
      "cell_type": "markdown",
      "source": [
        "*This lesson made by Simon M Mudd and last updated 18/09/2023*"
      ],
      "metadata": {
        "id": "ATUQcCdPC2AB"
      }
    },
    {
      "cell_type": "markdown",
      "metadata": {
        "id": "QKy7_wKyMn9K"
      },
      "source": [
        "## Stuff we need to do if you are in colab (not required in the lsdtopotools pytools container)"
      ]
    },
    {
      "cell_type": "markdown",
      "source": [
        "The assumption for these notebooks is that you are working in a notable container.\n",
        "\n",
        "So these steps are turned into comments using a `#` symbol before each line.\n",
        "\n",
        "If you want to work on google colab you will need to delete the `#` symbols"
      ],
      "metadata": {
        "id": "zOXdP-wIDGcc"
      }
    },
    {
      "cell_type": "code",
      "execution_count": null,
      "metadata": {
        "id": "Pj2pwsxkvbS8"
      },
      "outputs": [],
      "source": [
        "#!pip install lsdviztools &> /dev/null"
      ]
    },
    {
      "cell_type": "code",
      "execution_count": null,
      "metadata": {
        "id": "ea215034"
      },
      "outputs": [],
      "source": [
        "#!pip install -q condacolab\n",
        "#import condacolab\n",
        "#condacolab.install()"
      ]
    },
    {
      "cell_type": "code",
      "execution_count": null,
      "metadata": {
        "id": "0568f44f"
      },
      "outputs": [],
      "source": [
        "#!mamba install -y gdal proj lsdtopotools &> /dev/null"
      ]
    },
    {
      "cell_type": "markdown",
      "source": [
        "## Part 1: Get data"
      ],
      "metadata": {
        "id": "qMerIR8pCxuS"
      }
    },
    {
      "cell_type": "markdown",
      "source": [
        "**First step, copy your Opentopography API key into a text file called \"my_OT_api_key.txt\" and make sure it is in the same file system as this notebook.**\n",
        "\n",
        "If you don't know how to do that got to the `basic_topography` section and read lesson 1."
      ],
      "metadata": {
        "id": "XGJBcVEhD8sh"
      }
    },
    {
      "cell_type": "markdown",
      "source": [
        "Make sure we are using the latest version of `lsdviztools`"
      ],
      "metadata": {
        "id": "uI4CagdBDbo7"
      }
    },
    {
      "cell_type": "code",
      "execution_count": null,
      "metadata": {
        "id": "d9123dd4"
      },
      "outputs": [],
      "source": [
        "!pip install lsdviztools --upgrade"
      ]
    },
    {
      "cell_type": "markdown",
      "metadata": {
        "id": "a7e892dd"
      },
      "source": [
        "Double check that the version is correct. For this lesson we need version 0.4.7 or above."
      ]
    },
    {
      "cell_type": "code",
      "execution_count": null,
      "metadata": {
        "id": "904606d4"
      },
      "outputs": [],
      "source": [
        "import lsdviztools\n",
        "lsdviztools.__version__"
      ]
    },
    {
      "cell_type": "markdown",
      "source": [
        "We also need to import some stuff"
      ],
      "metadata": {
        "id": "FBGL62W-D0um"
      }
    },
    {
      "cell_type": "code",
      "execution_count": null,
      "metadata": {
        "id": "d8b43e5f"
      },
      "outputs": [],
      "source": [
        "import lsdviztools.lsdbasemaptools as bmt\n",
        "import rasterio as rio\n",
        "import matplotlib.pyplot as plt\n",
        "import numpy as np"
      ]
    },
    {
      "cell_type": "markdown",
      "source": [
        "**Next step: make sure the filename of your API key matches the one below.** Filenames are case sensitive. So if your file is \"my_OT_API_key.txt\" this will not work in the code block below (because api needs to be lower case).\n",
        "\n",
        "**Then update the latitude and longitude of the lower left and upper right corner of your study area. You can get a latitude and longitude by right clicking on google maps."
      ],
      "metadata": {
        "id": "7LAJCUSAEVro"
      }
    },
    {
      "cell_type": "code",
      "source": [
        "lower_left = [37.87521641344407, 15.628317625157045]\n",
        "upper_right = [38.30554438686832, 16.210748067627133]\n",
        "\n",
        "# YOU NEED TO PUT YOUR API KEY IN A FILE\n",
        "your_OT_api_key_file = \"my_OT_api_key.txt\"\n",
        "\n",
        "with open(your_OT_api_key_file, 'r') as file:\n",
        "    print(\"I am reading you OT API key from the file \"+your_OT_api_key_file)\n",
        "    api_key = file.read().rstrip()\n",
        "    print(\"Your api key starts with: \"+api_key[0:4])\n",
        "\n",
        "Dataset_prefix = \"DEM\"\n",
        "source_name = \"COP30\"\n",
        "\n",
        "\n",
        "My_DEM = bmt.ot_scraper(source = source_name,\n",
        "                        lower_left_coordinates = lower_left,\n",
        "                        upper_right_coordinates = upper_right,\n",
        "                        prefix = Dataset_prefix,\n",
        "                        api_key_file = your_OT_api_key_file)\n",
        "My_DEM.print_parameters()\n",
        "My_DEM.download_pythonic()"
      ],
      "metadata": {
        "id": "HGOdFkadDaxO"
      },
      "execution_count": null,
      "outputs": []
    },
    {
      "cell_type": "markdown",
      "source": [
        "## Part 2: Get a hillshade"
      ],
      "metadata": {
        "id": "LWj3VLXvE3gI"
      }
    },
    {
      "cell_type": "markdown",
      "source": [
        "We are going to get a hillshade since this is used in all of the plotting routines in `lsdviztools`.\n",
        "\n",
        "*You only need to execute this code, you don't need to change anything!*"
      ],
      "metadata": {
        "id": "7Lo0wNVZE9bD"
      }
    },
    {
      "cell_type": "code",
      "source": [
        "import lsdviztools.lsdmapwrappers as lsdmw\n",
        "\n",
        "## Get the basins\n",
        "lsdtt_parameters = {\"print_basin_raster\" : \"true\"}\n",
        "r_prefix = Dataset_prefix+\"_\"+source_name +\"_UTM\"\n",
        "w_prefix = Dataset_prefix+\"_\"+source_name +\"_UTM\"\n",
        "lsdtt_drive = lsdmw.lsdtt_driver(command_line_tool = \"lsdtt-basic-metrics\",\n",
        "                                 read_prefix = r_prefix,\n",
        "                                 write_prefix= w_prefix,\n",
        "                                 read_path = \"./\",\n",
        "                                 write_path = \"./\",\n",
        "                                 parameter_dictionary=lsdtt_parameters)\n",
        "lsdtt_drive.print_parameters()\n",
        "lsdtt_drive.run_lsdtt_command_line_tool()"
      ],
      "metadata": {
        "id": "O0V8ZCrTE8yD"
      },
      "execution_count": null,
      "outputs": []
    },
    {
      "cell_type": "markdown",
      "source": [
        "This prints the image. It will also save a png file."
      ],
      "metadata": {
        "id": "F9FL__oRFvcy"
      }
    },
    {
      "cell_type": "code",
      "source": [
        "DataDirectory = \"./\"\n",
        "r_prefix = Dataset_prefix+\"_\"+source_name +\"_UTM\"\n",
        "Base_file = r_prefix\n",
        "\n",
        "this_img = lsdmw.SimpleHillshade(DataDirectory,Base_file,cmap=\"gist_earth\", save_fig=True,\n",
        "                                 size_format=\"geomorphology\",dpi=500,\n",
        "                                 out_fname_prefix = \"hillshade_plot\")\n",
        "\n",
        "print(this_img)\n",
        "from IPython.display import display, Image\n",
        "display(Image(filename=this_img, width=800))"
      ],
      "metadata": {
        "id": "HY1yx8-UFoWq"
      },
      "execution_count": null,
      "outputs": []
    },
    {
      "cell_type": "markdown",
      "source": [
        "## Part 3 Make slope and curvature maps"
      ],
      "metadata": {
        "id": "-KjQm8jdGZxk"
      }
    },
    {
      "cell_type": "code",
      "source": [
        "# IMPORTANT all the parameter values must be passed as strings.\n",
        "# So even if the parameter is a number it always needs to be in quotations\n",
        "lsdtt_parameters = {\"surface_fitting_radius\" : \"60\",\n",
        "                    \"print_slope\" : \"true\",\n",
        "                    \"print_curvature\" : \"true\"}\n",
        "r_prefix = Dataset_prefix+\"_\"+source_name +\"_UTM\"\n",
        "w_prefix = Dataset_prefix+\"_\"+source_name +\"_UTM\"\n",
        "lsdtt_drive = lsdmw.lsdtt_driver(read_prefix = r_prefix,\n",
        "                                 write_prefix= w_prefix,\n",
        "                                 read_path = \"./\",\n",
        "                                 write_path = \"./\",\n",
        "                                 parameter_dictionary=lsdtt_parameters)\n",
        "lsdtt_drive.print_parameters()\n",
        "lsdtt_drive.run_lsdtt_command_line_tool()"
      ],
      "metadata": {
        "id": "Da8yd1ymGgLZ"
      },
      "execution_count": null,
      "outputs": []
    },
    {
      "cell_type": "code",
      "source": [
        "%%capture\n",
        "Base_file = r_prefix\n",
        "\n",
        "### Plot the topographic gradient\n",
        "Drape_prefix = r_prefix+\"_SLOPE\"\n",
        "this_slope_img = lsdmw.SimpleDrape(DataDirectory,Base_file,Drape_prefix, cmap=\"inferno\",\n",
        "                                       cbar_label = \"Gradient (m/m)\",\n",
        "                                       save_fig=True, size_format=\"geomorphology\",dpi=600,\n",
        "                                       out_fname_prefix = \"gradient_plot\")"
      ],
      "metadata": {
        "id": "oSHLztd9G1j6"
      },
      "execution_count": null,
      "outputs": []
    },
    {
      "cell_type": "code",
      "source": [
        "print(this_slope_img)\n",
        "from IPython.display import display, Image\n",
        "display(Image(filename=this_slope_img, width=800))"
      ],
      "metadata": {
        "id": "aLxktJ_oG2fU"
      },
      "execution_count": null,
      "outputs": []
    },
    {
      "cell_type": "code",
      "source": [
        "%%capture\n",
        "Base_file = r_prefix\n",
        "\n",
        "### Plot the curvature\n",
        "Drape_prefix = r_prefix+\"_CURV\"\n",
        "this_curv_img = lsdmw.SimpleDrape(DataDirectory,Base_file,Drape_prefix, cmap=\"RdBu\",\n",
        "                                  cbar_label = \"Curvature (1/m)\",\n",
        "                                  cbar_loc = \"top\",\n",
        "                                  save_fig=True, size_format=\"ESURF\",dpi=600,\n",
        "                                  out_fname_prefix = \"curvature_plot\")"
      ],
      "metadata": {
        "id": "Oienqv6zHJ2D"
      },
      "execution_count": null,
      "outputs": []
    },
    {
      "cell_type": "code",
      "source": [
        "print(this_curv_img)\n",
        "from IPython.display import display, Image\n",
        "display(Image(filename=this_slope_img, width=800))"
      ],
      "metadata": {
        "id": "obS-TOBOHi6s"
      },
      "execution_count": null,
      "outputs": []
    },
    {
      "cell_type": "markdown",
      "source": [
        "## Part 4: Select basins"
      ],
      "metadata": {
        "id": "CGRsb8MOongh"
      }
    },
    {
      "cell_type": "code",
      "source": [
        "# Import pandas library\n",
        "import pandas as pd\n",
        "\n",
        "data = [ [37.94234239772101, 15.790076672680563],\n",
        "         [37.93291942111813, 15.792125654538383],\n",
        "         [38.06143176957989, 16.060604039819015],\n",
        "         [38.094672987877786, 15.677112531901733],\n",
        "         [38.20455853467961, 15.67642588617276],\n",
        "         [38.12546843046537, 16.1230887795859]]\n",
        "\n",
        "# Create the pandas DataFrame\n",
        "df = pd.DataFrame(data, columns = ['latitude', 'longitude'])\n",
        "\n",
        "df.to_csv(\"basin_outlets.csv\",index=False)\n",
        "df.head()"
      ],
      "metadata": {
        "id": "5utcdT1fo3qH"
      },
      "execution_count": null,
      "outputs": []
    },
    {
      "cell_type": "code",
      "execution_count": null,
      "metadata": {
        "id": "72cac9aa"
      },
      "outputs": [],
      "source": [
        "import lsdviztools.lsdmapwrappers as lsdmw\n",
        "\n",
        "## Get the basins\n",
        "lsdtt_parameters = {\"print_basin_raster\" : \"true\",\n",
        "                    \"get_basins_from_outlets\" : \"true\",\n",
        "                    \"basin_outlet_csv\" : \"basin_outlets.csv\",\n",
        "                    \"print_chi_data_maps\" : \"true\"}\n",
        "r_prefix = Dataset_prefix+\"_\"+source_name +\"_UTM\"\n",
        "w_prefix = Dataset_prefix+\"_\"+source_name +\"_UTM\"\n",
        "lsdtt_drive = lsdmw.lsdtt_driver(command_line_tool = \"lsdtt-chi-mapping\",\n",
        "                                 read_prefix = r_prefix,\n",
        "                                 write_prefix= w_prefix,\n",
        "                                 read_path = \"./\",\n",
        "                                 write_path = \"./\",\n",
        "                                 parameter_dictionary=lsdtt_parameters)\n",
        "lsdtt_drive.print_parameters()\n",
        "lsdtt_drive.run_lsdtt_command_line_tool()"
      ]
    },
    {
      "cell_type": "code",
      "execution_count": null,
      "metadata": {
        "id": "b977fa23",
        "scrolled": true
      },
      "outputs": [],
      "source": [
        "# uncomment this for debugging\n",
        "#import lsdviztools.lsdmapwrappers as lsdmw\n",
        "r_prefix = Dataset_prefix+\"_\"+source_name +\"_UTM\"\n",
        "Base_file = r_prefix\n",
        "\n",
        "#%%capture\n",
        "basins_img = lsdmw.PrintBasins_Complex(DataDirectory,Base_file,cmap=\"gist_earth\",\n",
        "                             size_format=\"geomorphology\",dpi=600, save_fig = True,\n",
        "                             out_fname_prefix = \"basins_plot\")"
      ]
    },
    {
      "cell_type": "code",
      "execution_count": null,
      "metadata": {
        "id": "62c2ede4"
      },
      "outputs": [],
      "source": [
        "print(basins_img)\n",
        "from IPython.display import display, Image\n",
        "display(Image(filename=basins_img, width=800))"
      ]
    },
    {
      "cell_type": "markdown",
      "source": [
        "## Part 5: Plot channel profiles"
      ],
      "metadata": {
        "id": "prSH2qFdpklW"
      }
    },
    {
      "cell_type": "code",
      "source": [
        "import pandas as pd\n",
        "channel_file_name = r_prefix+\"_chi_data_map.csv\"\n",
        "df = pd.read_csv(channel_file_name)\n",
        "df.head()"
      ],
      "metadata": {
        "id": "wzV9erlTrgSx"
      },
      "execution_count": null,
      "outputs": []
    },
    {
      "cell_type": "code",
      "source": [
        "basin = 4"
      ],
      "metadata": {
        "id": "nVZMvUE9sUjj"
      },
      "execution_count": null,
      "outputs": []
    },
    {
      "cell_type": "code",
      "source": [
        "import matplotlib.pyplot as plt\n",
        "df_single_basin = df[(df['basin_key'] == basin)]\n",
        "\n",
        "fig = plt.figure()\n",
        "ax = fig.add_subplot(1, 1,1)\n",
        "\n",
        "plt.scatter(df_single_basin.chi,df_single_basin.elevation,c=df_single_basin.flow_distance)\n",
        "plt.xlabel(r\"$\\chi$ (m)\")\n",
        "plt.ylabel(\"elevation (m)\")\n",
        "ax.text(0.1,0.9,\"Basin \"+str(basin),transform=ax.transAxes)\n",
        "\n",
        "chi_profile_name = \"chi_profile_basin\"+str(basin)+\".png\"\n",
        "plt.savefig(chi_profile_name, bbox_inches='tight',dpi = 400)"
      ],
      "metadata": {
        "id": "wAUk1sLKpgyA"
      },
      "execution_count": null,
      "outputs": []
    },
    {
      "cell_type": "code",
      "source": [
        "print(chi_profile_name)\n",
        "from IPython.display import display, Image\n",
        "display(Image(filename=chi_profile_name, width=800))"
      ],
      "metadata": {
        "id": "FYMk3u9apjGn"
      },
      "execution_count": null,
      "outputs": []
    },
    {
      "cell_type": "code",
      "source": [
        "import matplotlib.pyplot as plt\n",
        "df_single_basin = df[(df['basin_key'] == basin)]\n",
        "\n",
        "fig = plt.figure()\n",
        "ax = fig.add_subplot(1, 1,1)\n",
        "\n",
        "plt.scatter(df_single_basin.flow_distance,df_single_basin.elevation,c=df_single_basin.chi)\n",
        "plt.xlabel(r\"$\\flow distance$ (m)\")\n",
        "plt.ylabel(\"elevation (m)\")\n",
        "ax.text(0.1,0.9,\"Basin \"+str(basin),transform=ax.transAxes)\n",
        "\n",
        "channel_profile_name = \"channel_profile_basin\"+str(basin)+\".png\"\n",
        "plt.savefig(chi_profile_name, bbox_inches='tight',dpi = 400)"
      ],
      "metadata": {
        "id": "Fz8ntr4hsY3j"
      },
      "execution_count": null,
      "outputs": []
    },
    {
      "cell_type": "code",
      "source": [
        "print(channel_profile_name)\n",
        "from IPython.display import display, Image\n",
        "display(Image(filename=chi_profile_name, width=800))"
      ],
      "metadata": {
        "id": "5et_0LQXsY3t"
      },
      "execution_count": null,
      "outputs": []
    },
    {
      "cell_type": "markdown",
      "source": [
        "## A swath example"
      ],
      "metadata": {
        "id": "EEoehTRhyrW7"
      }
    },
    {
      "cell_type": "code",
      "source": [
        "# Import pandas library\n",
        "import pandas as pd\n",
        "\n",
        "data = [ [-29.621021116107862, 28.57147034542054],\n",
        "         [-29.783077317434813, 28.281779758189604]\n",
        "       ]\n",
        "\n",
        "# Create the pandas DataFrame\n",
        "df = pd.DataFrame(data, columns = ['latitude', 'longitude'])\n",
        "\n",
        "df.to_csv(\"swath1.csv\",index=False)\n",
        "df.head()"
      ],
      "metadata": {
        "id": "npvK93EWytLv"
      },
      "execution_count": null,
      "outputs": []
    },
    {
      "cell_type": "code",
      "source": [
        "## Get the basins and the channel profile\n",
        "import lsdviztools.lsdmapwrappers as lsdmw\n",
        "lsdtt_parameters = {\"calculate_swath_profile\" : \"true\",\n",
        "                    \"calculate_swath_along_line\" : \"true\",\n",
        "                    \"swath_points_csv\" : \"swath1.csv\"}\n",
        "r_prefix = Dataset_prefix+\"_\"+source_name +\"_UTM\"\n",
        "w_prefix = Dataset_prefix+\"_\"+source_name +\"_UTM\"\n",
        "lsdtt_drive = lsdmw.lsdtt_driver(command_line_tool = \"lsdtt-basic-metrics\",\n",
        "                                 read_prefix = r_prefix,\n",
        "                                 write_prefix= w_prefix,\n",
        "                                 read_path = \"./\",\n",
        "                                 write_path = \"./\",\n",
        "                                 parameter_dictionary=lsdtt_parameters)\n",
        "lsdtt_drive.print_parameters()\n",
        "lsdtt_drive.run_lsdtt_command_line_tool()"
      ],
      "metadata": {
        "id": "jBilsRyby8_B"
      },
      "execution_count": null,
      "outputs": []
    },
    {
      "cell_type": "code",
      "source": [
        "### Plot the swath footprint\n",
        "Base_file = r_prefix\n",
        "Drape_prefix = Base_file+\"_swathval\"\n",
        "DataDirectory = \"./\"\n",
        "this_area_img = lsdmw.SimpleDrape(DataDirectory,Base_file,Drape_prefix, cmap=\"jet\",\n",
        "                                       cbar_label = \"Swath distance (m)\",\n",
        "                                       cbar_loc = \"bottom\",\n",
        "                                       save_fig=True, size_format=\"ESURF\",dpi=600,\n",
        "                                       out_fname_prefix = \"swath_footprint_plot\")"
      ],
      "metadata": {
        "id": "qm85claxzIvL"
      },
      "execution_count": null,
      "outputs": []
    },
    {
      "cell_type": "code",
      "source": [
        "print(this_area_img)\n",
        "from IPython.display import display, Image\n",
        "display(Image(filename=this_area_img, width=800))"
      ],
      "metadata": {
        "id": "5i1vDAAqzl-v"
      },
      "execution_count": null,
      "outputs": []
    },
    {
      "cell_type": "code",
      "source": [
        "import lsdviztools.lsdplottingtools.lsdmap_swathplotting as lsdsp\n",
        "import lsdviztools.lsdmapwrappers as lsdmw\n",
        "DataDirectory=\"./\"\n",
        "swathname = r_prefix+\"_swath.csv\"\n",
        "imname = lsdmw.SimpleSwath(DataDirectory,swathname, fig_format = \"png\", dpi = 500, aspect_ratio = 2)"
      ],
      "metadata": {
        "id": "NmZzzWNu06jN"
      },
      "execution_count": null,
      "outputs": []
    },
    {
      "cell_type": "code",
      "source": [
        "from IPython.display import display, Image\n",
        "display(Image(filename=imname, width=800))"
      ],
      "metadata": {
        "id": "JxQKE0Lf1Nw-"
      },
      "execution_count": null,
      "outputs": []
    }
  ]
}