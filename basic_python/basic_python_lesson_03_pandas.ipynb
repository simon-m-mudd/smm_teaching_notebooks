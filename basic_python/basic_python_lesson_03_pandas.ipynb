{
 "cells": [
  {
   "cell_type": "markdown",
   "id": "77a5bc87",
   "metadata": {},
   "source": [
    "# Basic python lesson 03: pandas"
   ]
  },
  {
   "cell_type": "markdown",
   "id": "ca50e524",
   "metadata": {},
   "source": [
    "Written by Simon M. Mudd with last update 29/09/2022"
   ]
  },
  {
   "cell_type": "markdown",
   "id": "7f1172be",
   "metadata": {},
   "source": [
    "It is possible that someone who knows something about python will look at these lessons. They will skim lesson 01 and 02 and then get to this lesson and think \"what are you doing, you can't go from something as basic as assigning and making a numpy array straight to pandas, you psychopath!\". They will then run away, screaming like a banshee, and jump into a canal. \n",
    "\n",
    "But I don't care what those people think. Because I want you to know how to plot some spreadsheet data as quickly as possible. \n",
    "\n",
    "Ready? Lets go!!"
   ]
  },
  {
   "cell_type": "markdown",
   "id": "949d85ae",
   "metadata": {},
   "source": [
    "## What does a Chinese bear have to do with importing data?"
   ]
  },
  {
   "cell_type": "markdown",
   "id": "48216b03",
   "metadata": {},
   "source": [
    "`pandas` comes from \"python data analysis library\". It sounds better than \"pdal\". Although I like bicylces so I might have called it \"pedal\". Anyway, I did not write pandas. [A guy working for a hedge fund did](https://pandas.pydata.org/about/index.html), because analysis of financial data often involves dealing with messy time series data. This package has ended up being immensely useful to all kinds of people and now forms one of the keystones of data science in python. \n",
    "\n",
    "`pandas` is most at home reading `csv` data. `csv` stands for \"comma separated value\". You can save excel files in this format. The format has columns separated by commas. Like this:\n",
    "\n",
    "```\n",
    "year,pond,toads\n",
    "2011,1,1\n",
    "2011,2,13\n",
    "2012,1,2\n",
    "2012,2,11\n",
    "2013,1,7\n",
    "2013,2,4\n",
    "```\n"
   ]
  },
  {
   "cell_type": "markdown",
   "id": "e11b5483",
   "metadata": {},
   "source": [
    "Actually, let me write this file. You won't really be writing files like this in python so don't worry about the syntax.  "
   ]
  },
  {
   "cell_type": "code",
   "execution_count": null,
   "id": "24933238",
   "metadata": {},
   "outputs": [],
   "source": [
    "f = open(\"toadfile.csv\", \"w\")\n",
    "f.write(\"year,pond,toads\")\n",
    "f.write(\"\\n2011,1,1\")\n",
    "f.write(\"\\n2011,2,13\")\n",
    "f.write(\"\\n2012,1,2\")\n",
    "f.write(\"\\n2012,2,11\")\n",
    "f.write(\"\\n2013,1,7\")\n",
    "f.write(\"\\n2013,2,4\")\n",
    "f.close()\n",
    "\n",
    "with open(\"toadfile.csv\", 'r') as fin:\n",
    "    print(fin.read())"
   ]
  },
  {
   "cell_type": "markdown",
   "id": "9378dd92",
   "metadata": {},
   "source": [
    "Okay, if you wanted to you could open this file using Excel. But instead we will open it with `pandas` "
   ]
  },
  {
   "cell_type": "markdown",
   "id": "d029b8e9",
   "metadata": {},
   "source": [
    "## Pandas and toads"
   ]
  },
  {
   "cell_type": "markdown",
   "id": "c3a15a79",
   "metadata": {},
   "source": [
    "We first need to import `pandas`. And because I don't feel like writing out `pandas` all the time I will import it as `pd`. \n",
    "\n",
    "I will then read the toads file using the `read_csv` function:"
   ]
  },
  {
   "cell_type": "code",
   "execution_count": null,
   "id": "90185c88",
   "metadata": {},
   "outputs": [],
   "source": [
    "import pandas as pd\n",
    "df = pd.read_csv(\"toadfile.csv\")"
   ]
  },
  {
   "cell_type": "markdown",
   "id": "94ffe857",
   "metadata": {},
   "source": [
    "Hey what happened? There is no output if you run the above cell. \n",
    "\n",
    "That is because `pandas` has read the data in the toadfile into a variable called `df`. In the `pandas` world `df` is quite common name for a variable because it is short for `dataframe`. And `pandas` calls any collection of data a `DataFrame`. You can see this with the `type` command.  "
   ]
  },
  {
   "cell_type": "code",
   "execution_count": null,
   "id": "d261caee",
   "metadata": {},
   "outputs": [],
   "source": [
    "print(type(df))"
   ]
  },
  {
   "cell_type": "markdown",
   "id": "7e720bb3",
   "metadata": {},
   "source": [
    "Okay, what if we want to look at the data? You can use the `head` command to see the data"
   ]
  },
  {
   "cell_type": "code",
   "execution_count": null,
   "id": "3d30bc67",
   "metadata": {},
   "outputs": [],
   "source": [
    "df.head()"
   ]
  },
  {
   "cell_type": "markdown",
   "id": "ad36e33d",
   "metadata": {},
   "source": [
    "The default is to see the first 5 items. You can change this quite easily:"
   ]
  },
  {
   "cell_type": "code",
   "execution_count": null,
   "id": "0de92cee",
   "metadata": {},
   "outputs": [],
   "source": [
    "df.head(6)"
   ]
  },
  {
   "cell_type": "markdown",
   "id": "6430465d",
   "metadata": {},
   "source": [
    "## Selecting data using `pandas` (where a lot of the magic happens)"
   ]
  },
  {
   "cell_type": "markdown",
   "id": "ea3fe639",
   "metadata": {},
   "source": [
    "Why is `pandas` so useful? Well one of the things I find most useful is the ease of selecting data. \n",
    "\n",
    "Observe me get the `toads` data:"
   ]
  },
  {
   "cell_type": "code",
   "execution_count": null,
   "id": "d80a49c1",
   "metadata": {},
   "outputs": [],
   "source": [
    "toads = df.toads\n",
    "print(\"The data type of the variable toads is: \")\n",
    "print(type(toads))\n",
    "print(\"And here is the data:\")\n",
    "print(toads)\n",
    "print(\"I can convert this to a list\")\n",
    "print(list(toads))\n",
    "print(\"And I can convert it to an array:\")\n",
    "print(toads.to_numpy())"
   ]
  },
  {
   "cell_type": "markdown",
   "id": "d43fba85",
   "metadata": {},
   "source": [
    "Here is another very useful feature. You can select data by conditional statements (if the data meets a condition, you keep it).\n",
    "\n",
    "You need this funny syntax with some brackets but as long as you copy the format below with your own data you should be fine. "
   ]
  },
  {
   "cell_type": "code",
   "execution_count": null,
   "id": "da346aef",
   "metadata": {},
   "outputs": [],
   "source": [
    "df_2011 = df[(df['year'] == 2011)]\n",
    "df_2011.head()"
   ]
  },
  {
   "cell_type": "code",
   "execution_count": null,
   "id": "384fb7b8",
   "metadata": {},
   "outputs": [],
   "source": [
    "df_2011 = df[(df['year'] > 2011)]\n",
    "df_2011.head()"
   ]
  },
  {
   "cell_type": "code",
   "execution_count": null,
   "id": "e92350f0",
   "metadata": {
    "scrolled": true
   },
   "outputs": [],
   "source": [
    "df_pond1 = df[(df['pond'] == 1)]\n",
    "df_pond1.head()"
   ]
  },
  {
   "cell_type": "markdown",
   "id": "98ef6689",
   "metadata": {},
   "source": [
    "## Plotting some data using `pandas`"
   ]
  },
  {
   "cell_type": "markdown",
   "id": "d05ba3e4",
   "metadata": {},
   "source": [
    "Recent versions of `pandas` have some built in plotting functions. You can [see the options here](https://pandas.pydata.org/pandas-docs/stable/user_guide/visualization.html)."
   ]
  },
  {
   "cell_type": "code",
   "execution_count": null,
   "id": "eedd018d",
   "metadata": {},
   "outputs": [],
   "source": [
    "df.plot.scatter(x=\"year\", y=\"toads\", c=\"pond\", cmap=\"viridis\", s=50);"
   ]
  },
  {
   "cell_type": "markdown",
   "id": "f57b01fc",
   "metadata": {},
   "source": [
    "## A more complicated dataset"
   ]
  },
  {
   "cell_type": "markdown",
   "id": "5b39534f",
   "metadata": {},
   "source": [
    "We can now have a look at a more complicated dataset. This has some data about river channels. \n",
    "\n",
    "First load the data into a `pandas` dataframe."
   ]
  },
  {
   "cell_type": "code",
   "execution_count": null,
   "id": "bd430e83",
   "metadata": {},
   "outputs": [],
   "source": [
    "df = pd.read_csv(\"el_study_chi_data_map.csv\")\n",
    "df.head()"
   ]
  },
  {
   "cell_type": "markdown",
   "id": "691ef72e",
   "metadata": {},
   "source": [
    "This data has latitude and longitude, which tells you it is geospatial data. We will deal with that in different lessons. But we can also look at some other aspects of the data. \n",
    "\n",
    "In the next bit of code I will get the unique values in the \"basin_key\" column:"
   ]
  },
  {
   "cell_type": "code",
   "execution_count": null,
   "id": "821f5925",
   "metadata": {},
   "outputs": [],
   "source": [
    "df.basin_key.unique()"
   ]
  },
  {
   "cell_type": "markdown",
   "id": "0c83ce98",
   "metadata": {},
   "source": [
    "So it happens that I made these data so I know that each \"basin_key\" is a different drainage basin. We can look at one of these basins."
   ]
  },
  {
   "cell_type": "code",
   "execution_count": null,
   "id": "e7e14c38",
   "metadata": {},
   "outputs": [],
   "source": [
    "df_basin0 = df[(df.basin_key==0)]\n",
    "df_basin0.plot.scatter(x=\"flow_distance\", y=\"elevation\", c=\"elevation\", cmap=\"viridis\", s=50)"
   ]
  },
  {
   "cell_type": "markdown",
   "id": "ae970e65",
   "metadata": {},
   "source": [
    "Here is another basin:"
   ]
  },
  {
   "cell_type": "code",
   "execution_count": null,
   "id": "95fd2b96",
   "metadata": {},
   "outputs": [],
   "source": [
    "df_basin4 = df[(df.basin_key==4)]\n",
    "df_basin4.plot.scatter(x=\"flow_distance\", y=\"elevation\", c=\"elevation\", cmap=\"viridis\", s=50)"
   ]
  }
 ],
 "metadata": {
  "kernelspec": {
   "display_name": "Python 3 (ipykernel)",
   "language": "python",
   "name": "python3"
  },
  "language_info": {
   "codemirror_mode": {
    "name": "ipython",
    "version": 3
   },
   "file_extension": ".py",
   "mimetype": "text/x-python",
   "name": "python",
   "nbconvert_exporter": "python",
   "pygments_lexer": "ipython3",
   "version": "3.8.13"
  }
 },
 "nbformat": 4,
 "nbformat_minor": 5
}
