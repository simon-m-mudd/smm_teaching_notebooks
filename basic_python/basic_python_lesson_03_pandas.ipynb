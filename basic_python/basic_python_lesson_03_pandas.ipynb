{
 "cells": [
  {
   "cell_type": "markdown",
   "id": "77a5bc87",
   "metadata": {},
   "source": [
    "# Basic python lesson 03: pandas"
   ]
  },
  {
   "cell_type": "markdown",
   "id": "ca50e524",
   "metadata": {},
   "source": [
    "Written by Simon M. Mudd with last update 21/01/2022"
   ]
  },
  {
   "cell_type": "markdown",
   "id": "7f1172be",
   "metadata": {},
   "source": [
    "It is possible that someone who knows something about python will look at these lessons. They will skim lesson 01 and 02 and then get to this lesson and think \"what are you doing, you can't go from something as basic as assigning and making a numpy array straight to pandas, you psychopath!\". They will then run away, screaming like a banshee, and jump into a canal. \n",
    "\n",
    "But I don't care what those people think. Because I want you to know how to plot some spreadsheet data as quickly as possible. \n",
    "\n",
    "Ready? Lets go!!"
   ]
  },
  {
   "cell_type": "markdown",
   "id": "949d85ae",
   "metadata": {},
   "source": [
    "## What does a Chinese bear have to do with importing data?"
   ]
  },
  {
   "cell_type": "markdown",
   "id": "3c8ecb88",
   "metadata": {},
   "source": [
    "`pandas` comes from \"python data analysis library\". It sounds better than \"pdal\". Although I like bicylces so I might have called it \"pedal\". Anyway, I did not write pandas. [A guy working for a hedge fund did](https://pandas.pydata.org/about/index.html), because analysis of financial data often involves dealing with messy time series data. This package has ended up being immensely useful to all kinds of people and now forms one of the keystones of data science in python. "
   ]
  },
  {
   "cell_type": "code",
   "execution_count": null,
   "id": "97d1fff0",
   "metadata": {},
   "outputs": [],
   "source": []
  }
 ],
 "metadata": {
  "kernelspec": {
   "display_name": "Python 3 (ipykernel)",
   "language": "python",
   "name": "python3"
  },
  "language_info": {
   "codemirror_mode": {
    "name": "ipython",
    "version": 3
   },
   "file_extension": ".py",
   "mimetype": "text/x-python",
   "name": "python",
   "nbconvert_exporter": "python",
   "pygments_lexer": "ipython3",
   "version": "3.8.10"
  }
 },
 "nbformat": 4,
 "nbformat_minor": 5
}
