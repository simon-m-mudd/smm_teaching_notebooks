{
 "cells": [
  {
   "cell_type": "markdown",
   "id": "77a5bc87",
   "metadata": {},
   "source": [
    "# Basic python lesson 03: pandas"
   ]
  },
  {
   "cell_type": "markdown",
   "id": "ca50e524",
   "metadata": {},
   "source": [
    "Written by Simon M. Mudd with last update 21/01/2022"
   ]
  },
  {
   "cell_type": "markdown",
   "id": "7f1172be",
   "metadata": {},
   "source": [
    "It is possible that someone who knows something about python will look at these lessons. They will skim lesson 01 and 02 and then get to this lesson and think \"what are you doing, you can't go from something as basic as assigning and making a numpy array straight to pandas, you psychopath!\". They will then run away, screaming like a banshee, and jump into a canal. \n",
    "\n",
    "But I don't care what those people think. Because I want you to know how to plot some spreadsheet data as quickly as possible. \n",
    "\n",
    "Ready? Lets go!!"
   ]
  },
  {
   "cell_type": "markdown",
   "id": "949d85ae",
   "metadata": {},
   "source": [
    "## What does a Chinese bear have to do with importing data?"
   ]
  },
  {
   "cell_type": "markdown",
   "id": "de1f56a6",
   "metadata": {},
   "source": [
    "`pandas` comes from \"python data analysis library\". It sounds better than \"pdal\". Although I like bicylces so I might have called it \"pedal\". Anyway, I did not write pandas. [A guy working for a hedge fund did](https://pandas.pydata.org/about/index.html), because analysis of financial data often involves dealing with messy time series data. This package has ended up being immensely useful to all kinds of people and now forms one of the keystones of data science in python. \n",
    "\n",
    "`pandas` is most at home reading `csv` data. `csv` stands for \"comma separated value\". You can save excel files in this format. The format has columns separated by commas. Like this:\n",
    "\n",
    "```\n",
    "year,pond,toads\n",
    "2011,1,1\n",
    "2011,2,13\n",
    "2012,1,2\n",
    "2012,2,11\n",
    "2013,1,7\n",
    "2013,2,4\n",
    "```\n"
   ]
  },
  {
   "cell_type": "markdown",
   "id": "b7005f55",
   "metadata": {},
   "source": [
    "Actually, let me write this file. You won't really be writing files like this in python so don't worry about the syntax.  "
   ]
  },
  {
   "cell_type": "code",
   "execution_count": 1,
   "id": "5820058a",
   "metadata": {},
   "outputs": [
    {
     "name": "stdout",
     "output_type": "stream",
     "text": [
      "year,pond,toads\n",
      "2011,1,1\n",
      "2011,2,13\n",
      "2012,1,2\n",
      "2012,2,11\n",
      "2013,1,7\n",
      "2013,2,4\n"
     ]
    }
   ],
   "source": [
    "f = open(\"toadfile.csv\", \"w\")\n",
    "f.write(\"year,pond,toads\")\n",
    "f.write(\"\\n2011,1,1\")\n",
    "f.write(\"\\n2011,2,13\")\n",
    "f.write(\"\\n2012,1,2\")\n",
    "f.write(\"\\n2012,2,11\")\n",
    "f.write(\"\\n2013,1,7\")\n",
    "f.write(\"\\n2013,2,4\")\n",
    "f.close()\n",
    "\n",
    "with open(\"toadfile.csv\", 'r') as fin:\n",
    "    print(fin.read())"
   ]
  },
  {
   "cell_type": "markdown",
   "id": "3381c9d3",
   "metadata": {},
   "source": [
    "Okay, if you wanted to you could open this file using Excel. But instead we will open it with `pandas` "
   ]
  },
  {
   "cell_type": "markdown",
   "id": "f4dfefae",
   "metadata": {},
   "source": [
    "## Pandas and toads"
   ]
  },
  {
   "cell_type": "markdown",
   "id": "12e98d1c",
   "metadata": {},
   "source": [
    "We first need to import `pandas`. And because I don't feel like writing out `pandas` all the time I will import it as `pd`. \n",
    "\n",
    "I will then read the toads file using the `read_csv` function:"
   ]
  },
  {
   "cell_type": "code",
   "execution_count": 2,
   "id": "23fee403",
   "metadata": {},
   "outputs": [],
   "source": [
    "import pandas as pd\n",
    "df = pd.read_csv(\"toadfile.csv\")"
   ]
  },
  {
   "cell_type": "markdown",
   "id": "725b6e44",
   "metadata": {},
   "source": [
    "Hey what happened? There is no output if you run the above cell. \n",
    "\n",
    "That is because `pandas` has read the data in the toadfile into a variable called `df`. In the `pandas` world `df` is quite common name for a variable because it is short for `dataframe`. And `pandas` calls any collection of data a `DataFrame`. You can see this with the `type` command.  "
   ]
  },
  {
   "cell_type": "code",
   "execution_count": 3,
   "id": "547edb15",
   "metadata": {},
   "outputs": [
    {
     "name": "stdout",
     "output_type": "stream",
     "text": [
      "<class 'pandas.core.frame.DataFrame'>\n"
     ]
    }
   ],
   "source": [
    "print(type(df))"
   ]
  },
  {
   "cell_type": "markdown",
   "id": "cf60f7a5",
   "metadata": {},
   "source": [
    "Okay, what if we want to look at the data? You can use the `head` command to see the data"
   ]
  },
  {
   "cell_type": "code",
   "execution_count": 4,
   "id": "b3bef7b7",
   "metadata": {},
   "outputs": [
    {
     "data": {
      "text/html": [
       "<div>\n",
       "<style scoped>\n",
       "    .dataframe tbody tr th:only-of-type {\n",
       "        vertical-align: middle;\n",
       "    }\n",
       "\n",
       "    .dataframe tbody tr th {\n",
       "        vertical-align: top;\n",
       "    }\n",
       "\n",
       "    .dataframe thead th {\n",
       "        text-align: right;\n",
       "    }\n",
       "</style>\n",
       "<table border=\"1\" class=\"dataframe\">\n",
       "  <thead>\n",
       "    <tr style=\"text-align: right;\">\n",
       "      <th></th>\n",
       "      <th>year</th>\n",
       "      <th>pond</th>\n",
       "      <th>toads</th>\n",
       "    </tr>\n",
       "  </thead>\n",
       "  <tbody>\n",
       "    <tr>\n",
       "      <th>0</th>\n",
       "      <td>2011</td>\n",
       "      <td>1</td>\n",
       "      <td>1</td>\n",
       "    </tr>\n",
       "    <tr>\n",
       "      <th>1</th>\n",
       "      <td>2011</td>\n",
       "      <td>2</td>\n",
       "      <td>13</td>\n",
       "    </tr>\n",
       "    <tr>\n",
       "      <th>2</th>\n",
       "      <td>2012</td>\n",
       "      <td>1</td>\n",
       "      <td>2</td>\n",
       "    </tr>\n",
       "    <tr>\n",
       "      <th>3</th>\n",
       "      <td>2012</td>\n",
       "      <td>2</td>\n",
       "      <td>11</td>\n",
       "    </tr>\n",
       "    <tr>\n",
       "      <th>4</th>\n",
       "      <td>2013</td>\n",
       "      <td>1</td>\n",
       "      <td>7</td>\n",
       "    </tr>\n",
       "  </tbody>\n",
       "</table>\n",
       "</div>"
      ],
      "text/plain": [
       "   year  pond  toads\n",
       "0  2011     1      1\n",
       "1  2011     2     13\n",
       "2  2012     1      2\n",
       "3  2012     2     11\n",
       "4  2013     1      7"
      ]
     },
     "execution_count": 4,
     "metadata": {},
     "output_type": "execute_result"
    }
   ],
   "source": [
    "df.head()"
   ]
  },
  {
   "cell_type": "markdown",
   "id": "305d410f",
   "metadata": {},
   "source": [
    "The default is to see the first 5 items. You can change this quite easily:"
   ]
  },
  {
   "cell_type": "code",
   "execution_count": 5,
   "id": "1153fda5",
   "metadata": {},
   "outputs": [
    {
     "data": {
      "text/html": [
       "<div>\n",
       "<style scoped>\n",
       "    .dataframe tbody tr th:only-of-type {\n",
       "        vertical-align: middle;\n",
       "    }\n",
       "\n",
       "    .dataframe tbody tr th {\n",
       "        vertical-align: top;\n",
       "    }\n",
       "\n",
       "    .dataframe thead th {\n",
       "        text-align: right;\n",
       "    }\n",
       "</style>\n",
       "<table border=\"1\" class=\"dataframe\">\n",
       "  <thead>\n",
       "    <tr style=\"text-align: right;\">\n",
       "      <th></th>\n",
       "      <th>year</th>\n",
       "      <th>pond</th>\n",
       "      <th>toads</th>\n",
       "    </tr>\n",
       "  </thead>\n",
       "  <tbody>\n",
       "    <tr>\n",
       "      <th>0</th>\n",
       "      <td>2011</td>\n",
       "      <td>1</td>\n",
       "      <td>1</td>\n",
       "    </tr>\n",
       "    <tr>\n",
       "      <th>1</th>\n",
       "      <td>2011</td>\n",
       "      <td>2</td>\n",
       "      <td>13</td>\n",
       "    </tr>\n",
       "    <tr>\n",
       "      <th>2</th>\n",
       "      <td>2012</td>\n",
       "      <td>1</td>\n",
       "      <td>2</td>\n",
       "    </tr>\n",
       "    <tr>\n",
       "      <th>3</th>\n",
       "      <td>2012</td>\n",
       "      <td>2</td>\n",
       "      <td>11</td>\n",
       "    </tr>\n",
       "    <tr>\n",
       "      <th>4</th>\n",
       "      <td>2013</td>\n",
       "      <td>1</td>\n",
       "      <td>7</td>\n",
       "    </tr>\n",
       "    <tr>\n",
       "      <th>5</th>\n",
       "      <td>2013</td>\n",
       "      <td>2</td>\n",
       "      <td>4</td>\n",
       "    </tr>\n",
       "  </tbody>\n",
       "</table>\n",
       "</div>"
      ],
      "text/plain": [
       "   year  pond  toads\n",
       "0  2011     1      1\n",
       "1  2011     2     13\n",
       "2  2012     1      2\n",
       "3  2012     2     11\n",
       "4  2013     1      7\n",
       "5  2013     2      4"
      ]
     },
     "execution_count": 5,
     "metadata": {},
     "output_type": "execute_result"
    }
   ],
   "source": [
    "df.head(6)"
   ]
  },
  {
   "cell_type": "markdown",
   "id": "1a4dff05",
   "metadata": {},
   "source": [
    "## Selecting data using `pandas` (where a lot of the magic happens)"
   ]
  },
  {
   "cell_type": "markdown",
   "id": "42aa6656",
   "metadata": {},
   "source": [
    "Why is `pandas` so useful? Well one of the things I find most useful is the ease of selecting data. \n",
    "\n",
    "Observe me get the `toads` data:"
   ]
  },
  {
   "cell_type": "code",
   "execution_count": 6,
   "id": "a2d43151",
   "metadata": {},
   "outputs": [
    {
     "name": "stdout",
     "output_type": "stream",
     "text": [
      "The data type of the variable toads is: \n",
      "<class 'pandas.core.series.Series'>\n",
      "And here is the data:\n",
      "0     1\n",
      "1    13\n",
      "2     2\n",
      "3    11\n",
      "4     7\n",
      "5     4\n",
      "Name: toads, dtype: int64\n",
      "I can convert this to a list\n",
      "[1, 13, 2, 11, 7, 4]\n",
      "And I can convert it to an array:\n",
      "[ 1 13  2 11  7  4]\n"
     ]
    }
   ],
   "source": [
    "toads = df.toads\n",
    "print(\"The data type of the variable toads is: \")\n",
    "print(type(toads))\n",
    "print(\"And here is the data:\")\n",
    "print(toads)\n",
    "print(\"I can convert this to a list\")\n",
    "print(list(toads))\n",
    "print(\"And I can convert it to an array:\")\n",
    "print(toads.to_numpy())"
   ]
  },
  {
   "cell_type": "markdown",
   "id": "39501005",
   "metadata": {},
   "source": [
    "Here is another very useful feature. You can select data by conditional statements (if the data meets a condition, you keep it).\n",
    "\n",
    "You need this funny syntax with some brackets but as long as you copy the format below with your own data you should be fine. "
   ]
  },
  {
   "cell_type": "code",
   "execution_count": 7,
   "id": "fe3de967",
   "metadata": {},
   "outputs": [
    {
     "data": {
      "text/html": [
       "<div>\n",
       "<style scoped>\n",
       "    .dataframe tbody tr th:only-of-type {\n",
       "        vertical-align: middle;\n",
       "    }\n",
       "\n",
       "    .dataframe tbody tr th {\n",
       "        vertical-align: top;\n",
       "    }\n",
       "\n",
       "    .dataframe thead th {\n",
       "        text-align: right;\n",
       "    }\n",
       "</style>\n",
       "<table border=\"1\" class=\"dataframe\">\n",
       "  <thead>\n",
       "    <tr style=\"text-align: right;\">\n",
       "      <th></th>\n",
       "      <th>year</th>\n",
       "      <th>pond</th>\n",
       "      <th>toads</th>\n",
       "    </tr>\n",
       "  </thead>\n",
       "  <tbody>\n",
       "    <tr>\n",
       "      <th>0</th>\n",
       "      <td>2011</td>\n",
       "      <td>1</td>\n",
       "      <td>1</td>\n",
       "    </tr>\n",
       "    <tr>\n",
       "      <th>1</th>\n",
       "      <td>2011</td>\n",
       "      <td>2</td>\n",
       "      <td>13</td>\n",
       "    </tr>\n",
       "  </tbody>\n",
       "</table>\n",
       "</div>"
      ],
      "text/plain": [
       "   year  pond  toads\n",
       "0  2011     1      1\n",
       "1  2011     2     13"
      ]
     },
     "execution_count": 7,
     "metadata": {},
     "output_type": "execute_result"
    }
   ],
   "source": [
    "df_2011 = df[(df['year'] == 2011)]\n",
    "df_2011.head()"
   ]
  },
  {
   "cell_type": "code",
   "execution_count": 8,
   "id": "3c815596",
   "metadata": {},
   "outputs": [
    {
     "data": {
      "text/html": [
       "<div>\n",
       "<style scoped>\n",
       "    .dataframe tbody tr th:only-of-type {\n",
       "        vertical-align: middle;\n",
       "    }\n",
       "\n",
       "    .dataframe tbody tr th {\n",
       "        vertical-align: top;\n",
       "    }\n",
       "\n",
       "    .dataframe thead th {\n",
       "        text-align: right;\n",
       "    }\n",
       "</style>\n",
       "<table border=\"1\" class=\"dataframe\">\n",
       "  <thead>\n",
       "    <tr style=\"text-align: right;\">\n",
       "      <th></th>\n",
       "      <th>year</th>\n",
       "      <th>pond</th>\n",
       "      <th>toads</th>\n",
       "    </tr>\n",
       "  </thead>\n",
       "  <tbody>\n",
       "    <tr>\n",
       "      <th>2</th>\n",
       "      <td>2012</td>\n",
       "      <td>1</td>\n",
       "      <td>2</td>\n",
       "    </tr>\n",
       "    <tr>\n",
       "      <th>3</th>\n",
       "      <td>2012</td>\n",
       "      <td>2</td>\n",
       "      <td>11</td>\n",
       "    </tr>\n",
       "    <tr>\n",
       "      <th>4</th>\n",
       "      <td>2013</td>\n",
       "      <td>1</td>\n",
       "      <td>7</td>\n",
       "    </tr>\n",
       "    <tr>\n",
       "      <th>5</th>\n",
       "      <td>2013</td>\n",
       "      <td>2</td>\n",
       "      <td>4</td>\n",
       "    </tr>\n",
       "  </tbody>\n",
       "</table>\n",
       "</div>"
      ],
      "text/plain": [
       "   year  pond  toads\n",
       "2  2012     1      2\n",
       "3  2012     2     11\n",
       "4  2013     1      7\n",
       "5  2013     2      4"
      ]
     },
     "execution_count": 8,
     "metadata": {},
     "output_type": "execute_result"
    }
   ],
   "source": [
    "df_2011 = df[(df['year'] > 2011)]\n",
    "df_2011.head()"
   ]
  },
  {
   "cell_type": "code",
   "execution_count": 9,
   "id": "ae969c08",
   "metadata": {
    "scrolled": true
   },
   "outputs": [
    {
     "data": {
      "text/html": [
       "<div>\n",
       "<style scoped>\n",
       "    .dataframe tbody tr th:only-of-type {\n",
       "        vertical-align: middle;\n",
       "    }\n",
       "\n",
       "    .dataframe tbody tr th {\n",
       "        vertical-align: top;\n",
       "    }\n",
       "\n",
       "    .dataframe thead th {\n",
       "        text-align: right;\n",
       "    }\n",
       "</style>\n",
       "<table border=\"1\" class=\"dataframe\">\n",
       "  <thead>\n",
       "    <tr style=\"text-align: right;\">\n",
       "      <th></th>\n",
       "      <th>year</th>\n",
       "      <th>pond</th>\n",
       "      <th>toads</th>\n",
       "    </tr>\n",
       "  </thead>\n",
       "  <tbody>\n",
       "    <tr>\n",
       "      <th>0</th>\n",
       "      <td>2011</td>\n",
       "      <td>1</td>\n",
       "      <td>1</td>\n",
       "    </tr>\n",
       "    <tr>\n",
       "      <th>2</th>\n",
       "      <td>2012</td>\n",
       "      <td>1</td>\n",
       "      <td>2</td>\n",
       "    </tr>\n",
       "    <tr>\n",
       "      <th>4</th>\n",
       "      <td>2013</td>\n",
       "      <td>1</td>\n",
       "      <td>7</td>\n",
       "    </tr>\n",
       "  </tbody>\n",
       "</table>\n",
       "</div>"
      ],
      "text/plain": [
       "   year  pond  toads\n",
       "0  2011     1      1\n",
       "2  2012     1      2\n",
       "4  2013     1      7"
      ]
     },
     "execution_count": 9,
     "metadata": {},
     "output_type": "execute_result"
    }
   ],
   "source": [
    "df_pond1 = df[(df['pond'] == 1)]\n",
    "df_pond1.head()"
   ]
  },
  {
   "cell_type": "markdown",
   "id": "b11d5e60",
   "metadata": {},
   "source": [
    "## Plotting some data using `pandas`"
   ]
  },
  {
   "cell_type": "markdown",
   "id": "d72cd6d8",
   "metadata": {},
   "source": [
    "Recent versions of `pandas` have some built in plotting functions. You can [see the options here](https://pandas.pydata.org/pandas-docs/stable/user_guide/visualization.html)."
   ]
  },
  {
   "cell_type": "code",
   "execution_count": 10,
   "id": "ec95907a",
   "metadata": {},
   "outputs": [
    {
     "data": {
      "image/png": "[encoded data removed]",
      "text/plain": [
       "<Figure size 432x288 with 2 Axes>"
      ]
     },
     "metadata": {
      "needs_background": "light"
     },
     "output_type": "display_data"
    }
   ],
   "source": [
    "df.plot.scatter(x=\"year\", y=\"toads\", c=\"pond\", cmap=\"viridis\", s=50);"
   ]
  },
  {
   "cell_type": "markdown",
   "id": "87f77f23",
   "metadata": {},
   "source": [
    "## A more complicated dataset"
   ]
  },
  {
   "cell_type": "markdown",
   "id": "7fe1af0a",
   "metadata": {},
   "source": [
    "We can now have a look at a more complicated dataset. This has some data about river channels. \n",
    "\n",
    "First load the data into a `pandas` dataframe."
   ]
  },
  {
   "cell_type": "code",
   "execution_count": 11,
   "id": "03074050",
   "metadata": {},
   "outputs": [
    {
     "data": {
      "text/html": [
       "<div>\n",
       "<style scoped>\n",
       "    .dataframe tbody tr th:only-of-type {\n",
       "        vertical-align: middle;\n",
       "    }\n",
       "\n",
       "    .dataframe tbody tr th {\n",
       "        vertical-align: top;\n",
       "    }\n",
       "\n",
       "    .dataframe thead th {\n",
       "        text-align: right;\n",
       "    }\n",
       "</style>\n",
       "<table border=\"1\" class=\"dataframe\">\n",
       "  <thead>\n",
       "    <tr style=\"text-align: right;\">\n",
       "      <th></th>\n",
       "      <th>latitude</th>\n",
       "      <th>longitude</th>\n",
       "      <th>chi</th>\n",
       "      <th>elevation</th>\n",
       "      <th>flow_distance</th>\n",
       "      <th>drainage_area</th>\n",
       "      <th>source_key</th>\n",
       "      <th>basin_key</th>\n",
       "    </tr>\n",
       "  </thead>\n",
       "  <tbody>\n",
       "    <tr>\n",
       "      <th>0</th>\n",
       "      <td>55.877436</td>\n",
       "      <td>-2.549256</td>\n",
       "      <td>9.1343</td>\n",
       "      <td>389.98</td>\n",
       "      <td>4230.0</td>\n",
       "      <td>46852.0</td>\n",
       "      <td>0</td>\n",
       "      <td>0</td>\n",
       "    </tr>\n",
       "    <tr>\n",
       "      <th>1</th>\n",
       "      <td>55.877454</td>\n",
       "      <td>-2.549224</td>\n",
       "      <td>9.1119</td>\n",
       "      <td>389.98</td>\n",
       "      <td>4227.2</td>\n",
       "      <td>46864.0</td>\n",
       "      <td>0</td>\n",
       "      <td>0</td>\n",
       "    </tr>\n",
       "    <tr>\n",
       "      <th>2</th>\n",
       "      <td>55.877472</td>\n",
       "      <td>-2.549224</td>\n",
       "      <td>9.0961</td>\n",
       "      <td>389.95</td>\n",
       "      <td>4225.2</td>\n",
       "      <td>46912.0</td>\n",
       "      <td>0</td>\n",
       "      <td>0</td>\n",
       "    </tr>\n",
       "    <tr>\n",
       "      <th>3</th>\n",
       "      <td>55.877490</td>\n",
       "      <td>-2.549224</td>\n",
       "      <td>9.0803</td>\n",
       "      <td>389.95</td>\n",
       "      <td>4223.2</td>\n",
       "      <td>48104.0</td>\n",
       "      <td>0</td>\n",
       "      <td>0</td>\n",
       "    </tr>\n",
       "    <tr>\n",
       "      <th>4</th>\n",
       "      <td>55.877508</td>\n",
       "      <td>-2.549192</td>\n",
       "      <td>9.0581</td>\n",
       "      <td>389.91</td>\n",
       "      <td>4220.3</td>\n",
       "      <td>48160.0</td>\n",
       "      <td>0</td>\n",
       "      <td>0</td>\n",
       "    </tr>\n",
       "  </tbody>\n",
       "</table>\n",
       "</div>"
      ],
      "text/plain": [
       "    latitude  longitude     chi  elevation  flow_distance  drainage_area  \\\n",
       "0  55.877436  -2.549256  9.1343     389.98         4230.0        46852.0   \n",
       "1  55.877454  -2.549224  9.1119     389.98         4227.2        46864.0   \n",
       "2  55.877472  -2.549224  9.0961     389.95         4225.2        46912.0   \n",
       "3  55.877490  -2.549224  9.0803     389.95         4223.2        48104.0   \n",
       "4  55.877508  -2.549192  9.0581     389.91         4220.3        48160.0   \n",
       "\n",
       "   source_key  basin_key  \n",
       "0           0          0  \n",
       "1           0          0  \n",
       "2           0          0  \n",
       "3           0          0  \n",
       "4           0          0  "
      ]
     },
     "execution_count": 11,
     "metadata": {},
     "output_type": "execute_result"
    }
   ],
   "source": [
    "df = pd.read_csv(\"el_study_chi_data_map.csv\")\n",
    "df.head()"
   ]
  },
  {
   "cell_type": "markdown",
   "id": "a9c37205",
   "metadata": {},
   "source": [
    "This data has latitude and longitude, which tells you it is geospatial data. We will deal with that in different lessons. But we can also look at some other aspects of the data. \n",
    "\n",
    "In the next bit of code I will get the unique values in the \"basin_key\" column:"
   ]
  },
  {
   "cell_type": "code",
   "execution_count": 13,
   "id": "77c16c43",
   "metadata": {},
   "outputs": [
    {
     "data": {
      "text/plain": [
       "array([0, 1, 2, 3, 4])"
      ]
     },
     "execution_count": 13,
     "metadata": {},
     "output_type": "execute_result"
    }
   ],
   "source": [
    "df.basin_key.unique()"
   ]
  },
  {
   "cell_type": "markdown",
   "id": "b7c01e7e",
   "metadata": {},
   "source": [
    "So it happens that I made these data so I know that each \"basin_key\" is a different drainage basin. We can look at one of these basins."
   ]
  },
  {
   "cell_type": "code",
   "execution_count": 34,
   "id": "fbb365e0",
   "metadata": {},
   "outputs": [
    {
     "data": {
      "text/plain": [
       "<AxesSubplot:xlabel='flow_distance', ylabel='elevation'>"
      ]
     },
     "execution_count": 34,
     "metadata": {},
     "output_type": "execute_result"
    },
    {
     "data": {
      "image/png": "[encoded data removed]",
      "text/plain": [
       "<Figure size 432x288 with 2 Axes>"
      ]
     },
     "metadata": {
      "needs_background": "light"
     },
     "output_type": "display_data"
    }
   ],
   "source": [
    "df_basin0 = df[(df.basin_key==0)]\n",
    "df_basin0.plot.scatter(x=\"flow_distance\", y=\"elevation\", c=\"elevation\", cmap=\"viridis\", s=50)"
   ]
  },
  {
   "cell_type": "markdown",
   "id": "221526c0",
   "metadata": {},
   "source": [
    "Here is another basin:"
   ]
  },
  {
   "cell_type": "code",
   "execution_count": 36,
   "id": "23bdd3de",
   "metadata": {},
   "outputs": [
    {
     "data": {
      "text/plain": [
       "<AxesSubplot:xlabel='flow_distance', ylabel='elevation'>"
      ]
     },
     "execution_count": 36,
     "metadata": {},
     "output_type": "execute_result"
    },
    {
     "data": {
      "image/png": "[encoded data removed]",
      "text/plain": [
       "<Figure size 432x288 with 2 Axes>"
      ]
     },
     "metadata": {
      "needs_background": "light"
     },
     "output_type": "display_data"
    }
   ],
   "source": [
    "df_basin3 = df[(df.basin_key==2)]\n",
    "df_basin2.plot.scatter(x=\"flow_distance\", y=\"elevation\", c=\"elevation\", cmap=\"viridis\", s=50)"
   ]
  },
  {
   "cell_type": "code",
   "execution_count": null,
   "id": "08453041",
   "metadata": {},
   "outputs": [],
   "source": []
  }
 ],
 "metadata": {
  "kernelspec": {
   "display_name": "Python 3 (ipykernel)",
   "language": "python",
   "name": "python3"
  },
  "language_info": {
   "codemirror_mode": {
    "name": "ipython",
    "version": 3
   },
   "file_extension": ".py",
   "mimetype": "text/x-python",
   "name": "python",
   "nbconvert_exporter": "python",
   "pygments_lexer": "ipython3",
   "version": "3.8.10"
  }
 },
 "nbformat": 4,
 "nbformat_minor": 5
}
