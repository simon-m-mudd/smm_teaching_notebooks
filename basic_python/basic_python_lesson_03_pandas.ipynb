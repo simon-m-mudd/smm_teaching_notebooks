{
 "cells": [
  {
   "cell_type": "markdown",
   "id": "77a5bc87",
   "metadata": {},
   "source": [
    "# Basic python lesson 03: pandas"
   ]
  },
  {
   "cell_type": "markdown",
   "id": "ca50e524",
   "metadata": {},
   "source": [
    "Written by Simon M. Mudd with last update 21/01/2022"
   ]
  },
  {
   "cell_type": "markdown",
   "id": "7f1172be",
   "metadata": {},
   "source": [
    "It is possible that someone who knows something about python will look at these lessons. They will skim lesson 01 and 02 and then get to this lesson and think \"what are you doing, you can't go from something as basic as assigning and making a numpy array straight to pandas, you psychopath!\". They will then run away, screaming like a banshee, and jump into a canal. \n",
    "\n",
    "But I don't care what those people think. Because I want you to know how to plot some spreadsheet data as quickly as possible. \n",
    "\n",
    "Ready? Lets go!!"
   ]
  },
  {
   "cell_type": "markdown",
   "id": "949d85ae",
   "metadata": {},
   "source": [
    "## What does a Chinese bear have to do with importing data?"
   ]
  },
  {
   "cell_type": "raw",
   "id": "eb703ebc",
   "metadata": {},
   "source": []
  },
  {
   "cell_type": "markdown",
   "id": "01dbd002",
   "metadata": {},
   "source": [
    "`pandas` comes from \"python data analysis library\". It sounds better than \"pdal\". Although I like bicylces so I might have called it \"pedal\". Anyway, I did not write pandas. [A guy working for a hedge fund did](https://pandas.pydata.org/about/index.html), because analysis of financial data often involves dealing with messy time series data. This package has ended up being immensely useful to all kinds of people and now forms one of the keystones of data science in python. \n",
    "\n",
    "`pandas` is most at home reading `csv` data. `csv` stands for \"comma separated value\". You can save excel files in this format. The format has columns separated by commas. Like this:\n",
    "\n",
    "```\n",
    "year,pond,toads\n",
    "2011,1,1\n",
    "2011,2,13\n",
    "2012,1,2\n",
    "2012,2,11\n",
    "2013,1,7\n",
    "2013,2,4\n",
    "```\n"
   ]
  },
  {
   "cell_type": "markdown",
   "id": "0bbe51aa",
   "metadata": {},
   "source": [
    "Actually, let me write this file. You won't really be writing files like this in python so don't worry about the syntax.  "
   ]
  },
  {
   "cell_type": "code",
   "execution_count": 6,
   "id": "69dca8d2",
   "metadata": {},
   "outputs": [
    {
     "name": "stdout",
     "output_type": "stream",
     "text": [
      "year,pond,toads\n",
      "2011,1,1\n",
      "2011,2,13\n",
      "2012,1,2\n",
      "2012,2,11\n",
      "2013,1,7\n",
      "2013,2,4\n"
     ]
    }
   ],
   "source": [
    "f = open(\"toadfile.csv\", \"w\")\n",
    "f.write(\"year,pond,toads\")\n",
    "f.write(\"\\n2011,1,1\")\n",
    "f.write(\"\\n2011,2,13\")\n",
    "f.write(\"\\n2012,1,2\")\n",
    "f.write(\"\\n2012,2,11\")\n",
    "f.write(\"\\n2013,1,7\")\n",
    "f.write(\"\\n2013,2,4\")\n",
    "f.close()\n",
    "\n",
    "with open(\"toadfile.csv\", 'r') as fin:\n",
    "    print(fin.read())"
   ]
  },
  {
   "cell_type": "markdown",
   "id": "81210d80",
   "metadata": {},
   "source": [
    "Okay, if you wanted to you could open this file using Excel. But instead we will open it with `pandas` "
   ]
  },
  {
   "cell_type": "markdown",
   "id": "f759924f",
   "metadata": {},
   "source": [
    "## Pandas and toads"
   ]
  },
  {
   "cell_type": "markdown",
   "id": "09de264e",
   "metadata": {},
   "source": [
    "We first need to import `pandas`. And because I don't feel like writing out `pandas` all the time I will import it as `pd`. \n",
    "\n",
    "I will then read the toads file using the `read_csv` function:"
   ]
  },
  {
   "cell_type": "code",
   "execution_count": 8,
   "id": "752ca6bc",
   "metadata": {},
   "outputs": [],
   "source": [
    "import pandas as pd\n",
    "df = pd.read_csv(\"toadfile.csv\")"
   ]
  },
  {
   "cell_type": "markdown",
   "id": "198b4b13",
   "metadata": {},
   "source": [
    "Hey what happened? There is no output if you run the above cell. \n",
    "\n",
    "That is because `pandas` has read the data in the toadfile into a variable called `df`. In the `pandas` world `df` is quite common name for a variable because it is short for `dataframe`. And `pandas` calls any collection of data a `DataFrame`. You can see this with the `type` command.  "
   ]
  },
  {
   "cell_type": "code",
   "execution_count": 9,
   "id": "738b0777",
   "metadata": {},
   "outputs": [
    {
     "name": "stdout",
     "output_type": "stream",
     "text": [
      "<class 'pandas.core.frame.DataFrame'>\n"
     ]
    }
   ],
   "source": [
    "print(type(df))"
   ]
  },
  {
   "cell_type": "markdown",
   "id": "916c6bea",
   "metadata": {},
   "source": [
    "Okay, what if we want to look at the data? You can use the `head` command to see the data"
   ]
  },
  {
   "cell_type": "code",
   "execution_count": 10,
   "id": "a2376d44",
   "metadata": {},
   "outputs": [
    {
     "data": {
      "text/html": [
       "<div>\n",
       "<style scoped>\n",
       "    .dataframe tbody tr th:only-of-type {\n",
       "        vertical-align: middle;\n",
       "    }\n",
       "\n",
       "    .dataframe tbody tr th {\n",
       "        vertical-align: top;\n",
       "    }\n",
       "\n",
       "    .dataframe thead th {\n",
       "        text-align: right;\n",
       "    }\n",
       "</style>\n",
       "<table border=\"1\" class=\"dataframe\">\n",
       "  <thead>\n",
       "    <tr style=\"text-align: right;\">\n",
       "      <th></th>\n",
       "      <th>year</th>\n",
       "      <th>pond</th>\n",
       "      <th>toads</th>\n",
       "    </tr>\n",
       "  </thead>\n",
       "  <tbody>\n",
       "    <tr>\n",
       "      <th>0</th>\n",
       "      <td>2011</td>\n",
       "      <td>1</td>\n",
       "      <td>1</td>\n",
       "    </tr>\n",
       "    <tr>\n",
       "      <th>1</th>\n",
       "      <td>2011</td>\n",
       "      <td>2</td>\n",
       "      <td>13</td>\n",
       "    </tr>\n",
       "    <tr>\n",
       "      <th>2</th>\n",
       "      <td>2012</td>\n",
       "      <td>1</td>\n",
       "      <td>2</td>\n",
       "    </tr>\n",
       "    <tr>\n",
       "      <th>3</th>\n",
       "      <td>2012</td>\n",
       "      <td>2</td>\n",
       "      <td>11</td>\n",
       "    </tr>\n",
       "    <tr>\n",
       "      <th>4</th>\n",
       "      <td>2013</td>\n",
       "      <td>1</td>\n",
       "      <td>7</td>\n",
       "    </tr>\n",
       "  </tbody>\n",
       "</table>\n",
       "</div>"
      ],
      "text/plain": [
       "   year  pond  toads\n",
       "0  2011     1      1\n",
       "1  2011     2     13\n",
       "2  2012     1      2\n",
       "3  2012     2     11\n",
       "4  2013     1      7"
      ]
     },
     "execution_count": 10,
     "metadata": {},
     "output_type": "execute_result"
    }
   ],
   "source": [
    "df.head()"
   ]
  },
  {
   "cell_type": "markdown",
   "id": "7ccabb97",
   "metadata": {},
   "source": [
    "The default is to see the first 5 items. You can change this quite easily:"
   ]
  },
  {
   "cell_type": "code",
   "execution_count": 11,
   "id": "e1c4971d",
   "metadata": {},
   "outputs": [
    {
     "data": {
      "text/html": [
       "<div>\n",
       "<style scoped>\n",
       "    .dataframe tbody tr th:only-of-type {\n",
       "        vertical-align: middle;\n",
       "    }\n",
       "\n",
       "    .dataframe tbody tr th {\n",
       "        vertical-align: top;\n",
       "    }\n",
       "\n",
       "    .dataframe thead th {\n",
       "        text-align: right;\n",
       "    }\n",
       "</style>\n",
       "<table border=\"1\" class=\"dataframe\">\n",
       "  <thead>\n",
       "    <tr style=\"text-align: right;\">\n",
       "      <th></th>\n",
       "      <th>year</th>\n",
       "      <th>pond</th>\n",
       "      <th>toads</th>\n",
       "    </tr>\n",
       "  </thead>\n",
       "  <tbody>\n",
       "    <tr>\n",
       "      <th>0</th>\n",
       "      <td>2011</td>\n",
       "      <td>1</td>\n",
       "      <td>1</td>\n",
       "    </tr>\n",
       "    <tr>\n",
       "      <th>1</th>\n",
       "      <td>2011</td>\n",
       "      <td>2</td>\n",
       "      <td>13</td>\n",
       "    </tr>\n",
       "    <tr>\n",
       "      <th>2</th>\n",
       "      <td>2012</td>\n",
       "      <td>1</td>\n",
       "      <td>2</td>\n",
       "    </tr>\n",
       "    <tr>\n",
       "      <th>3</th>\n",
       "      <td>2012</td>\n",
       "      <td>2</td>\n",
       "      <td>11</td>\n",
       "    </tr>\n",
       "    <tr>\n",
       "      <th>4</th>\n",
       "      <td>2013</td>\n",
       "      <td>1</td>\n",
       "      <td>7</td>\n",
       "    </tr>\n",
       "    <tr>\n",
       "      <th>5</th>\n",
       "      <td>2013</td>\n",
       "      <td>2</td>\n",
       "      <td>4</td>\n",
       "    </tr>\n",
       "  </tbody>\n",
       "</table>\n",
       "</div>"
      ],
      "text/plain": [
       "   year  pond  toads\n",
       "0  2011     1      1\n",
       "1  2011     2     13\n",
       "2  2012     1      2\n",
       "3  2012     2     11\n",
       "4  2013     1      7\n",
       "5  2013     2      4"
      ]
     },
     "execution_count": 11,
     "metadata": {},
     "output_type": "execute_result"
    }
   ],
   "source": [
    "df.head(6)"
   ]
  },
  {
   "cell_type": "markdown",
   "id": "c777560d",
   "metadata": {},
   "source": [
    "## Selecting data using `pandas` (where a lot of the magic happens)"
   ]
  },
  {
   "cell_type": "markdown",
   "id": "11563b80",
   "metadata": {},
   "source": [
    "Why is `pandas` so useful? Well one of the things I find most useful is the ease of selecting data. \n",
    "\n",
    "Observe me get the `toads` data:"
   ]
  },
  {
   "cell_type": "code",
   "execution_count": 18,
   "id": "0f317c45",
   "metadata": {},
   "outputs": [
    {
     "name": "stdout",
     "output_type": "stream",
     "text": [
      "The data type of the variable toads is: \n",
      "<class 'pandas.core.series.Series'>\n",
      "And here is the data:\n",
      "0     1\n",
      "1    13\n",
      "2     2\n",
      "3    11\n",
      "4     7\n",
      "5     4\n",
      "Name: toads, dtype: int64\n",
      "I can convert this to a list\n",
      "[1, 13, 2, 11, 7, 4]\n",
      "And I can convert it to an array:\n",
      "[ 1 13  2 11  7  4]\n"
     ]
    }
   ],
   "source": [
    "toads = df.toads\n",
    "print(\"The data type of the variable toads is: \")\n",
    "print(type(toads))\n",
    "print(\"And here is the data:\")\n",
    "print(toads)\n",
    "print(\"I can convert this to a list\")\n",
    "print(list(toads))\n",
    "print(\"And I can convert it to an array:\")\n",
    "print(toads.to_numpy())"
   ]
  },
  {
   "cell_type": "markdown",
   "id": "c8bcff28",
   "metadata": {},
   "source": [
    "Here is another very useful feature. You can select data by conditional statements (if the data meets a condition, you keep it).\n",
    "\n",
    "You need this funny syntax with some brackets but as long as you copy the format below with your own data you should be fine. "
   ]
  },
  {
   "cell_type": "code",
   "execution_count": 20,
   "id": "97aff802",
   "metadata": {},
   "outputs": [
    {
     "data": {
      "text/html": [
       "<div>\n",
       "<style scoped>\n",
       "    .dataframe tbody tr th:only-of-type {\n",
       "        vertical-align: middle;\n",
       "    }\n",
       "\n",
       "    .dataframe tbody tr th {\n",
       "        vertical-align: top;\n",
       "    }\n",
       "\n",
       "    .dataframe thead th {\n",
       "        text-align: right;\n",
       "    }\n",
       "</style>\n",
       "<table border=\"1\" class=\"dataframe\">\n",
       "  <thead>\n",
       "    <tr style=\"text-align: right;\">\n",
       "      <th></th>\n",
       "      <th>year</th>\n",
       "      <th>pond</th>\n",
       "      <th>toads</th>\n",
       "    </tr>\n",
       "  </thead>\n",
       "  <tbody>\n",
       "    <tr>\n",
       "      <th>0</th>\n",
       "      <td>2011</td>\n",
       "      <td>1</td>\n",
       "      <td>1</td>\n",
       "    </tr>\n",
       "    <tr>\n",
       "      <th>1</th>\n",
       "      <td>2011</td>\n",
       "      <td>2</td>\n",
       "      <td>13</td>\n",
       "    </tr>\n",
       "  </tbody>\n",
       "</table>\n",
       "</div>"
      ],
      "text/plain": [
       "   year  pond  toads\n",
       "0  2011     1      1\n",
       "1  2011     2     13"
      ]
     },
     "execution_count": 20,
     "metadata": {},
     "output_type": "execute_result"
    }
   ],
   "source": [
    "df_2011 = df[(df['year'] == 2011)]\n",
    "df_2011.head()"
   ]
  },
  {
   "cell_type": "code",
   "execution_count": 22,
   "id": "d26a6f01",
   "metadata": {},
   "outputs": [
    {
     "data": {
      "text/html": [
       "<div>\n",
       "<style scoped>\n",
       "    .dataframe tbody tr th:only-of-type {\n",
       "        vertical-align: middle;\n",
       "    }\n",
       "\n",
       "    .dataframe tbody tr th {\n",
       "        vertical-align: top;\n",
       "    }\n",
       "\n",
       "    .dataframe thead th {\n",
       "        text-align: right;\n",
       "    }\n",
       "</style>\n",
       "<table border=\"1\" class=\"dataframe\">\n",
       "  <thead>\n",
       "    <tr style=\"text-align: right;\">\n",
       "      <th></th>\n",
       "      <th>year</th>\n",
       "      <th>pond</th>\n",
       "      <th>toads</th>\n",
       "    </tr>\n",
       "  </thead>\n",
       "  <tbody>\n",
       "    <tr>\n",
       "      <th>2</th>\n",
       "      <td>2012</td>\n",
       "      <td>1</td>\n",
       "      <td>2</td>\n",
       "    </tr>\n",
       "    <tr>\n",
       "      <th>3</th>\n",
       "      <td>2012</td>\n",
       "      <td>2</td>\n",
       "      <td>11</td>\n",
       "    </tr>\n",
       "    <tr>\n",
       "      <th>4</th>\n",
       "      <td>2013</td>\n",
       "      <td>1</td>\n",
       "      <td>7</td>\n",
       "    </tr>\n",
       "    <tr>\n",
       "      <th>5</th>\n",
       "      <td>2013</td>\n",
       "      <td>2</td>\n",
       "      <td>4</td>\n",
       "    </tr>\n",
       "  </tbody>\n",
       "</table>\n",
       "</div>"
      ],
      "text/plain": [
       "   year  pond  toads\n",
       "2  2012     1      2\n",
       "3  2012     2     11\n",
       "4  2013     1      7\n",
       "5  2013     2      4"
      ]
     },
     "execution_count": 22,
     "metadata": {},
     "output_type": "execute_result"
    }
   ],
   "source": [
    "df_2011 = df[(df['year'] > 2011)]\n",
    "df_2011.head()"
   ]
  },
  {
   "cell_type": "code",
   "execution_count": 21,
   "id": "1ea89468",
   "metadata": {},
   "outputs": [
    {
     "data": {
      "text/html": [
       "<div>\n",
       "<style scoped>\n",
       "    .dataframe tbody tr th:only-of-type {\n",
       "        vertical-align: middle;\n",
       "    }\n",
       "\n",
       "    .dataframe tbody tr th {\n",
       "        vertical-align: top;\n",
       "    }\n",
       "\n",
       "    .dataframe thead th {\n",
       "        text-align: right;\n",
       "    }\n",
       "</style>\n",
       "<table border=\"1\" class=\"dataframe\">\n",
       "  <thead>\n",
       "    <tr style=\"text-align: right;\">\n",
       "      <th></th>\n",
       "      <th>year</th>\n",
       "      <th>pond</th>\n",
       "      <th>toads</th>\n",
       "    </tr>\n",
       "  </thead>\n",
       "  <tbody>\n",
       "    <tr>\n",
       "      <th>0</th>\n",
       "      <td>2011</td>\n",
       "      <td>1</td>\n",
       "      <td>1</td>\n",
       "    </tr>\n",
       "    <tr>\n",
       "      <th>2</th>\n",
       "      <td>2012</td>\n",
       "      <td>1</td>\n",
       "      <td>2</td>\n",
       "    </tr>\n",
       "    <tr>\n",
       "      <th>4</th>\n",
       "      <td>2013</td>\n",
       "      <td>1</td>\n",
       "      <td>7</td>\n",
       "    </tr>\n",
       "  </tbody>\n",
       "</table>\n",
       "</div>"
      ],
      "text/plain": [
       "   year  pond  toads\n",
       "0  2011     1      1\n",
       "2  2012     1      2\n",
       "4  2013     1      7"
      ]
     },
     "execution_count": 21,
     "metadata": {},
     "output_type": "execute_result"
    }
   ],
   "source": [
    "df_pond1 = df[(df['pond'] == 1)]\n",
    "df_pond1.head()"
   ]
  },
  {
   "cell_type": "code",
   "execution_count": null,
   "id": "89fff5de",
   "metadata": {},
   "outputs": [],
   "source": []
  }
 ],
 "metadata": {
  "kernelspec": {
   "display_name": "Python 3 (ipykernel)",
   "language": "python",
   "name": "python3"
  },
  "language_info": {
   "codemirror_mode": {
    "name": "ipython",
    "version": 3
   },
   "file_extension": ".py",
   "mimetype": "text/x-python",
   "name": "python",
   "nbconvert_exporter": "python",
   "pygments_lexer": "ipython3",
   "version": "3.8.10"
  }
 },
 "nbformat": 4,
 "nbformat_minor": 5
}
