{
 "cells": [
  {
   "cell_type": "markdown",
   "id": "ebd72d3a",
   "metadata": {},
   "source": [
    "# Basic python lesson 01: The simplest possible python lesson"
   ]
  },
  {
   "cell_type": "markdown",
   "id": "b0bc3cfe",
   "metadata": {},
   "source": [
    "Written by Simon M. Mudd with last update 18/01/2022"
   ]
  },
  {
   "cell_type": "markdown",
   "id": "03f4c5b7",
   "metadata": {},
   "source": [
    "This series of lessons is a very basic introduction to python. They are intended for students with no python background, or for students who need a basic refresher. "
   ]
  },
  {
   "cell_type": "markdown",
   "id": "820ba7cf",
   "metadata": {},
   "source": [
    "## What is python?"
   ]
  },
  {
   "cell_type": "markdown",
   "id": "3c5db959",
   "metadata": {},
   "source": [
    "Python is a programming language. It is used for all kinds of things but the target audience for these lessons are people who will do some data analysis or plotting. Similar alternatives are Matlab (but this is a commercial product and you have to pay for it), R (which is focussed on Statistics and not as flexible as python), and Julia (which has far fewer users than python). \n",
    "\n",
    "Amongst the above languages, Python is the most widely used and also the most frequently cited in job ads. "
   ]
  },
  {
   "cell_type": "markdown",
   "id": "83894d99",
   "metadata": {},
   "source": [
    "## What do you use python for (in these lessons)"
   ]
  },
  {
   "cell_type": "markdown",
   "id": "748eb5f7",
   "metadata": {},
   "source": [
    "These lessons are to show how you might replace some tasks in Excel with python. This boils down to handling data and plotting it. Excel is fast and easy for lots of things but there are certain things that are easier in python "
   ]
  },
  {
   "cell_type": "markdown",
   "id": "b313d966",
   "metadata": {},
   "source": [
    "## How does python work?"
   ]
  },
  {
   "cell_type": "markdown",
   "id": "c0fc050e",
   "metadata": {},
   "source": [
    "You need some version of python installed to get it to work. But if you are using a functioning python notebook, someone has already done that for you. \n",
    "\n",
    "* Probably the easiest place to get a working python notebook is the Google colab service (https://colab.research.google.com/).\n",
    "* At the University of Edinburgh (where the author of this lesson is based) we also have something called the Notable service (https://www.ed.ac.uk/information-services/learning-technology/noteable)\n",
    "* There are other live notebook services like binder (https://mybinder.org/)\n",
    "\n",
    "You can run single lines of python or you can run scripts, either written by youself or by someone else. \n",
    "\n",
    "If you run a script written by someone else you will usually need to `import` it. I'll show you this below."
   ]
  },
  {
   "cell_type": "markdown",
   "id": "765b7587",
   "metadata": {},
   "source": [
    "### Python in a notebook"
   ]
  },
  {
   "cell_type": "markdown",
   "id": "f675025f",
   "metadata": {},
   "source": [
    "You are reading this in a notebook. The notebook is made up of \"cells\". Cells can either be text (usually formatted using something called markdown, which you can look up) or code. If you are going to run some code the cell needs to be a \"code\" cell. \n",
    "\n",
    "This cell is a *text* cell so it won't run any python code. \n",
    "\n",
    "The next cell will be code."
   ]
  },
  {
   "cell_type": "code",
   "execution_count": 2,
   "id": "c8e7d1cf",
   "metadata": {},
   "outputs": [
    {
     "name": "stdout",
     "output_type": "stream",
     "text": [
      "5\n"
     ]
    }
   ],
   "source": [
    "# This is a code cell. \n",
    "# If you put a `#` on a line python will ignore it. \n",
    "# This is called a comment. \n",
    "# Below I will tell python the letter a has the value 5 and I will then print it to screen\n",
    "# To run this cell click on it and press shift+enter\n",
    "a = 5\n",
    "print(a)"
   ]
  },
  {
   "cell_type": "markdown",
   "id": "65e75a99",
   "metadata": {},
   "source": [
    "You run cells by \"executing\" them. Do this by clicking on the cell and typing `shift+enter`. If there is any output from the cell it will appear below the cell. "
   ]
  },
  {
   "cell_type": "markdown",
   "id": "0dd66b1f",
   "metadata": {},
   "source": [
    "## Assigning variables"
   ]
  },
  {
   "cell_type": "markdown",
   "id": "6784bcf9",
   "metadata": {},
   "source": [
    "In python you can assign variables with the `=` symbol. Python will remember this variable. "
   ]
  },
  {
   "cell_type": "code",
   "execution_count": 5,
   "id": "c7ae2d05",
   "metadata": {},
   "outputs": [
    {
     "name": "stdout",
     "output_type": "stream",
     "text": [
      "11\n"
     ]
    }
   ],
   "source": [
    "a = 5\n",
    "b = 6\n",
    "print(a+b)"
   ]
  },
  {
   "cell_type": "markdown",
   "id": "525a86ea",
   "metadata": {},
   "source": [
    "## Printing things"
   ]
  },
  {
   "cell_type": "markdown",
   "id": "fa3a222d",
   "metadata": {},
   "source": [
    "You can print things with the `print` command. What you are printing afterwards needs to be in parentheses. \n",
    "Python assigns a `type` to its variables. The variable could be a number, or a string of characters (called a \"string\" or \"str\"). You assign strings by using quotations. When you print things you can't mix types. But you can convert things all to string and print that. "
   ]
  },
  {
   "cell_type": "code",
   "execution_count": 7,
   "id": "86a18481",
   "metadata": {},
   "outputs": [
    {
     "ename": "TypeError",
     "evalue": "unsupported operand type(s) for +: 'int' and 'str'",
     "output_type": "error",
     "traceback": [
      "\u001b[0;31m---------------------------------------------------------------------------\u001b[0m",
      "\u001b[0;31mTypeError\u001b[0m                                 Traceback (most recent call last)",
      "\u001b[0;32m/tmp/ipykernel_11/3602885426.py\u001b[0m in \u001b[0;36m<module>\u001b[0;34m\u001b[0m\n\u001b[1;32m      2\u001b[0m \u001b[0ma\u001b[0m \u001b[0;34m=\u001b[0m \u001b[0;36m5\u001b[0m\u001b[0;34m\u001b[0m\u001b[0;34m\u001b[0m\u001b[0m\n\u001b[1;32m      3\u001b[0m \u001b[0mb\u001b[0m \u001b[0;34m=\u001b[0m \u001b[0;34m\"The number is: \"\u001b[0m\u001b[0;34m\u001b[0m\u001b[0;34m\u001b[0m\u001b[0m\n\u001b[0;32m----> 4\u001b[0;31m \u001b[0mprint\u001b[0m\u001b[0;34m(\u001b[0m\u001b[0ma\u001b[0m\u001b[0;34m+\u001b[0m\u001b[0mb\u001b[0m\u001b[0;34m)\u001b[0m\u001b[0;34m\u001b[0m\u001b[0;34m\u001b[0m\u001b[0m\n\u001b[0m",
      "\u001b[0;31mTypeError\u001b[0m: unsupported operand type(s) for +: 'int' and 'str'"
     ]
    }
   ],
   "source": [
    "# THIS DOESN'T WORK\n",
    "a = 5\n",
    "b = \"The number is: \"\n",
    "print(a+b)"
   ]
  },
  {
   "cell_type": "code",
   "execution_count": null,
   "id": "a1abef03",
   "metadata": {},
   "outputs": [],
   "source": [
    "# This works because I convert the number to a string:\n",
    "a = 5\n",
    "b = \"The number is: \"\n",
    "print(a+b)"
   ]
  },
  {
   "cell_type": "markdown",
   "id": "1209291c",
   "metadata": {},
   "source": [
    "## Lists of stuff (numbers, for example)"
   ]
  },
  {
   "cell_type": "markdown",
   "id": "453c28e2",
   "metadata": {},
   "source": [
    "You can assign a number or a string to a variable. But you can also assigns groups of numbers or strings. These are called lists. \n",
    "\n",
    "When you have a list you can access their individual values using something called and index. python uses square brackets for this. python uses something called \"zero indexing\" where the first element in a list has the index of 0. This might seem a bit weird but it works that way for some [computer science reasons](https://en.wikipedia.org/wiki/Zero-based_numbering#:~:text=Zero%2Dbased%20numbering%20is%20a,mathematical%20or%20non%2Dprogramming%20circumstances.). As a consequence programmers think you are a loser if you index your first element with a 1, like a normal human. It is annoying at first but you will get used to it."
   ]
  },
  {
   "cell_type": "code",
   "execution_count": 6,
   "id": "de3e6600",
   "metadata": {},
   "outputs": [
    {
     "name": "stdout",
     "output_type": "stream",
     "text": [
      "Here is the list: \n",
      "[7, 4, 2, -1, -5]\n",
      "Below is the first element. The index of the first element is 0, not 1!!\n",
      "7\n",
      "The fifth element is:\n",
      "-5\n"
     ]
    }
   ],
   "source": [
    "some_numbers = [7,4,2,-1,-5]\n",
    "print(\"Here is the list: \")\n",
    "print(some_numbers)\n",
    "print(\"Below is the first element. The index of the first element is 0, not 1!!\")\n",
    "print(some_numbers[0])\n",
    "print(\"The fifth element is:\")\n",
    "print(some_numbers[4])"
   ]
  },
  {
   "cell_type": "markdown",
   "id": "a1d1849c",
   "metadata": {},
   "source": [
    "You can to the same thing with strings:"
   ]
  },
  {
   "cell_type": "code",
   "execution_count": 5,
   "id": "f26bfb4b",
   "metadata": {},
   "outputs": [
    {
     "name": "stdout",
     "output_type": "stream",
     "text": [
      "The strings are:\n",
      "['yo', 'yo', 'ma']\n"
     ]
    }
   ],
   "source": [
    "some_strings = [\"yo\",\"yo\",\"ma\"]\n",
    "print(\"The strings are:\")\n",
    "print(some_strings)"
   ]
  },
  {
   "cell_type": "markdown",
   "id": "089a0848",
   "metadata": {},
   "source": [
    "## Stuff to try"
   ]
  },
  {
   "cell_type": "code",
   "execution_count": null,
   "id": "89cc2a18",
   "metadata": {},
   "outputs": [],
   "source": []
  }
 ],
 "metadata": {
  "kernelspec": {
   "display_name": "Python 3 (ipykernel)",
   "language": "python",
   "name": "python3"
  },
  "language_info": {
   "codemirror_mode": {
    "name": "ipython",
    "version": 3
   },
   "file_extension": ".py",
   "mimetype": "text/x-python",
   "name": "python",
   "nbconvert_exporter": "python",
   "pygments_lexer": "ipython3",
   "version": "3.8.10"
  }
 },
 "nbformat": 4,
 "nbformat_minor": 5
}
