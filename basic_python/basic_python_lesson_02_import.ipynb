{
 "cells": [
  {
   "cell_type": "markdown",
   "id": "dd6a59cc",
   "metadata": {},
   "source": [
    "# Basic python lesson 02: Importing stuff"
   ]
  },
  {
   "cell_type": "markdown",
   "id": "54bcb237",
   "metadata": {},
   "source": [
    "Written by Simon M. Mudd with last update 29/09/2022"
   ]
  },
  {
   "cell_type": "markdown",
   "id": "49649758",
   "metadata": {},
   "source": [
    "## Importing useful stuff"
   ]
  },
  {
   "cell_type": "markdown",
   "id": "a81e487d",
   "metadata": {},
   "source": [
    "There are loads of people that write useful python code. They make this code available so that you can use it in your own code. One day you might even write some python code that you let other people use. \n",
    "\n",
    "This useful code is usually distributed as \"packages\". To get a package you need to install it. But if you are just starting out, you get told where to run your python code (for example, in google colab, or in some university's notebook server), and someone has already installed the useful packages for you. You are almost certainly in one of those places now. \n",
    "\n",
    "But just installing some package doesn't make it available. You need to `import` it. "
   ]
  },
  {
   "cell_type": "markdown",
   "id": "c03a7917",
   "metadata": {},
   "source": [
    "### What sorts of useful stuff can I import?"
   ]
  },
  {
   "cell_type": "markdown",
   "id": "a0679702",
   "metadata": {},
   "source": [
    "If you are reading this tutorial you are vaguely going to use python for data science, broadly defined (as opposed to, say, web development, or making games). Any data scientist will use this stuff:\n",
    "\n",
    "* `numpy`: short for numerical python. Mathsy stuff in here. \n",
    "* `matplotlib`: for making plots\n",
    "* `scipy`: more mathsy stuff but more specific than `numpy`. Statistcs are in here. \n",
    "* `pandas`: reading and dealing with data. \n",
    "\n",
    "The above packages are really, really common. Everyone uses them. And those packages are very stable, the installations almost never break and there is lots of documentation and tutorials. \n",
    "\n",
    "You might also be someone interested in geospatial data. This requires packages that are a bit more niche than the packages listed above so I will leave that to a later lesson. "
   ]
  },
  {
   "cell_type": "markdown",
   "id": "8d683e63",
   "metadata": {},
   "source": [
    "### Show me how to import something!!"
   ]
  },
  {
   "cell_type": "markdown",
   "id": "74ec095c",
   "metadata": {},
   "source": [
    "You import a package by using the python command `import`. Like this:"
   ]
  },
  {
   "cell_type": "code",
   "execution_count": null,
   "id": "ef3b3337",
   "metadata": {},
   "outputs": [],
   "source": [
    "import numpy\n",
    "numpy.__version__"
   ]
  },
  {
   "cell_type": "markdown",
   "id": "d2f7e4a9",
   "metadata": {},
   "source": [
    "I imported `numpy` there and then I called `__version__` which you can use with pretty much any python package to tell you the version number. \n",
    "\n",
    "To use something in a package you use the name of the package followed by the `.` symbol. Here are two more things that you might do with numpy (note this only work if you have already `import`ed `numpy`\n"
   ]
  },
  {
   "cell_type": "code",
   "execution_count": null,
   "id": "4077592e",
   "metadata": {},
   "outputs": [],
   "source": [
    "a = numpy.arange(6)\n",
    "print(\"Here is a numpy array;\")\n",
    "print(a)\n",
    "b = numpy.linspace(1,2,11)\n",
    "print(\"Here is another one made a different way:\")\n",
    "print(\"In this case you give the starting number, the ending number, and the number of items\")\n",
    "print(b)"
   ]
  },
  {
   "cell_type": "markdown",
   "id": "fa92d955",
   "metadata": {},
   "source": [
    "#### Wait a minute. That looks like a list. Why did you call it an array?"
   ]
  },
  {
   "cell_type": "markdown",
   "id": "637ad9b9",
   "metadata": {},
   "source": [
    "`numpy` has its own version of a list called a *numpy array*. Without giving you too many details, a numpy array behaves much like a list but has some added features that make it bettern than a list for certain kinds of computation. You can convert a list to an array using the numpy function `asarray`:"
   ]
  },
  {
   "cell_type": "code",
   "execution_count": null,
   "id": "67500ff5",
   "metadata": {},
   "outputs": [],
   "source": [
    "a_list = [1,2,3,4]\n",
    "an_array = numpy.asarray(a_list)\n",
    "print(\"Type of a_list is:\")\n",
    "print(type(a_list))\n",
    "print(\"Type of an_array is:\")\n",
    "print(type(an_array))"
   ]
  },
  {
   "cell_type": "markdown",
   "id": "39aae5f2",
   "metadata": {},
   "source": [
    "### Do I really have to type out `numpy` each time I want to do something with numpy?"
   ]
  },
  {
   "cell_type": "markdown",
   "id": "1300a5a8",
   "metadata": {},
   "source": [
    "It is a bit annoying to type out the full name of a package each time you want to use something in it.\n",
    "Luckily python lets you give packages short names (or long names, if you have some weird fetish) by usinging the `import as` syntax:"
   ]
  },
  {
   "cell_type": "code",
   "execution_count": null,
   "id": "490d3e1e",
   "metadata": {},
   "outputs": [],
   "source": [
    "import numpy as np\n",
    "a = np.arange(6)\n",
    "print(\"Here is a numpy array;\")\n",
    "print(a)"
   ]
  },
  {
   "cell_type": "markdown",
   "id": "704d46b4",
   "metadata": {},
   "source": [
    "## Let's import matplotlib and make a plot"
   ]
  },
  {
   "cell_type": "markdown",
   "id": "11a94458",
   "metadata": {},
   "source": [
    "Another useful packages is `matplotlib` which does plotting. `matplotlib` gives you a lot of control over the appearance of plots, but here is a very simple example:"
   ]
  },
  {
   "cell_type": "code",
   "execution_count": null,
   "id": "02bbc7c4",
   "metadata": {},
   "outputs": [],
   "source": [
    "import matplotlib.pyplot as plt\n",
    "import numpy as np\n",
    "\n",
    "# Data for plotting\n",
    "x = [1,2,3,4,5]\n",
    "y = [2,3,3.5,7,9]\n",
    "\n",
    "plt.plot(x,y)\n",
    "plt.xlabel(\"x\")\n",
    "plt.ylabel(\"y\")\n",
    "plt.title('About as simple as it gets, folks')\n",
    "plt.grid()\n",
    "plt.show()"
   ]
  },
  {
   "cell_type": "markdown",
   "id": "f8146f80",
   "metadata": {},
   "source": [
    "Or we could do a scatter plot:"
   ]
  },
  {
   "cell_type": "code",
   "execution_count": null,
   "id": "68d68df5",
   "metadata": {},
   "outputs": [],
   "source": [
    "# Clear the plot with the clf() command\n",
    "plt.clf()\n",
    "\n",
    "plt.scatter(x,y)\n",
    "plt.xlabel(\"x\",fontsize=20)\n",
    "plt.ylabel(\"y\",fontsize=20)\n",
    "\n",
    "# I'm going to use a newline character (\\n) in the title\n",
    "plt.title('Scatter plots are usually\\nbetter with discrete data',fontsize=24)\n",
    "plt.grid()\n",
    "plt.show()"
   ]
  },
  {
   "cell_type": "markdown",
   "id": "4312d1ea",
   "metadata": {},
   "source": [
    "Okay, we have some very basic tools up our sleeves. Lets move on to `pandas`."
   ]
  }
 ],
 "metadata": {
  "kernelspec": {
   "display_name": "Python 3 (ipykernel)",
   "language": "python",
   "name": "python3"
  },
  "language_info": {
   "codemirror_mode": {
    "name": "ipython",
    "version": 3
   },
   "file_extension": ".py",
   "mimetype": "text/x-python",
   "name": "python",
   "nbconvert_exporter": "python",
   "pygments_lexer": "ipython3",
   "version": "3.8.13"
  }
 },
 "nbformat": 4,
 "nbformat_minor": 5
}
