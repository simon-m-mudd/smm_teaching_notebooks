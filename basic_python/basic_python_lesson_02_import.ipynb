{
 "cells": [
  {
   "cell_type": "markdown",
   "id": "dd6a59cc",
   "metadata": {},
   "source": [
    "# Basic python lesson 02: Importing stuff"
   ]
  },
  {
   "cell_type": "markdown",
   "id": "54bcb237",
   "metadata": {},
   "source": [
    "Written by Simon M. Mudd with last update 21/01/2022"
   ]
  },
  {
   "cell_type": "markdown",
   "id": "49649758",
   "metadata": {},
   "source": [
    "## Importing useful stuff"
   ]
  },
  {
   "cell_type": "markdown",
   "id": "a81e487d",
   "metadata": {},
   "source": [
    "There are loads of people that write useful python code. They write their code and let other people use it in their code. One day you might even write some python code you let other people use. \n",
    "\n",
    "This useful code is usually distributed as \"packages\". To get a package you need to install it. But if you are just starting out someone has told you to work on your python code in a place where the most useful packages are already installed. You are almost certainly in one of those places now. \n",
    "\n",
    "But just installing some package doesn't make it available. You need to `import` it. "
   ]
  },
  {
   "cell_type": "markdown",
   "id": "c03a7917",
   "metadata": {},
   "source": [
    "### What sorts of useful stuff can I import?"
   ]
  },
  {
   "cell_type": "markdown",
   "id": "a0679702",
   "metadata": {},
   "source": [
    "If you are reading this tutorial you are vaguely going to use python for data science, broadly defined (as opposed to, say, web development, or making games). So any data scientist will use this stuff:\n",
    "\n",
    "* `numpy`: short for numerical python. Mathsy stuff in here. \n",
    "* `matplotlib`: for making plots\n",
    "* `scipy`: more mathsy stuff but more specific than `numpy`. Statistcs are in here. \n",
    "* `pandas`: reading and dealing with data. \n",
    "\n",
    "The above packages are really, really common. Everyone uses that stuff. And those packages are very stable, the installations almost never break and there is lots of documentation and tutorials. \n",
    "\n",
    "You might also be someone interested in geospatial data. This is a bit more niche than the packages listed above so I will leave that to a later lesson. "
   ]
  },
  {
   "cell_type": "markdown",
   "id": "8d683e63",
   "metadata": {},
   "source": [
    "### Show me how to import something!!"
   ]
  },
  {
   "cell_type": "markdown",
   "id": "74ec095c",
   "metadata": {},
   "source": [
    "You import a package by using the python command `import`. Like this:"
   ]
  },
  {
   "cell_type": "code",
   "execution_count": 4,
   "id": "ef3b3337",
   "metadata": {},
   "outputs": [
    {
     "data": {
      "text/plain": [
       "'1.21.2'"
      ]
     },
     "execution_count": 4,
     "metadata": {},
     "output_type": "execute_result"
    }
   ],
   "source": [
    "import numpy\n",
    "numpy.__version__"
   ]
  },
  {
   "cell_type": "markdown",
   "id": "d2f7e4a9",
   "metadata": {},
   "source": [
    "I imported `numpy` there and then I called `__version__` which you can use with pretty much any python package to tell you the version number. \n",
    "\n",
    "To use something in a package you use the name of the package followed by the `.` symbol. Here is another thing that you might do with numpy (note this only work if you have already `import`ed `numpy`\n"
   ]
  },
  {
   "cell_type": "code",
   "execution_count": 11,
   "id": "4077592e",
   "metadata": {},
   "outputs": [
    {
     "name": "stdout",
     "output_type": "stream",
     "text": [
      "Here is a numpy array;\n",
      "[0 1 2 3 4 5]\n",
      "Here is another one made a different way:\n",
      "[1.  1.4 1.8 2.2 2.6 3.  3.4 3.8 4.2 4.6 5. ]\n"
     ]
    }
   ],
   "source": [
    "a = numpy.arange(6)\n",
    "print(\"Here is a numpy array;\")\n",
    "print(a)\n",
    "b = numpy.linspace(1,5,11)\n",
    "print(\"Here is another one made a different way:\")\n",
    "print(b)"
   ]
  },
  {
   "cell_type": "markdown",
   "id": "fa92d955",
   "metadata": {},
   "source": [
    "#### Wait a minute. That looks like a list. Why did you call it an array?"
   ]
  },
  {
   "cell_type": "markdown",
   "id": "637ad9b9",
   "metadata": {},
   "source": [
    "`numpy` has its own version of a list called a numpy array. Without giving you too many details, a numpy array behaves much like a list but has some added features. You can convert a list to an array like this:"
   ]
  },
  {
   "cell_type": "code",
   "execution_count": 17,
   "id": "67500ff5",
   "metadata": {},
   "outputs": [
    {
     "name": "stdout",
     "output_type": "stream",
     "text": [
      "Type of a_list is:\n",
      "<class 'list'>\n",
      "Type of an_array is:\n",
      "<class 'numpy.ndarray'>\n"
     ]
    }
   ],
   "source": [
    "a_list = [1,2,3,4]\n",
    "an_array = numpy.asarray(a_list)\n",
    "print(\"Type of a_list is:\")\n",
    "print(type(a_list))\n",
    "print(\"Type of an_array is:\")\n",
    "print(type(an_array))"
   ]
  },
  {
   "cell_type": "markdown",
   "id": "39aae5f2",
   "metadata": {},
   "source": [
    "### Do I really have to type out `numpy` each time I want to do something with numpy?"
   ]
  },
  {
   "cell_type": "markdown",
   "id": "1300a5a8",
   "metadata": {},
   "source": [
    "It is a bit annoying to type out the full name of a package each time you want to use something in it.\n",
    "Luckily python lets you give packages short names (or long names, if you have some weird fetish) by usinging the `import as` syntax:"
   ]
  },
  {
   "cell_type": "code",
   "execution_count": 21,
   "id": "490d3e1e",
   "metadata": {},
   "outputs": [
    {
     "name": "stdout",
     "output_type": "stream",
     "text": [
      "Here is a numpy array;\n",
      "[0 1 2 3 4 5]\n"
     ]
    }
   ],
   "source": [
    "import numpy as np\n",
    "a = np.arange(6)\n",
    "print(\"Here is a numpy array;\")\n",
    "print(a)"
   ]
  },
  {
   "cell_type": "markdown",
   "id": "704d46b4",
   "metadata": {},
   "source": [
    "## Lets import matplotlib and make a plot"
   ]
  },
  {
   "cell_type": "code",
   "execution_count": 25,
   "id": "02bbc7c4",
   "metadata": {},
   "outputs": [
    {
     "data": {
      "image/png": "[encoded data removed]",
      "text/plain": [
       "<Figure size 432x288 with 1 Axes>"
      ]
     },
     "metadata": {
      "needs_background": "light"
     },
     "output_type": "display_data"
    }
   ],
   "source": [
    "import matplotlib.pyplot as plt\n",
    "import numpy as np\n",
    "\n",
    "# Data for plotting\n",
    "x = [1,2,3,4,5]\n",
    "y = [2,3,3.5,7,9]\n",
    "\n",
    "plt.plot(x,y)\n",
    "plt.xlabel(\"x\")\n",
    "plt.ylabel(\"y\")\n",
    "plt.title('About as simple as it gets, folks')\n",
    "ax.grid()\n",
    "plt.show()"
   ]
  },
  {
   "cell_type": "markdown",
   "id": "f8146f80",
   "metadata": {},
   "source": [
    "Or we could do a scatter plot:"
   ]
  },
  {
   "cell_type": "code",
   "execution_count": 37,
   "id": "68d68df5",
   "metadata": {},
   "outputs": [
    {
     "data": {
      "image/png": "[encoded data removed]",
      "text/plain": [
       "<Figure size 432x288 with 1 Axes>"
      ]
     },
     "metadata": {
      "needs_background": "light"
     },
     "output_type": "display_data"
    }
   ],
   "source": [
    "# Clear the plot with the clf() command\n",
    "plt.clf()\n",
    "\n",
    "plt.scatter(x,y)\n",
    "plt.xlabel(\"x\",fontsize=20)\n",
    "plt.ylabel(\"y\",fontsize=20)\n",
    "\n",
    "# I'm going to use a newline character (\\n) in the title\n",
    "plt.title('Scatter plots are usually\\nbetter with discrete data',fontsize=24)\n",
    "ax.grid()\n",
    "plt.show()"
   ]
  },
  {
   "cell_type": "markdown",
   "id": "4312d1ea",
   "metadata": {},
   "source": [
    "Okay, we have some very basic tools up our sleves. Lets move on to `pandas`."
   ]
  },
  {
   "cell_type": "code",
   "execution_count": null,
   "id": "9a5c681a",
   "metadata": {},
   "outputs": [],
   "source": []
  }
 ],
 "metadata": {
  "kernelspec": {
   "display_name": "Python 3 (ipykernel)",
   "language": "python",
   "name": "python3"
  },
  "language_info": {
   "codemirror_mode": {
    "name": "ipython",
    "version": 3
   },
   "file_extension": ".py",
   "mimetype": "text/x-python",
   "name": "python",
   "nbconvert_exporter": "python",
   "pygments_lexer": "ipython3",
   "version": "3.8.10"
  }
 },
 "nbformat": 4,
 "nbformat_minor": 5
}
