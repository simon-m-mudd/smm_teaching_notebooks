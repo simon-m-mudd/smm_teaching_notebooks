{
 "cells": [
  {
   "cell_type": "markdown",
   "id": "ea25de4a",
   "metadata": {},
   "source": [
    "# Working with hillslope profiles"
   ]
  },
  {
   "cell_type": "markdown",
   "id": "7f6b237c",
   "metadata": {},
   "source": [
    "Written by Simon M. Mudd, last update 08/11/2022"
   ]
  },
  {
   "cell_type": "markdown",
   "id": "617822d8",
   "metadata": {},
   "source": [
    "In this notebook we will use a little python package called `hillslopetoy` that was written by Simon. \n",
    "This has some functionality for importing profiles, fitting them to mesured topography, and running some scenarios of hillslope evolution. "
   ]
  },
  {
   "cell_type": "markdown",
   "id": "99181c83",
   "metadata": {},
   "source": [
    "## Get the package"
   ]
  },
  {
   "cell_type": "markdown",
   "id": "a0161186",
   "metadata": {},
   "source": [
    "First we need to make sure the `hillslopetoy` package is installed:"
   ]
  },
  {
   "cell_type": "code",
   "execution_count": null,
   "id": "dd09cc86",
   "metadata": {},
   "outputs": [],
   "source": [
    "!pip install hillslopetoy"
   ]
  },
  {
   "cell_type": "markdown",
   "id": "4f813b1f",
   "metadata": {},
   "source": [
    "Now import the `hillslopetoy`, along with `matplotlib` to see the outputs.  "
   ]
  },
  {
   "cell_type": "code",
   "execution_count": null,
   "id": "dab78d73",
   "metadata": {},
   "outputs": [],
   "source": [
    "import hillslopetoy as ht\n",
    "import matplotlib.pyplot as plt\n",
    "import numpy as np"
   ]
  },
  {
   "cell_type": "markdown",
   "id": "6c17ba0f",
   "metadata": {},
   "source": [
    "## Steady state solutions"
   ]
  },
  {
   "cell_type": "markdown",
   "id": "8ab8a2f9",
   "metadata": {},
   "source": [
    "First, we will set some steady state solutions, and see what they look like. \n",
    "We can first compare some linear and nonlinear hillslope profiles, we start by setting the x locations where the divide is at `x = 0`"
   ]
  },
  {
   "cell_type": "code",
   "execution_count": null,
   "id": "8c058fb5",
   "metadata": {},
   "outputs": [],
   "source": [
    "x = ht.set_profile_locations_half_length(half_length = 20,spacing = 1)\n",
    "\n",
    "z1 = ht.ss_nonlinear_elevation(x,C_0=0.0004,D=0.01)\n",
    "z1 = ht.set_channel_to_zero(z1)\n",
    "\n",
    "z2 = ht.ss_linear_elevation(x,C_0=0.0004,D=0.01)\n",
    "z2 = ht.set_channel_to_zero(z2)"
   ]
  },
  {
   "cell_type": "code",
   "execution_count": null,
   "id": "89f9d50d",
   "metadata": {
    "scrolled": true
   },
   "outputs": [],
   "source": [
    "plt.clf()\n",
    "f, (ax1) = plt.subplots(1, 1)\n",
    "ax1.plot(x, z1, label=\"steady nonlinear\",alpha = 0.8,color=\"r\")\n",
    "ax1.plot(x, z2, label=\"steady linear\",alpha = 0.8,color=\"g\")\n",
    "\n",
    "# These are just the labels for the figure\n",
    "ax1.set_xlabel(\"Distance from divide (m)\",fontsize=24)\n",
    "ax1.set_ylabel(\"Elevation (m)\",fontsize=20)\n",
    "\n",
    "for tick in ax1.xaxis.get_major_ticks():\n",
    "    tick.label1.set_fontsize(14)\n",
    "for tick in ax1.yaxis.get_major_ticks():\n",
    "    tick.label1.set_fontsize(14)    \n",
    "\n",
    "plt.legend(fontsize = 14)\n",
    "plt.tight_layout()"
   ]
  },
  {
   "cell_type": "markdown",
   "id": "f4a5ab11",
   "metadata": {},
   "source": [
    "Now lets try this with arbitrary x spacing"
   ]
  },
  {
   "cell_type": "code",
   "execution_count": null,
   "id": "9ca21854",
   "metadata": {},
   "outputs": [],
   "source": [
    "x2 = [-20,-17,-12,-11,-9.5,-7,-3,-2,-0.7,1.1,2.5,6,12,17,18.5,20]\n",
    "x2 = np.asarray(x2)\n",
    "print(x2)\n",
    "\n",
    "z3 = ht.ss_nonlinear_elevation(x2,C_0=0.0004,D=0.01)\n",
    "z3 = ht.set_channel_to_zero(z3)\n",
    "\n",
    "z4 = ht.ss_linear_elevation(x2,C_0=0.0004,D=0.01)\n",
    "z4 = ht.set_channel_to_zero(z4)"
   ]
  },
  {
   "cell_type": "code",
   "execution_count": null,
   "id": "a7abd1b2",
   "metadata": {},
   "outputs": [],
   "source": [
    "plt.clf()\n",
    "f, (ax1) = plt.subplots(1, 1)\n",
    "ax1.plot(x, z1, label=\"steady nonlinear\",alpha = 0.8,color=\"r\")\n",
    "ax1.plot(x, z2, label=\"steady linear\",alpha = 0.8,color=\"g\")\n",
    "\n",
    "ax1.scatter(x2, z3, label=\"steady nonlinear\",alpha = 0.8,color=\"b\")\n",
    "ax1.scatter(x2, z4, label=\"steady linear\",alpha = 0.8,color=\"k\")\n",
    "\n",
    "# These are just the labels for the figure\n",
    "ax1.set_xlabel(\"Distance from divide (m)\",fontsize=24)\n",
    "ax1.set_ylabel(\"Elevation (m)\",fontsize=20)\n",
    "\n",
    "for tick in ax1.xaxis.get_major_ticks():\n",
    "    tick.label1.set_fontsize(14)\n",
    "for tick in ax1.yaxis.get_major_ticks():\n",
    "    tick.label1.set_fontsize(14)    \n",
    "\n",
    "plt.legend(fontsize = 14)\n",
    "plt.tight_layout()"
   ]
  },
  {
   "cell_type": "markdown",
   "id": "7c8bac40",
   "metadata": {},
   "source": [
    "## Getting a profile from QGIS"
   ]
  },
  {
   "cell_type": "markdown",
   "id": "ca22bc60",
   "metadata": {},
   "source": [
    "In one of the class practials we showed how to extract a profile using QGIS.\n",
    "We are going to use this to extract a profile for the `hillslopetoy`. \n",
    "\n",
    "Here are the steps\n",
    "\n",
    "1. Open the topographic dataset (for the class this is `el_study.bil`)\n",
    "2. Make a contour map (Raster -> Extraction -> Contour). he purpose of the contour map is to help you choose a transect. The `hillslopetoy` assumes that you have a 1D hillslope*. This means that you should select transects where the contour lines do not spread apart too much.\n",
    "3. Use the profile tool to make a transect from the hilltop to the channel. You want to draw a transect that is perpendicular to the contour lines in a place where the contour lines are roughly parallel to each other. **Make sure you start the transect at the divide and not the river** (since the `hillslopetoy` assumes the divide is at `x=0`).\n",
    "4. Then click on table, and copy to clipboard with coordinates. \n",
    "5. Paste this into excel. \n",
    "6. Add the headers: x, easting, northing, elevation\n",
    "7. Save to csv. Call it something sensible. \n",
    "8. I have added an example file for the use with this notebook. \n",
    "\n",
    "\n",
    "\n",
    "*(the one dimension is distance, or `x`, the elevation is a dependant variable, that is `z` depends on `x`, so it isn't counted as a second dimension). "
   ]
  },
  {
   "cell_type": "markdown",
   "id": "03cc2b4e",
   "metadata": {},
   "source": [
    "## Load the transect"
   ]
  },
  {
   "cell_type": "markdown",
   "id": "bbb77953",
   "metadata": {},
   "source": [
    "Okay, lets load the transect. This one is included in this teaching notebook but you can extract your own transect using the method described above. We are going to use `pandas` to look at the data so we have to import that before we get the data.  "
   ]
  },
  {
   "cell_type": "code",
   "execution_count": null,
   "id": "37766712",
   "metadata": {},
   "outputs": [],
   "source": [
    "import pandas as pd"
   ]
  },
  {
   "cell_type": "code",
   "execution_count": null,
   "id": "41c91bb4",
   "metadata": {},
   "outputs": [],
   "source": [
    "# Read some csv data into a pandas dataframe. \n",
    "transect_df = pd.read_csv(\"el_transect.csv\")\n",
    "transect_df.head()"
   ]
  },
  {
   "cell_type": "markdown",
   "id": "b87def00",
   "metadata": {},
   "source": [
    "Lets have a look at what the data look like:"
   ]
  },
  {
   "cell_type": "code",
   "execution_count": null,
   "id": "2f82b819",
   "metadata": {
    "scrolled": true
   },
   "outputs": [],
   "source": [
    "fig = plt.figure()\n",
    "ax = fig.add_subplot(1, 1,1)\n",
    "\n",
    "plt.scatter(transect_df.x,transect_df.elevation)\n",
    "plt.tight_layout()"
   ]
  },
  {
   "cell_type": "markdown",
   "id": "adef4607",
   "metadata": {},
   "source": [
    "## Fitting the transect the stupid way"
   ]
  },
  {
   "cell_type": "markdown",
   "id": "4aa97377",
   "metadata": {},
   "source": [
    "Okay, we are going to try to constrain the parameters that create a steady state landscape here. \n",
    "\n",
    "There are a few ways to do this, but I am going to use a fancy way of using something called the `optimize` functions in python, that are used for fitting models. In this case you have data (the transect), the \"model\" (the `hillslopetoy`) and the parameters you want to fit (the sediment transport coefficient, `D`, and a second parameter that controls the absolute elevation of the transect, `c`). \n",
    "\n",
    "Lets try it with the whole transect first:"
   ]
  },
  {
   "cell_type": "code",
   "execution_count": null,
   "id": "9f895045",
   "metadata": {},
   "outputs": [],
   "source": [
    "Erosion_rate = 0.0001\n",
    "\n",
    "# We need to guess the parameters. For c you can use the elevation of the channel\n",
    "D_guess = 0.01\n",
    "c_guess = 260\n",
    "\n",
    "x = transect_df.x\n",
    "y = transect_df.elevation"
   ]
  },
  {
   "cell_type": "code",
   "execution_count": null,
   "id": "b06b8f56",
   "metadata": {},
   "outputs": [],
   "source": [
    "from scipy.optimize import least_squares\n",
    "\n",
    "def model(u,x,C_0):\n",
    "    z = ht.ss_nonlinear_elevation(x,C_0=C_0,D=u[0],c=u[1])\n",
    "    return z\n",
    "\n",
    "def fun(u,x,C_0,y):\n",
    "    return model(u,x,C_0) - y\n",
    "\n",
    "u0 = np.array([D_guess,c_guess])\n",
    "res = least_squares(fun, u0, args=(x, Erosion_rate, y), verbose=1)\n",
    "\n",
    "x_test = np.linspace(0, 450)\n",
    "y_test = model(res.x, x_test, C_0)\n",
    "\n",
    "plt.plot(x, y, 'o', markersize=4, label='data')\n",
    "plt.plot(x_test, y_test, label='fitted model')\n",
    "plt.xlabel(\"x\")\n",
    "plt.ylabel(\"y\")\n",
    "plt.legend(loc='lower right')\n",
    "plt.show()"
   ]
  },
  {
   "cell_type": "markdown",
   "id": "c5ec56bb",
   "metadata": {},
   "source": [
    "## A more clever fit"
   ]
  },
  {
   "cell_type": "markdown",
   "id": "f50808fa",
   "metadata": {},
   "source": [
    "Wait a minute. The bottom of the transect is super steep and we think this might indicate transience. So we probably only want to fit the upper part of the transect. Lets remove the tow of this slope. The steep bit starts at around x = 380 m so we can use pandas to remove anything greater than that. "
   ]
  },
  {
   "cell_type": "code",
   "execution_count": null,
   "id": "ac27d8c8",
   "metadata": {},
   "outputs": [],
   "source": [
    "short_transect_df = transect_df.drop(transect_df[transect_df.x>380].index)\n",
    "\n",
    "print(short_transect_df.x)"
   ]
  },
  {
   "cell_type": "code",
   "execution_count": null,
   "id": "e1a3f846",
   "metadata": {},
   "outputs": [],
   "source": [
    "# We need to guess the parameters. For c you can use the elevation of the channel\n",
    "D_guess = 0.01\n",
    "c_guess = 260\n",
    "\n",
    "x = short_transect_df.x\n",
    "y = short_transect_df.elevation\n",
    "\n",
    "u0 = np.array([D_guess,c_guess])\n",
    "res = least_squares(fun, u0, args=(x, Erosion_rate, y), verbose=1)\n",
    "\n",
    "x_test = np.linspace(0, 380)\n",
    "y_test = model(res.x, x_test, C_0)\n",
    "\n",
    "plt.plot(x, y, 'o', markersize=4, label='data')\n",
    "plt.plot(x_test, y_test, label='fitted model')\n",
    "plt.xlabel(\"x\")\n",
    "plt.ylabel(\"y\")\n",
    "plt.legend(loc='lower right')\n",
    "plt.show()"
   ]
  },
  {
   "cell_type": "code",
   "execution_count": null,
   "id": "08d4b5cb",
   "metadata": {},
   "outputs": [],
   "source": []
  },
  {
   "cell_type": "code",
   "execution_count": null,
   "id": "71c5d4e4",
   "metadata": {},
   "outputs": [],
   "source": []
  },
  {
   "cell_type": "code",
   "execution_count": null,
   "id": "049f8de6",
   "metadata": {},
   "outputs": [],
   "source": [
    "y"
   ]
  },
  {
   "cell_type": "code",
   "execution_count": null,
   "id": "31cf53ce",
   "metadata": {},
   "outputs": [],
   "source": [
    "model(x, u)"
   ]
  },
  {
   "cell_type": "code",
   "execution_count": null,
   "id": "a0177aa9",
   "metadata": {},
   "outputs": [],
   "source": [
    "x"
   ]
  },
  {
   "cell_type": "code",
   "execution_count": null,
   "id": "6ebed6b2",
   "metadata": {},
   "outputs": [],
   "source": [
    "res = least_squares(fun, x0, bounds=(0, 100), args=(u, y), verbose=1)"
   ]
  },
  {
   "cell_type": "code",
   "execution_count": null,
   "id": "1de6d38f",
   "metadata": {},
   "outputs": [],
   "source": []
  }
 ],
 "metadata": {
  "kernelspec": {
   "display_name": "Python 3 (ipykernel)",
   "language": "python",
   "name": "python3"
  },
  "language_info": {
   "codemirror_mode": {
    "name": "ipython",
    "version": 3
   },
   "file_extension": ".py",
   "mimetype": "text/x-python",
   "name": "python",
   "nbconvert_exporter": "python",
   "pygments_lexer": "ipython3",
   "version": "3.8.13"
  }
 },
 "nbformat": 4,
 "nbformat_minor": 5
}
