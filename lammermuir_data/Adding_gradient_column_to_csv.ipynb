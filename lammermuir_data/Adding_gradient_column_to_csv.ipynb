{
 "cells": [
  {
   "cell_type": "markdown",
   "id": "f23b7cfb",
   "metadata": {},
   "source": [
    "# Adding a column for channel gradient "
   ]
  },
  {
   "cell_type": "code",
   "execution_count": null,
   "id": "03ba8101",
   "metadata": {},
   "outputs": [],
   "source": [
    "import pandas as pd\n",
    "import geopandas as gpd\n",
    "import cartopy as cp\n",
    "import cartopy.crs as ccrs\n",
    "import rasterio as rio\n",
    "import matplotlib.pyplot as plt\n",
    "import numpy as np"
   ]
  },
  {
   "cell_type": "code",
   "execution_count": null,
   "id": "3e112841",
   "metadata": {},
   "outputs": [],
   "source": [
    "df = pd.read_csv(\"el_study_chi_data_map.csv\")\n",
    "gdf = gpd.GeoDataFrame(\n",
    "    df, geometry=gpd.points_from_xy(df.longitude, df.latitude))\n",
    "\n",
    "# We have to tell the geopandas data what geographic system we are in by using something called an EPSG code. \n",
    "# All major geographic projection and transformation system have this code. \n",
    "gdf.crs = \"EPSG:4326\" \n",
    "\n",
    "# The head command shows you what is in the file.\n",
    "gdf.head()"
   ]
  },
  {
   "cell_type": "markdown",
   "id": "df58cff4",
   "metadata": {},
   "source": [
    "## Making new data columns: slope and smoothed slope"
   ]
  },
  {
   "cell_type": "markdown",
   "id": "f244c4d0",
   "metadata": {},
   "source": [
    "Okay, we have flow distance and elevation in this file, but we also want to look at the slope of the channel. To get the slope, we need to calculate the change in elevation over the change in flow distance. The mathematical operation for this is called the gradient (or, if you want to use the notation of derivatives it is `dz/dx`).\n",
    "\n",
    "The python package `numpy` has a built in function for calculating the gradient (`np.gradient`), which we use below to get the slope along the channel."
   ]
  },
  {
   "cell_type": "code",
   "execution_count": null,
   "id": "9745afb9",
   "metadata": {},
   "outputs": [],
   "source": [
    "z = gdf.elevation\n",
    "x = gdf.flow_distance\n",
    "S = np.gradient(np.asarray(z),np.asarray(x))\n",
    "gdf[\"slope\"] = S\n",
    "gdf.head()"
   ]
  },
  {
   "cell_type": "markdown",
   "id": "70f82930",
   "metadata": {},
   "source": [
    "In this notebook, I want to isolate one of the basins. `pandas` has lots of easy ways to isolate data.\n",
    "\n",
    "In line 2 below, you use this syntax to isolate data in your data set. The `basin_key` is one of the data columns in the dataset (you can always see the data columns by using the `.head()` command on your dataset. "
   ]
  },
  {
   "cell_type": "code",
   "execution_count": null,
   "id": "a55942c3",
   "metadata": {},
   "outputs": [],
   "source": [
    "# First lets isolate just one of these basins. The Killmade Burn is basin 4\n",
    "gdf_b1 = gdf[(gdf['basin_key'] == 4)]\n",
    "gdf_b1.head()"
   ]
  },
  {
   "cell_type": "markdown",
   "id": "9850fefe",
   "metadata": {},
   "source": [
    "Okay, now lets plot the channel profile and the channel slope. \n",
    "\n",
    "Much of the code below is for plotting, but there are some key lines (lines 7-8):\n",
    "\n",
    "    # The main stem channel is the one with the minimum source key in this basin\n",
    "    min_source = np.amin(gdf_b1.source_key)\n",
    "    gdf_b2 = gdf_b1[(gdf_b1['source_key'] == min_source)]\n",
    "    \n",
    "In thse three lines, we are isolating a `source_key` which is a single channel in the DEM. The basin has lots of channels, but we only want one. The minimm source key in a basin is the longest channel in this dataset. "
   ]
  },
  {
   "cell_type": "code",
   "execution_count": null,
   "id": "855d9979",
   "metadata": {},
   "outputs": [],
   "source": [
    "plt.rcParams['figure.figsize'] = [10, 10]\n",
    "\n",
    "# First lets isolate just one of these basins. There is only basin 0 and 1\n",
    "gdf_b1 = gdf[(gdf['basin_key'] == 4)]\n",
    "\n",
    "# The main stem channel is the one with the minimum source key in this basin\n",
    "min_source = np.amin(gdf_b1.source_key)\n",
    "gdf_b2 = gdf_b1[(gdf_b1['source_key'] == min_source)]\n",
    "#gdf_b2 = gdf_b1\n",
    "\n",
    "# Now make channel profile plots\n",
    "z = gdf_b2.elevation\n",
    "x_locs = gdf_b2.flow_distance\n",
    "S = gdf_b2.slope\n",
    "\n",
    "# Create two subplots and unpack the output array immediately\n",
    "plt.clf()\n",
    "f, (ax1, ax2) = plt.subplots(2, 1)\n",
    "ax1.scatter(x_locs, z,s = 0.2)\n",
    "ax2.scatter(x_locs, S,s = 1)\n",
    "\n",
    "\n",
    "ax1.set_xlabel(\"Distance from outlet ($m$)\")\n",
    "ax1.set_ylabel(\"elevation (m)\")\n",
    "\n",
    "ax2.set_xlabel(\"Distance from outlet ($m$)\")\n",
    "ax2.set_ylabel(\"Slope (m/m)\")\n",
    "\n",
    "plt.tight_layout()"
   ]
  },
  {
   "cell_type": "markdown",
   "id": "a45226ac",
   "metadata": {},
   "source": [
    "This slope (bottom figure) is very noisy. One way to deal with this is to smooth the data. We can smooth the data by running a mobing window over it and doing some averaging inside the window. \n",
    "\n",
    "Python has lots of tools for this. In this case I use a `rolling` window and I have picked various settings. You don't need to worry about this too much, the only number that you might wanty to play with is the first number after `rolling` which is the number of datapoints in the window. The bigger this number, the more smoothed the data becomes. "
   ]
  },
  {
   "cell_type": "code",
   "execution_count": null,
   "id": "2a2ea380",
   "metadata": {},
   "outputs": [],
   "source": [
    "gdf['slope_rolling'] = gdf.slope.rolling(40,win_type='hamming').mean()\n",
    "gdf.head()"
   ]
  },
  {
   "cell_type": "markdown",
   "id": "db991b78",
   "metadata": {},
   "source": [
    "This plot will show the slope and the rolling slope, so you can see how the rolling window smooths the data. "
   ]
  },
  {
   "cell_type": "code",
   "execution_count": null,
   "id": "51c76232",
   "metadata": {},
   "outputs": [],
   "source": [
    "plt.rcParams['figure.figsize'] = [10, 10]\n",
    "\n",
    "# First lets isolate just one of these basins. There is only basin 0 and 1\n",
    "gdf_b1 = gdf[(gdf['basin_key'] == 4)]\n",
    "\n",
    "# The main stem channel is the one with the minimum source key in this basin\n",
    "min_source = np.amin(gdf_b1.source_key)\n",
    "gdf_b2 = gdf_b1[(gdf_b1['source_key'] == min_source)]\n",
    "#gdf_b2 = gdf_b1\n",
    "\n",
    "# Now make channel profile plots\n",
    "# To get a single data column from a pandas dataframe (in this case called gdf_b2) you just put\n",
    "# a full stop and then the name of the column\n",
    "# If your column has spaces or funny characters in the name you need to use the square brackets like this:\n",
    "# z = gdf_b2[\"elevation\"]\n",
    "# Which is an alternative way of isolating data\n",
    "z = gdf_b2.elevation\n",
    "x_locs = gdf_b2.flow_distance\n",
    "S = gdf_b2.slope\n",
    "SR = gdf_b2.slope_rolling\n",
    "\n",
    "# Create two subplots and unpack the output array immediately\n",
    "plt.clf()\n",
    "f, (ax1, ax2) = plt.subplots(2, 1)\n",
    "ax1.scatter(x_locs, S,s = 1)\n",
    "ax2.scatter(x_locs, SR,s = 1)\n",
    "\n",
    "\n",
    "ax1.set_xlabel(\"Distance from outlet ($m$)\")\n",
    "ax1.set_ylabel(\"Slope (m/m)\")\n",
    "\n",
    "ax2.set_xlabel(\"Distance from outlet ($m$)\")\n",
    "ax2.set_ylabel(\"Rolling Slope (m/m)\")\n",
    "\n",
    "plt.tight_layout()"
   ]
  },
  {
   "cell_type": "markdown",
   "id": "88c549d4",
   "metadata": {},
   "source": [
    "## Looking at the gradient and where the high gradient channels are along the channel profile"
   ]
  },
  {
   "cell_type": "markdown",
   "id": "33b715d1",
   "metadata": {},
   "source": [
    "Okay, the rolling slope allows us to see some spikes in the gradient. Can we see this in the right places along the channel profile?"
   ]
  },
  {
   "cell_type": "code",
   "execution_count": null,
   "id": "ec90676a",
   "metadata": {},
   "outputs": [],
   "source": [
    "plt.rcParams['figure.figsize'] = [10, 5]\n",
    "\n",
    "# First lets isolate just one of these basins. There is only basin 0 and 1\n",
    "gdf_b1 = gdf[(gdf['basin_key'] == 4)]\n",
    "\n",
    "# The main stem channel is the one with the minimum source key in this basin\n",
    "# If you want to play with this a bit you can change the source number to look at different channels\n",
    "min_source = np.amin(gdf_b1.source_key)\n",
    "gdf_b2 = gdf_b1[(gdf_b1['source_key'] == min_source)]\n",
    "#gdf_b2 = gdf_b1\n",
    "\n",
    "# Now make channel profile plots\n",
    "z = gdf_b2.elevation\n",
    "x_locs = gdf_b2.flow_distance\n",
    "S = gdf_b2.slope\n",
    "SR = gdf_b2.slope_rolling\n",
    "\n",
    "# Create two subplots and unpack the output array immediately\n",
    "plt.clf()\n",
    "f, (ax1) = plt.subplots(1, 1)\n",
    "ax2 = ax1.twinx()  # instantiate a second axes that shares the same x-axis\n",
    "\n",
    "# Make the scatter plots\n",
    "ax1.scatter(x_locs, z,s = 1, label='Longitudinal profile')\n",
    "ax2.scatter(x_locs, SR,s = 1,c=\"r\", label='Channel slope')\n",
    "\n",
    "# Some code to make sure the legend renders on the same axis\n",
    "lines, labels = ax1.get_legend_handles_labels()\n",
    "lines2, labels2 = ax2.get_legend_handles_labels()\n",
    "ax2.legend(lines + lines2, labels + labels2, loc=0)\n",
    "\n",
    "\n",
    "ax1.set_xlabel(\"Distance from outlet ($m$)\")\n",
    "ax1.set_ylabel(\"Elevation (m)\")\n",
    "\n",
    "ax2.set_xlabel(\"Distance from outlet ($m$)\")\n",
    "ax2.set_ylabel(\"Rolling Slope (m/m)\")\n",
    "\n",
    "plt.tight_layout()"
   ]
  },
  {
   "cell_type": "markdown",
   "id": "7e88c90a",
   "metadata": {},
   "source": [
    "## Saving the channel gradients to csv"
   ]
  },
  {
   "cell_type": "markdown",
   "id": "3555fc36",
   "metadata": {},
   "source": [
    "I am afraid it is a little bit complicated to save the smoothed channel gradients to csv. \n",
    "\n",
    "Why? Becasue there are jumps in the flow distance at the tributary junctions. \n",
    "\n",
    "So to get the channel gradients we need to loop through each source key and get the gradients one by one. "
   ]
  },
  {
   "cell_type": "code",
   "execution_count": null,
   "id": "b5e0d5c5",
   "metadata": {},
   "outputs": [],
   "source": [
    "# Isolate the Killmade Burn\n",
    "gdf_b1 = gdf[(gdf['basin_key'] == 4)]\n",
    "\n",
    "# Now print to csv\n",
    "gdf_b1.to_csv(\"killmade_channel_with_gradient.csv\")"
   ]
  },
  {
   "cell_type": "code",
   "execution_count": null,
   "id": "a055b64b",
   "metadata": {},
   "outputs": [],
   "source": []
  }
 ],
 "metadata": {
  "kernelspec": {
   "display_name": "Python 3 (ipykernel)",
   "language": "python",
   "name": "python3"
  },
  "language_info": {
   "codemirror_mode": {
    "name": "ipython",
    "version": 3
   },
   "file_extension": ".py",
   "mimetype": "text/x-python",
   "name": "python",
   "nbconvert_exporter": "python",
   "pygments_lexer": "ipython3",
   "version": "3.8.10"
  }
 },
 "nbformat": 4,
 "nbformat_minor": 5
}
