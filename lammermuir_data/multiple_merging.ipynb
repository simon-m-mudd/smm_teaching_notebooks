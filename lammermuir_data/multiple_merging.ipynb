{
 "cells": [
  {
   "cell_type": "markdown",
   "id": "2f3a1b4e-4002-49ba-b860-a396a962a08b",
   "metadata": {},
   "source": [
    "# Combining multiple point datasets"
   ]
  },
  {
   "cell_type": "markdown",
   "id": "557fb936-bd8b-405a-881b-db1bb48ac9ef",
   "metadata": {},
   "source": [
    "We are going to assume you have:\n",
    "* A file with the channel nodes and gradients. This file will be called `killmande_channel_with_gradients.csv`\n",
    "* A file with channel widths using British National Grid Coordinates\n",
    "* A file with D50 information, again using British National Grid Coordiantes\n",
    "\n",
    "Out main data is the D50, so we want to progressively add to that particular dataset"
   ]
  },
  {
   "cell_type": "code",
   "execution_count": null,
   "id": "650efcf6-0966-4da0-9fc7-81d7af7101bd",
   "metadata": {},
   "outputs": [],
   "source": []
  }
 ],
 "metadata": {
  "kernelspec": {
   "display_name": "Python 3 (ipykernel)",
   "language": "python",
   "name": "python3"
  },
  "language_info": {
   "codemirror_mode": {
    "name": "ipython",
    "version": 3
   },
   "file_extension": ".py",
   "mimetype": "text/x-python",
   "name": "python",
   "nbconvert_exporter": "python",
   "pygments_lexer": "ipython3",
   "version": "3.11.9"
  }
 },
 "nbformat": 4,
 "nbformat_minor": 5
}
