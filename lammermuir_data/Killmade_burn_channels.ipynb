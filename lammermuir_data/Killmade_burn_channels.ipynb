{
 "cells": [
  {
   "cell_type": "markdown",
   "metadata": {},
   "source": [
    "# Looking at channel profiles in the Killmade Burn"
   ]
  },
  {
   "cell_type": "markdown",
   "metadata": {},
   "source": [
    "*This lesson has been written by Simon M. Mudd at the University of Edinburgh*\n",
    "\n",
    "*Last update 10/11/2021*"
   ]
  },
  {
   "cell_type": "markdown",
   "metadata": {},
   "source": [
    "This notebook looks at some data from the Killmade Burn, a tributary to the Whiteadder Water, a small catchment in the Scottish Borders.\n",
    "\n",
    "This is a study catchment for our course *Eroding Landscapes*. "
   ]
  },
  {
   "cell_type": "markdown",
   "metadata": {},
   "source": [
    "## Load the data"
   ]
  },
  {
   "cell_type": "markdown",
   "metadata": {},
   "source": [
    "We are going to load the data using `geopandas`. \n",
    "`pandas` is a python packages for dealing with various datasets, and it is very good at handling csv data. `geopandas` builds on `pandas` so that spatial information is recognised by package. Before we do anything with the data we need to `import` these two python packages. "
   ]
  },
  {
   "cell_type": "code",
   "execution_count": null,
   "metadata": {},
   "outputs": [],
   "source": [
    "import pandas as pd\n",
    "import geopandas as gpd"
   ]
  },
  {
   "cell_type": "markdown",
   "metadata": {},
   "source": [
    "Data that goes into `pandas` is called a *dataframe*. The dataframe holds the data but also the data column names.\n",
    "To get a `geopandas` dataframe we first load a csv file into a `pandas` dataframe. I'll use the `head` command to show you what the first few rows of data look like:"
   ]
  },
  {
   "cell_type": "code",
   "execution_count": null,
   "metadata": {},
   "outputs": [],
   "source": [
    "# Read some csv data into a pandas dataframe. \n",
    "df = pd.read_csv(\"el_study_chi_data_map.csv\")\n",
    "df.head()"
   ]
  },
  {
   "cell_type": "markdown",
   "metadata": {},
   "source": [
    "Now we read this into a `geopandas` dataframe.\n",
    "`geopandas` is very similar to `pandas` execpt that it knows where in space the data is. That is, each row of your dataframe has some \"geometry\" information. \n",
    "\n",
    "You need to tell `geopandas` which columns from your pandas dataframe hold the x and y locations. \n",
    "In this example the x and y locations are longitude and latitude. \n",
    "\n",
    "You do this with the function `.points_from_xy` and the way you tell `geopandas` to use the correct columns is like this:\n",
    "`gpd.points_from_xy(df.longitude, df.latitude))`. \n",
    "\n",
    "See the code below for the full example:"
   ]
  },
  {
   "cell_type": "code",
   "execution_count": null,
   "metadata": {},
   "outputs": [],
   "source": [
    "# Create a geopandas dataframe by telling it where the x and y columns are in the pandas dataframe\n",
    "gdf = gpd.GeoDataFrame(\n",
    "    df, geometry=gpd.points_from_xy(df.longitude, df.latitude))\n",
    "gdf.head()"
   ]
  },
  {
   "cell_type": "markdown",
   "metadata": {},
   "source": [
    "It is really easy to get data out of `pandas` and `geopandas` dataframes. Observe:"
   ]
  },
  {
   "cell_type": "code",
   "execution_count": null,
   "metadata": {},
   "outputs": [],
   "source": [
    "# You can get data using \n",
    "# both the name of the column after a full stop \n",
    "# or the column in quotes within brackets\n",
    "print(gdf.flow_distance)\n",
    "print(gdf[\"flow_distance\"])"
   ]
  },
  {
   "cell_type": "markdown",
   "metadata": {},
   "source": [
    "## Plot some points"
   ]
  },
  {
   "cell_type": "markdown",
   "metadata": {},
   "source": [
    "`geopandas` has some basic plotting routines. Lets plot these points:"
   ]
  },
  {
   "cell_type": "code",
   "execution_count": null,
   "metadata": {},
   "outputs": [],
   "source": [
    "gdf.plot(marker='o', color=\"k\", markersize=5);"
   ]
  },
  {
   "cell_type": "markdown",
   "metadata": {},
   "source": [
    "Lets add some styling to this plot. I need to `import matplotlib` for this first."
   ]
  },
  {
   "cell_type": "code",
   "execution_count": null,
   "metadata": {},
   "outputs": [],
   "source": [
    "import matplotlib.pyplot as plt\n",
    "gdf.plot(marker='o', color=\"k\", markersize=5);\n",
    "plt.xlabel(\"longitude\")\n",
    "plt.ylabel(\"latitude\")"
   ]
  },
  {
   "cell_type": "markdown",
   "metadata": {},
   "source": [
    "Those funny channels to the right are in the lake. We are only interested in the channels to the right. \n",
    "They actually have a different `basin_key` than the channels to the left. We can plot the basin numbers:"
   ]
  },
  {
   "cell_type": "code",
   "execution_count": null,
   "metadata": {},
   "outputs": [],
   "source": [
    "gdf.plot(marker='o', c=gdf.basin_key, markersize=5)\n",
    "plt.xlabel(\"longitude\")\n",
    "plt.ylabel(\"latitude\")"
   ]
  },
  {
   "cell_type": "markdown",
   "metadata": {},
   "source": [
    "If you want to select only one basin, you can make a new dataframe. \n",
    "In the below example I have selected `basin_key == 4` which happens to be the Killmade Burn, our study site. "
   ]
  },
  {
   "cell_type": "code",
   "execution_count": null,
   "metadata": {},
   "outputs": [],
   "source": [
    "gdf_b0 = gdf[(gdf['basin_key'] == 4)]\n",
    "gdf_b0.plot(marker='o', c=gdf_b0.source_key, markersize=5)\n",
    "plt.xlabel(\"longitude\")\n",
    "plt.ylabel(\"latitude\")"
   ]
  },
  {
   "cell_type": "markdown",
   "metadata": {},
   "source": [
    "## Plot some profiles"
   ]
  },
  {
   "cell_type": "markdown",
   "metadata": {},
   "source": [
    "Killmade Burn is basin 4. Basin 0 is also interesting (it is the on on the opposite side of the valley). \n",
    "We can plot these valleys by selecting the correct data:"
   ]
  },
  {
   "cell_type": "code",
   "execution_count": null,
   "metadata": {},
   "outputs": [],
   "source": [
    "basin_0 = 0\n",
    "gdf_b0 = gdf[(gdf['basin_key'] == basin_0)]\n",
    "\n",
    "fig = plt.figure()\n",
    "ax = fig.add_subplot(1, 1,1)\n",
    "\n",
    "plt.scatter(gdf_b0.chi,gdf_b0.elevation,c=gdf_b0.flow_distance)\n",
    "plt.xlabel(r\"$\\chi$ (m)\")\n",
    "plt.ylabel(\"elevation (m)\")\n",
    "ax.text(0.1,0.9,\"Basin \"+str(basin_0),transform=ax.transAxes)\n",
    "fig.show()\n"
   ]
  },
  {
   "cell_type": "markdown",
   "metadata": {},
   "source": [
    "We could add a second basin:"
   ]
  },
  {
   "cell_type": "code",
   "execution_count": null,
   "metadata": {},
   "outputs": [],
   "source": [
    "import numpy as np\n",
    "\n",
    "basin_0 = 0\n",
    "gdf_b0 = gdf[(gdf['basin_key'] == basin_0)]\n",
    "basin_4 = 4\n",
    "gdf_b4 = gdf[(gdf['basin_key'] == basin_4)]\n",
    "\n",
    "fig = plt.figure()\n",
    "fig.set_size_inches(18.5, 10.5)\n",
    "ax = fig.add_subplot(1, 1,1)\n",
    "\n",
    "plt.scatter(gdf_b0.chi,gdf_b0.elevation,c=gdf_b0.flow_distance)\n",
    "\n",
    "# I am adding a chi distance of 8 to the chi coordiante to have the basins stack\n",
    "plt.scatter(np.add(gdf_b4.chi,5),gdf_b4.elevation,c=gdf_b4.flow_distance)\n",
    "plt.xlabel(r\"$\\chi$ (m)\")\n",
    "plt.ylabel(\"elevation (m)\")\n",
    "\n",
    "plt.text(0.5, 150, \"Snails Cleugh\", size=12,\n",
    "         ha=\"left\", va=\"top\",\n",
    "         bbox=dict(boxstyle=\"square\",\n",
    "                   ec=(0., 0., 0.),\n",
    "                   fc=(1., 1.0, 1.0),\n",
    "                   )\n",
    "        )\n",
    "\n",
    "plt.text(8, 150, \"Killmade Burn\", size=12,\n",
    "         ha=\"left\", va=\"top\",\n",
    "         bbox=dict(boxstyle=\"square\",\n",
    "                   ec=(0., 0., 0.),\n",
    "                   fc=(1., 1.0, 1.0),\n",
    "                   )\n",
    "        )\n",
    "\n",
    "ax.set_ylim(100,450)\n",
    "fig.show()\n"
   ]
  },
  {
   "cell_type": "markdown",
   "metadata": {},
   "source": [
    "We can also do this with the channel profile. "
   ]
  },
  {
   "cell_type": "code",
   "execution_count": null,
   "metadata": {},
   "outputs": [],
   "source": [
    "basin_0 = 0\n",
    "gdf_b0 = gdf[(gdf['basin_key'] == basin_0)]\n",
    "basin_4 = 4\n",
    "gdf_b4 = gdf[(gdf['basin_key'] == basin_4)]\n",
    "\n",
    "fig = plt.figure()\n",
    "fig.set_size_inches(18.5, 10.5)\n",
    "ax = fig.add_subplot(1, 1,1)\n",
    "\n",
    "plt.scatter(gdf_b0.flow_distance,gdf_b0.elevation,c=gdf_b0.flow_distance)\n",
    "\n",
    "# I am adding a chi distance of 8 to the chi coordiante to have the basins stack\n",
    "plt.scatter(np.add(gdf_b4.flow_distance,3000),gdf_b4.elevation,c=gdf_b4.flow_distance)\n",
    "plt.xlabel(\"Flow distance (m)\")\n",
    "plt.ylabel(\"elevation (m)\")\n",
    "\n",
    "plt.text(1000, 150, \"Snails Cleugh\", size=12,\n",
    "         ha=\"left\", va=\"top\",\n",
    "         bbox=dict(boxstyle=\"square\",\n",
    "                   ec=(0., 0., 0.),\n",
    "                   fc=(1., 1.0, 1.0),\n",
    "                   )\n",
    "        )\n",
    "\n",
    "plt.text(4000, 150, \"Killmade Burn\", size=12,\n",
    "         ha=\"left\", va=\"top\",\n",
    "         bbox=dict(boxstyle=\"square\",\n",
    "                   ec=(0., 0., 0.),\n",
    "                   fc=(1., 1.0, 1.0),\n",
    "                   )\n",
    "        )\n",
    "\n",
    "ax.set_ylim(100,450)\n",
    "fig.show()\n"
   ]
  },
  {
   "cell_type": "markdown",
   "metadata": {},
   "source": [
    "We can also isolate source keys"
   ]
  },
  {
   "cell_type": "code",
   "execution_count": null,
   "metadata": {},
   "outputs": [],
   "source": [
    "print(gdf_b4.head())"
   ]
  },
  {
   "cell_type": "code",
   "execution_count": null,
   "metadata": {
    "scrolled": true
   },
   "outputs": [],
   "source": [
    "import numpy as np\n",
    "\n",
    "basin_0 = 0\n",
    "gdf_b0 = gdf[(gdf['basin_key'] == basin_0) & ((gdf['source_key'] == 0) | (gdf['source_key'] == 2)) ]\n",
    "basin_4 = 4\n",
    "gdf_b4 = gdf[(gdf['basin_key'] == basin_4) & ((gdf['source_key'] == 35) | (gdf['source_key'] == 43)) ]\n",
    "\n",
    "fig = plt.figure()\n",
    "fig.set_size_inches(18.5, 10.5)\n",
    "ax = fig.add_subplot(1, 1,1)\n",
    "\n",
    "plt.scatter(gdf_b0.chi,gdf_b0.elevation,c=gdf_b0.flow_distance)\n",
    "\n",
    "# I am adding a chi distance of 8 to the chi coordiante to have the basins stack\n",
    "plt.scatter(np.add(gdf_b4.chi,5),gdf_b4.elevation,c=gdf_b4.flow_distance)\n",
    "plt.xlabel(r\"$\\chi$ (m)\")\n",
    "plt.ylabel(\"elevation (m)\")\n",
    "\n",
    "plt.text(0.5, 150, \"Snails Cleugh\", size=12,\n",
    "         ha=\"left\", va=\"top\",\n",
    "         bbox=dict(boxstyle=\"square\",\n",
    "                   ec=(0., 0., 0.),\n",
    "                   fc=(1., 1.0, 1.0),\n",
    "                   )\n",
    "        )\n",
    "\n",
    "plt.text(8, 150, \"Killmade Burn\", size=12,\n",
    "         ha=\"left\", va=\"top\",\n",
    "         bbox=dict(boxstyle=\"square\",\n",
    "                   ec=(0., 0., 0.),\n",
    "                   fc=(1., 1.0, 1.0),\n",
    "                   )\n",
    "        )\n",
    "\n",
    "ax.set_ylim(100,450)\n",
    "fig.show()\n"
   ]
  },
  {
   "cell_type": "markdown",
   "metadata": {},
   "source": [
    "## Calculate the chi gradient"
   ]
  },
  {
   "cell_type": "markdown",
   "metadata": {},
   "source": [
    "In the `channel_incision` directory you will find some notebooks about channel steepness. I'll summarize here:\n",
    "\n",
    "* Channels tend to become gentler as you gain drainage area. If you look at landscapes we thing are steadliy eroding, the relasionship can be described with\n",
    "$S = k_s A^{-\\theta}$\n",
    "\n",
    "* A number of studies have suggested $k_s$ correlates with erosion rates (measured with cosmogenics). \n",
    "\n",
    "* So we want to measure $k_s$ in landscape to use as a proxy for erosion rate. In the past, many authors used extracted this from Slope-Area data, but this is very noisy. \n",
    "\n",
    "* To reduce noise, we do a clever coordinate transformation that makes a coordiante, $\\chi$, that incorporates drainage area. \n",
    "\n",
    "* This transformation is specifically designed so that the local slope in $\\chi$-elevation space corresponds to $k_s$. \n",
    "\n",
    "* So, we are going to take the slope of $\\chi$-elevation and see if there are any patterns."
   ]
  },
  {
   "cell_type": "markdown",
   "metadata": {},
   "source": [
    "First, we use the `gradient` function get the gradient between pixels.\n",
    "\n",
    "* **WARNING**: *The way the data is organised, there are artifical jumps between source keys. So the data at the ends of each tributary is not correct.*\n",
    "\n",
    "* **Explanation**: *When the data has finished a tributary, it jumps up to the headwaters of the next tributary, but the gradient function is not clever enough to realise this, so it just calculates a gradient between the bottom of one tributary and the top of the next one. This is nonsense, so the gradient data at the edges should be ignored).*"
   ]
  },
  {
   "cell_type": "markdown",
   "metadata": {},
   "source": [
    "gdf[\"k_sn\"] = np.gradient(gdf.elevation,gdf.chi)\n",
    "gdf.head()"
   ]
  },
  {
   "cell_type": "markdown",
   "metadata": {},
   "source": [
    "Now plot these data. "
   ]
  },
  {
   "cell_type": "code",
   "execution_count": null,
   "metadata": {},
   "outputs": [],
   "source": [
    "basin_0 = 0\n",
    "gdf_b0 = gdf[(gdf['basin_key'] == basin_0)]\n",
    "basin_4 = 4\n",
    "gdf_b4 = gdf[(gdf['basin_key'] == basin_4)]\n",
    "\n",
    "fig = plt.figure()\n",
    "fig.set_size_inches(18.5, 10.5)\n",
    "ax = fig.add_subplot(1, 1,1)\n",
    "\n",
    "plt.scatter(gdf_b0.chi,gdf_b0.k_sn,c=gdf_b0.source_key)\n",
    "\n",
    "# I am adding a chi distance of 8 to the chi coordiante to have the basins stack\n",
    "plt.scatter(np.add(gdf_b4.chi,10),gdf_b4.k_sn,c=gdf_b4.source_key)\n",
    "plt.xlabel(r\"$k_{sn}$\")\n",
    "plt.ylabel(\"elevation (m)\")\n",
    "\n",
    "plt.text(0.5, 150, \"Snails Cleugh\", size=12,\n",
    "         ha=\"left\", va=\"top\",\n",
    "         bbox=dict(boxstyle=\"square\",\n",
    "                   ec=(0., 0., 0.),\n",
    "                   fc=(1., 1.0, 1.0),\n",
    "                   )\n",
    "        )\n",
    "\n",
    "plt.text(8, 150, \"Killmade Burn\", size=12,\n",
    "         ha=\"left\", va=\"top\",\n",
    "         bbox=dict(boxstyle=\"square\",\n",
    "                   ec=(0., 0., 0.),\n",
    "                   fc=(1., 1.0, 1.0),\n",
    "                   )\n",
    "        )\n",
    "\n",
    "ax.set_ylim(0,300)\n",
    "fig.show()"
   ]
  },
  {
   "cell_type": "markdown",
   "metadata": {},
   "source": [
    "We can also smooth this data. `pandas` has lots of tools for smoothing data. You can use the `rolling` function to smooth the $k_{sn}$ values. Below I use a 25 pixel window. You can use different filters; in this case I use something called a `hamming` filter, which is too tedious to explain but if you really want to know about it there is always google. "
   ]
  },
  {
   "cell_type": "code",
   "execution_count": null,
   "metadata": {},
   "outputs": [],
   "source": [
    "gdf['k_sn_smoothed'] = gdf['k_sn'].rolling(25,win_type='hamming').mean()"
   ]
  },
  {
   "cell_type": "markdown",
   "metadata": {},
   "source": [
    "Okay, we will plot both the smoothed and the raw data. We can also isolate the sources (you can play with the `source_key` numbers). "
   ]
  },
  {
   "cell_type": "code",
   "execution_count": null,
   "metadata": {},
   "outputs": [],
   "source": [
    "basin_0 = 0\n",
    "gdf_b0 = gdf[(gdf['basin_key'] == basin_0)  & ((gdf['source_key'] == 0) | (gdf['source_key'] == 2)) ]\n",
    "basin_4 = 4\n",
    "gdf_b4 = gdf[(gdf['basin_key'] == basin_4)  & ((gdf['source_key'] == 35) | (gdf['source_key'] == 38)) ]\n",
    "\n",
    "fig = plt.figure()\n",
    "fig.set_size_inches(18.5, 10.5)\n",
    "ax = fig.add_subplot(1, 1,1)\n",
    "\n",
    "plt.scatter(gdf_b0.chi,gdf_b0.k_sn,c=gdf_b0.source_key,alpha = 0.4,s=0.2)\n",
    "plt.scatter(gdf_b0.chi,gdf_b0.k_sn_smoothed,c=gdf_b0.source_key,s=1)\n",
    "\n",
    "# I am adding a chi distance of 8 to the chi coordiante to have the basins stack\n",
    "plt.scatter(np.add(gdf_b4.chi,10),gdf_b4.k_sn,c=gdf_b4.source_key,alpha = 0.4,s=0.2)\n",
    "plt.scatter(np.add(gdf_b4.chi,10),gdf_b4.k_sn_smoothed,c=gdf_b4.source_key,s=1)\n",
    "plt.xlabel(r\"$k_{sn}$\")\n",
    "plt.ylabel(\"elevation (m)\")\n",
    "\n",
    "plt.text(0.5, 80, \"Snails Cleugh\", size=12,\n",
    "         ha=\"left\", va=\"top\",\n",
    "         bbox=dict(boxstyle=\"square\",\n",
    "                   ec=(0., 0., 0.),\n",
    "                   fc=(1., 1.0, 1.0),\n",
    "                   )\n",
    "        )\n",
    "\n",
    "plt.text(8, 80, \"Killmade Burn\", size=12,\n",
    "         ha=\"left\", va=\"top\",\n",
    "         bbox=dict(boxstyle=\"square\",\n",
    "                   ec=(0., 0., 0.),\n",
    "                   fc=(1., 1.0, 1.0),\n",
    "                   )\n",
    "        )\n",
    "\n",
    "ax.set_ylim(0,100)\n",
    "fig.show()"
   ]
  },
  {
   "cell_type": "markdown",
   "metadata": {},
   "source": [
    "Okay, remember how I said the data can't be trused at the ends of the tributaries? Well, when we smooth over 25 pixels this messed up data gest smeared over 25 pixels. So in the tributaries you need to ignore the ends on only look at the middle pixels to see the $k_{sn}$ on that tributary. "
   ]
  },
  {
   "cell_type": "code",
   "execution_count": null,
   "metadata": {},
   "outputs": [],
   "source": []
  }
 ],
 "metadata": {
  "kernelspec": {
   "display_name": "Python 3 (ipykernel)",
   "language": "python",
   "name": "python3"
  },
  "language_info": {
   "codemirror_mode": {
    "name": "ipython",
    "version": 3
   },
   "file_extension": ".py",
   "mimetype": "text/x-python",
   "name": "python",
   "nbconvert_exporter": "python",
   "pygments_lexer": "ipython3",
   "version": "3.8.10"
  }
 },
 "nbformat": 4,
 "nbformat_minor": 4
}
