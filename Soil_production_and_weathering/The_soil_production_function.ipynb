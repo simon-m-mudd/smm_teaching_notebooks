{
 "cells": [
  {
   "cell_type": "markdown",
   "metadata": {},
   "source": [
    "# The soil production function"
   ]
  },
  {
   "cell_type": "markdown",
   "metadata": {},
   "source": [
    "This lesson produced by Simon M Mudd and Fiona J Clubb. Last update (13/09/2021)"
   ]
  },
  {
   "cell_type": "markdown",
   "metadata": {},
   "source": [
    "Back in the late 1800s, people (including G.K. Gilbert) were speculating about the rates at which soil was formed. This might depend on things like the number of burrowing animals, the rock type, the number of plants, and other factors. \n",
    "\n",
    "The soil is \"produced\" from somewhere, and usually it is produced from some combination of conversion of rock to sediments, addition of organic matter, and deposition of dust. But we are going to focus on the conversion of rock material to sediment that can move. \n",
    "\n",
    "Gilbert suggested that the rate soil was produced (from underlying rocks) depended on the thickness of the soil. We can make a prediction about the relationship between soil thickness and the rate soil is produced, and we call this the *soil production function*.\n",
    "\n",
    "This function has proposed to have a few different forms, which we will explore below. "
   ]
  },
  {
   "cell_type": "markdown",
   "metadata": {},
   "source": [
    "## Exponential Soil Production"
   ]
  },
  {
   "cell_type": "markdown",
   "metadata": {},
   "source": [
    "In lectures we identified that the rate of weathering on a hillslope could be described as an exponential function that depends on soil depth, with weathering rates declining as soil gets deeper (Heimsath et al., 1997):\n",
    "\n",
    "$p = W_0 e^{-\\frac{h}{\\gamma}}$\n",
    "\n",
    "where $W_0$ is the soil production rate with no soil, and $\\gamma$ is a length scale that determines how quickly soil production falls off with depth.\n",
    "\n",
    "Typical values for $W_0$ are in the range 0.01-1 mm/yr [(Perron, 2017)](http://www.annualreviews.org/doi/abs/10.1146/annurev-earth-060614-105405). Note that when you're doing numerical calculations you have to be consistent with units. We will always do calculations in length units of ***metres*** (m), time units of ***years*** (y) and mass units of ***kilograms*** (kg). However we might convert to other units for the purposes of plotting sensible numbers (e.g. Weathering rates in mm/y = m/y $\\times$ 1000).\n",
    "\n",
    "Let's take a look at what this function looks like by plotting it with python:"
   ]
  },
  {
   "cell_type": "code",
   "execution_count": null,
   "metadata": {},
   "outputs": [],
   "source": [
    "%matplotlib inline\n",
    "import matplotlib.pyplot as plt\n",
    "import numpy as np"
   ]
  },
  {
   "cell_type": "code",
   "execution_count": null,
   "metadata": {},
   "outputs": [],
   "source": [
    "h_locs = np.arange(0,2,0.1)"
   ]
  },
  {
   "cell_type": "markdown",
   "metadata": {},
   "source": [
    "We define the soil production function:"
   ]
  },
  {
   "cell_type": "code",
   "execution_count": null,
   "metadata": {},
   "outputs": [],
   "source": [
    "def soil_prod_function(h_locs, W_0 = 0.0001, gamma = 0.4):\n",
    "    P = np.multiply(W_0,  np.exp( - np.divide(h_locs,gamma)  )  )\n",
    "    return P"
   ]
  },
  {
   "cell_type": "markdown",
   "metadata": {},
   "source": [
    "Now lets plot the function and see what it looks like.\n",
    "\n",
    "In the code below there are two soil production functions that you can compare. For example if you make `W_0` twice as much as `W_02` that means the second soil production function produces soil twice as fast as the first when there is no soil. "
   ]
  },
  {
   "cell_type": "code",
   "execution_count": null,
   "metadata": {},
   "outputs": [],
   "source": [
    "plt.rcParams['figure.figsize'] = [10, 4]\n",
    "plt.clf()\n",
    "\n",
    "# TRY CHANGING THE FOUR PARAMETER BELOW\n",
    "# These two are for the first soil production function\n",
    "W_0 = 0.0001\n",
    "gamma = 0.4\n",
    "\n",
    "# These two are for the second soil production function\n",
    "W_02 = 0.0002\n",
    "gamma2 = 0.4\n",
    "\n",
    "# This bit calculates the functions\n",
    "P = soil_prod_function(h_locs, W_0 = W_0, gamma = gamma)\n",
    "P2 = soil_prod_function(h_locs, W_0 = W_02, gamma = gamma2)\n",
    "\n",
    "# The rest of this stuff makes the figure\n",
    "f, ax = plt.subplots(1, 1)\n",
    "ax.plot(h_locs, P*1000,label=\"P1\")\n",
    "ax.plot(h_locs, P2*1000,label=\"P2\")\n",
    "ax.set_xlabel(\"Soil thickness ($m$)\")\n",
    "ax.set_ylabel(\"Soil production (mm/yr)\")\n",
    "plt.title(\"Two soil production function. Try playing with the parameters!\")\n",
    "ax.legend()\n",
    "plt.tight_layout()"
   ]
  },
  {
   "cell_type": "markdown",
   "metadata": {},
   "source": [
    "## The peaked soil production function"
   ]
  },
  {
   "cell_type": "markdown",
   "metadata": {},
   "source": [
    "We also discussed in the lecture an alternative way in which soil may be produced: where there are very slow rates of soil production where there is bare bedrock, then soil peaks at some intermediate thickness before decreasing exponentially with increasing soil thickness. This model dates back to Gilbert (1877), and makes intuitive sense: water is needed for weathering processes as we discussed today. If there is bare bedrock, water is quickly transported through overland flow and little weathering can take place. If there is too much soil, then it's unlikely to be fully saturated down to the bedrock--soil interface.\n",
    "\n",
    "In this section, we will make some plots of a hypothetical peaked (or humped) soil production function.\n",
    "\n",
    "We will use the theoretical formulation from [Cox (1980)](https://onlinelibrary.wiley.com/doi/abs/10.1002/esp.3760050305) to calculate the weathering rate for a range of soil depths. This is a bit more complicated than the exponential function and has a bigger range of parameters:\n",
    "\n",
    "\\begin{equation}\n",
    "W = W_0 (\\alpha e^{-kh}) + (1 - \\alpha)f \\\\\n",
    "f = \\Bigg(1 + c\\frac{h}{h_c} - \\frac{h^2}{{h_c}^2}\\Bigg)\n",
    "\\end{equation}\n",
    "\n",
    "You should recognise some of these parameters from the exponential equation. The first part of the equation is the exponential function multiplied by a coefficient, $\\alpha$. $W$ is still the weathering rate, $W_0$ is the inital rate of soil production where there is no soil, and $h$ is soil depth. There are two new parameters: $h_c$ is a critical soil depth (m), and $c$ is an empirical constant. Anhert (1977) suggests that $c$ might vary between 1.7 - 2.3, $h_c$ might vary between 0.6 - 1.5, and $\\alpha$ between 0 - 1. If $\\alpha = 1$, then the relationship is simply the exponential function."
   ]
  },
  {
   "cell_type": "code",
   "execution_count": null,
   "metadata": {},
   "outputs": [],
   "source": [
    "# first, let's clear the original figure\n",
    "plt.clf()\n",
    "# make a new figure\n",
    "fig, ax = plt.subplots()\n",
    "\n",
    "\n",
    "k = 1\n",
    "\n",
    "# define the critical depth for soil production\n",
    "h_c = 0.5 #metres\n",
    "\n",
    "# define the initial rate of soil production \n",
    "W_0 = 0.0005 #m/year\n",
    "\n",
    "# define the constant c\n",
    "c = 2 #dimensionless\n",
    "\n",
    "# define alpha\n",
    "alpha = 0.2\n",
    "\n",
    "# calculate the weathering rate for the range of soil depths, h\n",
    "f = (1 + c*(h_locs/h_c) - h_locs**2/h_c**2)\n",
    "W = W_0 * (alpha * np.exp(-k*h_locs) + (1 - alpha)*f)\n",
    "\n",
    "# plot the new result with a blue dashed line\n",
    "ax.plot(h_locs,W*1000.,'--', color='blue', label = 'Peaked function')\n",
    "\n",
    "# add a legend \n",
    "plt.legend(loc = 'upper right')\n",
    "\n",
    "# set the y limit of the humped function to 0 (so we don't get negative weathering rates), and set the axis labels\n",
    "ax.set_ylim(0,)\n",
    "plt.xlabel(\"Soil Depth (m)\")\n",
    "plt.ylabel(\"Weathering Rate (mm/y)\")\n",
    "plt.title(\"The peaked soil production function\")\n",
    "plt.tight_layout()"
   ]
  },
  {
   "cell_type": "markdown",
   "metadata": {},
   "source": [
    "Optional Exercise 1\n",
    "---\n",
    "\n",
    "1. Have a play around and try to change some of the parameters in the peaked function (simply modify in the code block above). How does this affect the curve?\n",
    "\n",
    "2. Try to make a plot with the exponential and peaked functions on the same set of axes, so you can compare them (HINT - copy the line that creates the exponential soil production function into the code block above, and  then give it a different colour).\n",
    "\n",
    "---"
   ]
  },
  {
   "cell_type": "markdown",
   "metadata": {},
   "source": [
    "---\n",
    "## Optional Exercise 2\n",
    "<p>Create a figure from the practical today that shows the difference between the peaked and exponential soil production functions for different initial soil production rates. You should write a figure caption that annotates what your soil production plot is showing. The caption should be a paragraph of text that describes each line, and the parameters that have been used to create them, and offers a brief explanation of how the parameters used influence rates of soil production. For an indication of the level of detail required, you could look at examples of captions to figures in journal articles, such as Figure 3 in  \n",
    "[Heimsath et al. (2012)](https://www.nature.com/ngeo/journal/v5/n3/pdf/ngeo1380.pdf). You can use any program you like, such as Microsoft Word, to create your figure.\n",
    "\n",
    "**Note**: the exercises from the practicals in this module will not be marked, but they are all teaching you important skills that will be used in the summative assessment. I would therefore really encourage you to engage with them. I will go over the answers and discuss the exercises at the start of the next session.\n",
    "\n",
    "For your independent project, you will be expected to present 5 figures with captions, so this is a good chance to practice how to write a good figure caption!"
   ]
  },
  {
   "cell_type": "code",
   "execution_count": null,
   "metadata": {},
   "outputs": [],
   "source": []
  }
 ],
 "metadata": {
  "kernelspec": {
   "display_name": "Python 3 (ipykernel)",
   "language": "python",
   "name": "python3"
  },
  "language_info": {
   "codemirror_mode": {
    "name": "ipython",
    "version": 3
   },
   "file_extension": ".py",
   "mimetype": "text/x-python",
   "name": "python",
   "nbconvert_exporter": "python",
   "pygments_lexer": "ipython3",
   "version": "3.8.10"
  }
 },
 "nbformat": 4,
 "nbformat_minor": 4
}
