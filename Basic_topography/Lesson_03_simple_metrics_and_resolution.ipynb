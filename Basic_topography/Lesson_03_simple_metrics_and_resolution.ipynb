{
 "cells": [
  {
   "cell_type": "markdown",
   "id": "4f039f16",
   "metadata": {},
   "source": [
    "# Lesson 03 Simple metrics and grid size"
   ]
  },
  {
   "cell_type": "markdown",
   "id": "e47a2831",
   "metadata": {},
   "source": [
    "*This lesson made by Simon M Mudd and last updated 22/11/2021*"
   ]
  },
  {
   "cell_type": "markdown",
   "id": "87a5939a",
   "metadata": {},
   "source": [
    "In this lesson we are going to look at some simple topographic metrics and how the grid size affects these metrics. \n",
    "\n",
    "**Side note**: The grid cell size in a geospatial raster is the length of the edges of each pixel. This is often referred to as the \"resolution\" but technically the resolution is defined as the minimum distance between two objects that can be separated in an image, so the resolution of a raster is larger than the grid cell size. [You can read about that here](https://www.semanticscholar.org/paper/The-differentiation-between-grid-spacing-and-and-to-Grasso/23ed9f85a67dea01eb6501701478555721b6af13).\n",
    "\n",
    "You will need to have data files from the previous lessons, so if you have not done those lessons please open them and execute the cells (the quick way to do that is to use the `Restart & run all` button in the `Kernel` menu above). "
   ]
  },
  {
   "cell_type": "markdown",
   "id": "a4bd0119",
   "metadata": {},
   "source": [
    "## First import some stuff we need"
   ]
  },
  {
   "cell_type": "markdown",
   "id": "6813970d",
   "metadata": {},
   "source": [
    "First we make sure lsdviztools version is updated (it needs to be > 0.4.7):"
   ]
  },
  {
   "cell_type": "code",
   "execution_count": null,
   "id": "9dc1691d",
   "metadata": {},
   "outputs": [],
   "source": [
    "!pip install lsdviztools --upgrade"
   ]
  },
  {
   "cell_type": "markdown",
   "id": "d8426e96",
   "metadata": {},
   "source": [
    "Now import stuff we need. "
   ]
  },
  {
   "cell_type": "code",
   "execution_count": null,
   "id": "d8b43e5f",
   "metadata": {},
   "outputs": [],
   "source": [
    "import lsdviztools.lsdbasemaptools as bmt\n",
    "from lsdviztools.lsdplottingtools import lsdmap_gdalio as gio\n",
    "import lsdviztools.lsdmapwrappers as lsdmw\n",
    "import rasterio as rio\n",
    "from rasterio.plot import show\n",
    "import matplotlib.pyplot as plt"
   ]
  },
  {
   "cell_type": "markdown",
   "id": "b32f6e81",
   "metadata": {},
   "source": [
    "## Grab some (more) data"
   ]
  },
  {
   "cell_type": "markdown",
   "id": "692c9ec3",
   "metadata": {},
   "source": [
    "We are going to grab a few more datasets. These will be in the same area, but they will be a 90 m dataset and a different 30 m dataset. They require 2 different calls to the `ot_scraper` in `lsdviztools`."
   ]
  },
  {
   "cell_type": "code",
   "execution_count": null,
   "id": "94bcc438",
   "metadata": {},
   "outputs": [],
   "source": [
    "lower_left = [36.990554387425014, -2.318307057720176]\n",
    "upper_right = [37.23367133834253, -1.8425313329873874]"
   ]
  },
  {
   "cell_type": "code",
   "execution_count": null,
   "id": "828357fc",
   "metadata": {},
   "outputs": [],
   "source": [
    "# This downloads 90m (3 arcsecond) SRTM\n",
    "Aguas_DEM = bmt.ot_scraper(source = \"SRTMGL3\",\n",
    "                           lower_left_coordinates = lower_left, \n",
    "                           upper_right_coordinates = upper_right,\n",
    "                           prefix = \"rio_aguas\") \n",
    "Aguas_DEM.print_parameters()\n",
    "Aguas_DEM.download_pythonic()"
   ]
  },
  {
   "cell_type": "code",
   "execution_count": null,
   "id": "8f8ededd",
   "metadata": {},
   "outputs": [],
   "source": [
    "# This downloads ALOS World 3D 30m\n",
    "Aguas_DEM = bmt.ot_scraper(source = \"AW3D30\",\n",
    "                           lower_left_coordinates = lower_left, \n",
    "                           upper_right_coordinates = upper_right,\n",
    "                           prefix = \"rio_aguas\") \n",
    "Aguas_DEM.print_parameters()\n",
    "Aguas_DEM.download_pythonic()"
   ]
  },
  {
   "cell_type": "markdown",
   "id": "e07d4ada",
   "metadata": {},
   "source": [
    "## Warp these three datasets into UTM coordinates with 30 and 90 m pixel spacing"
   ]
  },
  {
   "cell_type": "markdown",
   "id": "7e5b279e",
   "metadata": {},
   "source": [
    "We are going to use gdal to warp the three DEMs. You can use the syntax from lesson 2. I've looked up the UTM zone for you. "
   ]
  },
  {
   "cell_type": "code",
   "execution_count": null,
   "id": "e4b8c063",
   "metadata": {},
   "outputs": [],
   "source": [
    "!gdalwarp -t_srs EPSG:32630 rio_aguas_SRTMGL1.tif RA_SRTM_UTM.tif -r cubic -tr 30 30"
   ]
  },
  {
   "cell_type": "code",
   "execution_count": null,
   "id": "516696cc",
   "metadata": {
    "scrolled": true
   },
   "outputs": [],
   "source": [
    "!gdalwarp -t_srs EPSG:32630 rio_aguas_AW3D30.tif RA_AW3D30_UTM.tif -r cubic -tr 30 30"
   ]
  },
  {
   "cell_type": "code",
   "execution_count": null,
   "id": "74ee0389",
   "metadata": {},
   "outputs": [],
   "source": [
    "!gdalwarp -t_srs EPSG:32630 rio_aguas_SRTMGL3.tif RA_SRTM3_UTM.tif -r cubic -tr 90 90"
   ]
  },
  {
   "cell_type": "markdown",
   "id": "5afb07f1",
   "metadata": {},
   "source": [
    "## Get the hillshades"
   ]
  },
  {
   "cell_type": "code",
   "execution_count": null,
   "id": "7a3e3fcb",
   "metadata": {},
   "outputs": [],
   "source": [
    "!gdaldem hillshade RA_SRTM_UTM.tif RA_SRTM_UTM_HS.tif -alg ZevenbergenThorne"
   ]
  },
  {
   "cell_type": "code",
   "execution_count": null,
   "id": "ea44c915",
   "metadata": {},
   "outputs": [],
   "source": [
    "!gdaldem hillshade RA_SRTM3_UTM.tif RA_SRTM3_UTM_HS.tif -alg ZevenbergenThorne"
   ]
  },
  {
   "cell_type": "code",
   "execution_count": null,
   "id": "c4d50cf1",
   "metadata": {},
   "outputs": [],
   "source": [
    "!gdaldem hillshade RA_AW3D30_UTM.tif RA_AW3D30_UTM_HS.tif -alg ZevenbergenThorne"
   ]
  },
  {
   "cell_type": "markdown",
   "id": "02a578e9",
   "metadata": {},
   "source": [
    "We will use gdal to get the hillshades as well. "
   ]
  },
  {
   "cell_type": "markdown",
   "id": "ba5bb64e",
   "metadata": {},
   "source": [
    "## Plot some data with rasterio"
   ]
  },
  {
   "cell_type": "markdown",
   "id": "7aeb3306",
   "metadata": {},
   "source": [
    "Lets look at the hillshades. This time we will plot with the `rasterio show`. First load the datasets"
   ]
  },
  {
   "cell_type": "code",
   "execution_count": null,
   "id": "b7231b72",
   "metadata": {},
   "outputs": [],
   "source": [
    "SA_SRTM_hs = rio.open(\"RA_SRTM_UTM_HS.tif\")\n",
    "SA_SRTM3_hs = rio.open(\"RA_SRTM3_UTM_HS.tif\")\n",
    "SA_AW3D_hs = rio.open(\"RA_AW3D30_UTM_HS.tif\")"
   ]
  },
  {
   "cell_type": "code",
   "execution_count": null,
   "id": "065282f5",
   "metadata": {},
   "outputs": [],
   "source": [
    "%matplotlib inline\n",
    "\n",
    "f, (ax1,ax2,ax3) = plt.subplots(3, 1)\n",
    "\n",
    "f.set_size_inches(10.5, 18) \n",
    "show(SA_SRTM_hs, ax=ax1, cmap='gray', title = \"SRTM 30m\")\n",
    "show(SA_SRTM3_hs,ax=ax2,  cmap='gray', title = \"SRTM 90m\")\n",
    "show(SA_AW3D_hs, ax=ax3, cmap='gray', title = \"AW3D 30m\")"
   ]
  },
  {
   "cell_type": "markdown",
   "id": "ce0ddc44",
   "metadata": {},
   "source": [
    "Right, what can you see here? Hopefully the difference between SRTM1 and SRTM3 is obvious. Less obvious is the difference between SRTM1 and AW3D. We will need to zoom in to see that. To do that we need to use the subscripting functionality of `rasterio` (which allows us to subsample the underlying array)"
   ]
  },
  {
   "cell_type": "code",
   "execution_count": null,
   "id": "67f6a42e",
   "metadata": {},
   "outputs": [],
   "source": [
    "f, (ax1,ax2) = plt.subplots(1, 2)\n",
    "\n",
    "f.set_size_inches(18.5, 10) \n",
    "show(SA_SRTM_hs.read(1)[300:700,600:900], ax=ax1, transform=SA_SRTM_hs.transform, cmap='gray', title = \"SRTM 30m\")\n",
    "show(SA_AW3D_hs.read(1)[300:700,600:900], ax=ax2, transform=SA_AW3D_hs.transform, cmap='gray', title = \"AW3D 30m\")"
   ]
  },
  {
   "cell_type": "markdown",
   "id": "234e3387",
   "metadata": {},
   "source": [
    "Okay, so hopefully you can see from the above images that not all DEMs are created equal. SRTM was a total breakthrough in terms of producing global topographic data. But the radar only imaged the surface over a very short period so the accuracy is not as good as DEMs based on many years of stacked images (such as AW3D 30 or the Copernicus DEM). SRTM, however, is unique in that is a snapshot of the Earth's surface in 2000, so comparisons to much later topographic data (AW3D and Copernicus) should be able to detect large changes, such as big landslides. The accuracy of these DEM is not sufficient to find small changes, however. \n",
    "\n",
    "*If you sign in to OpenTopography and get an api key you can try to compare AW3D 30 to the Copernicus and NASADEM topographic data.*"
   ]
  },
  {
   "cell_type": "markdown",
   "id": "eaa91e90",
   "metadata": {},
   "source": [
    "# Grid cell spacing on derivative data"
   ]
  },
  {
   "cell_type": "markdown",
   "id": "323b933b",
   "metadata": {},
   "source": [
    "Lets turn our attention to derived datasets. Hillshade is derived from the DEM. But we can also take the slope, or curvature, or other metrics. We will use some more **gdal** and we will also use the histogram function in `rasterio`. \n",
    "\n",
    "One thing to note: if you take gradient or curvature using gdal or a GIS you will get a local result: the gradient in a pixel is based only on the local pixel. This can lead to noisy results, and we think taking a neighbourhood gradient is better. But that can come in the next lesson where we show you specialised software. For now we will stick to basics. \n",
    "\n",
    "We are going to use the two SRTM datasets since they come from the same underlying data but are at different grid spacings."
   ]
  },
  {
   "cell_type": "code",
   "execution_count": null,
   "id": "1a214669",
   "metadata": {},
   "outputs": [],
   "source": [
    "!gdaldem slope RA_SRTM_UTM.tif RA_SRTM_UTM_S.tif -alg ZevenbergenThorne -p"
   ]
  },
  {
   "cell_type": "code",
   "execution_count": null,
   "id": "61a913c6",
   "metadata": {},
   "outputs": [],
   "source": [
    "!gdaldem slope RA_SRTM3_UTM.tif RA_SRTM3_UTM_S.tif -alg ZevenbergenThorne -p"
   ]
  },
  {
   "cell_type": "markdown",
   "id": "3b0e1f87",
   "metadata": {},
   "source": [
    "Now we use the `rasterio` histogram function to look at the data. "
   ]
  },
  {
   "cell_type": "code",
   "execution_count": null,
   "id": "42d7502f",
   "metadata": {},
   "outputs": [],
   "source": [
    "from rasterio.plot import show_hist\n",
    "\n",
    "fig, (ax1,ax2) = plt.subplots(1, 2, figsize=(14,7))\n",
    "RA_SRTM_S = rio.open(\"RA_SRTM_UTM_S.tif\")\n",
    "RA_SRTM3_S = rio.open(\"RA_SRTM3_UTM_S.tif\")\n",
    "\n",
    "show_hist(RA_SRTM_S, bins=100, histtype='stepfilled',lw=0.0, stacked=False, alpha=0.3,ax=ax1, title = \"SRTM 30m\")\n",
    "ax1.set_xlabel(\"% slope\")\n",
    "ax1.set_xlim([0,100])\n",
    "ax1.get_legend().remove()\n",
    "show_hist(RA_SRTM3_S, bins=100, histtype='stepfilled',lw=0.0, stacked=False, alpha=0.3,ax=ax2, title = \"SRTM 90m\")\n",
    "ax2.set_xlabel(\"% slope\")\n",
    "ax2.set_xlim([0,100])\n",
    "ax2.get_legend().remove()"
   ]
  },
  {
   "cell_type": "markdown",
   "id": "4540440f",
   "metadata": {},
   "source": [
    "If you look at this data, you will see that the slope is gentler in the 90 m data. This is systematic. Coarse DEMs underestimate topographic gradients. They also give systematic biases in other derivative datasets (like curvature). *This is important because topographic gradient has been associated with (amongst other things) landslide risk and curvature has been associated with erosion rate.*\n",
    "\n",
    "You can read all about this in the following paper: [Grieve et al., 2016](https://esurf.copernicus.org/articles/4/627/2016/)"
   ]
  },
  {
   "cell_type": "markdown",
   "id": "f2e5e194",
   "metadata": {},
   "source": [
    "## What you should have learned and potential modifications"
   ]
  },
  {
   "cell_type": "markdown",
   "id": "5e81aab2",
   "metadata": {},
   "source": [
    "* You will have more experience downloading and warping raster data. \n",
    "* You have seen that not all datasets are of the same quality. \n",
    "* You will have seen that coarser grid spacing can lead to bias in derivative datasets, like topographic gradient.\n",
    "\n",
    "Further steps:\n",
    "* Try downloading the Copernicus DEM and comparing that to the ALOS world 3D data. \n",
    "* Try to zoom in on a different parts of the DEM (to test if you understand how that was done). "
   ]
  },
  {
   "cell_type": "code",
   "execution_count": null,
   "id": "8ecfab4e",
   "metadata": {},
   "outputs": [],
   "source": []
  }
 ],
 "metadata": {
  "kernelspec": {
   "display_name": "Python 3 (ipykernel)",
   "language": "python",
   "name": "python3"
  },
  "language_info": {
   "codemirror_mode": {
    "name": "ipython",
    "version": 3
   },
   "file_extension": ".py",
   "mimetype": "text/x-python",
   "name": "python",
   "nbconvert_exporter": "python",
   "pygments_lexer": "ipython3",
   "version": "3.8.10"
  }
 },
 "nbformat": 4,
 "nbformat_minor": 5
}
