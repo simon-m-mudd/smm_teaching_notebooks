{
  "cells": [
    {
      "cell_type": "markdown",
      "metadata": {
        "id": "view-in-github",
        "colab_type": "text"
      },
      "source": [
        "<a href=\"https://colab.research.google.com/github/simon-m-mudd/smm_teaching_notebooks/blob/master/Basic_topography/Lesson_05_do_it_yourself.ipynb\" target=\"_parent\"><img src=\"https://colab.research.google.com/assets/colab-badge.svg\" alt=\"Open In Colab\"/></a>"
      ]
    },
    {
      "cell_type": "markdown",
      "id": "dd67a97f",
      "metadata": {
        "id": "dd67a97f"
      },
      "source": [
        "# Lesson 05: Do it yourself!"
      ]
    },
    {
      "cell_type": "markdown",
      "id": "3e040f5e",
      "metadata": {
        "id": "3e040f5e"
      },
      "source": [
        "*This lesson made by Simon M Mudd and last updated 22/11/2024*"
      ]
    },
    {
      "cell_type": "markdown",
      "id": "8154c897",
      "metadata": {
        "id": "8154c897"
      },
      "source": [
        "Okay, you have gone through all the lessons. Now it is time to test out your skills!\n",
        "\n",
        "I will give you a head start. Here the first two bits of code just updates a package and imports all the stuff you need."
      ]
    },
    {
      "cell_type": "markdown",
      "metadata": {
        "id": "7rKHqUw0efdv"
      },
      "source": [
        "## Stuff we need to do if you are in colab (not required in the lsdtopotools pytools container)"
      ],
      "id": "7rKHqUw0efdv"
    },
    {
      "cell_type": "markdown",
      "metadata": {
        "id": "t1R_EEcKheGV"
      },
      "source": [
        "**If you are in the `docker_lsdtt_pytools` docker container, you do not need to do any of this.\n",
        "The following is for executing this code in the google colab environment only.**\n",
        "\n",
        "If you are in the docker container you can skip to the **First get data** section."
      ],
      "id": "t1R_EEcKheGV"
    },
    {
      "cell_type": "code",
      "execution_count": null,
      "metadata": {
        "id": "lfV8XnELeGSS"
      },
      "outputs": [],
      "source": [
        "!wget https://pkgs.geos.ed.ac.uk/geos-jammy/pool/world/l/lsdtopotools2/lsdtopotools2_0.9-1geos~22.04.1_amd64.deb  &> /dev/null\n",
        "!apt install ./lsdtopotools2_0.9-1geos~22.04.1_amd64.deb  &> /dev/null"
      ],
      "id": "lfV8XnELeGSS"
    },
    {
      "cell_type": "markdown",
      "metadata": {
        "id": "QxhqK8nveGSS"
      },
      "source": [
        "The next line tests to see if it worked. If you get some output asking for a parameter file then `lsdtopotools` is installed. This notebook was tested on version 0.9."
      ],
      "id": "QxhqK8nveGSS"
    },
    {
      "cell_type": "code",
      "execution_count": null,
      "metadata": {
        "id": "3flFtTmEeGST"
      },
      "outputs": [],
      "source": [
        "!lsdtt-basic-metrics -v"
      ],
      "id": "3flFtTmEeGST"
    },
    {
      "cell_type": "markdown",
      "metadata": {
        "id": "Go0FKOijeGST"
      },
      "source": [
        "Now we install `lsdviztools`:"
      ],
      "id": "Go0FKOijeGST"
    },
    {
      "cell_type": "code",
      "execution_count": null,
      "metadata": {
        "id": "pBGmCJvWeGST"
      },
      "outputs": [],
      "source": [
        "!pip install lsdviztools  &> /dev/null"
      ],
      "id": "pBGmCJvWeGST"
    },
    {
      "cell_type": "markdown",
      "source": [
        "## If you are in notable updgrade `lsdviztools`"
      ],
      "metadata": {
        "id": "e9oFMw5ztgxj"
      },
      "id": "e9oFMw5ztgxj"
    },
    {
      "cell_type": "code",
      "execution_count": null,
      "id": "43f79656",
      "metadata": {
        "id": "43f79656"
      },
      "outputs": [],
      "source": [
        "!pip install lsdviztools --upgrade"
      ]
    },
    {
      "cell_type": "markdown",
      "source": [
        "## Now import a bunch of packages that you will need"
      ],
      "metadata": {
        "id": "7Kq67-lotlYZ"
      },
      "id": "7Kq67-lotlYZ"
    },
    {
      "cell_type": "code",
      "execution_count": null,
      "id": "8bd861b9",
      "metadata": {
        "id": "8bd861b9"
      },
      "outputs": [],
      "source": [
        "import lsdviztools.lsdbasemaptools as bmt\n",
        "from lsdviztools.lsdplottingtools import lsdmap_gdalio as gio\n",
        "import lsdviztools.lsdmapwrappers as lsdmw\n",
        "import pandas as pd\n",
        "import geopandas as gpd\n",
        "import cartopy as cp\n",
        "import cartopy.crs as ccrs\n",
        "import rasterio as rio\n",
        "import matplotlib.pyplot as plt\n",
        "import numpy as np"
      ]
    },
    {
      "cell_type": "markdown",
      "id": "c12a0120",
      "metadata": {
        "id": "c12a0120"
      },
      "source": [
        "Now you will do your own analysis!!\n",
        "\n",
        "Here are the steps\n",
        "\n",
        "1. Download a dataset from Opentopography (see Lesson 01). You need to change the location and the name of the dataset. Don't forget to copy across your API key.\n",
        "2. Use the command `gio.convert4lsdtt(DataDirectory, RasterFile,minimum_elevation=0.01,resolution=30)` to convert the data to a format that lsdtopotools can understand. You need to tell it the data directory (`./`) and the filename.\n",
        "3. Use the `!ls` command to make sure you know what the `bil` filename is.\n",
        "4. Run a slope analysis, extract some basins, and see if you can plot a channel (see Lesson 04).\n",
        "\n"
      ]
    },
    {
      "cell_type": "code",
      "execution_count": null,
      "id": "7749a46c",
      "metadata": {
        "id": "7749a46c"
      },
      "outputs": [],
      "source": []
    }
  ],
  "metadata": {
    "kernelspec": {
      "display_name": "Python 3 (ipykernel)",
      "language": "python",
      "name": "python3"
    },
    "language_info": {
      "codemirror_mode": {
        "name": "ipython",
        "version": 3
      },
      "file_extension": ".py",
      "mimetype": "text/x-python",
      "name": "python",
      "nbconvert_exporter": "python",
      "pygments_lexer": "ipython3",
      "version": "3.8.13"
    },
    "colab": {
      "provenance": [],
      "include_colab_link": true
    }
  },
  "nbformat": 4,
  "nbformat_minor": 5
}