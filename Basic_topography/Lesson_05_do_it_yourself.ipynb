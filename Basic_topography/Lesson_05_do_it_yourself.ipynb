{
 "cells": [
  {
   "cell_type": "markdown",
   "id": "dd67a97f",
   "metadata": {},
   "source": [
    "# Lesson 05: Do it yourself!"
   ]
  },
  {
   "cell_type": "markdown",
   "id": "3e040f5e",
   "metadata": {},
   "source": [
    "*This lesson made by Simon M Mudd and last updated 23/11/2021*"
   ]
  },
  {
   "cell_type": "markdown",
   "id": "8154c897",
   "metadata": {},
   "source": [
    "Okay, you have gone through all the lessons. Now it is time to test out your skills!\n",
    "\n",
    "I will give you a head start. Here the first two bits of code just updates a package and imports all the stuff you need. "
   ]
  },
  {
   "cell_type": "code",
   "execution_count": null,
   "id": "43f79656",
   "metadata": {},
   "outputs": [],
   "source": [
    "!pip install lsdviztools --upgrade"
   ]
  },
  {
   "cell_type": "code",
   "execution_count": null,
   "id": "8bd861b9",
   "metadata": {},
   "outputs": [],
   "source": [
    "import lsdviztools.lsdbasemaptools as bmt\n",
    "from lsdviztools.lsdplottingtools import lsdmap_gdalio as gio\n",
    "import lsdviztools.lsdmapwrappers as lsdmw\n",
    "import pandas as pd\n",
    "import geopandas as gpd\n",
    "import cartopy as cp\n",
    "import cartopy.crs as ccrs\n",
    "import rasterio as rio\n",
    "import matplotlib.pyplot as plt\n",
    "import numpy as np"
   ]
  },
  {
   "cell_type": "markdown",
   "id": "c12a0120",
   "metadata": {},
   "source": [
    "Now you will do your own analysis!!\n",
    "\n",
    "Here are the steps\n",
    "\n",
    "1. Download a dataset from Opentopography (see Lesson 01). You need to change the location and the name of the dataset. \n",
    "2. Use the command `gio.convert4lsdtt(DataDirectory, RasterFile,minimum_elevation=0.01,resolution=30)` to convert the data to a format that lsdtopotools can understand. You need to tell it the data directory (`./`) and the filename. \n",
    "3. Use the `!ls` command to make sure you know what the `bil` filename is. \n",
    "4. Run a slope analysis, extract some basins, and see if you can plot a channel (see Lesson 04).\n",
    "\n"
   ]
  },
  {
   "cell_type": "code",
   "execution_count": null,
   "id": "7749a46c",
   "metadata": {},
   "outputs": [],
   "source": []
  }
 ],
 "metadata": {
  "kernelspec": {
   "display_name": "Python 3 (ipykernel)",
   "language": "python",
   "name": "python3"
  },
  "language_info": {
   "codemirror_mode": {
    "name": "ipython",
    "version": 3
   },
   "file_extension": ".py",
   "mimetype": "text/x-python",
   "name": "python",
   "nbconvert_exporter": "python",
   "pygments_lexer": "ipython3",
   "version": "3.8.10"
  }
 },
 "nbformat": 4,
 "nbformat_minor": 5
}
