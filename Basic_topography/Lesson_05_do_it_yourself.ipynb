{
  "cells": [
    {
      "cell_type": "markdown",
      "metadata": {
        "id": "view-in-github",
        "colab_type": "text"
      },
      "source": [
        "<a href=\"https://colab.research.google.com/github/simon-m-mudd/smm_teaching_notebooks/blob/master/Basic_topography/Lesson_05_do_it_yourself.ipynb\" target=\"_parent\"><img src=\"https://colab.research.google.com/assets/colab-badge.svg\" alt=\"Open In Colab\"/></a>"
      ]
    },
    {
      "cell_type": "markdown",
      "id": "dd67a97f",
      "metadata": {
        "id": "dd67a97f"
      },
      "source": [
        "# Lesson 05: Do it yourself!"
      ]
    },
    {
      "cell_type": "markdown",
      "id": "3e040f5e",
      "metadata": {
        "id": "3e040f5e"
      },
      "source": [
        "*This lesson made by Simon M Mudd and last updated 18/09/2023*"
      ]
    },
    {
      "cell_type": "markdown",
      "id": "8154c897",
      "metadata": {
        "id": "8154c897"
      },
      "source": [
        "Okay, you have gone through all the lessons. Now it is time to test out your skills!\n",
        "\n",
        "I will give you a head start. Here the first two bits of code just updates a package and imports all the stuff you need."
      ]
    },
    {
      "cell_type": "markdown",
      "metadata": {
        "id": "QKy7_wKyMn9K"
      },
      "source": [
        "## Stuff we need to do if you are in colab (not required in the lsdtopotools pytools container or in notable)"
      ],
      "id": "QKy7_wKyMn9K"
    },
    {
      "cell_type": "markdown",
      "metadata": {
        "id": "994da2f2"
      },
      "source": [
        "**If you are in the `docker_lsdtt_pytools` docker container, you do not need to do any of this.\n",
        "The following is for executing this code in the google colab environment only.**\n",
        "\n",
        "If you are in the docker container you can skip to the **First get data** section."
      ],
      "id": "994da2f2"
    },
    {
      "cell_type": "markdown",
      "metadata": {
        "id": "Ck6Y73gLvbS8"
      },
      "source": [
        "First we install `lsdviztools`. This will take around a minute. It is important you do this before the `condacolab` step."
      ],
      "id": "Ck6Y73gLvbS8"
    },
    {
      "cell_type": "code",
      "execution_count": null,
      "metadata": {
        "id": "Pj2pwsxkvbS8"
      },
      "outputs": [],
      "source": [
        "!pip install lsdviztools &> /dev/null"
      ],
      "id": "Pj2pwsxkvbS8"
    },
    {
      "cell_type": "markdown",
      "metadata": {
        "id": "Fq9UDKZrvbS8"
      },
      "source": [
        "Now we need to install lsdtopotools. We do this using something called `mamba`. To get `mamba` we install something called `condacolab`."
      ],
      "id": "Fq9UDKZrvbS8"
    },
    {
      "cell_type": "code",
      "execution_count": null,
      "metadata": {
        "id": "ea215034"
      },
      "outputs": [],
      "source": [
        "!pip install -q condacolab\n",
        "import condacolab\n",
        "condacolab.install()"
      ],
      "id": "ea215034"
    },
    {
      "cell_type": "markdown",
      "metadata": {
        "id": "9b8c3e17"
      },
      "source": [
        "Now use mamba to install `lsdtopotools`. For this lesson you also need `gdal` and `proj`\n",
        "This step takes a bit over a minute."
      ],
      "id": "9b8c3e17"
    },
    {
      "cell_type": "code",
      "execution_count": null,
      "metadata": {
        "id": "0568f44f"
      },
      "outputs": [],
      "source": [
        "!mamba install -y gdal proj lsdtopotools &> /dev/null"
      ],
      "id": "0568f44f"
    },
    {
      "cell_type": "markdown",
      "source": [
        "And now we need to fix an annoying bug with `gdal`."
      ],
      "metadata": {
        "id": "HtfPg-jXPcSX"
      },
      "id": "HtfPg-jXPcSX"
    },
    {
      "cell_type": "code",
      "source": [
        "import os\n",
        "os.environ['PROJ_LIB'] = '/usr/local/share/proj/'\n",
        "print(os.getenv('PROJ_LIB'))"
      ],
      "metadata": {
        "id": "BMO3Xoz6Pgwz"
      },
      "execution_count": null,
      "outputs": [],
      "id": "BMO3Xoz6Pgwz"
    },
    {
      "cell_type": "markdown",
      "source": [
        "## If you are in notable updgrade `lsdviztools`"
      ],
      "metadata": {
        "id": "e9oFMw5ztgxj"
      },
      "id": "e9oFMw5ztgxj"
    },
    {
      "cell_type": "code",
      "execution_count": null,
      "id": "43f79656",
      "metadata": {
        "id": "43f79656"
      },
      "outputs": [],
      "source": [
        "!pip install lsdviztools --upgrade"
      ]
    },
    {
      "cell_type": "markdown",
      "source": [
        "## Now import a bunch of packages that you will need"
      ],
      "metadata": {
        "id": "7Kq67-lotlYZ"
      },
      "id": "7Kq67-lotlYZ"
    },
    {
      "cell_type": "code",
      "execution_count": null,
      "id": "8bd861b9",
      "metadata": {
        "id": "8bd861b9"
      },
      "outputs": [],
      "source": [
        "import lsdviztools.lsdbasemaptools as bmt\n",
        "from lsdviztools.lsdplottingtools import lsdmap_gdalio as gio\n",
        "import lsdviztools.lsdmapwrappers as lsdmw\n",
        "import pandas as pd\n",
        "import geopandas as gpd\n",
        "import cartopy as cp\n",
        "import cartopy.crs as ccrs\n",
        "import rasterio as rio\n",
        "import matplotlib.pyplot as plt\n",
        "import numpy as np"
      ]
    },
    {
      "cell_type": "markdown",
      "id": "c12a0120",
      "metadata": {
        "id": "c12a0120"
      },
      "source": [
        "Now you will do your own analysis!!\n",
        "\n",
        "Here are the steps\n",
        "\n",
        "1. Download a dataset from Opentopography (see Lesson 01). You need to change the location and the name of the dataset. Don't forget to copy across your API key.\n",
        "2. Use the command `gio.convert4lsdtt(DataDirectory, RasterFile,minimum_elevation=0.01,resolution=30)` to convert the data to a format that lsdtopotools can understand. You need to tell it the data directory (`./`) and the filename.\n",
        "3. Use the `!ls` command to make sure you know what the `bil` filename is.\n",
        "4. Run a slope analysis, extract some basins, and see if you can plot a channel (see Lesson 04).\n",
        "\n"
      ]
    },
    {
      "cell_type": "code",
      "execution_count": null,
      "id": "7749a46c",
      "metadata": {
        "id": "7749a46c"
      },
      "outputs": [],
      "source": []
    }
  ],
  "metadata": {
    "kernelspec": {
      "display_name": "Python 3 (ipykernel)",
      "language": "python",
      "name": "python3"
    },
    "language_info": {
      "codemirror_mode": {
        "name": "ipython",
        "version": 3
      },
      "file_extension": ".py",
      "mimetype": "text/x-python",
      "name": "python",
      "nbconvert_exporter": "python",
      "pygments_lexer": "ipython3",
      "version": "3.8.13"
    },
    "colab": {
      "provenance": [],
      "include_colab_link": true
    }
  },
  "nbformat": 4,
  "nbformat_minor": 5
}