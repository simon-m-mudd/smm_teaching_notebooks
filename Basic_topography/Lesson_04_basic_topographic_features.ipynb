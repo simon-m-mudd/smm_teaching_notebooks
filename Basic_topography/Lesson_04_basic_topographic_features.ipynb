{
 "cells": [
  {
   "cell_type": "markdown",
   "id": "4f039f16",
   "metadata": {},
   "source": [
    "# Lesson 04: Basic topographic features"
   ]
  },
  {
   "cell_type": "markdown",
   "id": "e47a2831",
   "metadata": {},
   "source": [
    "*This lesson made by Simon M Mudd and last updated 22/11/2021*"
   ]
  },
  {
   "cell_type": "markdown",
   "id": "87a5939a",
   "metadata": {},
   "source": [
    "In this lesson we are going to do some basic analysis of topography. There are a lot of different software tools for doing this, for example:\n",
    "* [Whitebox](https://www.whiteboxgeo.com/download-whiteboxtools/)\n",
    "* [TopoToolbox](https://topotoolbox.wordpress.com/)\n",
    "* [SAGA](http://www.saga-gis.org/en/index.html)\n",
    "\n",
    "However, for this example we will use [LSDTopoTools](https://github.com/LSDtopotools) because the person writing this lesson is also the lead developer of that software. The expectation for this lesson is that you are on a GeoSciences Notable notebook, where LSDTopoTools is already installed. If you aren't on that system you can also [install it on a Colab notebook](https://github.com/LSDtopotools/lsdtt_notebooks/blob/master/lsdtopotools_on_colab.ipynb)."
   ]
  },
  {
   "cell_type": "markdown",
   "id": "15678723",
   "metadata": {},
   "source": [
    "The objective of this practical is to give you a taster of what kinds of things you might do with topographic data. "
   ]
  },
  {
   "cell_type": "markdown",
   "id": "3573edb8",
   "metadata": {},
   "source": [
    "## First import some stuff we need"
   ]
  },
  {
   "cell_type": "markdown",
   "id": "4f211d9f",
   "metadata": {},
   "source": [
    "First we make sure lsdviztools version is updated (it needs to be > 0.4.7):"
   ]
  },
  {
   "cell_type": "code",
   "execution_count": null,
   "id": "2e99ab26",
   "metadata": {},
   "outputs": [],
   "source": [
    "!pip install lsdviztools --upgrade"
   ]
  },
  {
   "cell_type": "markdown",
   "id": "d9796d89",
   "metadata": {},
   "source": [
    "Now we import a bunch of stuff"
   ]
  },
  {
   "cell_type": "code",
   "execution_count": null,
   "id": "d8b43e5f",
   "metadata": {},
   "outputs": [],
   "source": [
    "import lsdviztools.lsdbasemaptools as bmt\n",
    "from lsdviztools.lsdplottingtools import lsdmap_gdalio as gio\n",
    "import lsdviztools.lsdmapwrappers as lsdmw\n",
    "import pandas as pd\n",
    "import geopandas as gpd\n",
    "import cartopy as cp\n",
    "import cartopy.crs as ccrs\n",
    "import rasterio as rio\n",
    "import matplotlib.pyplot as plt\n",
    "import numpy as np"
   ]
  },
  {
   "cell_type": "markdown",
   "id": "b32f6e81",
   "metadata": {},
   "source": [
    "## Data preprocessing"
   ]
  },
  {
   "cell_type": "markdown",
   "id": "692c9ec3",
   "metadata": {},
   "source": [
    "For various historical reasons, **LSDTopoTools** does not read *GeoTiff* format, so we need to convert any rasters to [ENVI bil](https://www.l3harrisgeospatial.com/docs/enviimagefiles.html#:~:text=The%20ENVI%20image%20format%20is,an%20accompanying%20ASCII%20header%20file.&text=Band%2Dinterleaved%2Dby%2Dline,to%20the%20number%20of%20bands.) format. **This is not the same as ESRI bil! MAKE SURE YOU USE ENVI BIL!!**\n",
    "\n",
    "You could convert any file to `ENVI bil` format using `gdalwarp` and then including the parametr `-of ENVI` (`of` stands for output format) but `lsdviztools` has some built in functions for doing that for you in python. \n",
    "\n",
    "We are going to use the ALOS W3D dataset (from the last lesson) for this lesson, and here is the conversion syntax:"
   ]
  },
  {
   "cell_type": "code",
   "execution_count": null,
   "id": "24ac4421",
   "metadata": {
    "scrolled": true
   },
   "outputs": [],
   "source": [
    "DataDirectory = \"./\"\n",
    "RasterFile = \"rio_aguas_AW3D30.tif\"\n",
    "gio.convert4lsdtt(DataDirectory, RasterFile,minimum_elevation=0.01,resolution=30)"
   ]
  },
  {
   "cell_type": "markdown",
   "id": "84bdfb29",
   "metadata": {},
   "source": [
    "You can serach for specific files using the `!ls` command, so we can look for the file that has been created. \n",
    "\n",
    "There is a `.tif` file from the last lesson, but the two files with extensions `.bil` and `.hdr` are from the conversion. ENVI bil files have all the data in the `.bil` file and all the georeferencing in the `.hdr` file. The `.hdr` file is an ascii file so you can easily open these files in a text editor and see all the important metadata. "
   ]
  },
  {
   "cell_type": "code",
   "execution_count": null,
   "id": "828357fc",
   "metadata": {},
   "outputs": [],
   "source": [
    "!ls rio_aguas_AW3D30_UTM*"
   ]
  },
  {
   "cell_type": "markdown",
   "id": "5afb07f1",
   "metadata": {},
   "source": [
    "# Now lets do some basic topographic analysis"
   ]
  },
  {
   "cell_type": "markdown",
   "id": "02a578e9",
   "metadata": {},
   "source": [
    "Now will extract some topogaphic metrics using `lsdtopotools`. \n",
    "\n",
    "The `lsdtt_parameters` are the various parameters that you can use to run an analysis. We will discuss these later. For now, we will just follow this recipe. "
   ]
  },
  {
   "cell_type": "code",
   "execution_count": null,
   "id": "1cf7f74f",
   "metadata": {},
   "outputs": [],
   "source": [
    "lsdtt_parameters = {\"write_hillshade\" : \"true\",  \n",
    "                    \"surface_fitting_radius\" : \"60\",\n",
    "                    \"print_slope\" : \"true\"}\n",
    "lsdtt_drive = lsdmw.lsdtt_driver(read_prefix = \"rio_aguas_AW3D30_UTM\",\n",
    "                                 write_prefix= \"rio_aguas_AW3D30_UTM\",\n",
    "                                 read_path = \"./\",\n",
    "                                 write_path = \"./\",\n",
    "                                 parameter_dictionary=lsdtt_parameters)\n",
    "lsdtt_drive.print_parameters()"
   ]
  },
  {
   "cell_type": "code",
   "execution_count": null,
   "id": "197ccec9",
   "metadata": {},
   "outputs": [],
   "source": [
    "lsdtt_drive.run_lsdtt_command_line_tool()"
   ]
  },
  {
   "cell_type": "markdown",
   "id": "ba5bb64e",
   "metadata": {},
   "source": [
    "# Plot some data"
   ]
  },
  {
   "cell_type": "markdown",
   "id": "7aeb3306",
   "metadata": {},
   "source": [
    "We are now going to do some simple plots using a mapping package that we put together. There are more general ways to visualise data, but this makes pretty pictures quickly.  "
   ]
  },
  {
   "cell_type": "code",
   "execution_count": null,
   "id": "b7231b72",
   "metadata": {
    "scrolled": true
   },
   "outputs": [],
   "source": [
    "%matplotlib inline\n",
    "Base_file = \"rio_aguas_AW3D30_UTM\"\n",
    "DataDirectory = \"./\"\n",
    "this_img = lsdmw.SimpleHillshade(DataDirectory,Base_file,cmap=\"gist_earth\", save_fig=True, size_format=\"geomorphology\", dpi=600)"
   ]
  },
  {
   "cell_type": "code",
   "execution_count": null,
   "id": "169403ab",
   "metadata": {},
   "outputs": [],
   "source": [
    "from IPython.display import Image\n",
    "Image('rio_aguas_AW3D30_UTM_hillshade.png')"
   ]
  },
  {
   "cell_type": "code",
   "execution_count": null,
   "id": "065282f5",
   "metadata": {},
   "outputs": [],
   "source": [
    "Base_file = \"rio_aguas_AW3D30_UTM\"\n",
    "Drape_prefix = \"rio_aguas_AW3D30_UTM_SLOPE\"\n",
    "DataDirectory = \"./\"\n",
    "img_name2 = lsdmw.SimpleDrape(DataDirectory,Base_file, Drape_prefix, \n",
    "                              cmap = \"bwr\", cbar_loc = \"right\", \n",
    "                              cbar_label = \"Gradient (m/m)\",\n",
    "                              save_fig=True, size_format=\"geomorphology\",\n",
    "                              colour_min_max = [0,1.25])"
   ]
  },
  {
   "cell_type": "code",
   "execution_count": null,
   "id": "af4c0c37",
   "metadata": {},
   "outputs": [],
   "source": [
    "from IPython.display import Image\n",
    "Image('rio_aguas_AW3D30_UTM_drape.png')"
   ]
  },
  {
   "cell_type": "markdown",
   "id": "eaa91e90",
   "metadata": {},
   "source": [
    "# Get some channel profiles"
   ]
  },
  {
   "cell_type": "markdown",
   "id": "323b933b",
   "metadata": {},
   "source": [
    "Okay, we will now run a different analysis. We will get some channel profiles. "
   ]
  },
  {
   "cell_type": "code",
   "execution_count": null,
   "id": "1a214669",
   "metadata": {},
   "outputs": [],
   "source": [
    "lsdtt_parameters = {\"print_basin_raster\" : \"true\",\n",
    "                    \"print_chi_data_maps\" : \"true\"}\n",
    "lsdtt_drive = lsdmw.lsdtt_driver(read_prefix = \"rio_aguas_AW3D30_UTM\",\n",
    "                                 write_prefix= \"rio_aguas_AW3D30_UTM\",\n",
    "                                 read_path = \"./\",\n",
    "                                 write_path = \"./\",\n",
    "                                 parameter_dictionary=lsdtt_parameters)\n",
    "lsdtt_drive.print_parameters()"
   ]
  },
  {
   "cell_type": "code",
   "execution_count": null,
   "id": "61a913c6",
   "metadata": {},
   "outputs": [],
   "source": [
    "lsdtt_drive.run_lsdtt_command_line_tool()"
   ]
  },
  {
   "cell_type": "markdown",
   "id": "3b0e1f87",
   "metadata": {},
   "source": [
    "We can look to see what files we have using the following command. the `!` tells this notebook to run a command on the underlying linux operating system, and `ls` in linux is a command to list files. "
   ]
  },
  {
   "cell_type": "code",
   "execution_count": null,
   "id": "42d7502f",
   "metadata": {},
   "outputs": [],
   "source": [
    "!ls"
   ]
  },
  {
   "cell_type": "markdown",
   "id": "4540440f",
   "metadata": {},
   "source": [
    "The file with the channels is the one with `chi_data_map` in the filename. We are going to load this into a `pandas` dataframe. You can think of `pandas` as a kind of excel for python. It does data handling of spreadsheet-like information (and loads more.)"
   ]
  },
  {
   "cell_type": "code",
   "execution_count": null,
   "id": "71772df3",
   "metadata": {},
   "outputs": [],
   "source": [
    "df = pd.read_csv(\"rio_aguas_SRTMGL1_UTM_chi_data_map.csv\")\n",
    "df.head()"
   ]
  },
  {
   "cell_type": "code",
   "execution_count": null,
   "id": "9b88365b",
   "metadata": {},
   "outputs": [],
   "source": [
    "%matplotlib inline\n",
    "fname_prefix = \"rio_aguas_SRTMGL1_UTM\"\n",
    "ChannelFileName = \"rio_aguas_SRTMGL1_UTM_chi_data_map.csv\"\n",
    "DataDirectory = \"./\"\n",
    "lsdmw.PrintChiChannelsAndBasins(DataDirectory,fname_prefix, ChannelFileName, \n",
    "                                add_basin_labels = True, cmap = \"jet\", cbar_loc = \"right\", \n",
    "                                colorbarlabel = \"elevation (m)\", size_format = \"ESURF\", fig_format = \"png\", \n",
    "                                dpi = 400,plotting_column = \"elevation\")\n",
    "\n",
    "Image('rio_aguas_SRTMGL1_UTM_chi_channels_and_basins.png')"
   ]
  },
  {
   "cell_type": "code",
   "execution_count": null,
   "id": "2c8d1e1b",
   "metadata": {},
   "outputs": [],
   "source": [
    "!ls *.png"
   ]
  },
  {
   "cell_type": "code",
   "execution_count": null,
   "id": "ae0a17cd",
   "metadata": {},
   "outputs": [],
   "source": []
  },
  {
   "cell_type": "markdown",
   "id": "58f6ad2f",
   "metadata": {},
   "source": [
    "That gives you a map of the basins that were extracted. \n",
    "\n",
    "You could also look at the channel profiles. "
   ]
  },
  {
   "cell_type": "markdown",
   "id": "f49023af",
   "metadata": {},
   "source": [
    "## Picking your own drainage basins"
   ]
  },
  {
   "cell_type": "markdown",
   "id": "cd9bbecb",
   "metadata": {},
   "source": [
    "What if you want to pick specific drainge basins?\n",
    "\n",
    "You can do that by specifying the latitude and longitude of the basin outlets. \n",
    "\n",
    "You can go into google maps in a different browser window, right click "
   ]
  },
  {
   "cell_type": "code",
   "execution_count": null,
   "id": "59597192",
   "metadata": {},
   "outputs": [],
   "source": []
  }
 ],
 "metadata": {
  "kernelspec": {
   "display_name": "Python 3 (ipykernel)",
   "language": "python",
   "name": "python3"
  },
  "language_info": {
   "codemirror_mode": {
    "name": "ipython",
    "version": 3
   },
   "file_extension": ".py",
   "mimetype": "text/x-python",
   "name": "python",
   "nbconvert_exporter": "python",
   "pygments_lexer": "ipython3",
   "version": "3.8.10"
  }
 },
 "nbformat": 4,
 "nbformat_minor": 5
}
