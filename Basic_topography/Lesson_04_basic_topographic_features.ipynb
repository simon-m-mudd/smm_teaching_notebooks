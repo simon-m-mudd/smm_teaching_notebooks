{
 "cells": [
  {
   "cell_type": "markdown",
   "id": "4f039f16",
   "metadata": {},
   "source": [
    "# Lesson 04: Basic topographic features"
   ]
  },
  {
   "cell_type": "markdown",
   "id": "e47a2831",
   "metadata": {},
   "source": [
    "*This lesson made by Simon M Mudd and last updated 22/11/2021*"
   ]
  },
  {
   "cell_type": "markdown",
   "id": "87a5939a",
   "metadata": {},
   "source": [
    "In this lesson we are going to do some basic analysis of topography. There are a lot of different software tools for doing this, for example:\n",
    "* [Whitebox](https://www.whiteboxgeo.com/download-whiteboxtools/)\n",
    "* [TopoToolbox](https://topotoolbox.wordpress.com/)\n",
    "* [SAGA](http://www.saga-gis.org/en/index.html)\n",
    "\n",
    "However, for this example we will use [LSDTopoTools](https://github.com/LSDtopotools) because the person writing this lesson is also the lead developer of that software. The expectation for this lesson is that you are on a GeoSciences Notable notebook, where LSDTopoTools is already installed. If you aren't on that system you can also [install it on a Colab notebook](https://github.com/LSDtopotools/lsdtt_notebooks/blob/master/lsdtopotools_on_colab.ipynb)."
   ]
  },
  {
   "cell_type": "markdown",
   "id": "15678723",
   "metadata": {},
   "source": [
    "The objective of this practical is to give you a taster of what kinds of things you might do with topographic data. "
   ]
  },
  {
   "cell_type": "markdown",
   "id": "3573edb8",
   "metadata": {},
   "source": [
    "## First import some stuff we need"
   ]
  },
  {
   "cell_type": "markdown",
   "id": "4f211d9f",
   "metadata": {},
   "source": [
    "First we make sure lsdviztools version is updated (it needs to be > 0.4.7):"
   ]
  },
  {
   "cell_type": "code",
   "execution_count": null,
   "id": "2e99ab26",
   "metadata": {},
   "outputs": [],
   "source": [
    "!pip install lsdviztools --upgrade"
   ]
  },
  {
   "cell_type": "markdown",
   "id": "d9796d89",
   "metadata": {},
   "source": [
    "Now we import a bunch of stuff"
   ]
  },
  {
   "cell_type": "code",
   "execution_count": null,
   "id": "d8b43e5f",
   "metadata": {},
   "outputs": [],
   "source": [
    "import lsdviztools.lsdbasemaptools as bmt\n",
    "from lsdviztools.lsdplottingtools import lsdmap_gdalio as gio\n",
    "import lsdviztools.lsdmapwrappers as lsdmw\n",
    "import pandas as pd\n",
    "import geopandas as gpd\n",
    "import cartopy as cp\n",
    "import cartopy.crs as ccrs\n",
    "import rasterio as rio\n",
    "import matplotlib.pyplot as plt\n",
    "import numpy as np"
   ]
  },
  {
   "cell_type": "markdown",
   "id": "b32f6e81",
   "metadata": {},
   "source": [
    "## Data preprocessing"
   ]
  },
  {
   "cell_type": "markdown",
   "id": "692c9ec3",
   "metadata": {},
   "source": [
    "For various historical reasons, **LSDTopoTools** does not read *GeoTiff* format, so we need to convert any rasters to [ENVI bil](https://www.l3harrisgeospatial.com/docs/enviimagefiles.html#:~:text=The%20ENVI%20image%20format%20is,an%20accompanying%20ASCII%20header%20file.&text=Band%2Dinterleaved%2Dby%2Dline,to%20the%20number%20of%20bands.) format. **This is not the same as ESRI bil! MAKE SURE YOU USE ENVI BIL!!**\n",
    "\n",
    "You could convert any file to `ENVI bil` format using `gdalwarp` and then including the parametr `-of ENVI` (`of` stands for output format) but `lsdviztools` has some built in functions for doing that for you in python. \n",
    "\n",
    "We are going to use the ALOS W3D dataset (from the last lesson) for this lesson, and here is the conversion syntax:"
   ]
  },
  {
   "cell_type": "code",
   "execution_count": null,
   "id": "24ac4421",
   "metadata": {
    "scrolled": true
   },
   "outputs": [],
   "source": [
    "DataDirectory = \"./\"\n",
    "RasterFile = \"rio_aguas_AW3D30.tif\"\n",
    "gio.convert4lsdtt(DataDirectory, RasterFile,minimum_elevation=0.01,resolution=30)"
   ]
  },
  {
   "cell_type": "markdown",
   "id": "84bdfb29",
   "metadata": {},
   "source": [
    "You can serach for specific files using the `!ls` command, so we can look for the file that has been created. \n",
    "\n",
    "There is a `.tif` file from the last lesson, but the two files with extensions `.bil` and `.hdr` are from the conversion. ENVI bil files have all the data in the `.bil` file and all the georeferencing in the `.hdr` file. The `.hdr` file is an ascii file so you can easily open these files in a text editor and see all the important metadata. "
   ]
  },
  {
   "cell_type": "code",
   "execution_count": null,
   "id": "828357fc",
   "metadata": {},
   "outputs": [],
   "source": [
    "!ls rio_aguas_AW3D30_UTM*"
   ]
  },
  {
   "cell_type": "markdown",
   "id": "5afb07f1",
   "metadata": {},
   "source": [
    "# Now lets do some basic topographic analysis"
   ]
  },
  {
   "cell_type": "markdown",
   "id": "02a578e9",
   "metadata": {},
   "source": [
    "Now will extract some topogaphic metrics using `lsdtopotools`. \n",
    "\n",
    "The `lsdtt_parameters` are the various parameters that you can use to run an analysis. We will discuss these later. For now, we will just follow this recipe. "
   ]
  },
  {
   "cell_type": "code",
   "execution_count": null,
   "id": "1cf7f74f",
   "metadata": {},
   "outputs": [],
   "source": [
    "lsdtt_parameters = {\"write_hillshade\" : \"true\",  \n",
    "                    \"surface_fitting_radius\" : \"60\",\n",
    "                    \"print_slope\" : \"true\"}\n",
    "lsdtt_drive = lsdmw.lsdtt_driver(read_prefix = \"rio_aguas_AW3D30_UTM\",\n",
    "                                 write_prefix= \"rio_aguas_AW3D30_UTM\",\n",
    "                                 read_path = \"./\",\n",
    "                                 write_path = \"./\",\n",
    "                                 parameter_dictionary=lsdtt_parameters)\n",
    "lsdtt_drive.print_parameters()"
   ]
  },
  {
   "cell_type": "code",
   "execution_count": null,
   "id": "197ccec9",
   "metadata": {},
   "outputs": [],
   "source": [
    "lsdtt_drive.run_lsdtt_command_line_tool()"
   ]
  },
  {
   "cell_type": "markdown",
   "id": "ba5bb64e",
   "metadata": {},
   "source": [
    "# Plot some data"
   ]
  },
  {
   "cell_type": "markdown",
   "id": "7aeb3306",
   "metadata": {},
   "source": [
    "We are now going to do some simple plots using a mapping package that we put together. There are more general ways to visualise data, but this makes pretty pictures quickly.  "
   ]
  },
  {
   "cell_type": "code",
   "execution_count": null,
   "id": "b7231b72",
   "metadata": {
    "scrolled": true
   },
   "outputs": [],
   "source": [
    "%matplotlib inline\n",
    "Base_file = \"rio_aguas_AW3D30_UTM\"\n",
    "DataDirectory = \"./\"\n",
    "this_img = lsdmw.SimpleHillshade(DataDirectory,Base_file,cmap=\"gist_earth\", save_fig=True, size_format=\"geomorphology\", dpi=600)"
   ]
  },
  {
   "cell_type": "code",
   "execution_count": null,
   "id": "169403ab",
   "metadata": {},
   "outputs": [],
   "source": [
    "from IPython.display import Image\n",
    "Image('rio_aguas_AW3D30_UTM_hillshade.png')"
   ]
  },
  {
   "cell_type": "code",
   "execution_count": null,
   "id": "065282f5",
   "metadata": {},
   "outputs": [],
   "source": [
    "Base_file = \"rio_aguas_AW3D30_UTM\"\n",
    "Drape_prefix = \"rio_aguas_AW3D30_UTM_SLOPE\"\n",
    "DataDirectory = \"./\"\n",
    "img_name2 = lsdmw.SimpleDrape(DataDirectory,Base_file, Drape_prefix, \n",
    "                              cmap = \"bwr\", cbar_loc = \"right\", \n",
    "                              cbar_label = \"Gradient (m/m)\",\n",
    "                              save_fig=True, size_format=\"geomorphology\",\n",
    "                              colour_min_max = [0,1.25])"
   ]
  },
  {
   "cell_type": "code",
   "execution_count": null,
   "id": "af4c0c37",
   "metadata": {},
   "outputs": [],
   "source": [
    "from IPython.display import Image\n",
    "Image('rio_aguas_AW3D30_UTM_drape.png')"
   ]
  },
  {
   "cell_type": "markdown",
   "id": "eaa91e90",
   "metadata": {},
   "source": [
    "# Get some channel profiles"
   ]
  },
  {
   "cell_type": "markdown",
   "id": "323b933b",
   "metadata": {},
   "source": [
    "Okay, we will now run a different analysis. We will get some channel profiles. "
   ]
  },
  {
   "cell_type": "code",
   "execution_count": null,
   "id": "1a214669",
   "metadata": {},
   "outputs": [],
   "source": [
    "lsdtt_parameters = {\"print_basin_raster\" : \"true\",\n",
    "                    \"print_chi_data_maps\" : \"true\"}\n",
    "lsdtt_drive = lsdmw.lsdtt_driver(read_prefix = \"rio_aguas_AW3D30_UTM\",\n",
    "                                 write_prefix= \"rio_aguas_AW3D30_UTM\",\n",
    "                                 read_path = \"./\",\n",
    "                                 write_path = \"./\",\n",
    "                                 parameter_dictionary=lsdtt_parameters)\n",
    "lsdtt_drive.print_parameters()"
   ]
  },
  {
   "cell_type": "code",
   "execution_count": null,
   "id": "61a913c6",
   "metadata": {},
   "outputs": [],
   "source": [
    "lsdtt_drive.run_lsdtt_command_line_tool()"
   ]
  },
  {
   "cell_type": "markdown",
   "id": "3b0e1f87",
   "metadata": {},
   "source": [
    "We can look to see what files we have using the following command. the `!` tells this notebook to run a command on the underlying linux operating system, and `ls` in linux is a command to list files. "
   ]
  },
  {
   "cell_type": "code",
   "execution_count": null,
   "id": "42d7502f",
   "metadata": {},
   "outputs": [],
   "source": [
    "!ls"
   ]
  },
  {
   "cell_type": "markdown",
   "id": "4540440f",
   "metadata": {},
   "source": [
    "The file with the channels is the one with `chi_data_map` in the filename. We are going to load this into a `pandas` dataframe. You can think of `pandas` as a kind of excel for python. It does data handling of spreadsheet-like information (and loads more.)"
   ]
  },
  {
   "cell_type": "code",
   "execution_count": null,
   "id": "71772df3",
   "metadata": {},
   "outputs": [],
   "source": [
    "df = pd.read_csv(\"rio_aguas_AW3D30_UTM_chi_data_map.csv\")\n",
    "df.head()"
   ]
  },
  {
   "cell_type": "code",
   "execution_count": null,
   "id": "513ab4ae",
   "metadata": {},
   "outputs": [],
   "source": [
    "Okay, now lets look at what we got. This script allows you to plot the channels. "
   ]
  },
  {
   "cell_type": "code",
   "execution_count": null,
   "id": "9b88365b",
   "metadata": {},
   "outputs": [],
   "source": [
    "# Look at the data frame above and see if you can change the plotting_column to something else like the \n",
    "\n",
    "%matplotlib inline\n",
    "fname_prefix = \"rio_aguas_AW3D30_UTM\"\n",
    "ChannelFileName = \"rio_aguas_AW3D30_UTM_chi_data_map.csv\"\n",
    "DataDirectory = \"./\"\n",
    "lsdmw.PrintChiChannelsAndBasins(DataDirectory,fname_prefix, ChannelFileName, \n",
    "                                add_basin_labels = True, cmap = \"jet\", cbar_loc = \"right\", \n",
    "                                colorbarlabel = \"elevation (m)\", size_format = \"ESURF\", fig_format = \"png\", \n",
    "                                dpi = 400,plotting_column = \"elevation\")\n",
    "\n",
    "Image('rio_aguas_AW3D30_UTM_chi_channels_and_basins.png')"
   ]
  },
  {
   "cell_type": "code",
   "execution_count": null,
   "id": "4c06934b",
   "metadata": {},
   "outputs": [],
   "source": [
    "!ls *.png"
   ]
  },
  {
   "cell_type": "markdown",
   "id": "3e00491e",
   "metadata": {},
   "source": [
    "## Looking at individual channels using pandas"
   ]
  },
  {
   "cell_type": "markdown",
   "id": "5b443f91",
   "metadata": {},
   "source": [
    "Okay, lets look at some individual channels. We can do this by selecting data in the dataframe. "
   ]
  },
  {
   "cell_type": "code",
   "execution_count": null,
   "id": "1f748349",
   "metadata": {},
   "outputs": [],
   "source": [
    "# First lets isolate just one of these basins. There is only basin 0 and 1\n",
    "df_b1 = df[(df['basin_key'] == 0)]\n",
    "df_b1.head()"
   ]
  },
  {
   "cell_type": "markdown",
   "id": "9e3031b9",
   "metadata": {},
   "source": [
    "We can plot this channel:"
   ]
  },
  {
   "cell_type": "code",
   "execution_count": null,
   "id": "05ac9988",
   "metadata": {},
   "outputs": [],
   "source": [
    "plt.rcParams['figure.figsize'] = [10, 5]\n",
    "\n",
    "# First lets isolate just one of these basins. There is only basin 0 and 1\n",
    "df_b1 = df[(df['basin_key'] == 0)]\n",
    "\n",
    "# The main stem channel is the one with the minimum source key in this basin\n",
    "min_source = np.amin(df_b1.source_key)\n",
    "df_b2 = df_b1[(df_b1['source_key'] == min_source)]\n",
    "\n",
    "# Now make channel profile plots\n",
    "z = df_b2.elevation\n",
    "x_locs = df_b2.flow_distance\n",
    "\n",
    "# Create two subplots and unpack the output array immediately\n",
    "plt.clf()\n",
    "f, (ax1) = plt.subplots(1, 1)\n",
    "ax1.scatter(x_locs, z,s = 0.2)\n",
    "\n",
    "ax1.set_xlabel(\"Distance from outlet ($m$)\")\n",
    "ax1.set_ylabel(\"elevation (m)\")\n",
    "\n",
    "plt.tight_layout()"
   ]
  },
  {
   "cell_type": "markdown",
   "id": "b38e490f",
   "metadata": {},
   "source": [
    "Maybe you want to know the slope of this channel. You can do this by using the `numpy` gradient function. "
   ]
  },
  {
   "cell_type": "code",
   "execution_count": null,
   "id": "ed8b19ec",
   "metadata": {
    "scrolled": true
   },
   "outputs": [],
   "source": [
    "z = df.elevation\n",
    "x = df.flow_distance\n",
    "S = np.gradient(np.asarray(z),np.asarray(x))\n",
    "df[\"slope\"] = S\n",
    "df.head()"
   ]
  },
  {
   "cell_type": "markdown",
   "id": "7a85fa98",
   "metadata": {},
   "source": [
    "Now we plot this. It is very similar to the plot above but now has the slope"
   ]
  },
  {
   "cell_type": "code",
   "execution_count": null,
   "id": "29d2a41c",
   "metadata": {
    "scrolled": false
   },
   "outputs": [],
   "source": [
    "plt.rcParams['figure.figsize'] = [10, 10]\n",
    "\n",
    "# First lets isolate just one of these basins. There is only basin 0 and 1\n",
    "df_b1 = df[(df['basin_key'] == 0)]\n",
    "\n",
    "# The main stem channel is the one with the minimum source key in this basin\n",
    "min_source = np.amin(df_b1.source_key)\n",
    "df_b2 = df_b1[(df_b1['source_key'] == min_source)]\n",
    "\n",
    "# Now make channel profile plots\n",
    "z = df_b2.elevation\n",
    "x_locs = df_b2.flow_distance\n",
    "S = df_b2.slope\n",
    "\n",
    "# Create two subplots and unpack the output array immediately\n",
    "plt.clf()\n",
    "f, (ax1, ax2) = plt.subplots(2, 1)\n",
    "ax1.scatter(x_locs, z,s = 0.2)\n",
    "ax2.scatter(x_locs, S,s = 1,c=\"r\")\n",
    "\n",
    "ax1.set_xlabel(\"Distance from outlet ($m$)\")\n",
    "ax1.set_ylabel(\"elevation (m)\")\n",
    "\n",
    "ax2.set_xlabel(\"Distance from outlet ($m$)\")\n",
    "ax2.set_ylabel(\"Slope (m/m)\")\n",
    "\n",
    "plt.tight_layout()"
   ]
  },
  {
   "cell_type": "markdown",
   "id": "be239037",
   "metadata": {},
   "source": [
    "This slope (bottom figure) is very noisy. One way to deal with this is to smooth the data. We can smooth the data by running a mobing window over it and doing some averaging inside the window. \n",
    "\n",
    "Python has lots of tools for this. In this case I use a `rolling` window and I have picked various settings. You don't need to worry about this too much, the only number that you might wanty to play with is the first number after `rolling` which is the number of datapoints in the window. The bigger this number, the more smoothed the data becomes. "
   ]
  },
  {
   "cell_type": "code",
   "execution_count": null,
   "id": "6c7d0635",
   "metadata": {
    "scrolled": true
   },
   "outputs": [],
   "source": [
    "df['slope_rolling'] = df.slope.rolling(40,win_type='hamming').mean()\n",
    "df.head()"
   ]
  },
  {
   "cell_type": "markdown",
   "id": "5f4b68d0",
   "metadata": {},
   "source": [
    "Lets have a look at what this smoothing has done. "
   ]
  },
  {
   "cell_type": "code",
   "execution_count": null,
   "id": "8483907c",
   "metadata": {
    "scrolled": false
   },
   "outputs": [],
   "source": [
    "plt.rcParams['figure.figsize'] = [10, 5]\n",
    "\n",
    "# First lets isolate just one of these basins. There is only basin 0 and 1\n",
    "df_b1 = df[(df['basin_key'] == 0)]\n",
    "\n",
    "# The main stem channel is the one with the minimum source key in this basin\n",
    "min_source = np.amin(df_b1.source_key)\n",
    "df_b2 = df_b1[(df_b1['source_key'] == min_source)]\n",
    "\n",
    "# Now make channel profile plots\n",
    "z = df_b2.elevation\n",
    "x_locs = df_b2.flow_distance\n",
    "S = df_b2.slope\n",
    "SR = df_b2.slope_rolling\n",
    "\n",
    "# Create two subplots and unpack the output array immediately\n",
    "plt.clf()\n",
    "f, (ax1) = plt.subplots(1, 1)\n",
    "ax1.scatter(x_locs, S,s = 0.2, label = \"slope\")\n",
    "ax1.scatter(x_locs, SR,s = 1,c=\"r\", label = \"rolling slope\")\n",
    "\n",
    "ax1.set_xlabel(\"Distance from outlet ($m$)\")\n",
    "ax1.set_ylabel(\"Slope and rolling slope (m/m)\")\n",
    "\n",
    "plt.legend()\n",
    "\n",
    "\n",
    "plt.tight_layout()"
   ]
  },
  {
   "cell_type": "code",
   "execution_count": null,
   "id": "e93416e6",
   "metadata": {},
   "outputs": [],
   "source": [
    "Now we can compare the channel profile to the channel gradients and see if the channel gradient is steep where you think it might be."
   ]
  },
  {
   "cell_type": "code",
   "execution_count": null,
   "id": "a8d9cf11",
   "metadata": {},
   "outputs": [],
   "source": [
    "plt.rcParams['figure.figsize'] = [10, 5]\n",
    "\n",
    "# First lets isolate just one of these basins. There is only basin 0 and 1\n",
    "df_b1 = df[(df['basin_key'] == 0)]\n",
    "\n",
    "# The main stem channel is the one with the minimum source key in this basin\n",
    "# If you want to play with this a bit you can change the source number to look at different channels\n",
    "min_source = np.amin(df_b1.source_key)\n",
    "df_b2 = df_b1[(df_b1['source_key'] == min_source)]\n",
    "\n",
    "# Now make channel profile plots\n",
    "z = df_b2.elevation\n",
    "x_locs = df_b2.flow_distance\n",
    "S = df_b2.slope\n",
    "SR = df_b2.slope_rolling\n",
    "\n",
    "# Create two subplots and unpack the output array immediately\n",
    "plt.clf()\n",
    "f, (ax1) = plt.subplots(1, 1)\n",
    "ax2 = ax1.twinx()  # instantiate a second axes that shares the same x-axis\n",
    "\n",
    "# Make the scatter plots\n",
    "ax1.scatter(x_locs, z,s = 1, label='Longitudinal profile')\n",
    "ax2.scatter(x_locs, SR,s = 1,c=\"r\", label='Channel slope')\n",
    "\n",
    "# Some code to make sure the legend renders on the same axis\n",
    "lines, labels = ax1.get_legend_handles_labels()\n",
    "lines2, labels2 = ax2.get_legend_handles_labels()\n",
    "ax2.legend(lines + lines2, labels + labels2, loc=0)\n",
    "\n",
    "ax1.set_xlabel(\"Distance from outlet ($m$)\")\n",
    "ax1.set_ylabel(\"Elevation (m)\")\n",
    "\n",
    "ax2.set_xlabel(\"Distance from outlet ($m$)\")\n",
    "ax2.set_ylabel(\"Rolling Slope (m/m)\")\n",
    "\n",
    "plt.tight_layout()"
   ]
  },
  {
   "cell_type": "markdown",
   "id": "f2c96648",
   "metadata": {},
   "source": [
    "## What you should have learned and potential modifications"
   ]
  },
  {
   "cell_type": "markdown",
   "id": "d84af7a2",
   "metadata": {},
   "source": [
    "You should now have seen\n",
    "\n",
    "* How to extract some basins and channels.\n",
    "* How to look at some data in a csv and select and subset the data (e.g., by using `df_b1 = df[(df['basin_key'] == 0)]` syntax. \n",
    "* How to plot some channel profiles and get channel slope. \n",
    "\n",
    "Next steps\n",
    "\n",
    "* Trying picking another channel (either with a different basin or with a different source key) and repeating the steps. "
   ]
  },
  {
   "cell_type": "code",
   "execution_count": null,
   "id": "6f34d103",
   "metadata": {},
   "outputs": [],
   "source": []
  }
 ],
 "metadata": {
  "kernelspec": {
   "display_name": "Python 3 (ipykernel)",
   "language": "python",
   "name": "python3"
  },
  "language_info": {
   "codemirror_mode": {
    "name": "ipython",
    "version": 3
   },
   "file_extension": ".py",
   "mimetype": "text/x-python",
   "name": "python",
   "nbconvert_exporter": "python",
   "pygments_lexer": "ipython3",
   "version": "3.8.10"
  }
 },
 "nbformat": 4,
 "nbformat_minor": 5
}
