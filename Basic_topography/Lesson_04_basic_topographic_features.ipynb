{
  "cells": [
    {
      "cell_type": "markdown",
      "metadata": {
        "id": "view-in-github",
        "colab_type": "text"
      },
      "source": [
        "<a href=\"https://colab.research.google.com/github/simon-m-mudd/smm_teaching_notebooks/blob/master/Basic_topography/Lesson_04_basic_topographic_features.ipynb\" target=\"_parent\"><img src=\"https://colab.research.google.com/assets/colab-badge.svg\" alt=\"Open In Colab\"/></a>"
      ]
    },
    {
      "cell_type": "markdown",
      "id": "4f039f16",
      "metadata": {
        "id": "4f039f16"
      },
      "source": [
        "# Lesson 04: Basic topographic features"
      ]
    },
    {
      "cell_type": "markdown",
      "id": "e47a2831",
      "metadata": {
        "id": "e47a2831"
      },
      "source": [
        "*This lesson made by Simon M Mudd and last updated 18/09/2023*"
      ]
    },
    {
      "cell_type": "markdown",
      "id": "87a5939a",
      "metadata": {
        "id": "87a5939a"
      },
      "source": [
        "In this lesson we are going to do some basic analysis of topography. There are a lot of different software tools for doing this, for example:\n",
        "* [Whitebox](https://www.whiteboxgeo.com/download-whiteboxtools/)\n",
        "* [TopoToolbox](https://topotoolbox.wordpress.com/)\n",
        "* [SAGA](http://www.saga-gis.org/en/index.html)\n",
        "\n",
        "However, for this example we will use [`lsdtopotools`](https://github.com/LSDtopotools) because the person writing this lesson is also the lead developer of that software.\n",
        "\n",
        "Instructions for installing `lsdtopotools` on colab are below, if you are doing this in the University of Edinburgh's Notable environment then the software is already installed."
      ]
    },
    {
      "cell_type": "markdown",
      "id": "15678723",
      "metadata": {
        "id": "15678723"
      },
      "source": [
        "The objective of this practical is to give you a taster of what kinds of things you might do with topographic data."
      ]
    },
    {
      "cell_type": "markdown",
      "metadata": {
        "id": "QKy7_wKyMn9K"
      },
      "source": [
        "## Stuff we need to do if you are in colab (not required in the lsdtopotools pytools container or in notable)"
      ],
      "id": "QKy7_wKyMn9K"
    },
    {
      "cell_type": "markdown",
      "metadata": {
        "id": "994da2f2"
      },
      "source": [
        "**If you are in the `docker_lsdtt_pytools` docker container, you do not need to do any of this.\n",
        "The following is for executing this code in the google colab environment only.**\n",
        "\n",
        "If you are in the docker container you can skip to the **First get data** section."
      ],
      "id": "994da2f2"
    },
    {
      "cell_type": "markdown",
      "metadata": {
        "id": "Ck6Y73gLvbS8"
      },
      "source": [
        "First we install `lsdviztools`. This will take around a minute. It is important you do this before the `condacolab` step."
      ],
      "id": "Ck6Y73gLvbS8"
    },
    {
      "cell_type": "code",
      "execution_count": null,
      "metadata": {
        "id": "Pj2pwsxkvbS8"
      },
      "outputs": [],
      "source": [
        "!pip install lsdviztools &> /dev/null"
      ],
      "id": "Pj2pwsxkvbS8"
    },
    {
      "cell_type": "markdown",
      "metadata": {
        "id": "Fq9UDKZrvbS8"
      },
      "source": [
        "Now we need to install lsdtopotools. We do this using something called `mamba`. To get `mamba` we install something called `condacolab`."
      ],
      "id": "Fq9UDKZrvbS8"
    },
    {
      "cell_type": "code",
      "execution_count": null,
      "metadata": {
        "id": "ea215034"
      },
      "outputs": [],
      "source": [
        "!pip install -q condacolab\n",
        "import condacolab\n",
        "condacolab.install()"
      ],
      "id": "ea215034"
    },
    {
      "cell_type": "markdown",
      "metadata": {
        "id": "9b8c3e17"
      },
      "source": [
        "Now use mamba to install `lsdtopotools`. For this lesson you also need `gdal` and `proj`\n",
        "This step takes a bit over a minute."
      ],
      "id": "9b8c3e17"
    },
    {
      "cell_type": "code",
      "execution_count": null,
      "metadata": {
        "id": "0568f44f"
      },
      "outputs": [],
      "source": [
        "!mamba install -y gdal proj lsdtopotools &> /dev/null"
      ],
      "id": "0568f44f"
    },
    {
      "cell_type": "markdown",
      "source": [
        "And now we need to fix an annoying bug with `gdal`."
      ],
      "metadata": {
        "id": "HtfPg-jXPcSX"
      },
      "id": "HtfPg-jXPcSX"
    },
    {
      "cell_type": "code",
      "source": [
        "import os\n",
        "os.environ['PROJ_LIB'] = '/usr/local/share/proj/'\n",
        "print(os.getenv('PROJ_LIB'))"
      ],
      "metadata": {
        "id": "BMO3Xoz6Pgwz"
      },
      "execution_count": null,
      "outputs": [],
      "id": "BMO3Xoz6Pgwz"
    },
    {
      "cell_type": "markdown",
      "id": "3573edb8",
      "metadata": {
        "id": "3573edb8"
      },
      "source": [
        "## First import some stuff we need"
      ]
    },
    {
      "cell_type": "markdown",
      "id": "4f211d9f",
      "metadata": {
        "id": "4f211d9f"
      },
      "source": [
        "First we make sure lsdviztools version is updated (it needs to be > 0.4.7):\n",
        "\n",
        "**(you don't need to do this in colab, you already have the latest version)**"
      ]
    },
    {
      "cell_type": "code",
      "execution_count": null,
      "id": "2e99ab26",
      "metadata": {
        "id": "2e99ab26"
      },
      "outputs": [],
      "source": [
        "!pip install lsdviztools --upgrade"
      ]
    },
    {
      "cell_type": "markdown",
      "id": "d9796d89",
      "metadata": {
        "id": "d9796d89"
      },
      "source": [
        "Now we import a bunch of stuff"
      ]
    },
    {
      "cell_type": "code",
      "execution_count": null,
      "id": "d8b43e5f",
      "metadata": {
        "id": "d8b43e5f"
      },
      "outputs": [],
      "source": [
        "import lsdviztools.lsdbasemaptools as bmt\n",
        "from lsdviztools.lsdplottingtools import lsdmap_gdalio as gio\n",
        "import lsdviztools.lsdmapwrappers as lsdmw\n",
        "import pandas as pd\n",
        "import geopandas as gpd\n",
        "import cartopy as cp\n",
        "import cartopy.crs as ccrs\n",
        "import rasterio as rio\n",
        "import matplotlib.pyplot as plt\n",
        "import numpy as np"
      ]
    },
    {
      "cell_type": "markdown",
      "source": [
        "## If you are in colab, get the data (again)"
      ],
      "metadata": {
        "id": "XjC7SVFsooY-"
      },
      "id": "XjC7SVFsooY-"
    },
    {
      "cell_type": "markdown",
      "source": [
        "In colab you need to re-download the data in each session.\n",
        "\n",
        "In notable the data has persistance, so you don't need to re-download.\n",
        "\n",
        "You will need to copy `my_OT_api_key.txt` again here. See lesson 01 to see how to to that."
      ],
      "metadata": {
        "id": "ysalRH9Uoril"
      },
      "id": "ysalRH9Uoril"
    },
    {
      "cell_type": "code",
      "source": [
        "lower_left = [36.990554387425014, -2.318307057720176]\n",
        "upper_right = [37.23367133834253, -1.8425313329873874]\n",
        "\n",
        "your_OT_api_key_file = \"my_OT_api_key.txt\"\n",
        "\n",
        "with open(your_OT_api_key_file, 'r') as file:\n",
        "    print(\"I am reading you OT API key from the file \"+your_OT_api_key_file)\n",
        "    api_key = file.read().rstrip()\n",
        "    print(\"Your api key starts with: \"+api_key[0:4])\n",
        "\n",
        "# This downloads Copernicus 30m DEM\n",
        "Aguas_DEM = bmt.ot_scraper(source = \"COP30\",\n",
        "                           lower_left_coordinates = lower_left,\n",
        "                           upper_right_coordinates = upper_right,\n",
        "                           prefix = \"rio_aguas\",\n",
        "                           api_key_file = your_OT_api_key_file)\n",
        "Aguas_DEM.print_parameters()\n",
        "Aguas_DEM.download_pythonic()"
      ],
      "metadata": {
        "id": "_T-KbDK3onq8"
      },
      "id": "_T-KbDK3onq8",
      "execution_count": null,
      "outputs": []
    },
    {
      "cell_type": "markdown",
      "id": "b32f6e81",
      "metadata": {
        "id": "b32f6e81"
      },
      "source": [
        "## Data preprocessing"
      ]
    },
    {
      "cell_type": "markdown",
      "id": "692c9ec3",
      "metadata": {
        "id": "692c9ec3"
      },
      "source": [
        "For various historical reasons, **lsdtopotools** does not read *GeoTiff* format, so we need to convert any rasters to [ENVI bil](https://www.l3harrisgeospatial.com/docs/enviimagefiles.html#:~:text=The%20ENVI%20image%20format%20is,an%20accompanying%20ASCII%20header%20file.&text=Band%2Dinterleaved%2Dby%2Dline,to%20the%20number%20of%20bands.) format. **This is not the same as ESRI bil! MAKE SURE YOU USE ENVI BIL!!**\n",
        "\n",
        "You could convert any file to `ENVI bil` format using `gdalwarp` and then including the parameter `-of ENVI` (`of` stands for output format) but `lsdviztools` has some built in functions for doing that for you in python.\n",
        "\n",
        "We are going to use the Copernicus 30 dataset (from the last lesson) for this lesson, and here is the conversion syntax:"
      ]
    },
    {
      "cell_type": "code",
      "execution_count": null,
      "id": "24ac4421",
      "metadata": {
        "scrolled": true,
        "id": "24ac4421"
      },
      "outputs": [],
      "source": [
        "DataDirectory = \"./\"\n",
        "RasterFile = \"rio_aguas_COP30.tif\"\n",
        "gio.convert4lsdtt(DataDirectory, RasterFile,minimum_elevation=0.01,resolution=30)"
      ]
    },
    {
      "cell_type": "markdown",
      "source": [
        "**You can also convert with gdal. But the above script has some advantages:**\n",
        "\n",
        "1. It figures out the UTM zone for you.\n",
        "2. It handles the no data pixels (places in the DEM where you don't have data) better than gdal.\n",
        "\n",
        "However, if you wanted to use gdal you would have a command like this:\n",
        "\n",
        "```\n",
        "!gdalwarp -t_srs EPSG:32630 rio_aguas_COP30.tif -r cubic -tr 30 30 -of ENVI rio_aguas_COP30_UTM.bil\n",
        "```"
      ],
      "metadata": {
        "id": "rRgN352KpSo_"
      },
      "id": "rRgN352KpSo_"
    },
    {
      "cell_type": "markdown",
      "id": "84bdfb29",
      "metadata": {
        "id": "84bdfb29"
      },
      "source": [
        "You can search for specific files using the `!ls` command, so we can look for the file that has been created.\n",
        "\n",
        "There is a `.tif` file from the last lesson, but the two files with extensions `.bil` and `.hdr` are from the conversion. ENVI bil files have all the data in the `.bil` file and all the georeferencing in the `.hdr` file. The `.hdr` file is an ascii file so you can easily open these files in a text editor and see all the important metadata."
      ]
    },
    {
      "cell_type": "code",
      "execution_count": null,
      "id": "828357fc",
      "metadata": {
        "id": "828357fc"
      },
      "outputs": [],
      "source": [
        "!ls rio_aguas_COP30_UTM*"
      ]
    },
    {
      "cell_type": "markdown",
      "id": "5afb07f1",
      "metadata": {
        "id": "5afb07f1"
      },
      "source": [
        "# Now lets do some basic topographic analysis"
      ]
    },
    {
      "cell_type": "markdown",
      "id": "02a578e9",
      "metadata": {
        "id": "02a578e9"
      },
      "source": [
        "Now will extract some topographic metrics using `lsdtopotools`.\n",
        "\n",
        "The `lsdtt_parameters` are the various parameters that you can use to run an analysis. We will discuss these later. For now, we will just follow this recipe."
      ]
    },
    {
      "cell_type": "code",
      "execution_count": null,
      "id": "1cf7f74f",
      "metadata": {
        "id": "1cf7f74f"
      },
      "outputs": [],
      "source": [
        "lsdtt_parameters = {\"write_hillshade\" : \"true\",\n",
        "                    \"surface_fitting_radius\" : \"60\",\n",
        "                    \"print_slope\" : \"true\"}\n",
        "lsdtt_drive = lsdmw.lsdtt_driver(read_prefix = \"rio_aguas_COP30_UTM\",\n",
        "                                 write_prefix= \"rio_aguas_COP30_UTM\",\n",
        "                                 read_path = \"./\",\n",
        "                                 write_path = \"./\",\n",
        "                                 parameter_dictionary=lsdtt_parameters)\n",
        "lsdtt_drive.print_parameters()"
      ]
    },
    {
      "cell_type": "code",
      "execution_count": null,
      "id": "197ccec9",
      "metadata": {
        "id": "197ccec9"
      },
      "outputs": [],
      "source": [
        "lsdtt_drive.run_lsdtt_command_line_tool()"
      ]
    },
    {
      "cell_type": "markdown",
      "id": "ba5bb64e",
      "metadata": {
        "id": "ba5bb64e"
      },
      "source": [
        "# Plot some data"
      ]
    },
    {
      "cell_type": "markdown",
      "id": "7aeb3306",
      "metadata": {
        "id": "7aeb3306"
      },
      "source": [
        "We are now going to do some simple plots using a mapping package that we put together. There are more general ways to visualise data, but this makes pretty pictures quickly.  "
      ]
    },
    {
      "cell_type": "code",
      "execution_count": null,
      "id": "b7231b72",
      "metadata": {
        "scrolled": true,
        "id": "b7231b72"
      },
      "outputs": [],
      "source": [
        "%matplotlib inline\n",
        "Base_file = \"rio_aguas_COP30_UTM\"\n",
        "DataDirectory = \"./\"\n",
        "this_img = lsdmw.SimpleHillshade(DataDirectory,Base_file,cmap=\"gist_earth\", save_fig=True, size_format=\"geomorphology\", dpi=600)"
      ]
    },
    {
      "cell_type": "code",
      "execution_count": null,
      "id": "169403ab",
      "metadata": {
        "id": "169403ab"
      },
      "outputs": [],
      "source": [
        "from IPython.display import Image\n",
        "Image('rio_aguas_COP30_UTM_hillshade.png')"
      ]
    },
    {
      "cell_type": "code",
      "execution_count": null,
      "id": "065282f5",
      "metadata": {
        "id": "065282f5"
      },
      "outputs": [],
      "source": [
        "Base_file = \"rio_aguas_COP30_UTM\"\n",
        "Drape_prefix = \"rio_aguas_COP30_UTM_SLOPE\"\n",
        "DataDirectory = \"./\"\n",
        "img_name2 = lsdmw.SimpleDrape(DataDirectory,Base_file, Drape_prefix,\n",
        "                              cmap = \"bwr\", cbar_loc = \"right\",\n",
        "                              cbar_label = \"Gradient (m/m)\",\n",
        "                              save_fig=True, size_format=\"geomorphology\",\n",
        "                              colour_min_max = [0,1.25])"
      ]
    },
    {
      "cell_type": "code",
      "execution_count": null,
      "id": "af4c0c37",
      "metadata": {
        "id": "af4c0c37"
      },
      "outputs": [],
      "source": [
        "from IPython.display import Image\n",
        "Image('rio_aguas_COP30_UTM_drape.png')"
      ]
    },
    {
      "cell_type": "markdown",
      "id": "eaa91e90",
      "metadata": {
        "id": "eaa91e90"
      },
      "source": [
        "# Get some channel profiles"
      ]
    },
    {
      "cell_type": "markdown",
      "id": "323b933b",
      "metadata": {
        "id": "323b933b"
      },
      "source": [
        "Okay, we will now run a different analysis. We will get some channel profiles."
      ]
    },
    {
      "cell_type": "code",
      "execution_count": null,
      "id": "1a214669",
      "metadata": {
        "id": "1a214669"
      },
      "outputs": [],
      "source": [
        "lsdtt_parameters = {\"print_basin_raster\" : \"true\",\n",
        "                    \"print_chi_data_maps\" : \"true\"}\n",
        "lsdtt_drive = lsdmw.lsdtt_driver(read_prefix = \"rio_aguas_COP30_UTM\",\n",
        "                                 write_prefix= \"rio_aguas_COP30_UTM\",\n",
        "                                 read_path = \"./\",\n",
        "                                 write_path = \"./\",\n",
        "                                 parameter_dictionary=lsdtt_parameters)\n",
        "lsdtt_drive.print_parameters()"
      ]
    },
    {
      "cell_type": "code",
      "execution_count": null,
      "id": "61a913c6",
      "metadata": {
        "id": "61a913c6"
      },
      "outputs": [],
      "source": [
        "lsdtt_drive.run_lsdtt_command_line_tool()"
      ]
    },
    {
      "cell_type": "markdown",
      "id": "3b0e1f87",
      "metadata": {
        "id": "3b0e1f87"
      },
      "source": [
        "We can look to see what files we have using the following command. the `!` tells this notebook to run a command on the underlying linux operating system, and `ls` in linux is a command to list files."
      ]
    },
    {
      "cell_type": "code",
      "execution_count": null,
      "id": "42d7502f",
      "metadata": {
        "id": "42d7502f"
      },
      "outputs": [],
      "source": [
        "!ls"
      ]
    },
    {
      "cell_type": "markdown",
      "id": "4540440f",
      "metadata": {
        "id": "4540440f"
      },
      "source": [
        "The file with the channels is the one with `chi_data_map` in the filename. We are going to load this into a `pandas` dataframe. You can think of `pandas` as a kind of excel for python. It does data handling of spreadsheet-like information (and loads more.)"
      ]
    },
    {
      "cell_type": "code",
      "execution_count": null,
      "id": "71772df3",
      "metadata": {
        "id": "71772df3"
      },
      "outputs": [],
      "source": [
        "df = pd.read_csv(\"rio_aguas_COP30_UTM_chi_data_map.csv\")\n",
        "df.head()"
      ]
    },
    {
      "cell_type": "markdown",
      "id": "ef678035",
      "metadata": {
        "id": "ef678035"
      },
      "source": [
        "Okay, now let's look at what we got. This script allows you to plot the channels."
      ]
    },
    {
      "cell_type": "code",
      "execution_count": null,
      "id": "9b88365b",
      "metadata": {
        "id": "9b88365b"
      },
      "outputs": [],
      "source": [
        "# Look at the data frame above and see if you can change the plotting_column to something else like the\n",
        "\n",
        "%matplotlib inline\n",
        "fname_prefix = \"rio_aguas_COP30_UTM\"\n",
        "ChannelFileName = \"rio_aguas_COP30_UTM_chi_data_map.csv\"\n",
        "DataDirectory = \"./\"\n",
        "lsdmw.PrintChiChannelsAndBasins(DataDirectory,fname_prefix, ChannelFileName,\n",
        "                                add_basin_labels = True, cmap = \"jet\", cbar_loc = \"right\",\n",
        "                                colorbarlabel = \"elevation (m)\", size_format = \"ESURF\", fig_format = \"png\",\n",
        "                                dpi = 400,plotting_column = \"elevation\")\n",
        "\n",
        "Image('rio_aguas_COP30_UTM_chi_channels_and_basins.png')"
      ]
    },
    {
      "cell_type": "markdown",
      "id": "800d1ac9",
      "metadata": {
        "id": "800d1ac9"
      },
      "source": [
        "## Looking at individual channels using pandas"
      ]
    },
    {
      "cell_type": "markdown",
      "id": "c01ada1a",
      "metadata": {
        "id": "c01ada1a"
      },
      "source": [
        "Okay, lets look at some individual channels. We can do this by selecting data in the dataframe."
      ]
    },
    {
      "cell_type": "code",
      "execution_count": null,
      "id": "7bd18691",
      "metadata": {
        "id": "7bd18691"
      },
      "outputs": [],
      "source": [
        "# First lets isolate just one of these basins. There is only basin 0 and 1\n",
        "df_b1 = df[(df['basin_key'] == 0)]\n",
        "df_b1.head()"
      ]
    },
    {
      "cell_type": "markdown",
      "id": "b97aeb9b",
      "metadata": {
        "id": "b97aeb9b"
      },
      "source": [
        "We can plot this channel:"
      ]
    },
    {
      "cell_type": "code",
      "execution_count": null,
      "id": "912505c1",
      "metadata": {
        "id": "912505c1"
      },
      "outputs": [],
      "source": [
        "plt.rcParams['figure.figsize'] = [10, 5]\n",
        "\n",
        "# First lets isolate just one of these basins. There is only basin 0 and 1\n",
        "df_b1 = df[(df['basin_key'] == 0)]\n",
        "\n",
        "# The main stem channel is the one with the minimum source key in this basin\n",
        "min_source = np.amin(df_b1.source_key)\n",
        "df_b2 = df_b1[(df_b1['source_key'] == min_source)]\n",
        "\n",
        "# Now make channel profile plots\n",
        "z = df_b2.elevation\n",
        "x_locs = df_b2.flow_distance\n",
        "\n",
        "# Create two subplots and unpack the output array immediately\n",
        "plt.clf()\n",
        "f, (ax1) = plt.subplots(1, 1)\n",
        "ax1.scatter(x_locs, z,s = 0.2)\n",
        "\n",
        "ax1.set_xlabel(\"Distance from outlet ($m$)\")\n",
        "ax1.set_ylabel(\"elevation (m)\")\n",
        "\n",
        "plt.tight_layout()"
      ]
    },
    {
      "cell_type": "markdown",
      "id": "122b9f8f",
      "metadata": {
        "id": "122b9f8f"
      },
      "source": [
        "Maybe you want to know the slope of this channel. You can do this by using the `numpy` gradient function."
      ]
    },
    {
      "cell_type": "code",
      "execution_count": null,
      "id": "353250ab",
      "metadata": {
        "scrolled": true,
        "id": "353250ab"
      },
      "outputs": [],
      "source": [
        "z = df.elevation\n",
        "x = df.flow_distance\n",
        "S = np.gradient(np.asarray(z),np.asarray(x))\n",
        "df[\"slope\"] = S\n",
        "df.head()"
      ]
    },
    {
      "cell_type": "markdown",
      "id": "f20cf2a4",
      "metadata": {
        "id": "f20cf2a4"
      },
      "source": [
        "Now we plot this. It is very similar to the plot above but now has the slope"
      ]
    },
    {
      "cell_type": "code",
      "execution_count": null,
      "id": "a499d370",
      "metadata": {
        "scrolled": false,
        "id": "a499d370"
      },
      "outputs": [],
      "source": [
        "plt.rcParams['figure.figsize'] = [10, 10]\n",
        "\n",
        "# First lets isolate just one of these basins. There is only basin 0 and 1\n",
        "df_b1 = df[(df['basin_key'] == 0)]\n",
        "\n",
        "# The main stem channel is the one with the minimum source key in this basin\n",
        "min_source = np.amin(df_b1.source_key)\n",
        "df_b2 = df_b1[(df_b1['source_key'] == min_source)]\n",
        "\n",
        "# Now make channel profile plots\n",
        "z = df_b2.elevation\n",
        "x_locs = df_b2.flow_distance\n",
        "S = df_b2.slope\n",
        "\n",
        "# Create two subplots and unpack the output array immediately\n",
        "plt.clf()\n",
        "f, (ax1, ax2) = plt.subplots(2, 1)\n",
        "ax1.scatter(x_locs, z,s = 0.2)\n",
        "ax2.scatter(x_locs, S,s = 1,c=\"r\")\n",
        "\n",
        "ax1.set_xlabel(\"Distance from outlet ($m$)\")\n",
        "ax1.set_ylabel(\"elevation (m)\")\n",
        "\n",
        "ax2.set_xlabel(\"Distance from outlet ($m$)\")\n",
        "ax2.set_ylabel(\"Slope (m/m)\")\n",
        "\n",
        "plt.tight_layout()"
      ]
    },
    {
      "cell_type": "markdown",
      "id": "a6ed1c7c",
      "metadata": {
        "id": "a6ed1c7c"
      },
      "source": [
        "This slope (bottom figure) is very noisy. One way to deal with this is to smooth the data. We can smooth the data by running a moving window over it and doing some averaging inside the window.\n",
        "\n",
        "Python has lots of tools for this. In this case I use a `rolling` window and I have picked various settings. You don't need to worry about this too much, the only number that you might want to play with is the first number after `rolling` which is the number of datapoints in the window. The bigger this number, the more smoothed the data becomes."
      ]
    },
    {
      "cell_type": "code",
      "execution_count": null,
      "id": "52af9695",
      "metadata": {
        "scrolled": true,
        "id": "52af9695"
      },
      "outputs": [],
      "source": [
        "df['slope_rolling'] = df.slope.rolling(40,win_type='hamming').mean()\n",
        "df.head()"
      ]
    },
    {
      "cell_type": "markdown",
      "id": "fc8f7be5",
      "metadata": {
        "id": "fc8f7be5"
      },
      "source": [
        "Lets have a look at what this smoothing has done."
      ]
    },
    {
      "cell_type": "code",
      "execution_count": null,
      "id": "a94d2ad3",
      "metadata": {
        "scrolled": false,
        "id": "a94d2ad3"
      },
      "outputs": [],
      "source": [
        "plt.rcParams['figure.figsize'] = [10, 5]\n",
        "\n",
        "# First lets isolate just one of these basins. There is only basin 0 and 1\n",
        "df_b1 = df[(df['basin_key'] == 0)]\n",
        "\n",
        "# The main stem channel is the one with the minimum source key in this basin\n",
        "min_source = np.amin(df_b1.source_key)\n",
        "df_b2 = df_b1[(df_b1['source_key'] == min_source)]\n",
        "\n",
        "# Now make channel profile plots\n",
        "z = df_b2.elevation\n",
        "x_locs = df_b2.flow_distance\n",
        "S = df_b2.slope\n",
        "SR = df_b2.slope_rolling\n",
        "\n",
        "# Create two subplots and unpack the output array immediately\n",
        "plt.clf()\n",
        "f, (ax1) = plt.subplots(1, 1)\n",
        "ax1.scatter(x_locs, S,s = 0.2, label = \"slope\")\n",
        "ax1.scatter(x_locs, SR,s = 1,c=\"r\", label = \"rolling slope\")\n",
        "\n",
        "ax1.set_xlabel(\"Distance from outlet ($m$)\")\n",
        "ax1.set_ylabel(\"Slope and rolling slope (m/m)\")\n",
        "\n",
        "plt.legend()\n",
        "\n",
        "\n",
        "plt.tight_layout()"
      ]
    },
    {
      "cell_type": "markdown",
      "id": "4404e055",
      "metadata": {
        "id": "4404e055"
      },
      "source": [
        "Now we can compare the channel profile to the channel gradients and see if the channel gradient is steep where you think it might be."
      ]
    },
    {
      "cell_type": "code",
      "execution_count": null,
      "id": "fee2536d",
      "metadata": {
        "id": "fee2536d"
      },
      "outputs": [],
      "source": [
        "plt.rcParams['figure.figsize'] = [10, 5]\n",
        "\n",
        "# First lets isolate just one of these basins. There is only basin 0 and 1\n",
        "df_b1 = df[(df['basin_key'] == 0)]\n",
        "\n",
        "# The main stem channel is the one with the minimum source key in this basin\n",
        "# If you want to play with this a bit you can change the source number to look at different channels\n",
        "min_source = np.amin(df_b1.source_key)\n",
        "df_b2 = df_b1[(df_b1['source_key'] == min_source)]\n",
        "\n",
        "# Now make channel profile plots\n",
        "z = df_b2.elevation\n",
        "x_locs = df_b2.flow_distance\n",
        "S = df_b2.slope\n",
        "SR = df_b2.slope_rolling\n",
        "\n",
        "# Create two subplots and unpack the output array immediately\n",
        "plt.clf()\n",
        "f, (ax1) = plt.subplots(1, 1)\n",
        "ax2 = ax1.twinx()  # instantiate a second axes that shares the same x-axis\n",
        "\n",
        "# Make the scatter plots\n",
        "ax1.scatter(x_locs, z,s = 1, label='Longitudinal profile')\n",
        "ax2.scatter(x_locs, SR,s = 1,c=\"r\", label='Channel slope')\n",
        "\n",
        "# Some code to make sure the legend renders on the same axis\n",
        "lines, labels = ax1.get_legend_handles_labels()\n",
        "lines2, labels2 = ax2.get_legend_handles_labels()\n",
        "ax2.legend(lines + lines2, labels + labels2, loc=0)\n",
        "\n",
        "ax1.set_xlabel(\"Distance from outlet ($m$)\")\n",
        "ax1.set_ylabel(\"Elevation (m)\")\n",
        "\n",
        "ax2.set_xlabel(\"Distance from outlet ($m$)\")\n",
        "ax2.set_ylabel(\"Rolling Slope (m/m)\")\n",
        "\n",
        "plt.tight_layout()"
      ]
    },
    {
      "cell_type": "markdown",
      "id": "2b60872c",
      "metadata": {
        "id": "2b60872c"
      },
      "source": [
        "Okay, so now you have some very basic experience in getting some topographic metrics (Here gradient. You could also extract curvature). You also have extracted some basins and can see where they are, and you can look at some channel characteristics."
      ]
    },
    {
      "cell_type": "markdown",
      "id": "46007fa6",
      "metadata": {
        "id": "46007fa6"
      },
      "source": [
        "## What you should have learned and potential modifications"
      ]
    },
    {
      "cell_type": "markdown",
      "id": "ef4d3eea",
      "metadata": {
        "id": "ef4d3eea"
      },
      "source": [
        "You should now have seen\n",
        "\n",
        "* How to extract some basins and channels.\n",
        "* How to look at some data in a csv and select and subset the data (e.g., by using `df_b1 = df[(df['basin_key'] == 0)]` syntax).\n",
        "* How to plot some channel profiles and get channel slope.\n",
        "\n",
        "Next steps\n",
        "\n",
        "* Trying picking another channel (either with a different basin or with a different source key) and repeating the steps."
      ]
    }
  ],
  "metadata": {
    "kernelspec": {
      "display_name": "Python 3 (ipykernel)",
      "language": "python",
      "name": "python3"
    },
    "language_info": {
      "codemirror_mode": {
        "name": "ipython",
        "version": 3
      },
      "file_extension": ".py",
      "mimetype": "text/x-python",
      "name": "python",
      "nbconvert_exporter": "python",
      "pygments_lexer": "ipython3",
      "version": "3.8.13"
    },
    "colab": {
      "provenance": [],
      "include_colab_link": true
    }
  },
  "nbformat": 4,
  "nbformat_minor": 5
}