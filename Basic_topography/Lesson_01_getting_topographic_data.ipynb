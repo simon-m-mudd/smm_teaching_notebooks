{
 "cells": [
  {
   "cell_type": "markdown",
   "id": "4f039f16",
   "metadata": {},
   "source": [
    "# Lesson 01: Getting topographic data"
   ]
  },
  {
   "cell_type": "markdown",
   "id": "e47a2831",
   "metadata": {},
   "source": [
    "*This lesson made by Simon M Mudd and last updated 20/11/2021*"
   ]
  },
  {
   "cell_type": "markdown",
   "id": "87a5939a",
   "metadata": {},
   "source": [
    "In this lesson we will grab some topographic data from the internet using [Opentopography](https://opentopography.org/).\n",
    "\n",
    "[Opentopography](https://opentopography.org/) hosts a large number of topographic datasets and is supported by the National Science Foundation of the United States. "
   ]
  },
  {
   "cell_type": "markdown",
   "id": "15678723",
   "metadata": {},
   "source": [
    "*LESSON SHORTCUT*\n",
    "\n",
    "If you want to run a full analysis of a place of your choosing just modify the (tbc)"
   ]
  },
  {
   "cell_type": "markdown",
   "id": "addebe38",
   "metadata": {},
   "source": [
    "## What you can find on OpenTopography"
   ]
  },
  {
   "cell_type": "markdown",
   "id": "09658819",
   "metadata": {},
   "source": [
    "You can see what is on OpenTopograhy by [following this link](https://portal.opentopography.org/dataCatalog)\n",
    "\n",
    "But briefly it has:\n",
    "    \n",
    "* Several global topographic datasets. \n",
    "    * Shuttle Radar Topography Mission (SRTM) data, at approxamately 30 and 90 m grid resolutions. Based on radar data. \n",
    "    * The NASADEM, which is a reprocessed version of the SRTM data (so theoretically better quality than SRTM from the same base data).\n",
    "    * The ALOS World 3D 30 m dataset. This is based on optical data made using photogrammetry from the ALOS satellites. It is a downscaled version of the 5 m dataset (the difference is that the 30 m one is free).\n",
    "    * The Copernicus DEM, which is 30m grid comes from a variety of sources but much of it from the TanDEM-X radar satellites.\n",
    "* Vast quantities of high resolution data from lidar (cm scale point clouds and 1 m grid resolution DEMs).\n",
    "    * These data are mostly from the United States but the site also has selected data from around the world (for example there are a number of datasets from New Zealand)\n",
    "\n",
    "OpenTopography has an api for its global dataset so it is, by some wide margin, the most convinent place to source global data at 30 m grid spacing or coarser. \n",
    "\n",
    "Here is the link to the [api key](https://portal.opentopography.org/apidocs/#/Public/getGlobalDem)\n",
    "\n",
    "However, we will use a tool to grab this data called `lsdviztools` which was written at the University of Edinburgh."
   ]
  },
  {
   "cell_type": "markdown",
   "id": "3573edb8",
   "metadata": {},
   "source": [
    "## First import some stuff we need"
   ]
  },
  {
   "cell_type": "markdown",
   "id": "cd297d0a",
   "metadata": {},
   "source": [
    "We need to update a package called `lsdviztools` that has a subcomponent for grabbing opentopography data. "
   ]
  },
  {
   "cell_type": "code",
   "execution_count": 1,
   "id": "097dbb7d",
   "metadata": {},
   "outputs": [],
   "source": [
    "#!pip install lsdviztools --upgrade"
   ]
  },
  {
   "cell_type": "markdown",
   "id": "674e4325",
   "metadata": {},
   "source": [
    "Double check that the version is correct. For this lesson we need version 0.4.6 or above."
   ]
  },
  {
   "cell_type": "code",
   "execution_count": 1,
   "id": "4039f9a5",
   "metadata": {},
   "outputs": [
    {
     "data": {
      "text/plain": [
       "'0.4.7'"
      ]
     },
     "execution_count": 1,
     "metadata": {},
     "output_type": "execute_result"
    }
   ],
   "source": [
    "import lsdviztools\n",
    "lsdviztools.__version__"
   ]
  },
  {
   "cell_type": "markdown",
   "id": "a555067a",
   "metadata": {},
   "source": [
    "Now import a bunch of other stuff for the lesson"
   ]
  },
  {
   "cell_type": "code",
   "execution_count": 2,
   "id": "d8b43e5f",
   "metadata": {},
   "outputs": [],
   "source": [
    "import lsdviztools.lsdbasemaptools as bmt\n",
    "from lsdviztools.lsdplottingtools import lsdmap_gdalio as gio\n",
    "import lsdviztools.lsdmapwrappers as lsdmw\n",
    "import pandas as pd\n",
    "import geopandas as gpd\n",
    "import cartopy as cp\n",
    "import cartopy.crs as ccrs\n",
    "import rasterio as rio\n",
    "import matplotlib.pyplot as plt\n",
    "import numpy as np"
   ]
  },
  {
   "cell_type": "markdown",
   "id": "b32f6e81",
   "metadata": {},
   "source": [
    "## Grab some data"
   ]
  },
  {
   "cell_type": "markdown",
   "id": "692c9ec3",
   "metadata": {},
   "source": [
    "Okay, lets grab some data! We use a tool in `lsdviztools.lsdbasemaptools` called the `ot_scraper` (`ot` is for opentopography.org).\n",
    "\n",
    "Below is some code for grabbing data from opentopography. It uses the syntax:\n",
    "\n",
    "`DEM_name = bmt.ot_scraper(parameters=...)`\n",
    "\n",
    "where you need to give it some paramaters. These are things like what sort of data you want (most people will use the SRTM 30 metre data) and you also tell it the lower left and the upper right corners, using latitude and longitude. You can get these from goole earth by right clicking on the map and selecting \"what's here\". \n",
    "\n",
    "In this example I use the Rio Aguas in southern Spain (a place we run field courses). "
   ]
  },
  {
   "cell_type": "markdown",
   "id": "5943beeb",
   "metadata": {},
   "source": [
    "We designate the parameters by giving the lower left and upper right coordinates of the area from which you want the DEM. \n",
    "\n",
    "The format of these is so that you can right click on google maps and click on the coordinates, which will copy them to your clipboard, and you can paste them in to the lower left and upper right coordinates.\n",
    "\n",
    "These coordinates are lists so you need them in square brackets. "
   ]
  },
  {
   "cell_type": "code",
   "execution_count": 3,
   "id": "780ee8bf",
   "metadata": {},
   "outputs": [],
   "source": [
    "lower_left = [36.990554387425014, -2.318307057720176]\n",
    "upper_right = [37.23367133834253, -1.8425313329873874]"
   ]
  },
  {
   "cell_type": "markdown",
   "id": "2dc9561c",
   "metadata": {},
   "source": [
    "Okay, below is the syntax for downloading the data."
   ]
  },
  {
   "cell_type": "code",
   "execution_count": 5,
   "id": "f37ab568",
   "metadata": {},
   "outputs": [
    {
     "name": "stdout",
     "output_type": "stream",
     "text": [
      "I am taking your coordinates from the lower left list\n",
      "I am taking your coordinates from the upper right list\n",
      "The source is: SRTMGL1\n",
      "The west longitude is: -2.318307057720176\n",
      "The east longitude is: -1.8425313329873874\n",
      "The south latitude is: 37.23367133834253\n",
      "The north latitude is: 36.990554387425014\n",
      "The path is: ./\n",
      "The prefix is: rio_aguas\n",
      "The resolution is: 30\n",
      "I am going to download the following for you:\n",
      "https://portal.opentopography.org/API/globaldem?demtype=SRTMGL1&south=36.990554387425014&north=37.23367133834253&west=-2.318307057720176&east=-1.8425313329873874&outputFormat=GTiff\n",
      "This might take a little while, depending on the size of the file. \n",
      "The filename will be:\n",
      "./rio_aguas_SRTMGL1.tif\n",
      "The path and file without path are:\n",
      "./  rio_aguas_SRTMGL1.tif\n",
      "Finished downloading\n"
     ]
    },
    {
     "data": {
      "text/plain": [
       "('./rio_aguas_SRTMGL1.tif', './', 'rio_aguas_SRTMGL1.tif')"
      ]
     },
     "execution_count": 5,
     "metadata": {},
     "output_type": "execute_result"
    }
   ],
   "source": [
    "Aguas_DEM = bmt.ot_scraper(source = \"SRTMGL1\",\n",
    "                           lower_left_coordinates = lower_left, \n",
    "                           upper_right_coordinates = upper_right,\n",
    "                           prefix = \"rio_aguas\") \n",
    "Aguas_DEM.print_parameters()\n",
    "Aguas_DEM.download_pythonic()"
   ]
  },
  {
   "cell_type": "code",
   "execution_count": null,
   "id": "3dea110c",
   "metadata": {},
   "outputs": [],
   "source": [
    "Aguas_DEM = bmt.ot_scraper(source = \"SRTM30\",\n",
    "                           longitude_W = -2.318307057720176, longitude_E = -1.8425313329873874, \n",
    "                           latitude_S = 36.990554387425014, latitude_N = 37.23367133834253,\n",
    "                           prefix = \"rio_aguas\") \n",
    "Aguas_DEM.print_parameters()\n",
    "Aguas_DEM.download_pythonic()"
   ]
  },
  {
   "cell_type": "markdown",
   "id": "efe2a42c",
   "metadata": {},
   "source": [
    "We need to convert this data into a format that can be understood by *lsdtopotools*, which is a topographic analysis package developed at the University of Edinburgh. "
   ]
  },
  {
   "cell_type": "code",
   "execution_count": null,
   "id": "516696cc",
   "metadata": {},
   "outputs": [],
   "source": [
    "DataDirectory = \"./\"\n",
    "RasterFile = \"rio_aguas_SRTMGL1.tif\"\n",
    "gio.convert4lsdtt(DataDirectory, RasterFile,minimum_elevation=0.01,resolution=30)"
   ]
  },
  {
   "cell_type": "markdown",
   "id": "5afb07f1",
   "metadata": {},
   "source": [
    "# Now lets do some basic topographic analysis"
   ]
  },
  {
   "cell_type": "markdown",
   "id": "02a578e9",
   "metadata": {},
   "source": [
    "For this to work you need *lsdtopotools* installed on your system. But if you are using either Edinburgh's noteable service or the *lsdtopotools* docker container, it is already installed. If you are not using one of these, you will need to install it using conda (see *lsdtopotools* installation instructions. \n",
    "\n",
    "We will extract some topogaphic metrics using `lsdtopotools`. \n",
    "\n",
    "The `lsdtt_parameters` are the various parameters that you can use to run an analysis. We will discuss these later. For now, we will just follow this recipe. "
   ]
  },
  {
   "cell_type": "code",
   "execution_count": null,
   "id": "1cf7f74f",
   "metadata": {},
   "outputs": [],
   "source": [
    "lsdtt_parameters = {\"write_hillshade\" : \"true\",  \n",
    "                    \"surface_fitting_radius\" : \"60\",\n",
    "                    \"print_slope\" : \"true\"}\n",
    "lsdtt_drive = lsdmw.lsdtt_driver(read_prefix = \"rio_aguas_SRTMGL1_UTM\",\n",
    "                                 write_prefix= \"rio_aguas_SRTMGL1_UTM\",\n",
    "                                 read_path = \"./\",\n",
    "                                 write_path = \"./\",\n",
    "                                 parameter_dictionary=lsdtt_parameters)\n",
    "lsdtt_drive.print_parameters()"
   ]
  },
  {
   "cell_type": "code",
   "execution_count": null,
   "id": "197ccec9",
   "metadata": {},
   "outputs": [],
   "source": [
    "lsdtt_drive.run_lsdtt_command_line_tool()"
   ]
  },
  {
   "cell_type": "markdown",
   "id": "ba5bb64e",
   "metadata": {},
   "source": [
    "# Plot some data"
   ]
  },
  {
   "cell_type": "markdown",
   "id": "7aeb3306",
   "metadata": {},
   "source": [
    "We are now going to do some simple plots using a mapping package that we put together. There are more general ways to visualise data, but this makes pretty pictures quickly.  "
   ]
  },
  {
   "cell_type": "code",
   "execution_count": null,
   "id": "b7231b72",
   "metadata": {},
   "outputs": [],
   "source": [
    "%matplotlib inline\n",
    "Base_file = \"rio_aguas_SRTMGL1_UTM\"\n",
    "DataDirectory = \"./\"\n",
    "this_img = lsdmw.SimpleHillshade(DataDirectory,Base_file,cmap=\"gist_earth\", save_fig=False, size_format=\"geomorphology\")"
   ]
  }
 ],
 "metadata": {
  "kernelspec": {
   "display_name": "Python 3 (ipykernel)",
   "language": "python",
   "name": "python3"
  },
  "language_info": {
   "codemirror_mode": {
    "name": "ipython",
    "version": 3
   },
   "file_extension": ".py",
   "mimetype": "text/x-python",
   "name": "python",
   "nbconvert_exporter": "python",
   "pygments_lexer": "ipython3",
   "version": "3.8.10"
  }
 },
 "nbformat": 4,
 "nbformat_minor": 5
}
