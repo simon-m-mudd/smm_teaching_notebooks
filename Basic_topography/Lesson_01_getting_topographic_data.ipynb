{
 "cells": [
  {
   "cell_type": "markdown",
   "id": "4f039f16",
   "metadata": {},
   "source": [
    "# Lesson 01: Getting topographic data"
   ]
  },
  {
   "cell_type": "markdown",
   "id": "e47a2831",
   "metadata": {},
   "source": [
    "*This lesson made by Simon M Mudd and last updated 21/11/2021*"
   ]
  },
  {
   "cell_type": "markdown",
   "id": "87a5939a",
   "metadata": {},
   "source": [
    "In this lesson we will grab some topographic data from the internet using [Opentopography](https://opentopography.org/).\n",
    "\n",
    "[Opentopography](https://opentopography.org/) hosts a large number of topographic datasets and is supported by the National Science Foundation of the United States. "
   ]
  },
  {
   "cell_type": "markdown",
   "id": "72685369",
   "metadata": {},
   "source": [
    "## What you can find on OpenTopography"
   ]
  },
  {
   "cell_type": "markdown",
   "id": "33f35e23",
   "metadata": {},
   "source": [
    "You can see what is on OpenTopograhy by [following this link](https://portal.opentopography.org/dataCatalog)\n",
    "\n",
    "But briefly it has:\n",
    "    \n",
    "* Several global topographic datasets. \n",
    "    * Shuttle Radar Topography Mission (SRTM) data, at approximately 30 and 90 m grid cell size. Based on radar data. \n",
    "    * The NASADEM, which is a reprocessed version of the SRTM data (so theoretically better quality than SRTM from the same base data).\n",
    "    * The ALOS World 3D 30 m dataset. This is based on optical data made using photogrammetry from the ALOS satellites. It is a downscaled version of the 5 m dataset (the difference is that the 30 m one is free).\n",
    "    * The Copernicus DEM, which is 30m grid comes from a variety of sources but much of it from the TanDEM-X radar satellites.\n",
    "* Vast quantities of high resolution data from lidar (cm scale point clouds and 1 m grid cell size DEMs).\n",
    "    * These data are mostly from the United States but the site also has selected data from around the world (for example there are a number of datasets from New Zealand)\n",
    "\n",
    "OpenTopography has an api for its global dataset so it is, by some wide margin, the most convenient place to source global data at 30 m grid spacing or coarser. \n",
    "\n",
    "Here is the link to the [api key](https://portal.opentopography.org/apidocs/#/Public/getGlobalDem)\n",
    "\n",
    "However, we will use a python package called `lsdviztools` to grab this data. `lsdviztools` is a python package written at the University of Edinburgh that has various scripts and tools for manipulating and visualising topographic data and derivative datasets. "
   ]
  },
  {
   "cell_type": "markdown",
   "id": "3573edb8",
   "metadata": {},
   "source": [
    "## First import some stuff we need"
   ]
  },
  {
   "cell_type": "markdown",
   "id": "504cca0e",
   "metadata": {},
   "source": [
    "We need to update a package called `lsdviztools` that has a subcomponent for grabbing opentopography data. "
   ]
  },
  {
   "cell_type": "code",
   "execution_count": null,
   "id": "d9123dd4",
   "metadata": {},
   "outputs": [],
   "source": [
    "!pip install lsdviztools --upgrade"
   ]
  },
  {
   "cell_type": "markdown",
   "id": "a7e892dd",
   "metadata": {},
   "source": [
    "Double check that the version is correct. For this lesson we need version 0.4.7 or above."
   ]
  },
  {
   "cell_type": "code",
   "execution_count": null,
   "id": "904606d4",
   "metadata": {},
   "outputs": [],
   "source": [
    "import lsdviztools\n",
    "lsdviztools.__version__"
   ]
  },
  {
   "cell_type": "markdown",
   "id": "9d25c5f8",
   "metadata": {},
   "source": [
    "Now import a bunch of other stuff for the lesson"
   ]
  },
  {
   "cell_type": "code",
   "execution_count": null,
   "id": "d8b43e5f",
   "metadata": {},
   "outputs": [],
   "source": [
    "import lsdviztools.lsdbasemaptools as bmt\n",
    "import rasterio as rio\n",
    "import matplotlib.pyplot as plt\n",
    "import numpy as np"
   ]
  },
  {
   "cell_type": "markdown",
   "id": "b32f6e81",
   "metadata": {},
   "source": [
    "## Grab some data"
   ]
  },
  {
   "cell_type": "markdown",
   "id": "692c9ec3",
   "metadata": {},
   "source": [
    "Okay, lets grab some data! We use a tool in `lsdviztools.lsdbasemaptools` called the `ot_scraper` (`ot` is for opentopography.org).\n",
    "\n",
    "Below is some code for grabbing data from opentopography. It uses the syntax:\n",
    "\n",
    "`DEM_name = bmt.ot_scraper(parameters=...)`\n",
    "\n",
    "where you need to give it some paramaters. These are things like what sort of data you want (most people will use the SRTM 30 metre data) and you also tell it the lower left and the upper right corners, using latitude and longitude. You can get these from Google Maps by right clicking on the map and selecting \"what's here\". \n",
    "\n",
    "In this example I use the Rio Aguas in southern Spain (a place we run field courses). "
   ]
  },
  {
   "cell_type": "markdown",
   "id": "be64e5e2",
   "metadata": {},
   "source": [
    "We designate the parameters by giving the lower left and upper right coordinates of the area from which you want the DEM. \n",
    "\n",
    "The format of these is so that you can right click on google maps and click on the coordinates, which will copy them to your clipboard, and you can paste them in to the lower left and upper right coordinates.\n",
    "\n",
    "These coordinates are lists so you need them in square brackets. "
   ]
  },
  {
   "cell_type": "code",
   "execution_count": null,
   "id": "5e15b9ab",
   "metadata": {},
   "outputs": [],
   "source": [
    "lower_left = [36.990554387425014, -2.318307057720176]\n",
    "upper_right = [37.23367133834253, -1.8425313329873874]"
   ]
  },
  {
   "cell_type": "markdown",
   "id": "cb1e3cef",
   "metadata": {},
   "source": [
    "Okay, below is the syntax for downloading the data."
   ]
  },
  {
   "cell_type": "code",
   "execution_count": null,
   "id": "8d19f705",
   "metadata": {},
   "outputs": [],
   "source": [
    "Aguas_DEM = bmt.ot_scraper(source = \"SRTMGL1\",\n",
    "                           lower_left_coordinates = lower_left, \n",
    "                           upper_right_coordinates = upper_right,\n",
    "                           prefix = \"rio_aguas\") \n",
    "Aguas_DEM.print_parameters()\n",
    "Aguas_DEM.download_pythonic()"
   ]
  },
  {
   "cell_type": "markdown",
   "id": "65be11f2",
   "metadata": {},
   "source": [
    "The options for the data types are:\n",
    "    \n",
    "* `SRTMGL3` = (SRTM GL3 90m)\n",
    "* `SRTMGL1` = (SRTM GL1 30m)\n",
    "* `SRTMGL1_E` = (SRTM GL1 Ellipsoidal 30m)\n",
    "* `AW3D30` = (ALOS World 3D 30m)\n",
    "* `AW3D30_E` = (ALOS World 3D Ellipsoidal, 30m)\n",
    "* `SRTM15Plus` = (Global Bathymetry SRTM15+ V2.1)\n",
    "* `NASADEM` = (NASADEM Global DEM) *\n",
    "* `COP30` = (Copernicus Global DSM 30m) *\n",
    "* `COP90` = (Copernicus Global DSM 90m) *\n",
    "\n",
    "You will need to create an [account at opentopography](https://portal.opentopography.org/login) to generate an API key for the datasets with an `*` (that is, `NASADEM`, `COP30` and `COP90`). To enter the api key you add a parameter to the `ot_scraper`: `api_key = ` and then your api key. "
   ]
  },
  {
   "cell_type": "markdown",
   "id": "8947344b",
   "metadata": {},
   "source": [
    "## Looking at the data"
   ]
  },
  {
   "cell_type": "markdown",
   "id": "e1f9e0a2",
   "metadata": {},
   "source": [
    "Okay, lets look at the data. We can always see what is in the current directory by calling the linux command `ls`, which is short for \"list\". It tells you what is in your directory. But in a python notebook, any commands to the underlying linux system need to be preceded with a `!` symbol (we sometimes call this \"bang\"). So lets see what we have:"
   ]
  },
  {
   "cell_type": "code",
   "execution_count": null,
   "id": "75725e83",
   "metadata": {
    "scrolled": true
   },
   "outputs": [],
   "source": [
    "!ls"
   ]
  },
  {
   "cell_type": "markdown",
   "id": "cfad23c3",
   "metadata": {},
   "source": [
    "Hey, look, there is the file `rio_aguas_SRTMGL1.tif`! This file happens to be a GeoTIFF, which is a kind of raster data format. A raster is just a bunch of numbers in a grid, which you can read about here: [Raster images](https://en.wikipedia.org/wiki/Raster_graphics)\n",
    "Geospatial rasters are just raster images with some georeferencing attached. "
   ]
  },
  {
   "cell_type": "markdown",
   "id": "3fddc21e",
   "metadata": {},
   "source": [
    "### Getting raster information (crs and dimensions) using GDAL"
   ]
  },
  {
   "cell_type": "markdown",
   "id": "fbb4283c",
   "metadata": {},
   "source": [
    "Okay, we want to know some information about this raster. \n",
    "\n",
    "If you spend a lot of time with this kind of data you will be working in linux terminals, and you will almost certainly use a package called *gdal* (the geospatial data abstraction library) to look at files. [gdal](https://gdal.org/index.html) has python bindings, but the simplest way to use it is through its command line interface. That is, we use some linux command to access *gdal*. \n",
    "\n",
    "The most basic one is *gdalinfo* which just gives you information about your raster. This sits in linux so you need 1) gdal installed and 2) to call the linux system with the `!` symbol. \n",
    "\n",
    "Lets do that:"
   ]
  },
  {
   "cell_type": "code",
   "execution_count": null,
   "id": "bfdfd910",
   "metadata": {},
   "outputs": [],
   "source": [
    "!gdalinfo rio_aguas_SRTMGL1.tif"
   ]
  },
  {
   "cell_type": "markdown",
   "id": "d2c524d6",
   "metadata": {},
   "source": [
    "Whoa! That is a lot of information!! What is in here??\n",
    "\n",
    "* The raster format (GeoTIFF) is on this line:\n",
    " `Driver: GTiff/GeoTIFF`\n",
    "\n",
    "* There is the raster size on this line:\n",
    " `Size is 1713, 875`\n",
    "\n",
    "* After that there are a bunch of lines explaining the **CRS**, or coordinate reference system. **THE CRS IS VERY IMPORTANT**. It tells any geospatial tool (e.g. a GIS, or some geospatial corner of python) where your data is. **Without the CRS your data is just an array of numbers without any spatial context.*\n",
    "\n",
    "* You don't need to worry too much about the details of the **CRS** other than to know what it is. It so happens that these have a shorthand code, called the **EPSG** code. You can see it here in amongst all the other georeferencing information: `ID[\"EPSG\",4326]`\n",
    "\n",
    "* It tells you the upper left corner location: `Origin = (-2.318472222198693,37.233749999996988)`\n",
    "\n",
    "* The size of the pixels: `Pixel Size = (0.000277777777778,-0.000277777777778)` More on this later.\n",
    "\n",
    "* Then, there are lines about the spatial extent that follow: `Corner Coordinates`\n",
    "\n",
    "* It tells you what the data type is: `Type=Int16` (in this case all the numbers in the DEM are integers, which is important)\n",
    "\n",
    "* And it tells you the value of nodata pixels: `NoData Value=-32768`"
   ]
  },
  {
   "cell_type": "markdown",
   "id": "9700b2b9",
   "metadata": {},
   "source": [
    "### Getting raster information using rasterio"
   ]
  },
  {
   "cell_type": "markdown",
   "id": "15a0be8a",
   "metadata": {},
   "source": [
    "We can also get raster information using a python package called `rasterio`. It is used for processing rasters. One problem with this approach is you need to actually load the raster (gdalinfo just reads the metadata), so it is a bit slower than gdalinfo. But for small rasters (say, less than 20Mb) you probably won't notice any difference. \n",
    "\n",
    "Here is how you load a raster using `rasterio`"
   ]
  },
  {
   "cell_type": "code",
   "execution_count": null,
   "id": "f583418f",
   "metadata": {},
   "outputs": [],
   "source": [
    "filename = \"rio_aguas_SRTMGL1.tif\"\n",
    "with rio.open(filename) as src:\n",
    "    print(src.meta)\n",
    "    "
   ]
  },
  {
   "cell_type": "markdown",
   "id": "efe2a42c",
   "metadata": {},
   "source": [
    "You can see that this has some of the same information as `gdalinfo` but in a terse format. We can get specific information from the raster with the following lines:"
   ]
  },
  {
   "cell_type": "code",
   "execution_count": null,
   "id": "fb17e8e4",
   "metadata": {},
   "outputs": [],
   "source": [
    "filename = \"rio_aguas_SRTMGL1.tif\"\n",
    "with rio.open(filename) as src:\n",
    "    print(\"Raster crs is:\")\n",
    "    print(src.crs)\n",
    "    print(\"\\nRaster bounding box is:\")\n",
    "    print(src.bounds)\n",
    "    print(\"\\nRaster pixel sizes in the X,Y directions are:\")\n",
    "    print(src.res)"
   ]
  },
  {
   "cell_type": "markdown",
   "id": "27d1be71",
   "metadata": {},
   "source": [
    "## Looking at your raster"
   ]
  },
  {
   "cell_type": "markdown",
   "id": "de10622e",
   "metadata": {},
   "source": [
    "We can look at your raster using the `imshow` function in `matplotlib`:"
   ]
  },
  {
   "cell_type": "code",
   "execution_count": null,
   "id": "5aa3ce5d",
   "metadata": {},
   "outputs": [],
   "source": [
    "%matplotlib inline\n",
    "filename = \"rio_aguas_SRTMGL1.tif\"\n",
    "with rio.open(filename) as src:\n",
    "    plt.imshow(src.read(1), cmap='pink')\n",
    "    plt.show()"
   ]
  },
  {
   "cell_type": "markdown",
   "id": "0f4962c5",
   "metadata": {},
   "source": [
    "We can also generate a hillshade (using the ever-useful gdal) and look at that. You need to give it the input and output filenames, and I specify an algorithm that is better than the default. "
   ]
  },
  {
   "cell_type": "code",
   "execution_count": null,
   "id": "629a16b9",
   "metadata": {},
   "outputs": [],
   "source": [
    "!gdaldem hillshade rio_aguas_SRTMGL1.tif rio_aguas_SRTMGL1_HS.tif -alg ZevenbergenThorne"
   ]
  },
  {
   "cell_type": "code",
   "execution_count": null,
   "id": "34446d43",
   "metadata": {},
   "outputs": [],
   "source": [
    "%matplotlib inline\n",
    "filename = \"rio_aguas_SRTMGL1_HS.tif\"\n",
    "with rio.open(filename) as src:\n",
    "    plt.imshow(src.read(1), cmap='pink')\n",
    "    plt.show()"
   ]
  },
  {
   "cell_type": "markdown",
   "id": "f6b66837",
   "metadata": {},
   "source": [
    "This hillshade looks a bit funny and in the next lesson I will explain why. "
   ]
  },
  {
   "cell_type": "markdown",
   "id": "a6e614e5",
   "metadata": {},
   "source": [
    "## What you should have learned and potential modifications"
   ]
  },
  {
   "cell_type": "markdown",
   "id": "b0fa0fac",
   "metadata": {},
   "source": [
    "After this lesson you should:\n",
    "    \n",
    "* Know what opentopography is.\n",
    "* Know how to download a raster from opentopography.\n",
    "    * Try to download a raster in a different place.\n",
    "    * Try to download a raster from a different data source.\n",
    "* Check the raster metadata using gdal or rasterio.\n",
    "* Make a simple plot of the raster, including a hillshade made with gdal"
   ]
  }
 ],
 "metadata": {
  "kernelspec": {
   "display_name": "Python 3 (ipykernel)",
   "language": "python",
   "name": "python3"
  },
  "language_info": {
   "codemirror_mode": {
    "name": "ipython",
    "version": 3
   },
   "file_extension": ".py",
   "mimetype": "text/x-python",
   "name": "python",
   "nbconvert_exporter": "python",
   "pygments_lexer": "ipython3",
   "version": "3.8.10"
  }
 },
 "nbformat": 4,
 "nbformat_minor": 5
}
