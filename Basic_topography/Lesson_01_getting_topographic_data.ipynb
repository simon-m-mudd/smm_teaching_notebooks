{
  "cells": [
    {
      "cell_type": "markdown",
      "metadata": {
        "id": "view-in-github",
        "colab_type": "text"
      },
      "source": [
        "<a href=\"https://colab.research.google.com/github/simon-m-mudd/smm_teaching_notebooks/blob/master/Basic_topography/Lesson_01_getting_topographic_data.ipynb\" target=\"_parent\"><img src=\"https://colab.research.google.com/assets/colab-badge.svg\" alt=\"Open In Colab\"/></a>"
      ]
    },
    {
      "cell_type": "markdown",
      "id": "4f039f16",
      "metadata": {
        "id": "4f039f16"
      },
      "source": [
        "# Lesson 01: Getting topographic data"
      ]
    },
    {
      "cell_type": "markdown",
      "id": "87a5939a",
      "metadata": {
        "id": "87a5939a"
      },
      "source": [
        "In this lesson we will grab some topographic data from the internet using [Opentopography](https://opentopography.org/).\n",
        "\n",
        "[Opentopography](https://opentopography.org/) hosts a large number of topographic datasets and is supported by the National Science Foundation of the United States."
      ]
    },
    {
      "cell_type": "markdown",
      "id": "e47a2831",
      "metadata": {
        "id": "e47a2831"
      },
      "source": [
        "*This lesson made by Simon M Mudd and last updated 22/11/2024*"
      ]
    },
    {
      "cell_type": "markdown",
      "metadata": {
        "id": "QKy7_wKyMn9K"
      },
      "source": [
        "## Stuff we need to do if you are in colab (not required in the lsdtopotools pytools container)"
      ],
      "id": "QKy7_wKyMn9K"
    },
    {
      "cell_type": "code",
      "execution_count": null,
      "metadata": {
        "id": "lfV8XnELeGSS"
      },
      "outputs": [],
      "source": [
        "!wget https://pkgs.geos.ed.ac.uk/geos-jammy/pool/world/l/lsdtopotools2/lsdtopotools2_0.9-1geos~22.04.1_amd64.deb  &> /dev/null\n",
        "!apt install ./lsdtopotools2_0.9-1geos~22.04.1_amd64.deb  &> /dev/null"
      ],
      "id": "lfV8XnELeGSS"
    },
    {
      "cell_type": "markdown",
      "metadata": {
        "id": "QxhqK8nveGSS"
      },
      "source": [
        "The next line tests to see if it worked. If you get some output asking for a parameter file then `lsdtopotools` is installed. This notebook was tested on version 0.9."
      ],
      "id": "QxhqK8nveGSS"
    },
    {
      "cell_type": "code",
      "execution_count": null,
      "metadata": {
        "id": "3flFtTmEeGST"
      },
      "outputs": [],
      "source": [
        "!lsdtt-basic-metrics -v"
      ],
      "id": "3flFtTmEeGST"
    },
    {
      "cell_type": "markdown",
      "metadata": {
        "id": "Go0FKOijeGST"
      },
      "source": [
        "Now we install `lsdviztools`:"
      ],
      "id": "Go0FKOijeGST"
    },
    {
      "cell_type": "code",
      "execution_count": null,
      "metadata": {
        "id": "pBGmCJvWeGST"
      },
      "outputs": [],
      "source": [
        "!pip install lsdviztools  &> /dev/null"
      ],
      "id": "pBGmCJvWeGST"
    },
    {
      "cell_type": "markdown",
      "id": "d990d03e",
      "metadata": {
        "id": "d990d03e"
      },
      "source": [
        "## Before you start you need an OpenTopography account and API key"
      ]
    },
    {
      "cell_type": "markdown",
      "id": "33d81084",
      "metadata": {
        "id": "33d81084"
      },
      "source": [
        "To download data from OpenTopography you need an API key (which is just some random letters and numbers).\n",
        "You need to:\n",
        "1. Get an a account here: https://portal.opentopography.org/newUser\n",
        "2. Click on the \"MyOpenTopo\" tab at the top of the page and log in.\n",
        "3. Then click on the \"myOpenTopo Authorizations and API Key\" and then \"request API key\"\n",
        "\n",
        "**Notable instructions**\n",
        "1. In your notable file browser (the place you clicked on this notebook) start a \"new\" text file.\n",
        "2. Copy the API key into this text file. Save it as `my_OT_api_key.txt`.\n",
        "3. **IMPORTANT** *Never share this file or the key*\n",
        "\n",
        "**Google colab instructions**\n",
        "1. Use your favourite text editor to copy the API key into a text file. Save it as `my_OT_api_key.txt`.\n",
        "3. Click on the little file folder to the left of your google colab screen and drag and drop this file to the folder."
      ]
    },
    {
      "cell_type": "markdown",
      "id": "72685369",
      "metadata": {
        "id": "72685369"
      },
      "source": [
        "## What you can find on OpenTopography"
      ]
    },
    {
      "cell_type": "markdown",
      "id": "33f35e23",
      "metadata": {
        "id": "33f35e23"
      },
      "source": [
        "You can see what is on OpenTopograhy by [following this link](https://portal.opentopography.org/dataCatalog)\n",
        "\n",
        "But briefly it has:\n",
        "    \n",
        "* Several global topographic datasets.\n",
        "    * Shuttle Radar Topography Mission (SRTM) data, at approximately 30 and 90 m grid cell size. Based on radar data.\n",
        "    * The NASADEM, which is a reprocessed version of the SRTM data (so theoretically better quality than SRTM from the same base data).\n",
        "    * The ALOS World 3D 30 m dataset. This is based on optical data made using photogrammetry from the ALOS satellites. It is a downscaled version of the 5 m dataset (the difference is that the 30 m one is free).\n",
        "    * The Copernicus DEM, which is 30m grid comes from a variety of sources but much of it from the TanDEM-X radar satellites.\n",
        "* Vast quantities of high resolution data from lidar (cm scale point clouds and 1 m grid cell size DEMs).\n",
        "    * These data are mostly from the United States but the site also has selected data from around the world (for example there are a number of datasets from New Zealand)\n",
        "\n",
        "OpenTopography has an api for its global dataset so it is, by some wide margin, the most convenient place to source global data at 30 m grid spacing or coarser.\n",
        "\n",
        "Here is the link to the [api key](https://portal.opentopography.org/apidocs/#/Public/getGlobalDem)\n",
        "\n",
        "However, we will use a python package called `lsdviztools` to grab this data. `lsdviztools` is a python package written at the University of Edinburgh that has various scripts and tools for manipulating and visualising topographic data and derivative datasets."
      ]
    },
    {
      "cell_type": "markdown",
      "id": "3573edb8",
      "metadata": {
        "id": "3573edb8"
      },
      "source": [
        "## First import some stuff we need"
      ]
    },
    {
      "cell_type": "markdown",
      "id": "504cca0e",
      "metadata": {
        "id": "504cca0e"
      },
      "source": [
        "We need to update a package called `lsdviztools` that has a subcomponent for grabbing opentopography data. You only need to do this in **notable** (you already did that in the first step for colab)"
      ]
    },
    {
      "cell_type": "code",
      "execution_count": null,
      "id": "d9123dd4",
      "metadata": {
        "id": "d9123dd4"
      },
      "outputs": [],
      "source": [
        "!pip install lsdviztools --upgrade"
      ]
    },
    {
      "cell_type": "markdown",
      "id": "a7e892dd",
      "metadata": {
        "id": "a7e892dd"
      },
      "source": [
        "Double check that the version is correct. For this lesson we need version 0.4.7 or above."
      ]
    },
    {
      "cell_type": "code",
      "execution_count": null,
      "id": "904606d4",
      "metadata": {
        "id": "904606d4"
      },
      "outputs": [],
      "source": [
        "import lsdviztools\n",
        "lsdviztools.__version__"
      ]
    },
    {
      "cell_type": "markdown",
      "id": "9d25c5f8",
      "metadata": {
        "id": "9d25c5f8"
      },
      "source": [
        "Now import a bunch of other stuff for the lesson"
      ]
    },
    {
      "cell_type": "code",
      "execution_count": null,
      "id": "d8b43e5f",
      "metadata": {
        "id": "d8b43e5f"
      },
      "outputs": [],
      "source": [
        "import lsdviztools.lsdbasemaptools as bmt\n",
        "import rasterio as rio\n",
        "import matplotlib.pyplot as plt\n",
        "import numpy as np"
      ]
    },
    {
      "cell_type": "markdown",
      "id": "b32f6e81",
      "metadata": {
        "id": "b32f6e81"
      },
      "source": [
        "## Grab some data"
      ]
    },
    {
      "cell_type": "markdown",
      "id": "692c9ec3",
      "metadata": {
        "id": "692c9ec3"
      },
      "source": [
        "Okay, lets grab some data! We use a tool in `lsdviztools.lsdbasemaptools` called the `ot_scraper` (`ot` is for opentopography.org).\n",
        "\n",
        "Below is some code for grabbing data from opentopography. It uses the syntax:\n",
        "\n",
        "`DEM_name = bmt.ot_scraper(parameters=...)`\n",
        "\n",
        "where you need to give it some paramaters. These are things like what sort of data you want (most people will use the SRTM 30 metre data) and you also tell it the lower left and the upper right corners, using latitude and longitude. You can get these from Google Maps by right clicking on the map and selecting \"what's here\".\n",
        "\n",
        "In this example I use the Rio Aguas in southern Spain (a place we run field courses)."
      ]
    },
    {
      "cell_type": "markdown",
      "id": "be64e5e2",
      "metadata": {
        "id": "be64e5e2"
      },
      "source": [
        "We designate the parameters by giving the lower left and upper right coordinates of the area from which you want the DEM.\n",
        "\n",
        "The format of these is so that you can right click on google maps and click on the coordinates, which will copy them to your clipboard, and you can paste them in to the lower left and upper right coordinates.\n",
        "\n",
        "These coordinates are lists so you need them in square brackets."
      ]
    },
    {
      "cell_type": "code",
      "execution_count": null,
      "id": "5e15b9ab",
      "metadata": {
        "id": "5e15b9ab"
      },
      "outputs": [],
      "source": [
        "lower_left = [36.990554387425014, -2.318307057720176]\n",
        "upper_right = [37.23367133834253, -1.8425313329873874]"
      ]
    },
    {
      "cell_type": "markdown",
      "id": "cb1e3cef",
      "metadata": {
        "id": "cb1e3cef"
      },
      "source": [
        "Okay, below is the syntax for downloading the data."
      ]
    },
    {
      "cell_type": "code",
      "execution_count": null,
      "id": "8d19f705",
      "metadata": {
        "id": "8d19f705"
      },
      "outputs": [],
      "source": [
        "# YOU NEED TO PUT YOUR API KEY IN A FILE\n",
        "your_OT_api_key_file = \"my_OT_api_key.txt\"\n",
        "\n",
        "with open(your_OT_api_key_file, 'r') as file:\n",
        "    print(\"I am reading you OT API key from the file \"+your_OT_api_key_file)\n",
        "    api_key = file.read().rstrip()\n",
        "    print(\"Your api key starts with: \"+api_key[0:4])\n",
        "\n",
        "Dataset_prefix = \"rio_aguas\"\n",
        "source_name = \"COP30\"\n",
        "\n",
        "\n",
        "Aguas_DEM = bmt.ot_scraper(source = source_name,\n",
        "                        lower_left_coordinates = lower_left,\n",
        "                        upper_right_coordinates = upper_right,\n",
        "                        prefix = Dataset_prefix,\n",
        "                        api_key_file = your_OT_api_key_file)\n",
        "Aguas_DEM.print_parameters()\n",
        "Aguas_DEM.download_pythonic()"
      ]
    },
    {
      "cell_type": "markdown",
      "id": "65be11f2",
      "metadata": {
        "id": "65be11f2"
      },
      "source": [
        "The options for the data types are:\n",
        "    \n",
        "* `SRTMGL3` = (SRTM GL3 90m)\n",
        "* `SRTMGL1` = (SRTM GL1 30m)\n",
        "* `SRTMGL1_E` = (SRTM GL1 Ellipsoidal 30m)\n",
        "* `AW3D30` = (ALOS World 3D 30m)\n",
        "* `AW3D30_E` = (ALOS World 3D Ellipsoidal, 30m)\n",
        "* `SRTM15Plus` = (Global Bathymetry SRTM15+ V2.1)\n",
        "* `NASADEM` = (NASADEM Global DEM) *\n",
        "* `COP30` = (Copernicus Global DSM 30m) *\n",
        "* `COP90` = (Copernicus Global DSM 90m) *\n",
        "\n",
        "You will need to create an [account at opentopography](https://portal.opentopography.org/login) to generate an API key for the datasets with an `*` (that is, `NASADEM`, `COP30` and `COP90`). To enter the api key you add a parameter to the `ot_scraper`: `api_key = ` and then your api key."
      ]
    },
    {
      "cell_type": "markdown",
      "id": "8947344b",
      "metadata": {
        "id": "8947344b"
      },
      "source": [
        "## Looking at the data"
      ]
    },
    {
      "cell_type": "markdown",
      "id": "e1f9e0a2",
      "metadata": {
        "id": "e1f9e0a2"
      },
      "source": [
        "Okay, lets look at the data. We can always see what is in the current directory by calling the linux command `ls`, which is short for \"list\". It tells you what is in your directory. But in a python notebook, any commands to the underlying linux system need to be preceded with a `!` symbol (we sometimes call this \"bang\"). So lets see what we have:"
      ]
    },
    {
      "cell_type": "code",
      "execution_count": null,
      "id": "75725e83",
      "metadata": {
        "scrolled": true,
        "id": "75725e83"
      },
      "outputs": [],
      "source": [
        "!ls"
      ]
    },
    {
      "cell_type": "markdown",
      "id": "cfad23c3",
      "metadata": {
        "id": "cfad23c3"
      },
      "source": [
        "Hey, look, there is the file `rio_aguas_SRTMGL1.tif`! This file happens to be a GeoTIFF, which is a kind of raster data format. A raster is just a bunch of numbers in a grid, which you can read about here: [Raster images](https://en.wikipedia.org/wiki/Raster_graphics)\n",
        "Geospatial rasters are just raster images with some georeferencing attached."
      ]
    },
    {
      "cell_type": "markdown",
      "id": "3fddc21e",
      "metadata": {
        "id": "3fddc21e"
      },
      "source": [
        "### Getting raster information (crs and dimensions) using GDAL"
      ]
    },
    {
      "cell_type": "markdown",
      "id": "fbb4283c",
      "metadata": {
        "id": "fbb4283c"
      },
      "source": [
        "Okay, we want to know some information about this raster.\n",
        "\n",
        "If you spend a lot of time with this kind of data you will be working in linux terminals, and you will almost certainly use a package called *gdal* (the geospatial data abstraction library) to look at files. [gdal](https://gdal.org/index.html) has python bindings, but the simplest way to use it is through its command line interface. That is, we use some linux command to access *gdal*.\n",
        "\n",
        "The most basic one is *gdalinfo* which just gives you information about your raster. This sits in linux so you need 1) gdal installed and 2) to call the linux system with the `!` symbol.\n",
        "\n",
        "Lets do that:"
      ]
    },
    {
      "cell_type": "code",
      "execution_count": null,
      "id": "bfdfd910",
      "metadata": {
        "id": "bfdfd910"
      },
      "outputs": [],
      "source": [
        "!gdalinfo rio_aguas_COP30.tif"
      ]
    },
    {
      "cell_type": "markdown",
      "id": "d2c524d6",
      "metadata": {
        "id": "d2c524d6"
      },
      "source": [
        "Whoa! That is a lot of information!! What is in here??\n",
        "\n",
        "* The raster format (GeoTIFF) is on this line:\n",
        " `Driver: GTiff/GeoTIFF`\n",
        "\n",
        "* There is the raster size on this line:\n",
        " `Size is 1713, 875`\n",
        "\n",
        "* After that there are a bunch of lines explaining the **CRS**, or coordinate reference system. **THE CRS IS VERY IMPORTANT**. It tells any geospatial tool (e.g. a GIS, or some geospatial corner of python) where your data is. **Without the CRS your data is just an array of numbers without any spatial context.*\n",
        "\n",
        "* You don't need to worry too much about the details of the **CRS** other than to know what it is. It so happens that these have a shorthand code, called the **EPSG** code. You can see it here in amongst all the other georeferencing information: `ID[\"EPSG\",4326]`\n",
        "\n",
        "* It tells you the upper left corner location: `Origin = (-2.318472222198693,37.233749999996988)`\n",
        "\n",
        "* The size of the pixels: `Pixel Size = (0.000277777777778,-0.000277777777778)` More on this later.\n",
        "\n",
        "* Then, there are lines about the spatial extent that follow: `Corner Coordinates`\n",
        "\n",
        "* It tells you what the data type is: `Type=Int16` (in this case all the numbers in the DEM are integers, which is important)\n",
        "\n",
        "* And it tells you the value of nodata pixels: `NoData Value=-32768`"
      ]
    },
    {
      "cell_type": "markdown",
      "id": "9700b2b9",
      "metadata": {
        "id": "9700b2b9"
      },
      "source": [
        "### Getting raster information using rasterio"
      ]
    },
    {
      "cell_type": "markdown",
      "id": "15a0be8a",
      "metadata": {
        "id": "15a0be8a"
      },
      "source": [
        "We can also get raster information using a python package called `rasterio`. It is used for processing rasters. One problem with this approach is you need to actually load the raster (gdalinfo just reads the metadata), so it is a bit slower than gdalinfo. But for small rasters (say, less than 20Mb) you probably won't notice any difference.\n",
        "\n",
        "Here is how you load a raster using `rasterio`"
      ]
    },
    {
      "cell_type": "code",
      "execution_count": null,
      "id": "f583418f",
      "metadata": {
        "id": "f583418f"
      },
      "outputs": [],
      "source": [
        "filename = \"rio_aguas_COP30.tif\"\n",
        "with rio.open(filename) as src:\n",
        "    print(src.meta)\n"
      ]
    },
    {
      "cell_type": "markdown",
      "id": "efe2a42c",
      "metadata": {
        "id": "efe2a42c"
      },
      "source": [
        "You can see that this has some of the same information as `gdalinfo` but in a terse format. We can get specific information from the raster with the following lines:"
      ]
    },
    {
      "cell_type": "code",
      "execution_count": null,
      "id": "fb17e8e4",
      "metadata": {
        "id": "fb17e8e4"
      },
      "outputs": [],
      "source": [
        "filename = \"rio_aguas_COP30.tif\"\n",
        "with rio.open(filename) as src:\n",
        "    print(\"Raster crs is:\")\n",
        "    print(src.crs)\n",
        "    print(\"\\nRaster bounding box is:\")\n",
        "    print(src.bounds)\n",
        "    print(\"\\nRaster pixel sizes in the X,Y directions are:\")\n",
        "    print(src.res)"
      ]
    },
    {
      "cell_type": "markdown",
      "id": "27d1be71",
      "metadata": {
        "id": "27d1be71"
      },
      "source": [
        "## Looking at your raster"
      ]
    },
    {
      "cell_type": "markdown",
      "id": "de10622e",
      "metadata": {
        "id": "de10622e"
      },
      "source": [
        "We can look at your raster using the `imshow` function in `matplotlib`:"
      ]
    },
    {
      "cell_type": "code",
      "execution_count": null,
      "id": "5aa3ce5d",
      "metadata": {
        "id": "5aa3ce5d"
      },
      "outputs": [],
      "source": [
        "%matplotlib inline\n",
        "filename = \"rio_aguas_COP30.tif\"\n",
        "with rio.open(filename) as src:\n",
        "    plt.imshow(src.read(1), cmap='pink')\n",
        "    plt.show()"
      ]
    },
    {
      "cell_type": "markdown",
      "id": "0f4962c5",
      "metadata": {
        "id": "0f4962c5"
      },
      "source": [
        "We can also generate a hillshade (using the ever-useful gdal) and look at that. You need to give it the input and output filenames, and I specify an algorithm that is better than the default."
      ]
    },
    {
      "cell_type": "code",
      "execution_count": null,
      "id": "629a16b9",
      "metadata": {
        "id": "629a16b9"
      },
      "outputs": [],
      "source": [
        "!gdaldem hillshade rio_aguas_COP30.tif rio_aguas_COP30_HS.tif -alg ZevenbergenThorne"
      ]
    },
    {
      "cell_type": "code",
      "execution_count": null,
      "id": "34446d43",
      "metadata": {
        "id": "34446d43"
      },
      "outputs": [],
      "source": [
        "%matplotlib inline\n",
        "filename = \"rio_aguas_COP30_HS.tif\"\n",
        "with rio.open(filename) as src:\n",
        "    plt.imshow(src.read(1), cmap='pink')\n",
        "    plt.show()"
      ]
    },
    {
      "cell_type": "markdown",
      "id": "f6b66837",
      "metadata": {
        "id": "f6b66837"
      },
      "source": [
        "This hillshade looks a bit funny and in the next lesson I will explain why."
      ]
    },
    {
      "cell_type": "markdown",
      "id": "a6e614e5",
      "metadata": {
        "id": "a6e614e5"
      },
      "source": [
        "## What you should have learned and potential modifications"
      ]
    },
    {
      "cell_type": "markdown",
      "id": "b0fa0fac",
      "metadata": {
        "id": "b0fa0fac"
      },
      "source": [
        "After this lesson you should:\n",
        "    \n",
        "* Know what opentopography is.\n",
        "* Know how to download a raster from opentopography.\n",
        "    * Try to download a raster in a different place.\n",
        "    * Try to download a raster from a different data source.\n",
        "* Check the raster metadata using gdal or rasterio.\n",
        "* Make a simple plot of the raster, including a hillshade made with gdal"
      ]
    }
  ],
  "metadata": {
    "kernelspec": {
      "display_name": "Python 3 (ipykernel)",
      "language": "python",
      "name": "python3"
    },
    "language_info": {
      "codemirror_mode": {
        "name": "ipython",
        "version": 3
      },
      "file_extension": ".py",
      "mimetype": "text/x-python",
      "name": "python",
      "nbconvert_exporter": "python",
      "pygments_lexer": "ipython3",
      "version": "3.8.13"
    },
    "colab": {
      "provenance": [],
      "include_colab_link": true
    }
  },
  "nbformat": 4,
  "nbformat_minor": 5
}