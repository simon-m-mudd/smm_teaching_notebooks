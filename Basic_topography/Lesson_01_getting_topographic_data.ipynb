{
 "cells": [
  {
   "cell_type": "markdown",
   "id": "4f039f16",
   "metadata": {},
   "source": [
    "# Basic topographic features"
   ]
  },
  {
   "cell_type": "markdown",
   "id": "e47a2831",
   "metadata": {},
   "source": [
    "*This lesson made by Simon M Mudd and last updated 30/09/2021*"
   ]
  },
  {
   "cell_type": "markdown",
   "id": "87a5939a",
   "metadata": {},
   "source": [
    "In this lesson we are going to download some data and look at basic features of channels and river basins. "
   ]
  },
  {
   "cell_type": "markdown",
   "id": "15678723",
   "metadata": {},
   "source": [
    "*LESSON SHORTCUT*\n",
    "\n",
    "If you want to run a full analysis of a place of your choosing just modify the (tbc)"
   ]
  },
  {
   "cell_type": "markdown",
   "id": "3573edb8",
   "metadata": {},
   "source": [
    "## First import some stuff we need"
   ]
  },
  {
   "cell_type": "code",
   "execution_count": null,
   "id": "d8b43e5f",
   "metadata": {},
   "outputs": [],
   "source": [
    "import lsdviztools.lsdbasemaptools as bmt\n",
    "from lsdviztools.lsdplottingtools import lsdmap_gdalio as gio\n",
    "import lsdviztools.lsdmapwrappers as lsdmw\n",
    "import pandas as pd\n",
    "import geopandas as gpd\n",
    "import cartopy as cp\n",
    "import cartopy.crs as ccrs\n",
    "import rasterio as rio\n",
    "import matplotlib.pyplot as plt\n",
    "import numpy as np"
   ]
  },
  {
   "cell_type": "markdown",
   "id": "b32f6e81",
   "metadata": {},
   "source": [
    "## Grab some data"
   ]
  },
  {
   "cell_type": "markdown",
   "id": "692c9ec3",
   "metadata": {},
   "source": [
    "First, we need to grab some data. We use a tool in `lsdviztools.lsdbasemaptools` called the `ot_scraper` (`ot` is for opentopography.org)."
   ]
  },
  {
   "cell_type": "markdown",
   "id": "dbb6e63d",
   "metadata": {},
   "source": [
    "We want to make sure the `ot_scraper` is up to date, so use the following command to update the `lsdviztools` package. "
   ]
  },
  {
   "cell_type": "code",
   "execution_count": null,
   "id": "828357fc",
   "metadata": {},
   "outputs": [],
   "source": [
    "!pip install lsdviztools --upgrade"
   ]
  },
  {
   "cell_type": "markdown",
   "id": "e07d4ada",
   "metadata": {},
   "source": [
    "Below is some code for grabbing data from opentopography. It uses the syntax:\n",
    "\n",
    "`DEM_name = bmt.ot_scraper(parameters=...)`\n",
    "\n",
    "where you need to give it some paramaters. These are things like what sort of data you want (most people will use the SRTM 30 metre data) and you also tell it the lower left and the upper right corners, using latitude and longitude. You can get these from goole earth by right clicking on the map and selecting \"what's here\". \n",
    "\n",
    "In this example I use the Rio Aguas in southern Spain. "
   ]
  },
  {
   "cell_type": "code",
   "execution_count": null,
   "id": "3dea110c",
   "metadata": {},
   "outputs": [],
   "source": [
    "Aguas_DEM = bmt.ot_scraper(source = \"SRTM30\",\n",
    "                           longitude_W = -2.318307057720176, longitude_E = -1.8425313329873874, \n",
    "                           latitude_S = 36.990554387425014, latitude_N = 37.23367133834253,\n",
    "                           prefix = \"rio_aguas\") \n",
    "Aguas_DEM.print_parameters()\n",
    "Aguas_DEM.download_pythonic()"
   ]
  },
  {
   "cell_type": "markdown",
   "id": "efe2a42c",
   "metadata": {},
   "source": [
    "We need to convert this data into a format that can be understood by *lsdtopotools*, which is a topographic analysis package developed at the University of Edinburgh. "
   ]
  },
  {
   "cell_type": "code",
   "execution_count": null,
   "id": "516696cc",
   "metadata": {},
   "outputs": [],
   "source": [
    "DataDirectory = \"./\"\n",
    "RasterFile = \"rio_aguas_SRTMGL1.tif\"\n",
    "gio.convert4lsdtt(DataDirectory, RasterFile,minimum_elevation=0.01,resolution=30)"
   ]
  },
  {
   "cell_type": "markdown",
   "id": "5afb07f1",
   "metadata": {},
   "source": [
    "# Now lets do some basic topographic analysis"
   ]
  },
  {
   "cell_type": "markdown",
   "id": "02a578e9",
   "metadata": {},
   "source": [
    "For this to work you need *lsdtopotools* installed on your system. But if you are using either Edinburgh's noteable service or the *lsdtopotools* docker container, it is already installed. If you are not using one of these, you will need to install it using conda (see *lsdtopotools* installation instructions. \n",
    "\n",
    "We will extract some topogaphic metrics using `lsdtopotools`. \n",
    "\n",
    "The `lsdtt_parameters` are the various parameters that you can use to run an analysis. We will discuss these later. For now, we will just follow this recipe. "
   ]
  },
  {
   "cell_type": "code",
   "execution_count": null,
   "id": "1cf7f74f",
   "metadata": {},
   "outputs": [],
   "source": [
    "lsdtt_parameters = {\"write_hillshade\" : \"true\",  \n",
    "                    \"surface_fitting_radius\" : \"60\",\n",
    "                    \"print_slope\" : \"true\"}\n",
    "lsdtt_drive = lsdmw.lsdtt_driver(read_prefix = \"rio_aguas_SRTMGL1_UTM\",\n",
    "                                 write_prefix= \"rio_aguas_SRTMGL1_UTM\",\n",
    "                                 read_path = \"./\",\n",
    "                                 write_path = \"./\",\n",
    "                                 parameter_dictionary=lsdtt_parameters)\n",
    "lsdtt_drive.print_parameters()"
   ]
  },
  {
   "cell_type": "code",
   "execution_count": null,
   "id": "197ccec9",
   "metadata": {},
   "outputs": [],
   "source": [
    "lsdtt_drive.run_lsdtt_command_line_tool()"
   ]
  },
  {
   "cell_type": "markdown",
   "id": "ba5bb64e",
   "metadata": {},
   "source": [
    "# Plot some data"
   ]
  },
  {
   "cell_type": "markdown",
   "id": "7aeb3306",
   "metadata": {},
   "source": [
    "We are now going to do some simple plots using a mapping package that we put together. There are more general ways to visualise data, but this makes pretty pictures quickly.  "
   ]
  },
  {
   "cell_type": "code",
   "execution_count": null,
   "id": "b7231b72",
   "metadata": {},
   "outputs": [],
   "source": [
    "%matplotlib inline\n",
    "Base_file = \"rio_aguas_SRTMGL1_UTM\"\n",
    "DataDirectory = \"./\"\n",
    "this_img = lsdmw.SimpleHillshade(DataDirectory,Base_file,cmap=\"gist_earth\", save_fig=False, size_format=\"geomorphology\")"
   ]
  },
  {
   "cell_type": "code",
   "execution_count": null,
   "id": "065282f5",
   "metadata": {},
   "outputs": [],
   "source": [
    "Base_file = \"rio_aguas_SRTMGL1_UTM\"\n",
    "Drape_prefix = \"rio_aguas_SRTMGL1_UTM_SLOPE\"\n",
    "DataDirectory = \"./\"\n",
    "img_name2 = lsdmw.SimpleDrape(DataDirectory,Base_file, Drape_prefix, \n",
    "                              cmap = \"bwr\", cbar_loc = \"right\", \n",
    "                              cbar_label = \"Gradient (m/m)\",\n",
    "                              save_fig=False, size_format=\"geomorphology\",\n",
    "                              colour_min_max = [0,1.25])"
   ]
  },
  {
   "cell_type": "markdown",
   "id": "eaa91e90",
   "metadata": {},
   "source": [
    "# Get some channel profiles"
   ]
  },
  {
   "cell_type": "markdown",
   "id": "323b933b",
   "metadata": {},
   "source": [
    "Okay, we will now run a different analysis. We will get some channel profiles. "
   ]
  },
  {
   "cell_type": "code",
   "execution_count": null,
   "id": "1a214669",
   "metadata": {},
   "outputs": [],
   "source": [
    "lsdtt_parameters = {\"print_basin_raster\" : \"true\",\n",
    "                    \"print_chi_data_maps\" : \"true\"}\n",
    "lsdtt_drive = lsdmw.lsdtt_driver(read_prefix = \"rio_aguas_SRTMGL1_UTM\",\n",
    "                                 write_prefix= \"rio_aguas_SRTMGL1_UTM\",\n",
    "                                 read_path = \"./\",\n",
    "                                 write_path = \"./\",\n",
    "                                 parameter_dictionary=lsdtt_parameters)\n",
    "lsdtt_drive.print_parameters()"
   ]
  },
  {
   "cell_type": "code",
   "execution_count": null,
   "id": "61a913c6",
   "metadata": {},
   "outputs": [],
   "source": [
    "lsdtt_drive.run_lsdtt_command_line_tool()"
   ]
  },
  {
   "cell_type": "markdown",
   "id": "3b0e1f87",
   "metadata": {},
   "source": [
    "We can look to see what files we have using the following command. the `!` tells this notebook to run a command on the underlying linux operating system, and `ls` in linux is a command to list files. "
   ]
  },
  {
   "cell_type": "code",
   "execution_count": null,
   "id": "42d7502f",
   "metadata": {},
   "outputs": [],
   "source": [
    "!ls"
   ]
  },
  {
   "cell_type": "markdown",
   "id": "4540440f",
   "metadata": {},
   "source": [
    "The file with the channels is the one with `chi_data_map` in the filename. We are going to load this into a `pandas` dataframe. You can think of `pandas` as a kind of excel for python. It does data handling of spreadsheet-like information (and loads more.)"
   ]
  },
  {
   "cell_type": "code",
   "execution_count": null,
   "id": "71772df3",
   "metadata": {},
   "outputs": [],
   "source": [
    "df = pd.read_csv(\"rio_aguas_SRTMGL1_UTM_chi_data_map.csv\")\n",
    "df.head()"
   ]
  },
  {
   "cell_type": "code",
   "execution_count": null,
   "id": "9b88365b",
   "metadata": {},
   "outputs": [],
   "source": [
    "%matplotlib inline\n",
    "fname_prefix = \"rio_aguas_SRTMGL1_UTM\"\n",
    "ChannelFileName = \"rio_aguas_SRTMGL1_UTM_chi_data_map.csv\"\n",
    "DataDirectory = \"./\"\n",
    "lsdmw.PrintChiChannelsAndBasins(DataDirectory,fname_prefix, ChannelFileName, \n",
    "                                add_basin_labels = True, cmap = \"jet\", cbar_loc = \"right\", \n",
    "                                size_format = \"ESURF\", fig_format = \"png\", \n",
    "                                dpi = 250,plotting_column = \"elevation\")"
   ]
  },
  {
   "cell_type": "code",
   "execution_count": null,
   "id": "7b0ca7ce",
   "metadata": {},
   "outputs": [],
   "source": [
    "from IPython.display import Image\n",
    "Image('rio_aguas_SRTMGL1_UTM_chi_channels_and_basins.png')"
   ]
  },
  {
   "cell_type": "code",
   "execution_count": null,
   "id": "c7d4d065",
   "metadata": {},
   "outputs": [],
   "source": [
    "gdf = gpd.GeoDataFrame(\n",
    "    df, geometry=gpd.points_from_xy(df.longitude, df.latitude))\n",
    "gdf = gdf.set_crs(epsg=4326)\n",
    "print(gdf.head())\n",
    "\n",
    "gdf2 = gdf.to_crs(\"EPSG:32610\")\n",
    "\n",
    "gdf_b1 = gdf2[(gdf2['basin_key'] == 0)]\n",
    "print(gdf_b1.head())"
   ]
  },
  {
   "cell_type": "code",
   "execution_count": null,
   "id": "11558d8a",
   "metadata": {},
   "outputs": [],
   "source": [
    "fig = plt.figure()\n",
    "ax = fig.add_subplot(1, 1, 1)\n",
    "plt.scatter(gdf_b1.chi,gdf_b1.elevation,c=gdf_b1.flow_distance,s=1)\n",
    "plt.xlabel(r\"$\\chi$ (m)\")\n",
    "plt.ylabel(\"elevation (m)\")\n",
    "fig.show()"
   ]
  },
  {
   "cell_type": "code",
   "execution_count": null,
   "id": "5fbe326d",
   "metadata": {},
   "outputs": [],
   "source": [
    "fig = plt.figure()\n",
    "ax = fig.add_subplot(1, 1, 1)\n",
    "plt.scatter(gdf_b1.flow_distance,gdf_b1.elevation,c=gdf_b1.flow_distance,s=1)\n",
    "plt.xlabel(r\"$\\chi$ (m)\")\n",
    "plt.ylabel(\"elevation (m)\")\n",
    "fig.show()"
   ]
  },
  {
   "cell_type": "code",
   "execution_count": null,
   "id": "4b9a7b54",
   "metadata": {},
   "outputs": [],
   "source": []
  }
 ],
 "metadata": {
  "kernelspec": {
   "display_name": "Python 3 (ipykernel)",
   "language": "python",
   "name": "python3"
  },
  "language_info": {
   "codemirror_mode": {
    "name": "ipython",
    "version": 3
   },
   "file_extension": ".py",
   "mimetype": "text/x-python",
   "name": "python",
   "nbconvert_exporter": "python",
   "pygments_lexer": "ipython3",
   "version": "3.8.10"
  }
 },
 "nbformat": 4,
 "nbformat_minor": 5
}
