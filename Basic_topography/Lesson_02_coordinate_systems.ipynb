{
 "cells": [
  {
   "cell_type": "markdown",
   "id": "4f039f16",
   "metadata": {},
   "source": [
    "# Lesson 02: coordinate systems"
   ]
  },
  {
   "cell_type": "markdown",
   "id": "e47a2831",
   "metadata": {},
   "source": [
    "*This lesson made by Simon M Mudd and last updated 21/11/2021*"
   ]
  },
  {
   "cell_type": "markdown",
   "id": "87a5939a",
   "metadata": {},
   "source": [
    "In lesson 01 we learned how to download data, look at the information about the data (e.g., its dimensions, its *CRS*, the size of the pixels) and make simple plots. \n",
    "\n",
    "In this lesson we will look at coordinate reference systems. "
   ]
  },
  {
   "cell_type": "markdown",
   "id": "3573edb8",
   "metadata": {},
   "source": [
    "## First import some stuff we need"
   ]
  },
  {
   "cell_type": "code",
   "execution_count": 2,
   "id": "d8b43e5f",
   "metadata": {},
   "outputs": [],
   "source": [
    "import rasterio as rio\n",
    "import matplotlib.pyplot as plt"
   ]
  },
  {
   "cell_type": "markdown",
   "id": "b32f6e81",
   "metadata": {},
   "source": [
    "## Lets look at the data from the last lession"
   ]
  },
  {
   "cell_type": "markdown",
   "id": "692c9ec3",
   "metadata": {},
   "source": [
    "In the last lesson we grabbed a raster from [opentopography](https://opentopography.org/). \n",
    "If you haven't done that lesson, go back and get the raster. It is called `rio_aguas_SRTMGL1.tif`\n",
    "\n",
    "We can see if it is in this directory by calling the `!ls` command"
   ]
  },
  {
   "cell_type": "code",
   "execution_count": 1,
   "id": "4e7cdfc4",
   "metadata": {},
   "outputs": [
    {
     "name": "stdout",
     "output_type": "stream",
     "text": [
      "Lesson_01_getting_topographic_data.ipynb\r\n",
      "Lesson_02_coordinate_systems.ipynb\r\n",
      "Lesson_03_simple_metrics_and_resolution.ipynb\r\n",
      "Lesson_04_basic_topographic_features.ipynb\r\n",
      "rio_aguas_SRTMGL1.tif\r\n",
      "rio_aguas_SRTMGL1_HS.tif\r\n"
     ]
    }
   ],
   "source": [
    "!ls"
   ]
  },
  {
   "cell_type": "markdown",
   "id": "dbb6e63d",
   "metadata": {},
   "source": [
    "Now lets go back to the pixel sizes of the raster. I'll get them with rasterio:"
   ]
  },
  {
   "cell_type": "code",
   "execution_count": 4,
   "id": "828357fc",
   "metadata": {},
   "outputs": [
    {
     "name": "stdout",
     "output_type": "stream",
     "text": [
      "\n",
      "Raster pixel sizes in the X,Y directions are:\n",
      "(0.0002777777777778146, 0.0002777777777778146)\n"
     ]
    }
   ],
   "source": [
    "filename = \"rio_aguas_SRTMGL1.tif\"\n",
    "with rio.open(filename) as src:\n",
    "    print(\"\\nRaster pixel sizes in the X,Y directions are:\")\n",
    "    print(src.res)"
   ]
  },
  {
   "cell_type": "markdown",
   "id": "e07d4ada",
   "metadata": {},
   "source": [
    "What are these? \n",
    "\n",
    "SRTM data is available in GL1 and GL3 versions from OpenTopography. The \"GL\" stands for global and the 1 and 3 stand for 1 and 3 arcseconds, respectively. The arcsecond is the size of the pixels. \n",
    "\n",
    "[Read about arcseconds here](https://en.wikipedia.org/wiki/Minute_and_second_of_arc)\n",
    "\n",
    "If you don't want to read that, basically an arcsecond is 1/3600 of a degree, which is 0.000277 in decimal degree format.\n",
    "\n",
    "So the pixel size in this DEM is in decimal degrees. \n",
    "\n",
    "1 arcsecond in decimal degrees is around 30 m at the equator. It changes as you change latitude. At high latitudes the X and Y dimensions will always be 1 arcsecond but the length in metres will change. \n",
    "\n",
    "This is a bit of a problem for us because we like to do things like measure gradients and areas and distances in units like metres and metres squared: measuring, say, a river gradient in metres per arcsecond would seem rather silly. \n",
    "\n",
    "This brings us to projections, transformations, and coordinate reference systems."
   ]
  },
  {
   "cell_type": "markdown",
   "id": "9be884e5",
   "metadata": {},
   "source": [
    "## Projections, transformations, and coordinate reference systems"
   ]
  },
  {
   "cell_type": "markdown",
   "id": "efe2a42c",
   "metadata": {},
   "source": [
    "I am not going to get into too much detail here, but the Earth is a sphere so one way to figure out where you are on the sphere is to use geographic coordinates: latitude and longitude. \n",
    "\n",
    "But you can also project this spherical surface onto a flat surface (e.g., a paper map). This is called a projection. A projection can allow you to convert your coordinates into distances. \n",
    "\n",
    "[You can spend all day reading about projections](https://en.wikipedia.org/wiki/Map_projection)\n",
    "\n"
   ]
  }
 ],
 "metadata": {
  "kernelspec": {
   "display_name": "Python 3 (ipykernel)",
   "language": "python",
   "name": "python3"
  },
  "language_info": {
   "codemirror_mode": {
    "name": "ipython",
    "version": 3
   },
   "file_extension": ".py",
   "mimetype": "text/x-python",
   "name": "python",
   "nbconvert_exporter": "python",
   "pygments_lexer": "ipython3",
   "version": "3.8.10"
  }
 },
 "nbformat": 4,
 "nbformat_minor": 5
}
