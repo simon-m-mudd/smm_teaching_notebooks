{
 "cells": [
  {
   "cell_type": "markdown",
   "id": "4f039f16",
   "metadata": {},
   "source": [
    "# Lesson 02: coordinate reference systems"
   ]
  },
  {
   "cell_type": "markdown",
   "id": "e47a2831",
   "metadata": {},
   "source": [
    "*This lesson made by Simon M Mudd and last updated 21/11/2021*"
   ]
  },
  {
   "cell_type": "markdown",
   "id": "87a5939a",
   "metadata": {},
   "source": [
    "In lesson 01 we learned how to download data, look at the information about the data (e.g., its dimensions, its *CRS*, the size of the pixels) and make simple plots. \n",
    "\n",
    "In this lesson we will look at coordinate reference systems. "
   ]
  },
  {
   "cell_type": "markdown",
   "id": "3573edb8",
   "metadata": {},
   "source": [
    "## First import some stuff we need"
   ]
  },
  {
   "cell_type": "code",
   "execution_count": null,
   "id": "d8b43e5f",
   "metadata": {},
   "outputs": [],
   "source": [
    "import rasterio as rio\n",
    "import matplotlib.pyplot as plt"
   ]
  },
  {
   "cell_type": "markdown",
   "id": "b32f6e81",
   "metadata": {},
   "source": [
    "## Lets look at the data from the last lesson"
   ]
  },
  {
   "cell_type": "markdown",
   "id": "692c9ec3",
   "metadata": {},
   "source": [
    "In the last lesson we grabbed a raster from [opentopography](https://opentopography.org/). \n",
    "If you haven't done that lesson, go back and get the raster. It is called `rio_aguas_SRTMGL1.tif`\n",
    "\n",
    "We can see if it is in this directory by calling the `!ls` command"
   ]
  },
  {
   "cell_type": "code",
   "execution_count": null,
   "id": "a696678b",
   "metadata": {},
   "outputs": [],
   "source": [
    "!ls"
   ]
  },
  {
   "cell_type": "markdown",
   "id": "dbb6e63d",
   "metadata": {},
   "source": [
    "Now lets go back to the pixel sizes of the raster. I'll get them with rasterio:"
   ]
  },
  {
   "cell_type": "code",
   "execution_count": null,
   "id": "828357fc",
   "metadata": {},
   "outputs": [],
   "source": [
    "filename = \"rio_aguas_SRTMGL1.tif\"\n",
    "with rio.open(filename) as src:\n",
    "    print(\"\\nRaster pixel sizes in the X,Y directions are:\")\n",
    "    print(src.res)"
   ]
  },
  {
   "cell_type": "markdown",
   "id": "e07d4ada",
   "metadata": {},
   "source": [
    "What are these? \n",
    "\n",
    "SRTM data is available in GL1 and GL3 versions from [OpenTopography](https://opentopography.org/). The \"GL\" stands for global and the 1 and 3 stand for 1 and 3 arcseconds, respectively. The arcsecond is the size of the pixels. \n",
    "\n",
    "[Read about arcseconds here](https://en.wikipedia.org/wiki/Minute_and_second_of_arc)\n",
    "\n",
    "If you don't want to read that, the summary is that an arcsecond is 1/3600 of a degree, which is 0.000277 in decimal degree format.\n",
    "\n",
    "So the pixel size in this DEM is in decimal degrees. \n",
    "\n",
    "1 arcsecond in decimal degrees is around 30 m at the equator. It changes as you change latitude. At high latitudes the X and Y dimensions will always be 1 arcsecond but the length in metres will change. \n",
    "\n",
    "This is a bit of a problem for us because we like to do things like measure gradients and areas and distances in units like metres and metres squared: measuring, say, a river gradient in metres per arcsecond would seem rather silly. \n",
    "\n",
    "This brings us to projections, transformations, and coordinate reference systems."
   ]
  },
  {
   "cell_type": "markdown",
   "id": "b24eca9c",
   "metadata": {},
   "source": [
    "## Projections, transformations, and coordinate reference systems"
   ]
  },
  {
   "cell_type": "markdown",
   "id": "efe2a42c",
   "metadata": {},
   "source": [
    "I am not going to get into too much detail here, but the Earth is a sphere so one way to figure out where you are on the sphere is to use [geographic coordinates](https://en.wikipedia.org/wiki/Geographic_coordinate_system): latitude and longitude. \n",
    "\n",
    "But you can also project this spherical surface onto a flat surface (e.g., a paper map). This is called a projection. A projection can allow you to convert your coordinates into distances or areas. \n",
    "\n",
    "[You can spend all day reading about projections](https://en.wikipedia.org/wiki/Map_projection)\n",
    "\n",
    "So, your **coordinate reference system** (or **crs**) can be either *geographic* or *projected*. \n",
    "\n",
    "* Geographic coordinate systems have latitude and longitude coordinates, and the spatial units are decimal degrees\n",
    "* Projected coordinate systems have spatial units in metres, although in the United States their system of measurement is still in the stone age and they use hilariously stupid imperial units (so \"state planes\" are in feet). The British National Grid is in metres."
   ]
  },
  {
   "cell_type": "markdown",
   "id": "a4445e56",
   "metadata": {},
   "source": [
    "### Common coordinate reference systems and the EPSG code"
   ]
  },
  {
   "cell_type": "markdown",
   "id": "a6b7eee6",
   "metadata": {},
   "source": [
    "So what different coordinate reference systems are there? Well, there are lots of them. With funny names. But we have a system of identifying these systems. It is called an **EPSG** code. \n",
    "\n",
    "The [EPSG code](https://en.wikipedia.org/wiki/EPSG_Geodetic_Parameter_Dataset) is a shorthand for the coordinate reference system. Here are some common ones\n",
    "\n",
    "**Geographic coordinate systems**\n",
    "* EPSG:4326 - WGS 84, latitude/longitude coordinate system based on the Earth's center of mass, used by the Global Positioning System among others.\n",
    "* EPSG:3857 - Web Mercator projection used for display by many web-based mapping tools, including Google Maps and OpenStreetMap.\n",
    "\n",
    "**Projected coordiante systems**\n",
    "* EPSG:27700 British National Grid\n",
    "* EPSG:326XX Universal Transverse Mecator, Northern hemisphere. The XX is the UTM zone\n",
    "* EPSG:327XX Universal Transverse Mecator, Southern hemisphere. The XX is the UTM zone\n",
    "* EPSG:3034 A projection that covers all of Europe (but a bit less accurate than UTM if you are in the correct zone). \n",
    "\n",
    "UTM is a widely used projected coordinate system that can be used anywhere, provided you know the *UTM zone*. [Click here for a map of UTM zones](http://www.dmap.co.uk/utmworld.htm)."
   ]
  },
  {
   "cell_type": "markdown",
   "id": "d6241d6f",
   "metadata": {},
   "source": [
    "## Changing a raster's projection"
   ]
  },
  {
   "cell_type": "markdown",
   "id": "eda13efd",
   "metadata": {},
   "source": [
    "The easist way to do this is with our good friend gdal. You can also change the projection with the python package `rasterio`. \n",
    "\n",
    "I'll do it both ways and show some gotchas.\n",
    "\n",
    "First, we can use the gdal tool `gdalwarp`. As we learned in the last lesson, the gdal command line tools live in the linux environment that underpins a python notebook. So you need gdal installed and you also need to use the `!` symbol to call a script in linux. Here is how to do it:"
   ]
  },
  {
   "cell_type": "code",
   "execution_count": null,
   "id": "5eb7af06",
   "metadata": {},
   "outputs": [],
   "source": [
    "!gdalwarp -t_srs EPSG:3034 rio_aguas_SRTMGL1.tif rio_aguas_SRTMGL1_LCC.tif "
   ]
  },
  {
   "cell_type": "markdown",
   "id": "f8fe996d",
   "metadata": {},
   "source": [
    "Now lets see what we got (with rasterio):"
   ]
  },
  {
   "cell_type": "code",
   "execution_count": null,
   "id": "42419b13",
   "metadata": {},
   "outputs": [],
   "source": [
    "filename = \"rio_aguas_SRTMGL1_LCC.tif\"\n",
    "with rio.open(filename) as src:\n",
    "    print(\"The metadata for this raster is:\")\n",
    "    print(src.meta)\n",
    "    print(\"\\nRaster pixel sizes in the X,Y directions are:\")\n",
    "    print(src.res)"
   ]
  },
  {
   "cell_type": "markdown",
   "id": "3a9feb11",
   "metadata": {},
   "source": [
    "Lets get two hillshades and compare them. We will use gdaldem for this. If you did the last lesson, you already have the SRTM hillshade. So we only need the new hillshade"
   ]
  },
  {
   "cell_type": "code",
   "execution_count": null,
   "id": "8e8c1542",
   "metadata": {},
   "outputs": [],
   "source": [
    "!gdaldem hillshade rio_aguas_SRTMGL1_LCC.tif rio_aguas_SRTMGL1_LCC_HS.tif -alg ZevenbergenThorne"
   ]
  },
  {
   "cell_type": "code",
   "execution_count": null,
   "id": "e6c9646d",
   "metadata": {
    "scrolled": true
   },
   "outputs": [],
   "source": [
    "%matplotlib inline\n",
    "\n",
    "f, (ax1, ax2) = plt.subplots(1, 2)\n",
    "\n",
    "filename = \"rio_aguas_SRTMGL1_HS.tif\"\n",
    "with rio.open(filename) as src:\n",
    "    ax1.imshow(src.read(1), cmap='gray')\n",
    "    \n",
    "filename2 = \"rio_aguas_SRTMGL1_LCC_HS.tif\"\n",
    "with rio.open(filename2) as src2:\n",
    "    ax2.imshow(src2.read(1), cmap='gray')\n",
    "\n",
    "f.set_size_inches(10.5, 8.5)    \n",
    "    \n",
    "plt.show()    "
   ]
  },
  {
   "cell_type": "markdown",
   "id": "3c51c3f5",
   "metadata": {},
   "source": [
    "What is going on?\n",
    "\n",
    "First, the dark hillshade on the right is because the X,Y coordinates are in decimal degrees and the elevation is in metres. So you get a very distorted hillshade. **For a good hillshade you really need to use a projected coordinate system**\n",
    "\n",
    "Second, these are image plots so the X,Y coordinates are just the row and column of the raster array. They are not spatial dimensions. \n",
    "\n",
    "The projected hillshade is tilted because it is in a conical projection that (for this projection) spreads things out the further south you go. It you plotted a site in SE Europe (in Greece, say) the raster would be tilted the other direction. "
   ]
  },
  {
   "cell_type": "markdown",
   "id": "c2783a46",
   "metadata": {},
   "source": [
    "## Striping"
   ]
  },
  {
   "cell_type": "markdown",
   "id": "96043341",
   "metadata": {},
   "source": [
    "Okay, we want a projected coordinate system because we want spatial units in metres (or some length unit rather than latitude, longitude). \n",
    "\n",
    "But there is a problem with the projection that we can see if we zoom in:"
   ]
  },
  {
   "cell_type": "code",
   "execution_count": null,
   "id": "3d2837e5",
   "metadata": {},
   "outputs": [],
   "source": [
    "%matplotlib inline\n",
    "f, (ax1) = plt.subplots(1, 1)\n",
    "f.set_size_inches(10.5, 8.5)   \n",
    "\n",
    "filename2 = \"rio_aguas_SRTMGL1_LCC_HS.tif\"\n",
    "with rio.open(filename2) as src2:\n",
    "    array = src2.read(1)\n",
    "    \n",
    "    # I'll zoom in with an array slice\n",
    "    array2 = array[200:350, 200:350]\n",
    "    ax1.imshow(array2, cmap='gray')\n",
    "       \n",
    "plt.show()  "
   ]
  },
  {
   "cell_type": "markdown",
   "id": "652c55f0",
   "metadata": {},
   "source": [
    "Can you see those stripes? The stripes are there because the default sampling for the projection is nearest neighbour, but every few pixels the nearest neighbour in the new projection skips a row or column in the old projects. You solve this by the changing the resampling method to either `cubic` or `bilinear`\n",
    "\n",
    "To do this add this to the `gdalwarp` command: `-r cubic`. \n",
    "While we are at it, lets make the pixel size a nice round number using `-tr 26 26` (we get 26 metre pixels that way)."
   ]
  },
  {
   "cell_type": "code",
   "execution_count": null,
   "id": "abff34d4",
   "metadata": {},
   "outputs": [],
   "source": [
    "!gdalwarp -t_srs EPSG:3034 rio_aguas_SRTMGL1.tif rio_aguas_SRTMGL1_cubic_LCC.tif -r cubic -tr 26 26"
   ]
  },
  {
   "cell_type": "code",
   "execution_count": null,
   "id": "2e0a394a",
   "metadata": {},
   "outputs": [],
   "source": [
    "!gdaldem hillshade rio_aguas_SRTMGL1_cubic_LCC.tif rio_aguas_SRTMGL1_LCC_cubic_HS.tif -alg ZevenbergenThorne"
   ]
  },
  {
   "cell_type": "markdown",
   "id": "59d461d3",
   "metadata": {},
   "source": [
    "Now we plot the hillshade. Tada! No striping!!"
   ]
  },
  {
   "cell_type": "code",
   "execution_count": null,
   "id": "3d5025a7",
   "metadata": {},
   "outputs": [],
   "source": [
    "%matplotlib inline\n",
    "f, (ax1) = plt.subplots(1, 1)\n",
    "f.set_size_inches(10.5, 8.5)   \n",
    "\n",
    "filename2 = \"rio_aguas_SRTMGL1_LCC_cubic_HS.tif\"\n",
    "with rio.open(filename2) as src2:\n",
    "    array = src2.read(1)\n",
    "    \n",
    "    # I'll zoom in with an array slice\n",
    "    array2 = array[200:350, 200:350]\n",
    "    ax1.imshow(array2, cmap='gray')\n",
    "       \n",
    "plt.show() "
   ]
  },
  {
   "cell_type": "markdown",
   "id": "6b8f5c9c",
   "metadata": {},
   "source": [
    "## Doing everything using rasterio (for completeness, gdal is better)"
   ]
  },
  {
   "cell_type": "markdown",
   "id": "84d77605",
   "metadata": {},
   "source": [
    "We can do all that reprojection stuff in `rasterio` if you don't want to delve into the linux command line. But it is much uglier than gdalwarp:"
   ]
  },
  {
   "cell_type": "code",
   "execution_count": null,
   "id": "8b778b96",
   "metadata": {},
   "outputs": [],
   "source": [
    "import numpy as np\n",
    "import rasterio\n",
    "from rasterio.warp import calculate_default_transform, reproject, Resampling\n",
    "\n",
    "dst_crs = 'EPSG:3034'\n",
    "\n",
    "with rasterio.open('rio_aguas_SRTMGL1.tif') as src:\n",
    "    transform, width, height = calculate_default_transform(\n",
    "        src.crs, dst_crs, src.width, src.height, *src.bounds)\n",
    "    kwargs = src.meta.copy()\n",
    "    kwargs.update({\n",
    "        'crs': dst_crs,\n",
    "        'transform': transform,\n",
    "        'width': width,\n",
    "        'height': height\n",
    "    })\n",
    "\n",
    "    with rasterio.open('rio_aguas_SRTMGL1_LCC_cubic_rasterio.tif', 'w', **kwargs) as dst:\n",
    "        for i in range(1, src.count + 1):\n",
    "            reproject(\n",
    "                source=rasterio.band(src, i),\n",
    "                destination=rasterio.band(dst, i),\n",
    "                src_transform=src.transform,\n",
    "                src_crs=src.crs,\n",
    "                dst_transform=transform,\n",
    "                dst_crs=dst_crs,\n",
    "                resampling=Resampling.cubic)"
   ]
  },
  {
   "cell_type": "code",
   "execution_count": null,
   "id": "7dc656b0",
   "metadata": {},
   "outputs": [],
   "source": [
    "!gdaldem hillshade rio_aguas_SRTMGL1_LCC_cubic_rasterio.tif rio_aguas_SRTMGL1_LCC_cubic_rasterio_HS.tif -alg ZevenbergenThorne"
   ]
  },
  {
   "cell_type": "code",
   "execution_count": null,
   "id": "bdee4609",
   "metadata": {},
   "outputs": [],
   "source": [
    "%matplotlib inline\n",
    "f, (ax1) = plt.subplots(1, 1)\n",
    "f.set_size_inches(10.5, 8.5)   \n",
    "\n",
    "filename2 = \"rio_aguas_SRTMGL1_LCC_cubic_rasterio_HS.tif\"\n",
    "with rio.open(filename2) as src2:\n",
    "    array = src2.read(1)\n",
    "    \n",
    "    # I'll zoom in with an array slice\n",
    "    array2 = array[200:350, 200:350]\n",
    "    ax1.imshow(array2, cmap='gray')\n",
    "       \n",
    "plt.show()  "
   ]
  },
  {
   "cell_type": "markdown",
   "id": "5041d7ee",
   "metadata": {},
   "source": [
    "## What you should have learned and potential modifications"
   ]
  },
  {
   "cell_type": "markdown",
   "id": "8b0230a1",
   "metadata": {},
   "source": [
    "You should\n",
    "\n",
    "* Now know what a coordinate reference system is.\n",
    "* Know the difference between a projected and geographic coordinate system\n",
    "* Be able to use gdal to reproject (\"warp\") a raster\n",
    "* Know that when you warp a raster you should use either `cubic` or ` bilinear` resampling.\n",
    "\n",
    "Further tasks\n",
    "\n",
    "* Try projecting the DEM into the correct UTM coordinates (you will need to [look up the UTM zone](http://www.dmap.co.uk/utmworld.htm); this site is just to the east of Almeria, Spain).\n",
    "* Try changing the pixel resolution (to 30m pixels, for example and using either `gdalinfo` or `rasterio.meta` to check if you've done it properly. "
   ]
  }
 ],
 "metadata": {
  "kernelspec": {
   "display_name": "Python 3 (ipykernel)",
   "language": "python",
   "name": "python3"
  },
  "language_info": {
   "codemirror_mode": {
    "name": "ipython",
    "version": 3
   },
   "file_extension": ".py",
   "mimetype": "text/x-python",
   "name": "python",
   "nbconvert_exporter": "python",
   "pygments_lexer": "ipython3",
   "version": "3.8.10"
  }
 },
 "nbformat": 4,
 "nbformat_minor": 5
}
