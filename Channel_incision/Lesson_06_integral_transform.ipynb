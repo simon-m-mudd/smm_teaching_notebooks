{
 "cells": [
  {
   "cell_type": "markdown",
   "metadata": {},
   "source": [
    "# Lesson 06: Integral transformation of river profiles"
   ]
  },
  {
   "cell_type": "markdown",
   "metadata": {},
   "source": [
    "*This lesson has been written by Simon M. Mudd at the University of Edinburgh*\n",
    "\n",
    "*Last update 30/09/2021*"
   ]
  },
  {
   "cell_type": "markdown",
   "metadata": {},
   "source": [
    "In the last lesson, we looked at some of the drawbacks of using slope-area data to compare the steepness of channels. There is an alternative way to look at channel steepness that uses elevation rather than gradient of the channel. \n",
    "\n",
    "We start with Morisawa's law:\n",
    "\n",
    "$S = k_s A^{-\\theta}$\n",
    "\n",
    "now remember that $S$ is the same as $dz/dx$, the derivative of elevation. $x$ is the flow distance. If we integrate this equation we get:\n",
    "    \n",
    "$z(x) = z(x_b) + \\Big(\\frac{k_s}{{A_0}^{\\theta}}\\Big) \\int_{x_b}^{x} \\Big(\\frac{A_0}{A(x)}\\Big)^{\\theta} dx$\n",
    "\n",
    "where $x_b$ is some arbitrary base level, and $A_0$ is a reference drainage area (this is to ensure the integrand is dimensionless). We almost always set $A_0$ to 1 $m^2$. The integrand seems annoying and messy, but it actually fairly easy to calculate from topographic data (you are just adding drainage area along the length of the channel. You will never need to do this yourself, there is software for calculating the integrand. It also has dimensions length. So we can define a coordinate, $\\chi$:\n",
    "\n",
    "$\\chi = \\int_{x_b}^{x} \\Big(\\frac{A_0}{A(x)}\\Big)^{\\theta} dx$\n",
    "\n",
    "which is just that integrand, but it looks nicer in the equation:\n",
    "\n",
    "$z(x) = z(x_b) + \\Big(\\frac{k_s}{{A_0}^{\\theta}}\\Big) \\chi$\n",
    "\n",
    "Now, have a look at that last equation. This is the equation of a line! And the gradient of the line, if $A_0$ = 1 $m^2$ is the channel steepness! "
   ]
  },
  {
   "cell_type": "markdown",
   "metadata": {},
   "source": [
    "## Wait, what does that mean?"
   ]
  },
  {
   "cell_type": "markdown",
   "metadata": {},
   "source": [
    "It means that if you calculate $\\chi$ (and we have software for that) you get a **transformed** profile where the gradient of the profile is the channel steepness. And actually, if you do a bunch of fancy mathematics, you can show that this works even if the erosion rates vary in time and space (see Royden and Perron, 2013).\n",
    "\n",
    "The `channeltoy` includes the $\\chi$ coordinate, so you can see what it looks like:"
   ]
  },
  {
   "cell_type": "code",
   "execution_count": null,
   "metadata": {},
   "outputs": [],
   "source": [
    "!pip install channeltoy"
   ]
  },
  {
   "cell_type": "code",
   "execution_count": null,
   "metadata": {},
   "outputs": [],
   "source": [
    "import channeltoy as ct\n",
    "import matplotlib.pyplot as plt\n",
    "import numpy as np"
   ]
  },
  {
   "cell_type": "code",
   "execution_count": null,
   "metadata": {},
   "outputs": [],
   "source": [
    "# Make a steady state channel\n",
    "first_channel = ct.channeltoy(spacing=250, U = 0.0002, K = 0.00005, n=1, m= 0.45)\n",
    "initial_elevation = first_channel.solve_steady_state_elevation()\n",
    "initial_chi = first_channel.chi_data\n",
    "x_locs  = first_channel.x_data\n",
    "\n",
    "# Create two subplots and unpack the output array immediately\n",
    "plt.clf()\n",
    "f, (ax1, ax2) = plt.subplots(2, 1)\n",
    "ax1.plot(x_locs, initial_elevation,'b')\n",
    "ax2.plot(initial_chi, initial_elevation,'r')\n",
    "\n",
    "\n",
    "ax1.set_xlabel(\"Distance from outlet ($m$)\")\n",
    "ax1.set_ylabel(\"elevation (m)\")\n",
    "ax1.title.set_text(\"Longitudinal profile\")\n",
    "\n",
    "\n",
    "ax2.set_xlabel(\"$\\chi$ ($m$)\")\n",
    "ax2.set_ylabel(\"elevation (m)\")\n",
    "ax2.title.set_text(\"$\\chi$ profile\")\n",
    "\n",
    "plt.tight_layout()\n"
   ]
  },
  {
   "cell_type": "markdown",
   "metadata": {},
   "source": [
    "See how the chi ($\\chi$) profile is straight? That is because this is a steady state channel. \n",
    "We can do a transient channel as well:"
   ]
  },
  {
   "cell_type": "code",
   "execution_count": null,
   "metadata": {
    "scrolled": true
   },
   "outputs": [],
   "source": [
    "# create a channel\n",
    "chan = ct.channeltoy(spacing=20, U = 0.0002, K = 0.00005, n=1, m= 0.45)\n",
    "initial_elevation = chan.solve_steady_state_elevation()\n",
    "\n",
    "# change the uplift rate\n",
    "chan.set_U_values(U = 0.0005)\n",
    "\n",
    "# Run the transient simulation. You can use the start and end time to \n",
    "times, elevations = chan.transient_simulation(base_level = 0, dt = 50, \n",
    "                                              start_time = 0, end_time = 100001, \n",
    "                                              print_interval = 25000)\n",
    "\n",
    "initial_chi = chan.chi_data\n",
    "x_locs  = chan.x_data\n",
    "z = elevations[-1]\n",
    "\n",
    "# Create two subplots and unpack the output array immediately\n",
    "plt.clf()\n",
    "f, (ax1, ax2) = plt.subplots(2, 1)\n",
    "ax1.plot(x_locs, z,'b')\n",
    "ax2.plot(initial_chi, z,'r')\n",
    "\n",
    "\n",
    "ax1.set_xlabel(\"Distance from outlet ($m$)\")\n",
    "ax1.set_ylabel(\"elevation (m)\")\n",
    "\n",
    "\n",
    "ax2.set_xlabel(\"$\\chi$ ($m$)\")\n",
    "ax2.set_ylabel(\"elevation (m)\")\n",
    "\n",
    "plt.tight_layout()"
   ]
  },
  {
   "cell_type": "markdown",
   "metadata": {},
   "source": [
    "See how the $\\chi$ profile has two segments with a different gradient? The steeper part represents the section affected by the higher uplift rate in this transient run.\n",
    "\n",
    "This example illustrates how we can look at $\\chi$ profiles to see the relative steepness of channels."
   ]
  },
  {
   "cell_type": "markdown",
   "metadata": {},
   "source": [
    "## Some real $\\chi$ profiles"
   ]
  },
  {
   "cell_type": "markdown",
   "metadata": {},
   "source": [
    "Lets get that data from Xi'an, China that we have used in other lessons and look at it using `geopandas`"
   ]
  },
  {
   "cell_type": "code",
   "execution_count": null,
   "metadata": {},
   "outputs": [],
   "source": [
    "import pandas as pd\n",
    "import geopandas as gpd"
   ]
  },
  {
   "cell_type": "code",
   "execution_count": null,
   "metadata": {},
   "outputs": [],
   "source": [
    "# Read in the data from Xi'an\n",
    "df = pd.read_csv(\"Xian_chi_data_map.csv\")\n",
    "gdf = gpd.GeoDataFrame(\n",
    "    df, geometry=gpd.points_from_xy(df.longitude, df.latitude))\n",
    "gdf = gdf.set_crs(epsg=4326)\n",
    "print(gdf.head())"
   ]
  },
  {
   "cell_type": "markdown",
   "metadata": {},
   "source": [
    "Now plot the data"
   ]
  },
  {
   "cell_type": "code",
   "execution_count": null,
   "metadata": {},
   "outputs": [],
   "source": [
    "# First lets isolate just one of these basins. They go from 0 to 12\n",
    "gdf_b1 = gdf[(gdf['basin_key'] == 5)]\n",
    "\n",
    "# Now make channel profile plots\n",
    "z = gdf_b1.elevation\n",
    "x_locs = gdf_b1.flow_distance\n",
    "chi = gdf_b1.chi\n",
    "\n",
    "# Create two subplots and unpack the output array immediately\n",
    "plt.clf()\n",
    "f, (ax1, ax2) = plt.subplots(2, 1)\n",
    "ax1.scatter(x_locs, z,s = 0.2)\n",
    "ax2.scatter(chi, z,s = 0.2)\n",
    "\n",
    "\n",
    "ax1.set_xlabel(\"Distance from outlet ($m$)\")\n",
    "ax1.set_ylabel(\"elevation (m)\")\n",
    "\n",
    "ax2.set_xlabel(\"$\\chi$ ($m$)\")\n",
    "ax2.set_ylabel(\"elevation (m)\")\n",
    "\n",
    "plt.tight_layout()"
   ]
  },
  {
   "cell_type": "markdown",
   "metadata": {},
   "source": [
    "We can get rid of the tributaries as well:"
   ]
  },
  {
   "cell_type": "code",
   "execution_count": null,
   "metadata": {},
   "outputs": [],
   "source": [
    "# First lets isolate just one of these basins. They go from 0 to 12\n",
    "gdf_b1 = gdf[(gdf['basin_key'] == 3)]\n",
    "\n",
    "# The main stem channel is the one with the minimum source key in this basin\n",
    "min_source = np.amin(gdf_b1.source_key)\n",
    "gdf_b2 = gdf_b1[(gdf_b1['source_key'] == min_source)]\n",
    "\n",
    "# Now make channel profile plots\n",
    "z = gdf_b2.elevation\n",
    "x_locs = gdf_b2.flow_distance\n",
    "chi = gdf_b2.chi\n",
    "\n",
    "# Create two subplots and unpack the output array immediately\n",
    "plt.clf()\n",
    "f, (ax1, ax2) = plt.subplots(2, 1)\n",
    "ax1.scatter(x_locs, z,s = 0.2)\n",
    "ax2.scatter(chi, z,s = 0.2)\n",
    "\n",
    "\n",
    "ax1.set_xlabel(\"Distance from outlet ($m$)\")\n",
    "ax1.set_ylabel(\"elevation (m)\")\n",
    "\n",
    "ax2.set_xlabel(\"$\\chi$ ($m$)\")\n",
    "ax2.set_ylabel(\"elevation (m)\")\n",
    "\n",
    "plt.tight_layout()"
   ]
  },
  {
   "cell_type": "markdown",
   "metadata": {},
   "source": [
    "__Task:__ In the prevous two code snippets, vary the basin number and look for knickpoints."
   ]
  }
 ],
 "metadata": {
  "kernelspec": {
   "display_name": "Python 3 (ipykernel)",
   "language": "python",
   "name": "python3"
  },
  "language_info": {
   "codemirror_mode": {
    "name": "ipython",
    "version": 3
   },
   "file_extension": ".py",
   "mimetype": "text/x-python",
   "name": "python",
   "nbconvert_exporter": "python",
   "pygments_lexer": "ipython3",
   "version": "3.8.10"
  }
 },
 "nbformat": 4,
 "nbformat_minor": 4
}
