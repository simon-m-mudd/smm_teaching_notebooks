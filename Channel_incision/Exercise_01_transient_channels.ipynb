{
 "cells": [
  {
   "cell_type": "markdown",
   "metadata": {},
   "source": [
    "# Excercise: transient channels"
   ]
  },
  {
   "cell_type": "markdown",
   "metadata": {},
   "source": [
    "This notebook contains an excercise to help you understand transient channels. \n",
    "\n",
    "* We will be using the channel toy (see previous lessons) to look at the behaviour of a river in response to changing uplift. \n",
    "* We then will look at how this modifies the chi profile. \n",
    "* We will then look at a real channel network and let you draw some conclusions about the history of uplift in that location. "
   ]
  },
  {
   "cell_type": "markdown",
   "metadata": {},
   "source": [
    "## Before we start: install and import some stuff"
   ]
  },
  {
   "cell_type": "code",
   "execution_count": 1,
   "metadata": {},
   "outputs": [
    {
     "name": "stdout",
     "output_type": "stream",
     "text": [
      "Collecting channeltoy\n",
      "  Downloading channeltoy-0.1.0-py2.py3-none-any.whl (8.8 kB)\n",
      "Collecting ipympl\n",
      "  Downloading ipympl-0.5.8-py2.py3-none-any.whl (2.0 MB)\n",
      "\u001b[K     |████████████████████████████████| 2.0 MB 1.6 MB/s eta 0:00:01\n",
      "\u001b[?25hRequirement already satisfied: Click>=7.0 in /usr/local/lib/python3.8/site-packages (from channeltoy) (7.1.2)\n",
      "Requirement already satisfied: matplotlib>=2.0.0 in /usr/local/lib/python3.8/site-packages (from ipympl) (3.2.2)\n",
      "Requirement already satisfied: ipywidgets>=7.5.0 in /usr/local/lib/python3.8/site-packages (from ipympl) (7.5.1)\n",
      "Requirement already satisfied: ipykernel>=4.7 in /usr/local/lib/python3.8/site-packages (from ipympl) (5.3.1)\n",
      "Requirement already satisfied: kiwisolver>=1.0.1 in /usr/local/lib/python3.8/site-packages (from matplotlib>=2.0.0->ipympl) (1.2.0)\n",
      "Requirement already satisfied: cycler>=0.10 in /usr/local/lib/python3.8/site-packages (from matplotlib>=2.0.0->ipympl) (0.10.0)\n",
      "Requirement already satisfied: numpy>=1.11 in /usr/local/lib/python3.8/site-packages (from matplotlib>=2.0.0->ipympl) (1.18.5)\n",
      "Requirement already satisfied: python-dateutil>=2.1 in /usr/local/lib/python3.8/site-packages (from matplotlib>=2.0.0->ipympl) (2.8.1)\n",
      "Requirement already satisfied: pyparsing!=2.0.4,!=2.1.2,!=2.1.6,>=2.0.1 in /usr/local/lib/python3.8/site-packages (from matplotlib>=2.0.0->ipympl) (2.4.7)\n",
      "Requirement already satisfied: nbformat>=4.2.0 in /usr/local/lib/python3.8/site-packages (from ipywidgets>=7.5.0->ipympl) (5.0.7)\n",
      "Requirement already satisfied: traitlets>=4.3.1 in /usr/local/lib/python3.8/site-packages (from ipywidgets>=7.5.0->ipympl) (4.3.3)\n",
      "Requirement already satisfied: ipython>=4.0.0; python_version >= \"3.3\" in /usr/local/lib/python3.8/site-packages (from ipywidgets>=7.5.0->ipympl) (7.16.1)\n",
      "Requirement already satisfied: widgetsnbextension~=3.5.0 in /usr/local/lib/python3.8/site-packages (from ipywidgets>=7.5.0->ipympl) (3.5.1)\n",
      "Requirement already satisfied: jupyter-client in /usr/local/lib/python3.8/site-packages (from ipykernel>=4.7->ipympl) (6.1.5)\n",
      "Requirement already satisfied: tornado>=4.2 in /usr/local/lib/python3.8/site-packages (from ipykernel>=4.7->ipympl) (6.0.4)\n",
      "Requirement already satisfied: six in /usr/local/lib/python3.8/site-packages (from cycler>=0.10->matplotlib>=2.0.0->ipympl) (1.15.0)\n",
      "Requirement already satisfied: jsonschema!=2.5.0,>=2.4 in /usr/local/lib/python3.8/site-packages (from nbformat>=4.2.0->ipywidgets>=7.5.0->ipympl) (3.2.0)\n",
      "Requirement already satisfied: jupyter-core in /usr/local/lib/python3.8/site-packages (from nbformat>=4.2.0->ipywidgets>=7.5.0->ipympl) (4.6.3)\n",
      "Requirement already satisfied: ipython-genutils in /usr/local/lib/python3.8/site-packages (from nbformat>=4.2.0->ipywidgets>=7.5.0->ipympl) (0.2.0)\n",
      "Requirement already satisfied: decorator in /usr/local/lib/python3.8/site-packages (from traitlets>=4.3.1->ipywidgets>=7.5.0->ipympl) (4.4.2)\n",
      "Requirement already satisfied: setuptools>=18.5 in /usr/local/lib/python3.8/site-packages (from ipython>=4.0.0; python_version >= \"3.3\"->ipywidgets>=7.5.0->ipympl) (49.1.0.post20200704)\n",
      "Requirement already satisfied: jedi>=0.10 in /usr/local/lib/python3.8/site-packages (from ipython>=4.0.0; python_version >= \"3.3\"->ipywidgets>=7.5.0->ipympl) (0.17.1)\n",
      "Requirement already satisfied: prompt-toolkit!=3.0.0,!=3.0.1,<3.1.0,>=2.0.0 in /usr/local/lib/python3.8/site-packages (from ipython>=4.0.0; python_version >= \"3.3\"->ipywidgets>=7.5.0->ipympl) (3.0.5)\n",
      "Requirement already satisfied: pickleshare in /usr/local/lib/python3.8/site-packages (from ipython>=4.0.0; python_version >= \"3.3\"->ipywidgets>=7.5.0->ipympl) (0.7.5)\n",
      "Requirement already satisfied: backcall in /usr/local/lib/python3.8/site-packages (from ipython>=4.0.0; python_version >= \"3.3\"->ipywidgets>=7.5.0->ipympl) (0.2.0)\n",
      "Requirement already satisfied: pygments in /usr/local/lib/python3.8/site-packages (from ipython>=4.0.0; python_version >= \"3.3\"->ipywidgets>=7.5.0->ipympl) (2.6.1)\n",
      "Requirement already satisfied: pexpect; sys_platform != \"win32\" in /usr/local/lib/python3.8/site-packages (from ipython>=4.0.0; python_version >= \"3.3\"->ipywidgets>=7.5.0->ipympl) (4.8.0)\n",
      "Requirement already satisfied: notebook>=4.4.1 in /usr/local/lib/python3.8/site-packages (from widgetsnbextension~=3.5.0->ipywidgets>=7.5.0->ipympl) (6.0.3)\n",
      "Requirement already satisfied: pyzmq>=13 in /usr/local/lib/python3.8/site-packages (from jupyter-client->ipykernel>=4.7->ipympl) (19.0.1)\n",
      "Requirement already satisfied: attrs>=17.4.0 in /usr/local/lib/python3.8/site-packages (from jsonschema!=2.5.0,>=2.4->nbformat>=4.2.0->ipywidgets>=7.5.0->ipympl) (19.3.0)\n",
      "Requirement already satisfied: pyrsistent>=0.14.0 in /usr/local/lib/python3.8/site-packages (from jsonschema!=2.5.0,>=2.4->nbformat>=4.2.0->ipywidgets>=7.5.0->ipympl) (0.16.0)\n",
      "Requirement already satisfied: parso<0.8.0,>=0.7.0 in /usr/local/lib/python3.8/site-packages (from jedi>=0.10->ipython>=4.0.0; python_version >= \"3.3\"->ipywidgets>=7.5.0->ipympl) (0.7.0)\n",
      "Requirement already satisfied: wcwidth in /usr/local/lib/python3.8/site-packages (from prompt-toolkit!=3.0.0,!=3.0.1,<3.1.0,>=2.0.0->ipython>=4.0.0; python_version >= \"3.3\"->ipywidgets>=7.5.0->ipympl) (0.2.5)\n",
      "Requirement already satisfied: ptyprocess>=0.5 in /usr/local/lib/python3.8/site-packages (from pexpect; sys_platform != \"win32\"->ipython>=4.0.0; python_version >= \"3.3\"->ipywidgets>=7.5.0->ipympl) (0.6.0)\n",
      "Requirement already satisfied: nbconvert in /usr/local/lib/python3.8/site-packages (from notebook>=4.4.1->widgetsnbextension~=3.5.0->ipywidgets>=7.5.0->ipympl) (5.6.1)\n",
      "Requirement already satisfied: Send2Trash in /usr/local/lib/python3.8/site-packages (from notebook>=4.4.1->widgetsnbextension~=3.5.0->ipywidgets>=7.5.0->ipympl) (1.5.0)\n",
      "Requirement already satisfied: jinja2 in /usr/local/lib/python3.8/site-packages (from notebook>=4.4.1->widgetsnbextension~=3.5.0->ipywidgets>=7.5.0->ipympl) (2.11.2)\n",
      "Requirement already satisfied: terminado>=0.8.1 in /usr/local/lib/python3.8/site-packages (from notebook>=4.4.1->widgetsnbextension~=3.5.0->ipywidgets>=7.5.0->ipympl) (0.8.3)\n",
      "Requirement already satisfied: prometheus-client in /usr/local/lib/python3.8/site-packages (from notebook>=4.4.1->widgetsnbextension~=3.5.0->ipywidgets>=7.5.0->ipympl) (0.8.0)\n",
      "Requirement already satisfied: bleach in /usr/local/lib/python3.8/site-packages (from nbconvert->notebook>=4.4.1->widgetsnbextension~=3.5.0->ipywidgets>=7.5.0->ipympl) (3.1.5)\n",
      "Requirement already satisfied: testpath in /usr/local/lib/python3.8/site-packages (from nbconvert->notebook>=4.4.1->widgetsnbextension~=3.5.0->ipywidgets>=7.5.0->ipympl) (0.4.4)\n",
      "Requirement already satisfied: mistune<2,>=0.8.1 in /usr/local/lib/python3.8/site-packages (from nbconvert->notebook>=4.4.1->widgetsnbextension~=3.5.0->ipywidgets>=7.5.0->ipympl) (0.8.4)\n",
      "Requirement already satisfied: defusedxml in /usr/local/lib/python3.8/site-packages (from nbconvert->notebook>=4.4.1->widgetsnbextension~=3.5.0->ipywidgets>=7.5.0->ipympl) (0.6.0)\n",
      "Requirement already satisfied: pandocfilters>=1.4.1 in /usr/local/lib/python3.8/site-packages (from nbconvert->notebook>=4.4.1->widgetsnbextension~=3.5.0->ipywidgets>=7.5.0->ipympl) (1.4.2)\n",
      "Requirement already satisfied: entrypoints>=0.2.2 in /usr/local/lib/python3.8/site-packages (from nbconvert->notebook>=4.4.1->widgetsnbextension~=3.5.0->ipywidgets>=7.5.0->ipympl) (0.3)\n",
      "Requirement already satisfied: MarkupSafe>=0.23 in /usr/local/lib/python3.8/site-packages (from jinja2->notebook>=4.4.1->widgetsnbextension~=3.5.0->ipywidgets>=7.5.0->ipympl) (1.1.1)\n",
      "Requirement already satisfied: webencodings in /usr/local/lib/python3.8/site-packages (from bleach->nbconvert->notebook>=4.4.1->widgetsnbextension~=3.5.0->ipywidgets>=7.5.0->ipympl) (0.5.1)\n",
      "Requirement already satisfied: packaging in /usr/local/lib/python3.8/site-packages (from bleach->nbconvert->notebook>=4.4.1->widgetsnbextension~=3.5.0->ipywidgets>=7.5.0->ipympl) (20.4)\n",
      "Installing collected packages: channeltoy, ipympl\n",
      "Successfully installed channeltoy-0.1.0 ipympl-0.5.8\n"
     ]
    }
   ],
   "source": [
    "!pip install channeltoy ipympl"
   ]
  },
  {
   "cell_type": "code",
   "execution_count": 2,
   "metadata": {},
   "outputs": [],
   "source": [
    "%matplotlib widget\n",
    "%matplotlib inline\n",
    "import ipywidgets as widgets\n",
    "from ipywidgets import interactive\n",
    "import channeltoy as ct\n",
    "import matplotlib.pyplot as plt\n",
    "import numpy as np"
   ]
  },
  {
   "cell_type": "markdown",
   "metadata": {},
   "source": [
    "## Part 1: Simple channel profile"
   ]
  },
  {
   "cell_type": "markdown",
   "metadata": {},
   "source": [
    "Lets create an initial channel and then change the uplift rate. Simply execute (shift-enter) the following cell and then play around with `K` and the `initial_U` (which is initial uplift in m/yr) to see how steep a channel is.  \n",
    "\n",
    "Note: the script fixes the vertical axis. If it is too big or too small go into the cell and change the line that sets the limits:\n",
    "\n",
    "`ax.set_ylim([0, 2000])`"
   ]
  },
  {
   "cell_type": "code",
   "execution_count": 8,
   "metadata": {},
   "outputs": [
    {
     "data": {
      "application/vnd.jupyter.widget-view+json": {
       "model_id": "1abd750c4f6f4d589843b561e2129f7b",
       "version_major": 2,
       "version_minor": 0
      },
      "text/plain": [
       "interactive(children=(FloatSlider(value=5e-05, description='K', max=0.0001, min=1e-06, step=5e-06), FloatSlide…"
      ]
     },
     "metadata": {},
     "output_type": "display_data"
    }
   ],
   "source": [
    "plt.rcParams['figure.figsize'] = [10, 5]\n",
    "\n",
    "def plot_channel_SS(K = 0.00005, initial_U = 0.0002, basin_length = 10000 ):\n",
    "    \"\"\"Remove old lines from plot and plot new one\"\"\"\n",
    "    #[l.remove() for l in ax.lines]\n",
    "\n",
    "      \n",
    "    chan = ct.channeltoy(spacing=250, U = initial_U, K = K, n=1, m= 0.45, maximum_x = basin_length-999, X_0 = basin_length)\n",
    "    initial_elevation = chan.solve_steady_state_elevation()\n",
    "    x = chan.x_data\n",
    "    chi = chan.chi_data\n",
    "    \n",
    "    \n",
    "    \n",
    "    #print(x)\n",
    "    #print(initial_elevation)\n",
    "    fig, ax = plt.subplots()\n",
    "    plt.plot(x, initial_elevation,label=\"Initial elevation\")\n",
    "    plt.xlabel(\"Distance from outlet (m)\")\n",
    "    plt.ylabel(\"Elevation (m)\")\n",
    "    ax.set_ylim([0, 2000])\n",
    "    plt.legend()\n",
    "     \n",
    "interactive_plot = interactive(plot_channel_SS, \n",
    "                               K=(0.000001, 0.0001, 0.000005), \n",
    "                               initial_U=(0.0001, 0.001, 0.0001),\n",
    "                               basin_length=(5000,100000,5000)\n",
    "                              )\n",
    "\n",
    "output = interactive_plot.children[-1]\n",
    "output.layout.height = '350px'\n",
    "interactive_plot"
   ]
  },
  {
   "cell_type": "markdown",
   "metadata": {},
   "source": [
    "## Part 2: A transient channel"
   ]
  },
  {
   "cell_type": "markdown",
   "metadata": {},
   "source": [
    "This next bit of code sets up an interactive transient channel. \n",
    "\n",
    "* It starts with a steady-state channel profile.\n",
    "* You then increase the erosion rate.\n",
    "* A knickpoint will develop and will move upslope as you increase the end time.\n",
    "* Play around a bit to see how fast it moves!\n",
    "\n",
    "Again, you don't need to adjust anything in the code. Just click on the box and then shift-enter and it will give you an interactive plot. \n",
    "Under the hood is a numerical model so you will need to wait a little while each time you change a parameter. "
   ]
  },
  {
   "cell_type": "code",
   "execution_count": 12,
   "metadata": {},
   "outputs": [
    {
     "data": {
      "application/vnd.jupyter.widget-view+json": {
       "model_id": "489981ea833441d49a4547058b6a1d5a",
       "version_major": 2,
       "version_minor": 0
      },
      "text/plain": [
       "interactive(children=(FloatSlider(value=5e-05, description='K', max=0.0001, min=1e-06, step=5e-06), FloatSlide…"
      ]
     },
     "metadata": {},
     "output_type": "display_data"
    }
   ],
   "source": [
    "def plot_channel(K = 0.00005, initial_U = 0.0002, new_U = 0.0005 ,end_time = 50000,basin_length = 10000 ):\n",
    "    \"\"\"Remove old lines from plot and plot new one\"\"\"\n",
    "    #[l.remove() for l in ax.lines]\n",
    "    \n",
    "    chan = ct.channeltoy(spacing=250, U = initial_U, K = K, \n",
    "                         n=1, m= 0.45,\n",
    "                         maximum_x = basin_length-999, X_0 = basin_length)\n",
    "    \n",
    "    initial_elevation = chan.solve_steady_state_elevation()\n",
    "    x = chan.x_data\n",
    "    chi = chan.chi_data\n",
    "    \n",
    "    # change the uplift rate\n",
    "    chan.set_U_values(U = new_U)\n",
    "    \n",
    "    times, elevations = chan.transient_simulation(base_level = 0, dt = 200, \n",
    "                                              start_time = 0, end_time = end_time+1, \n",
    "                                              print_interval = end_time)\n",
    "    \n",
    "    #print(times)\n",
    "    #print(elevations)\n",
    "    \n",
    "    plt.plot(x, initial_elevation,label=\"Initial elevation\")\n",
    "    plt.plot(x, elevations[-1],label = \"Time is: \"+str(times[-1]))\n",
    "    plt.xlabel(\"Distance from outlet (m)\")\n",
    "    plt.ylabel(\"Elevation (m)\")\n",
    "    plt.legend()\n",
    "     \n",
    "interactive_plot = interactive(plot_channel, \n",
    "                               K=(0.000001, 0.0001, 0.000005), \n",
    "                               initial_U=(0.0001, 0.001, 0.0001),\n",
    "                               new_U=(0.0001, 0.001, 0.0001),\n",
    "                               end_time =(10000, 500000, 10000),\n",
    "                               basin_length=(5000,100000,5000))\n",
    "\n",
    "output = interactive_plot.children[-1]\n",
    "output.layout.height = '500px'\n",
    "interactive_plot"
   ]
  },
  {
   "cell_type": "markdown",
   "metadata": {},
   "source": [
    "## Part 3: A transient channel in chi-elevation space"
   ]
  },
  {
   "cell_type": "markdown",
   "metadata": {},
   "source": [
    "We have explained in class and in some of the previous lessons that slope-area data is has been used to see where channel steepness changes. But this kind of data can be quite noisy. See Lessons 5 and 6. It is easier to see where the knickpoint is using a chi transformation. \n",
    "\n",
    "The chi transformation basically squashes the channel at large drainage areas and stretches it at small drainage areas so that, in a steady state landscape, the chi-elevation profile becomes a straight line. \n",
    "\n",
    "In chi ($\\chi$)-elevation space, the steeper the profile, the higher the steepness index. \n",
    "\n",
    "Use the chi profiles below to see where the knickpoint is. Hopefully you can see why this is a little bit easier than using the profiles. "
   ]
  },
  {
   "cell_type": "code",
   "execution_count": 13,
   "metadata": {},
   "outputs": [
    {
     "data": {
      "application/vnd.jupyter.widget-view+json": {
       "model_id": "7a651564e0ea460c8f42c08e0783acd3",
       "version_major": 2,
       "version_minor": 0
      },
      "text/plain": [
       "interactive(children=(FloatSlider(value=5e-05, description='K', max=0.0001, min=1e-06, step=5e-06), FloatSlide…"
      ]
     },
     "metadata": {},
     "output_type": "display_data"
    }
   ],
   "source": [
    "def plot_channel_chi(K = 0.00005, initial_U = 0.0002, new_U = 0.0005 ,end_time = 50000, basin_length = 10000):\n",
    "    \"\"\"Remove old lines from plot and plot new one\"\"\"\n",
    "    #[l.remove() for l in ax.lines]\n",
    "    \n",
    "    chan = ct.channeltoy(spacing=100, U = initial_U, K = K, n=1, m= 0.45,\n",
    "                         maximum_x = basin_length-999, X_0 = basin_length)\n",
    "    initial_elevation = chan.solve_steady_state_elevation()\n",
    "    x = chan.x_data\n",
    "    chi = chan.chi_data\n",
    "    \n",
    "    # change the uplift rate\n",
    "    chan.set_U_values(U = new_U)\n",
    "    \n",
    "    times, elevations = chan.transient_simulation(base_level = 0, dt = 200, \n",
    "                                              start_time = 0, end_time = end_time+1, \n",
    "                                              print_interval = end_time)\n",
    "    \n",
    "    plt.plot(chi, initial_elevation,label=\"Initial elevation\")\n",
    "    plt.plot(chi, elevations[-1],label = \"Time is: \"+str(times[-1]))\n",
    "    plt.xlabel(\"Chi ($\\chi$) (m)\")\n",
    "    plt.ylabel(\"Elevation (m)\")\n",
    "    plt.legend()\n",
    "    \n",
    "    return plt.gca()\n",
    "     \n",
    "interactive_plot = interactive(plot_channel_chi, \n",
    "                               K=(0.000001, 0.0001, 0.000005), \n",
    "                               initial_U=(0.0001, 0.001, 0.0001),\n",
    "                               new_U=(0.0001, 0.001, 0.0001),\n",
    "                               end_time =(10000, 500000, 10000),\n",
    "                               basin_length=(5000,100000,5000))\n",
    "\n",
    "output = interactive_plot.children[-1]\n",
    "output.layout.height = '500px'\n",
    "interactive_plot"
   ]
  },
  {
   "cell_type": "markdown",
   "metadata": {},
   "source": [
    "## Optional: showing the knickpoint without the interactive plot"
   ]
  },
  {
   "cell_type": "markdown",
   "metadata": {},
   "source": [
    "You could also plot everything at once, instead of using the interactive plots, to see how fast the knickpoint moves, using the code below. You will need to change the parameters in the code. "
   ]
  },
  {
   "cell_type": "code",
   "execution_count": 15,
   "metadata": {},
   "outputs": [
    {
     "name": "stdout",
     "output_type": "stream",
     "text": [
      "K is: 5e-05\n",
      "U is: 0.0001\n",
      "U is: 0.0005\n",
      "\n",
      "Saving this timestep: 0.0\n",
      "Time is: 5000.0 \n",
      "Saving this timestep: 10000.0\n",
      "Time is: 15000.0 \n",
      "Saving this timestep: 20000.0\n",
      "Time is: 25000.0 \n",
      "Saving this timestep: 30000.0\n",
      "Time is: 35000.0 \n",
      "Saving this timestep: 40000.0\n",
      "Time is: 45000.0 \n",
      "Saving this timestep: 50000.0\n",
      "Time is: 55000.0 \n",
      "Saving this timestep: 60000.0\n",
      "Time is: 65000.0 \n",
      "Saving this timestep: 70000.0\n",
      "Time is: 70000.0 "
     ]
    },
    {
     "data": {
      "image/png": "[encoded data removed]",
      "text/plain": [
       "<Figure size 720x360 with 1 Axes>"
      ]
     },
     "metadata": {
      "needs_background": "light"
     },
     "output_type": "display_data"
    }
   ],
   "source": [
    "##\n",
    "## IF YOU WANT TO CHANGE THE PLOT\n",
    "## Change these parameters\n",
    "##\n",
    "basin_length = 10000\n",
    "initial_U = 0.0001\n",
    "new_U = 0.0005\n",
    "this_K = 0.00005\n",
    "print_every_this_many_years = 10000\n",
    "last_year_your_print_a_profile = 70000\n",
    "do_you_want_to_plot_in_chi_space = False       # True or False\n",
    "\n",
    "# create a channel\n",
    "chan = ct.channeltoy(spacing=50, U = initial_U, K = 0.00005, n=1, m= 0.45,maximum_x = basin_length-999, X_0 = basin_length)\n",
    "initial_elevation = chan.solve_steady_state_elevation()\n",
    "\n",
    "# change the uplift rate\n",
    "chan.set_U_values(U = new_U)\n",
    "\n",
    "# Run the transient simulation. You can use the start and end time to \n",
    "times, elevations = chan.transient_simulation(base_level = 0, dt = 200, \n",
    "                                              start_time = 0, end_time = last_year_your_print_a_profile+1, \n",
    "                                              print_interval = print_every_this_many_years)\n",
    "\n",
    "# Make a plot of the elevations\n",
    "# If you set use_chi=True then you get the chi profiles. \n",
    "chan.plot_transient_channel(times = times, \n",
    "                            elevations = elevations, \n",
    "                            initial_elevation = initial_elevation,\n",
    "                            show_figure=True,print_to_file=False,use_chi = do_you_want_to_plot_in_chi_space)"
   ]
  },
  {
   "cell_type": "markdown",
   "metadata": {},
   "source": [
    "## Your assigment"
   ]
  },
  {
   "cell_type": "markdown",
   "metadata": {},
   "source": [
    "**Assessment Part 1: Tuning K**\n",
    "\n",
    "* You will need a combination of Google Earth and this website: https://earth.uow.edu.au/ \n",
    "* On the https://earth.uow.edu.au/ website, click on the \"CRN international river basins\" layer. \n",
    "    * Find a mountain range you like that has a basin. \n",
    "    * Click on the basin: it will have an erosion rate in mm/kyr. Divide by 1000000 to get the erosion rate in m/yr. So 1000 mm/yr will be 0.001 m/yr. \n",
    "* Now go onto google earth and find the distance from the mountain front (where the slopes get steep, not the plains) to the peaks, and write down the relief. \n",
    "\n",
    "Use the widget in part 1 to tune the value of K so that you have around the correct relief in the channel (the channel will probably be a few hundred metres lower than the peak).\n",
    "\n",
    "**What you do for the assignment**:\n",
    "\n",
    "Write 3-5 sentences about the mountain you chose and how you calculated the erodibility. You should include a figure. Scientific figures don't have titles: you should have an explanation of the figure in a figure caption. See any scientific paper for examples of how to do this."
   ]
  },
  {
   "cell_type": "markdown",
   "metadata": {},
   "source": [
    "**Assessment Part 2: Transience in this landscape**\n",
    "\n",
    "What happens if the uplift rate were to increase in this landscape? How long would it take the mountain range to adjust?\n",
    "Below are some broad questions. You can address a subset of these (see below).\n",
    "\n",
    "* Change the uplift rate.\n",
    "* How long does it take for the knickpoint to move through the landscape?\n",
    "* Does this change if the uplift rate is faster? Either the initial rate or the final rate?\n",
    "* Does this change with changing K values?\n",
    "* Does the knickpoint migration rate change with changing length of the channel?\n",
    "\n",
    "**What you do for the assignment**:\n",
    "\n",
    "Prepare 2-3 figures to answer some of the questions above. Then write no more than 500 words about your findings. This should look like a small discussion section in a paper. Start with a few sentences explaining what you are simulating (that is, don't assume the reader already knows everything about knickpoints and channels). Then explain what simulations you performed (by simulations we just mean changing the parameters in the plots above), and then use the figures to explain what you found. We are looking for your ability to explain what you have done and your findings, so you really could focus on one of the above questions and still do well on the assigment. Answering all the above questions will probvably result in a worse mark since you will not have the space to explain what you have done. Again, the figures should be in the format of a scientific paper: use figure captions instead of titles. "
   ]
  },
  {
   "cell_type": "code",
   "execution_count": null,
   "metadata": {},
   "outputs": [],
   "source": []
  }
 ],
 "metadata": {
  "kernelspec": {
   "display_name": "Python 3",
   "language": "python",
   "name": "python3"
  },
  "language_info": {
   "codemirror_mode": {
    "name": "ipython",
    "version": 3
   },
   "file_extension": ".py",
   "mimetype": "text/x-python",
   "name": "python",
   "nbconvert_exporter": "python",
   "pygments_lexer": "ipython3",
   "version": "3.8.3"
  }
 },
 "nbformat": 4,
 "nbformat_minor": 4
}
