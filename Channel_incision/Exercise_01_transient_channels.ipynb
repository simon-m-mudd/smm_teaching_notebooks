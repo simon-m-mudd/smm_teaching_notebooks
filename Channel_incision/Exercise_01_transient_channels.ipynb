{
 "cells": [
  {
   "cell_type": "markdown",
   "metadata": {},
   "source": [
    "# Excercise: transient channels"
   ]
  },
  {
   "cell_type": "markdown",
   "metadata": {},
   "source": [
    "This notebook contains an excercise to help you understand transient channels. \n",
    "\n",
    "* We will be using the channel toy (see previous lessons) to look at the behaviour of a river in response to changing uplift. \n",
    "* We then will look at how this modifies the chi profile. \n",
    "* We will then look at a real channel network and let you draw some conclusions about the history of uplift in that location. "
   ]
  },
  {
   "cell_type": "markdown",
   "metadata": {},
   "source": [
    "## Before we start: install and import some stuff"
   ]
  },
  {
   "cell_type": "code",
   "execution_count": 2,
   "metadata": {},
   "outputs": [
    {
     "name": "stdout",
     "output_type": "stream",
     "text": [
      "Collecting channeltoy\n",
      "  Downloading channeltoy-0.1.0-py2.py3-none-any.whl (8.8 kB)\n",
      "Requirement already satisfied: Click>=7.0 in /usr/local/lib/python3.8/site-packages (from channeltoy) (7.1.2)\n",
      "Installing collected packages: channeltoy\n",
      "Successfully installed channeltoy-0.1.0\n"
     ]
    }
   ],
   "source": [
    "!pip install channeltoy ipympl"
   ]
  },
  {
   "cell_type": "code",
   "execution_count": 32,
   "metadata": {},
   "outputs": [],
   "source": [
    "%matplotlib widget\n",
    "%matplotlib inline\n",
    "import ipywidgets as widgets\n",
    "from ipywidgets import interactive\n",
    "import channeltoy as ct\n",
    "import matplotlib.pyplot as plt\n",
    "import numpy as np"
   ]
  },
  {
   "cell_type": "markdown",
   "metadata": {},
   "source": [
    "## Part 1: Simple channel profile"
   ]
  },
  {
   "cell_type": "markdown",
   "metadata": {},
   "source": [
    "Lets create an initial channel and then change the uplift rate. Simply execute (shift-enter) the following cell and then play around with `K` and the `initial_U` (which is initial uplift in m/yr) to see how steep a channel is.  "
   ]
  },
  {
   "cell_type": "code",
   "execution_count": 57,
   "metadata": {},
   "outputs": [
    {
     "data": {
      "application/vnd.jupyter.widget-view+json": {
       "model_id": "82a2db27724d4cf297b18cc85d884481",
       "version_major": 2,
       "version_minor": 0
      },
      "text/plain": [
       "interactive(children=(FloatSlider(value=5e-05, description='K', max=0.0001, min=1e-06, step=5e-06), FloatSlide…"
      ]
     },
     "metadata": {},
     "output_type": "display_data"
    }
   ],
   "source": [
    "plt.rcParams['figure.figsize'] = [10, 5]\n",
    "\n",
    "def plot_channel(K = 0.00005, intitial_U = 0.0002, new_U = 0.001 ):\n",
    "    \"\"\"Remove old lines from plot and plot new one\"\"\"\n",
    "    #[l.remove() for l in ax.lines]\n",
    "    \n",
    "    chan = ct.channeltoy(spacing=250, U = intitial_U, K = K, n=1, m= 0.45)\n",
    "    initial_elevation = chan.solve_steady_state_elevation()\n",
    "    x = chan.x_data\n",
    "    chi = chan.chi_data\n",
    "    \n",
    "    #print(x)\n",
    "    #print(initial_elevation)\n",
    "    \n",
    "    plt.plot(x, initial_elevation,label=\"Initial elevation\")\n",
    "    plt.xlabel(\"Distance from outlet (m)\")\n",
    "    plt.ylabel(\"Elevation (m)\")\n",
    "    plt.legend()\n",
    "     \n",
    "interactive_plot = interactive(plot_channel, \n",
    "                               K=(0.000001, 0.0001, 0.000005), \n",
    "                               U=(0.0001, 0.001, 0.0001),\n",
    "                               new_U=(0.0001, 0.001, 0.0001))\n",
    "\n",
    "output = interactive_plot.children[-1]\n",
    "output.layout.height = '350px'\n",
    "interactive_plot"
   ]
  },
  {
   "cell_type": "markdown",
   "metadata": {},
   "source": [
    "## Part 2: A transient channel"
   ]
  },
  {
   "cell_type": "markdown",
   "metadata": {},
   "source": [
    "This next bit of code sets up an interactive transient channel. \n",
    "\n",
    "* It starts with a steady-state channel profile.\n",
    "* You then increase the erosion rate.\n",
    "* A knickpoint will develop and will move upslope as you increase the end time.\n",
    "* Play around a bit to see how fast it moves!\n",
    "\n",
    "Again, you don't need to adjust anything in the code. Just click on the box and then shift-enter and it will give you an interactive plot. \n",
    "Under the hood is a numerical model so you will need to wait a little while each time you change a parameter. "
   ]
  },
  {
   "cell_type": "code",
   "execution_count": 67,
   "metadata": {},
   "outputs": [
    {
     "data": {
      "application/vnd.jupyter.widget-view+json": {
       "model_id": "39c99461c4b04cb18be6083496b8a781",
       "version_major": 2,
       "version_minor": 0
      },
      "text/plain": [
       "interactive(children=(FloatSlider(value=5e-05, description='K', max=0.0001, min=1e-06, step=5e-06), FloatSlide…"
      ]
     },
     "metadata": {},
     "output_type": "display_data"
    }
   ],
   "source": [
    "def plot_channel(K = 0.00005, intitial_U = 0.0002, new_U = 0.0005 ,end_time = 50000):\n",
    "    \"\"\"Remove old lines from plot and plot new one\"\"\"\n",
    "    #[l.remove() for l in ax.lines]\n",
    "    \n",
    "    chan = ct.channeltoy(spacing=250, U = intitial_U, K = K, n=1, m= 0.45)\n",
    "    initial_elevation = chan.solve_steady_state_elevation()\n",
    "    x = chan.x_data\n",
    "    chi = chan.chi_data\n",
    "    \n",
    "    # change the uplift rate\n",
    "    chan.set_U_values(U = new_U)\n",
    "    \n",
    "    times, elevations = chan.transient_simulation(base_level = 0, dt = 200, \n",
    "                                              start_time = 0, end_time = end_time+1, \n",
    "                                              print_interval = end_time)\n",
    "    \n",
    "    #print(times)\n",
    "    #print(elevations)\n",
    "    \n",
    "    plt.plot(x, initial_elevation,label=\"Initial elevation\")\n",
    "    plt.plot(x, elevations[-1],label = \"Time is: \"+str(times[-1]))\n",
    "    plt.xlabel(\"Distance from outlet (m)\")\n",
    "    plt.ylabel(\"Elevation (m)\")\n",
    "    plt.legend()\n",
    "     \n",
    "interactive_plot = interactive(plot_channel, \n",
    "                               K=(0.000001, 0.0001, 0.000005), \n",
    "                               U=(0.0001, 0.001, 0.0001),\n",
    "                               new_U=(0.0001, 0.001, 0.0001),\n",
    "                               end_time =(10000, 500000, 10000))\n",
    "\n",
    "output = interactive_plot.children[-1]\n",
    "output.layout.height = '500px'\n",
    "interactive_plot"
   ]
  },
  {
   "cell_type": "markdown",
   "metadata": {},
   "source": [
    "## Part 3: A transient channel in chi-elevation space"
   ]
  },
  {
   "cell_type": "markdown",
   "metadata": {},
   "source": [
    "We have explained in class and in some of the previous lessons that slope-area data is has been used to see where channel steepness changes. But this kind of data can be quite noisy. See Lessons 5 and 6. It is easier to see where the knickpoint is using a chi transformation. \n",
    "\n",
    "The chi transformation basically squashes the channel at large drainage areas and stretches it at small drainage areas so that, in a steady state landscape, the chi-elevation profile becomes a straight line. \n",
    "\n",
    "In chi ($\\chi$)-elevation space, the steeper the profile, the higher the steepness index. \n",
    "\n",
    "Use the chi profiles below to see where the knickpoint is. Hopefully you can see why this is a little bit easier than using the profiles. "
   ]
  },
  {
   "cell_type": "code",
   "execution_count": 90,
   "metadata": {},
   "outputs": [
    {
     "data": {
      "application/vnd.jupyter.widget-view+json": {
       "model_id": "da0b3ffae6dd4a63b0babffa020e1869",
       "version_major": 2,
       "version_minor": 0
      },
      "text/plain": [
       "interactive(children=(FloatSlider(value=5e-05, description='K', max=0.0001, min=1e-06, step=5e-06), FloatSlide…"
      ]
     },
     "metadata": {},
     "output_type": "display_data"
    }
   ],
   "source": [
    "def plot_channel_chi(K = 0.00005, intitial_U = 0.0002, new_U = 0.0005 ,end_time = 50000):\n",
    "    \"\"\"Remove old lines from plot and plot new one\"\"\"\n",
    "    #[l.remove() for l in ax.lines]\n",
    "    \n",
    "    chan = ct.channeltoy(spacing=100, U = intitial_U, K = K, n=1, m= 0.45)\n",
    "    initial_elevation = chan.solve_steady_state_elevation()\n",
    "    x = chan.x_data\n",
    "    chi = chan.chi_data\n",
    "    \n",
    "    # change the uplift rate\n",
    "    chan.set_U_values(U = new_U)\n",
    "    \n",
    "    times, elevations = chan.transient_simulation(base_level = 0, dt = 200, \n",
    "                                              start_time = 0, end_time = end_time+1, \n",
    "                                              print_interval = end_time)\n",
    "    \n",
    "    plt.plot(chi, initial_elevation,label=\"Initial elevation\")\n",
    "    plt.plot(chi, elevations[-1],label = \"Time is: \"+str(times[-1]))\n",
    "    plt.xlabel(\"Chi ($\\chi$) (m)\")\n",
    "    plt.ylabel(\"Elevation (m)\")\n",
    "    plt.legend()\n",
    "    \n",
    "    return plt.gca()\n",
    "     \n",
    "interactive_plot = interactive(plot_channel_chi, \n",
    "                               K=(0.000001, 0.0001, 0.000005), \n",
    "                               U=(0.0001, 0.001, 0.0001),\n",
    "                               new_U=(0.0001, 0.001, 0.0001),\n",
    "                               end_time =(10000, 500000, 10000))\n",
    "\n",
    "output = interactive_plot.children[-1]\n",
    "output.layout.height = '500px'\n",
    "interactive_plot"
   ]
  },
  {
   "cell_type": "markdown",
   "metadata": {},
   "source": [
    "## Your assigment"
   ]
  },
  {
   "cell_type": "markdown",
   "metadata": {},
   "source": [
    "Part 1: Tuning K and U:\n",
    "* You will need a combination of Google Earth and this website: https://earth.uow.edu.au/ \n",
    "* On the https://earth.uow.edu.au/ website, click on the \"CRN international river basins\" layer. \n",
    "    * Find a mountain range you like that has a basin. \n",
    "    * Click on the basin: it will have an erosion rate in mm/kyr. Divide by 1000000 to get the erosion rate in m/yr. So 1000 mm/yr will be 0.001 m/yr. \n",
    "* Now go onto google earth and find the distance from the mountain front (where the slopes get steep, not the plains) to the peaks, and write down the relief. "
   ]
  },
  {
   "cell_type": "code",
   "execution_count": null,
   "metadata": {},
   "outputs": [],
   "source": []
  }
 ],
 "metadata": {
  "kernelspec": {
   "display_name": "Python 3",
   "language": "python",
   "name": "python3"
  },
  "language_info": {
   "codemirror_mode": {
    "name": "ipython",
    "version": 3
   },
   "file_extension": ".py",
   "mimetype": "text/x-python",
   "name": "python",
   "nbconvert_exporter": "python",
   "pygments_lexer": "ipython3",
   "version": "3.8.3"
  }
 },
 "nbformat": 4,
 "nbformat_minor": 4
}
