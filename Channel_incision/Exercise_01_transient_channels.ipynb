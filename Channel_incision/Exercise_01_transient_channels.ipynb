{
 "cells": [
  {
   "cell_type": "markdown",
   "metadata": {},
   "source": [
    "# Excercise: transient channels"
   ]
  },
  {
   "cell_type": "markdown",
   "metadata": {},
   "source": [
    "*This lesson has been written by Simon M. Mudd at the University of Edinburgh*\n",
    "\n",
    "*Last update 26/10/2020*"
   ]
  },
  {
   "cell_type": "markdown",
   "metadata": {},
   "source": [
    "This notebook contains an exercise to help you understand transient channels. \n",
    "\n",
    "* We will be using the channel toy (see previous lessons) to look at the behaviour of a river in response to changing uplift. \n",
    "* We then will look at how this modifies the chi profile. \n",
    "* We will then look at a real channel network and let you draw some conclusions about the history of uplift in that location. "
   ]
  },
  {
   "cell_type": "markdown",
   "metadata": {},
   "source": [
    "## Before we start: install and import some stuff"
   ]
  },
  {
   "cell_type": "code",
   "execution_count": null,
   "metadata": {},
   "outputs": [],
   "source": [
    "!pip install channeltoy ipympl"
   ]
  },
  {
   "cell_type": "code",
   "execution_count": null,
   "metadata": {},
   "outputs": [],
   "source": [
    "%matplotlib widget\n",
    "%matplotlib inline\n",
    "import ipywidgets as widgets\n",
    "from ipywidgets import interactive\n",
    "import channeltoy as ct\n",
    "import matplotlib.pyplot as plt\n",
    "import numpy as np"
   ]
  },
  {
   "cell_type": "markdown",
   "metadata": {},
   "source": [
    "## Part 1: Simple channel profile"
   ]
  },
  {
   "cell_type": "markdown",
   "metadata": {},
   "source": [
    "Let's create an initial channel and then change the uplift rate. Simply execute (shift-enter) the following cell and then play around with `K` and the `initial_U` (which is initial uplift in m/yr) to see how steep a channel is.  \n",
    "\n",
    "Note: the script fixes the vertical axis. If it is too big or too small go into the cell and change the line that sets the limits:\n",
    "\n",
    "`ax.set_ylim([0, 2000])`"
   ]
  },
  {
   "cell_type": "code",
   "execution_count": null,
   "metadata": {},
   "outputs": [],
   "source": [
    "plt.rcParams['figure.figsize'] = [10, 5]\n",
    "\n",
    "def plot_channel_SS(K = 0.00005, initial_U = 0.0002, basin_length = 10000 ):\n",
    "    \"\"\"Remove old lines from plot and plot new one\"\"\"\n",
    "    #[l.remove() for l in ax.lines]\n",
    "\n",
    "      \n",
    "    chan = ct.channeltoy(spacing=250, U = initial_U, K = K, n=1, m= 0.45, maximum_x = basin_length-999, X_0 = basin_length)\n",
    "    initial_elevation = chan.solve_steady_state_elevation()\n",
    "    x = chan.x_data\n",
    "    chi = chan.chi_data\n",
    "    \n",
    "    \n",
    "    \n",
    "    #print(x)\n",
    "    #print(initial_elevation)\n",
    "    fig, ax = plt.subplots()\n",
    "    plt.plot(x, initial_elevation,label=\"Initial elevation\")\n",
    "    plt.xlabel(\"Distance from outlet (m)\")\n",
    "    plt.ylabel(\"Elevation (m)\")\n",
    "    ax.set_ylim([0, 2000])\n",
    "    plt.legend()\n",
    "     \n",
    "interactive_plot = interactive(plot_channel_SS, \n",
    "                               K=(0.000001, 0.0001, 0.000005), \n",
    "                               initial_U=(0.0001, 0.001, 0.0001),\n",
    "                               basin_length=(5000,100000,5000)\n",
    "                              )\n",
    "\n",
    "output = interactive_plot.children[-1]\n",
    "output.layout.height = '350px'\n",
    "interactive_plot"
   ]
  },
  {
   "cell_type": "markdown",
   "metadata": {},
   "source": [
    "## Part 2: A transient channel"
   ]
  },
  {
   "cell_type": "markdown",
   "metadata": {},
   "source": [
    "This next bit of code sets up an interactive transient channel. \n",
    "\n",
    "* It starts with a channel profile in steady-state with the uplift rate `initial_U`.\n",
    "* You then increase the uplift rate to `new_U`. The whole landscape will begin to uplift faster.\n",
    "* A knickpoint will develop as the channel steepens until the erosion rate matches the new uplift rate. The knickpoint will move upslope as you increase the duration of this simulation (set by the `end_time`).\n",
    "* Play around with some of the parameters (`K`, `new_U`, etc) to see how fast the knickpoint moves!\n",
    "\n",
    "Again, you don't need to adjust anything in the code. Just click on the box and then shift-enter and it will give you an interactive plot. \n",
    "Under the hood is a numerical model so you will need to wait a little while each time you change a parameter. "
   ]
  },
  {
   "cell_type": "code",
   "execution_count": null,
   "metadata": {},
   "outputs": [],
   "source": [
    "def plot_channel(K = 0.00005, initial_U = 0.0002, new_U = 0.0005 ,end_time = 50000,basin_length = 10000 ):\n",
    "    \"\"\"Remove old lines from plot and plot new one\"\"\"\n",
    "    #[l.remove() for l in ax.lines]\n",
    "    \n",
    "    chan = ct.channeltoy(spacing=250, U = initial_U, K = K, \n",
    "                         n=1, m= 0.45,\n",
    "                         maximum_x = basin_length-999, X_0 = basin_length)\n",
    "    \n",
    "    initial_elevation = chan.solve_steady_state_elevation()\n",
    "    x = chan.x_data\n",
    "    chi = chan.chi_data\n",
    "    \n",
    "    # change the uplift rate\n",
    "    chan.set_U_values(U = new_U)\n",
    "    \n",
    "    times, elevations = chan.transient_simulation(base_level = 0, dt = 200, \n",
    "                                              start_time = 0, end_time = end_time+1, \n",
    "                                              print_interval = end_time)\n",
    "    \n",
    "    #print(times)\n",
    "    #print(elevations)\n",
    "    \n",
    "    plt.plot(x, initial_elevation,label=\"Initial elevation\")\n",
    "    plt.plot(x, elevations[-1],label = \"Time is: \"+str(times[-1]))\n",
    "    plt.xlabel(\"Distance from outlet (m)\")\n",
    "    plt.ylabel(\"Elevation (m)\")\n",
    "    plt.legend()\n",
    "     \n",
    "interactive_plot = interactive(plot_channel, \n",
    "                               K=(0.000001, 0.0001, 0.000005), \n",
    "                               initial_U=(0.0001, 0.001, 0.0001),\n",
    "                               new_U=(0.0001, 0.001, 0.0001),\n",
    "                               end_time =(10000, 500000, 10000),\n",
    "                               basin_length=(5000,100000,5000))\n",
    "\n",
    "output = interactive_plot.children[-1]\n",
    "output.layout.height = '500px'\n",
    "interactive_plot"
   ]
  },
  {
   "cell_type": "markdown",
   "metadata": {},
   "source": [
    "## Part 3: A transient channel in chi-elevation space"
   ]
  },
  {
   "cell_type": "markdown",
   "metadata": {},
   "source": [
    "We have explained in class and in some of the previous lessons that slope-area data has been used to see where channel steepness changes. But this kind of data can be quite noisy. See Lessons 5 and 6. It is easier to see where the knickpoint is using a chi transformation. \n",
    "\n",
    "The chi transformation basically squashes the channel at large drainage areas and stretches it at small drainage areas so that, in a steady state landscape, the chi-elevation profile becomes a straight line. \n",
    "\n",
    "In chi ($\\chi$)-elevation space, the steeper the profile, the higher the steepness index. \n",
    "\n",
    "Use the chi profiles below to see where the knickpoint is. Hopefully you can see why this is a little bit easier than using the profiles. "
   ]
  },
  {
   "cell_type": "code",
   "execution_count": null,
   "metadata": {},
   "outputs": [],
   "source": [
    "def plot_channel_chi(K = 0.00005, initial_U = 0.0002, new_U = 0.0005 ,end_time = 50000, basin_length = 10000):\n",
    "    \"\"\"Remove old lines from plot and plot new one\"\"\"\n",
    "    #[l.remove() for l in ax.lines]\n",
    "    \n",
    "    chan = ct.channeltoy(spacing=100, U = initial_U, K = K, n=1, m= 0.45,\n",
    "                         maximum_x = basin_length-999, X_0 = basin_length)\n",
    "    initial_elevation = chan.solve_steady_state_elevation()\n",
    "    x = chan.x_data\n",
    "    chi = chan.chi_data\n",
    "    \n",
    "    # change the uplift rate\n",
    "    chan.set_U_values(U = new_U)\n",
    "    \n",
    "    times, elevations = chan.transient_simulation(base_level = 0, dt = 200, \n",
    "                                              start_time = 0, end_time = end_time+1, \n",
    "                                              print_interval = end_time)\n",
    "    \n",
    "    plt.plot(chi, initial_elevation,label=\"Initial elevation\")\n",
    "    plt.plot(chi, elevations[-1],label = \"Time is: \"+str(times[-1]))\n",
    "    plt.xlabel(\"Chi ($\\chi$) (m)\")\n",
    "    plt.ylabel(\"Elevation (m)\")\n",
    "    plt.legend()\n",
    "    \n",
    "    return plt.gca()\n",
    "     \n",
    "interactive_plot = interactive(plot_channel_chi, \n",
    "                               K=(0.000001, 0.0001, 0.000005), \n",
    "                               initial_U=(0.0001, 0.001, 0.0001),\n",
    "                               new_U=(0.0001, 0.001, 0.0001),\n",
    "                               end_time =(10000, 500000, 10000),\n",
    "                               basin_length=(5000,100000,5000))\n",
    "\n",
    "output = interactive_plot.children[-1]\n",
    "output.layout.height = '500px'\n",
    "interactive_plot"
   ]
  },
  {
   "cell_type": "markdown",
   "metadata": {},
   "source": [
    "## Optional: showing the knickpoint without the interactive plot"
   ]
  },
  {
   "cell_type": "markdown",
   "metadata": {},
   "source": [
    "You could also plot the profile at a given time interval (instead of using the interactive plots) to see how fast the knickpoint moves, using the code below. You will need to change the parameters in the code:\n",
    "\n",
    "* `new_U`\n",
    "* `this_K`\n",
    "* etc. \n",
    "\n",
    "The profile will be plotted every `print_every_this_many_years`."
   ]
  },
  {
   "cell_type": "code",
   "execution_count": null,
   "metadata": {},
   "outputs": [],
   "source": [
    "##\n",
    "## IF YOU WANT TO CHANGE THE PLOT\n",
    "## Change these parameters\n",
    "##\n",
    "basin_length = 10000\n",
    "initial_U = 0.0001\n",
    "new_U = 0.0005\n",
    "this_K = 0.00005\n",
    "print_every_this_many_years = 10000\n",
    "last_year_your_print_a_profile = 70000\n",
    "do_you_want_to_plot_in_chi_space = False       # True or False\n",
    "\n",
    "# create a channel\n",
    "chan = ct.channeltoy(spacing=50, U = initial_U, K = 0.00005, n=1, m= 0.45,maximum_x = basin_length-999, X_0 = basin_length)\n",
    "initial_elevation = chan.solve_steady_state_elevation()\n",
    "\n",
    "# change the uplift rate\n",
    "chan.set_U_values(U = new_U)\n",
    "\n",
    "# Run the transient simulation. You can use the start and end time to \n",
    "times, elevations = chan.transient_simulation(base_level = 0, dt = 200, \n",
    "                                              start_time = 0, end_time = last_year_your_print_a_profile+1, \n",
    "                                              print_interval = print_every_this_many_years)\n",
    "\n",
    "# Make a plot of the elevations\n",
    "# If you set use_chi=True then you get the chi profiles. \n",
    "chan.plot_transient_channel(times = times, \n",
    "                            elevations = elevations, \n",
    "                            initial_elevation = initial_elevation,\n",
    "                            show_figure=True,print_to_file=False,use_chi = do_you_want_to_plot_in_chi_space)"
   ]
  },
  {
   "cell_type": "markdown",
   "metadata": {},
   "source": [
    "## Your assigment"
   ]
  },
  {
   "cell_type": "markdown",
   "metadata": {},
   "source": [
    "**Assessment Part 1: Tuning K**\n",
    "\n",
    "* You will need a combination of Google Earth and this website: https://earth.uow.edu.au/ \n",
    "* On the https://earth.uow.edu.au/ website, click on the \"CRN international river basins\" layer. \n",
    "    * Find a mountain range you like that has a basin. \n",
    "    * Click on the basin: it will have an erosion rate in mm/kyr. Divide by 1000000 to get the erosion rate in m/yr. So 1000 mm/yr will be 0.001 m/yr. \n",
    "* Now go onto google earth and find the distance from the mountain front (where the slopes get steep, not the plains) to the peaks, and write down the relief. \n",
    "\n",
    "Use the widget in part 1 to tune the value of K so that you have around the correct relief in the channel (the channel will probably be a few hundred metres lower than the peak). You need to set the uplift rate to match the erosion rate you found for the basin (we are assuming steady state...which is probably a bad assumption but we are doing this as an exercise and not as a PhD).\n",
    "\n",
    "**What you do for the assignment**:\n",
    "\n",
    "Write 3-5 sentences about the mountain you chose and how you calculated the erodibility. You should include a figure. Scientific figures don't have titles: you should have an explanation of the figure in a figure caption. See any scientific paper for examples of how to do this.\n",
    "\n",
    "*The total wordcount for parts 1 and 2 should not exceed 500 words combined. Figure captions are not included in the wordcount.*"
   ]
  },
  {
   "cell_type": "markdown",
   "metadata": {},
   "source": [
    "#### **Assessment Part 2: Transience in this landscape**\n",
    "\n",
    "What happens if the uplift rate were to increase in this landscape? How long would it take the mountain range to adjust?\n",
    "Below are some broad questions. You can address a subset of these (see below).\n",
    "\n",
    "* Change the uplift rate: how long does it take for the knickpoint to move through the landscape (to the top of the river profile)? Does this time change if the uplift rate is even greater? \n",
    "* Change the erodibility coefficient K: how long does it take for the knickpoint to move through the landscape (to the top of the river profile)? Does this time change if you change K? What is the significance of this result?\n",
    "* Does the knickpoint migration rate change, as the knickpoint moves upstream, or is it moving at the same rate all along?\n",
    "\n",
    "\n",
    "**What you do for the assignment**:\n",
    "\n",
    "Prepare 2-4 figures to answer some of the questions above. Then write a few paragraphs about your findings. This should look like a small discussion section in a paper. Start with a few sentences explaining what you are simulating (that is, don't assume the reader already knows everything about knickpoints and channels). Then explain what simulations you performed (by simulations we just mean changing the parameters in the plots above), and then use the figures to explain what you found. We are looking for your ability to explain what you have done and your findings, so you really could focus on one of the above questions and still do well on the assignment. Answering all the above questions will probably result in a worse mark since you will not have the space to explain what you have done. Again, the figures should be in the format of a scientific paper: use figure captions instead of titles. "
   ]
  },
  {
   "cell_type": "code",
   "execution_count": null,
   "metadata": {},
   "outputs": [],
   "source": []
  }
 ],
 "metadata": {
  "kernelspec": {
   "display_name": "Python 3",
   "language": "python",
   "name": "python3"
  },
  "language_info": {
   "codemirror_mode": {
    "name": "ipython",
    "version": 3
   },
   "file_extension": ".py",
   "mimetype": "text/x-python",
   "name": "python",
   "nbconvert_exporter": "python",
   "pygments_lexer": "ipython3",
   "version": "3.8.3"
  }
 },
 "nbformat": 4,
 "nbformat_minor": 4
}
