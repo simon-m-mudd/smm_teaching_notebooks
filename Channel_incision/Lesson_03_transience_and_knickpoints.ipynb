{
 "cells": [
  {
   "cell_type": "markdown",
   "metadata": {},
   "source": [
    "# Lesson 03: Transience and knickpoints"
   ]
  },
  {
   "cell_type": "markdown",
   "metadata": {},
   "source": [
    "*This lesson has been written by Simon M. Mudd at the University of Edinburgh*\n",
    "\n",
    "*Last update 29/09/2022*"
   ]
  },
  {
   "cell_type": "markdown",
   "metadata": {},
   "source": [
    "Okay, if you have followed through the first two lessons, you will be getting a feel for the shape of channel longitudinal profiles. In this lesson, we will look at landscape transience, using simulations based on the stream power model (see previous lesson for warning labels on this approach). "
   ]
  },
  {
   "cell_type": "markdown",
   "metadata": {},
   "source": [
    "We are going to use the `channeltoy` python package, which I wrote for very simple simulations of channel profiles. First, we need to install and import some pacakges for running `channeltoy` and plotting the results. "
   ]
  },
  {
   "cell_type": "code",
   "execution_count": null,
   "metadata": {},
   "outputs": [],
   "source": [
    "!pip install channeltoy"
   ]
  },
  {
   "cell_type": "code",
   "execution_count": null,
   "metadata": {},
   "outputs": [],
   "source": [
    "import channeltoy as ct\n",
    "import matplotlib.pyplot as plt\n",
    "import numpy as np"
   ]
  },
  {
   "cell_type": "markdown",
   "metadata": {},
   "source": [
    "Now create a channel and set it to steady state, increase the uplift rate, and run the simulation.\n",
    "In the `channeltoy` you can set the parameters like `m`, `n`, and `K`, which are from the stream power law (see previous lesson):"
   ]
  },
  {
   "cell_type": "code",
   "execution_count": null,
   "metadata": {},
   "outputs": [],
   "source": [
    "# create a channel and then solve it for steady state\n",
    "chan = ct.channeltoy(spacing=250, U = 0.0002, K = 0.00005, n=1, m= 0.45)\n",
    "initial_elevation = chan.solve_steady_state_elevation()\n",
    "\n",
    "# now change the uplift rate\n",
    "chan.set_U_values(U = 0.0005)\n",
    "\n",
    "# Run the transient simulation. You can use the start and end time to tell the model how long to run \n",
    "# the print_interval tells the model how frequently to print channel profiles that you plot later\n",
    "times, elevations = chan.transient_simulation(base_level = 0, dt = 200, \n",
    "                                              start_time = 0, end_time = 100001, \n",
    "                                              print_interval = 25000)\n",
    "\n",
    "# Make a plot of the elevations\n",
    "chan.plot_transient_channel(times = times, \n",
    "                            elevations = elevations, \n",
    "                            initial_elevation = initial_elevation,\n",
    "                            show_figure=True,print_to_file=False)"
   ]
  },
  {
   "cell_type": "markdown",
   "metadata": {},
   "source": [
    "The channel has retained the elevations from the last timestep, so you can actually keep it running for another few steps if you want. I mention this because if you wanted you could build up very complex uplift histories by sequentially running the model. "
   ]
  },
  {
   "cell_type": "code",
   "execution_count": null,
   "metadata": {},
   "outputs": [],
   "source": [
    "# Continue running the model. \n",
    "# The start time should be the same as the end time of the last simulation. \n",
    "times, elevations = chan.transient_simulation(base_level = 0, dt = 200, \n",
    "                                              start_time = 50000, end_time = 100001, \n",
    "                                              print_interval = 25000)\n",
    "chan.plot_transient_channel(times = times, \n",
    "                            elevations = elevations, \n",
    "                            initial_elevation = initial_elevation,\n",
    "                            show_figure=True,print_to_file=False)"
   ]
  },
  {
   "cell_type": "markdown",
   "metadata": {},
   "source": [
    "## Knickpoints"
   ]
  },
  {
   "cell_type": "markdown",
   "metadata": {},
   "source": [
    "In lesson 1, we looked at how rivers are typically concave (or if you are being mathematically correct, concave up). In lesson 2 we showed how the stream power law also predicts a concave river profile if uplift is steady. In the above simulation, not all of the channel is concave.\n",
    "\n",
    "What is happening in this simulation? Lets do another simulation with a larger change in the uplift rate and more timesteps:"
   ]
  },
  {
   "cell_type": "code",
   "execution_count": null,
   "metadata": {},
   "outputs": [],
   "source": [
    "# create a channel\n",
    "chan = ct.channeltoy(spacing=50, U = 0.0001, K = 0.00005, n=1, m= 0.45)\n",
    "initial_elevation = chan.solve_steady_state_elevation()\n",
    "\n",
    "# change the uplift rate\n",
    "chan.set_U_values(U = 0.0005)\n",
    "\n",
    "# Run the transient simulation.\n",
    "times, elevations = chan.transient_simulation(base_level = 0, dt = 200, \n",
    "                                              start_time = 0, end_time = 70001, \n",
    "                                              print_interval = 10000)\n",
    "\n",
    "# Make a plot of the elevations\n",
    "chan.plot_transient_channel(times = times, \n",
    "                            elevations = elevations, \n",
    "                            initial_elevation = initial_elevation,\n",
    "                            show_figure=True,print_to_file=False)"
   ]
  },
  {
   "cell_type": "markdown",
   "metadata": {},
   "source": [
    "What is happening here? You start from a steady channel (the bottom profile in this case) and increase uplift, and a steeper section then \"grows\" upstream. This new section has a channel steepness that reflects the new erosion rate (which reflects the new uplift rate). I will show you this in a slope-area plot:"
   ]
  },
  {
   "cell_type": "code",
   "execution_count": null,
   "metadata": {},
   "outputs": [],
   "source": [
    "A = chan.A_data\n",
    "z = chan.z_data\n",
    "S = np.gradient(z)/50     # The 50 is the spacing of the nodes I used above\n",
    "\n",
    "plt.scatter(A,S)\n",
    "plt.xlabel(\"Drainage area ($m^2$)\")\n",
    "plt.ylabel(\"gradient (m/m)\")\n",
    "plt.yscale('log')\n",
    "plt.xscale('log')"
   ]
  },
  {
   "cell_type": "markdown",
   "metadata": {},
   "source": [
    "**Important note here**: I use a very basic solution of the equations that \"smears\" the boundary between the different erosion rates. If you use an exact solution, the boundary is perfectly sharp: a step change. You can read all about that in this paper:\n",
    "            \n",
    "Royden, L., Perron, J.T., 2013. Solutions of the stream power equation and application to the evolution of river longitudinal profiles. Journal of Geophysical Research: Earth Surface 118, 497–518. https://doi.org/10.1002/jgrf.20031"
   ]
  },
  {
   "cell_type": "markdown",
   "metadata": {},
   "source": [
    "**The change in steepness corresponds to a part of the channel that is convex**. \n",
    "\n",
    "A **convexity** in a channel profile is an indicator of a **knickpoint**. A knickpoint can be a step change in the channel elevation (a waterfall, basically) or it can be a zone of increased steepness, sometimes called a **knickzone**. In the simulation above, the knickzone actually extends all the way from the outlet to the convexity in the channel profile."
   ]
  },
  {
   "cell_type": "markdown",
   "metadata": {},
   "source": [
    "## Some knickzones move upstream"
   ]
  },
  {
   "cell_type": "markdown",
   "metadata": {},
   "source": [
    "Knickzones occur for a number of reasons, for example due to changes in rock hardness. If they are fixed somewhere at a lithological boundary, we call these stationary knickpoints or knickzones. But knickpoints and knickzones generated by changes in erosion rates will migrate upstream. "
   ]
  },
  {
   "cell_type": "markdown",
   "metadata": {},
   "source": [
    "You can actually change the uplift rate midway through a run in the `channeltoy` to see how knickzones move through the system, which is what I do in the code below. \n",
    "\n",
    "You might want to decrease the print interval if you want a detailed look at how the knickpoint is moving (you will need to play with this a bit to see the knickpoint moving but not generate too many overlapping lines). "
   ]
  },
  {
   "cell_type": "code",
   "execution_count": null,
   "metadata": {},
   "outputs": [],
   "source": [
    "# create a channel\n",
    "chan = ct.channeltoy(spacing=250, U = 0.0002, K = 0.00005, n=1, m= 0.45)\n",
    "initial_elevation = chan.solve_steady_state_elevation()\n",
    "\n",
    "# change the uplift rate\n",
    "chan.set_U_values(U = 0.0005)\n",
    "\n",
    "# Run the transient simulation. You can use the start and end time to \n",
    "times, elevations = chan.transient_simulation(base_level = 0, dt = 200, \n",
    "                                              start_time = 0, end_time = 50001, \n",
    "                                              print_interval = 25000)\n",
    "\n",
    "# Now change the uplift rate\n",
    "chan.set_U_values(U = 0.0001)\n",
    "\n",
    "# Run the transient simulation. You can use the start and end time to \n",
    "times2, elevations2 = chan.transient_simulation(base_level = 0, dt = 200, \n",
    "                                              start_time = 50000, end_time = 100001, \n",
    "                                              print_interval = 25000)\n",
    "# We need to get rid of the first time and elevation. This explanation is tedious.\n",
    "times2.pop(0)\n",
    "elevations2.pop(0)\n",
    "\n",
    "# Now concatenate the time series\n",
    "all_times = np.concatenate((times, times2))\n",
    "all_elevs = np.concatenate((elevations, elevations2), axis=0)\n",
    "\n",
    "# Make a plot of the elevations\n",
    "chan.plot_transient_channel(times = all_times, \n",
    "                            elevations = all_elevs, \n",
    "                            initial_elevation = initial_elevation,\n",
    "                            show_figure=True,print_to_file=False)"
   ]
  },
  {
   "cell_type": "markdown",
   "metadata": {},
   "source": [
    "Geomorphologists spend a lot of time looking for either knickzones or changes to channel steepness. They could indicate a change to the rock hardness, but you can often rule that out using geological maps. \n",
    "\n",
    "In fact, the migration of knickzones upstream does not depend on the stream power law (which has many critics): any number of physically based incision models have this behaviour (but the details differ: different models predict different rates of knickzone migration)."
   ]
  },
  {
   "cell_type": "markdown",
   "metadata": {},
   "source": [
    "__Task:__ Play around with the parameters above to get a feeling for how quickly knickzones migrate through a channel in response to changing uplfit rates.  "
   ]
  }
 ],
 "metadata": {
  "kernelspec": {
   "display_name": "Python 3 (ipykernel)",
   "language": "python",
   "name": "python3"
  },
  "language_info": {
   "codemirror_mode": {
    "name": "ipython",
    "version": 3
   },
   "file_extension": ".py",
   "mimetype": "text/x-python",
   "name": "python",
   "nbconvert_exporter": "python",
   "pygments_lexer": "ipython3",
   "version": "3.8.13"
  }
 },
 "nbformat": 4,
 "nbformat_minor": 4
}
