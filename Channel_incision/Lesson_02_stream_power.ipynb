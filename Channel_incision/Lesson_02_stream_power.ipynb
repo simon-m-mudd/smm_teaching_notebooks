{
 "cells": [
  {
   "cell_type": "markdown",
   "metadata": {},
   "source": [
    "# Stream power"
   ]
  },
  {
   "cell_type": "markdown",
   "metadata": {},
   "source": [
    "Now that we have seen the basic form of channel profiles (see Lesson 1), we can start thinking about what might cause this form.\n",
    "\n",
    "Nearly two hundred years ago, there was something of a raging debate as to whether or not rivers could carve valleys. In Europe, one of the groups that promoted this idea was the \"Edinburgh\" school, which was based out of the Scottish Branch of the British Geological Survey, led, at the time, by Archibald Geikie. The impact of rivers on our post-glacial landscapes was perhaps not so obvious, but a rivers' power to erode the landscape is quite obvious if you travel along the Grand Canyon in the United States. \n",
    "\n",
    "Both the first and second directors of the United States Geological Surveys made observations in the canyons of the western states that helped convince others that rivers did indeed drive valley incision. The second director, G.K. Gilbert, wrote a highly influential report on the Geology of the Henry Mountains (a range in Utah) that not only contributed to a number of geophysical ideas (isostasy, for one), but also contained a chapter on erosion that expounded on erosion of channels by water. \n",
    "\n",
    "Gilbert, G.K., 1877. Geology of the Henry Mountains (USGS Unnumbered Series), Geology of the Henry Mountains, Monograph. Government Printing Office, Washington, D.C. https://doi.org/10.3133/70038096\n",
    "\n",
    "You can get this report online. Every geomorphologist should read chapter 5. In fact, if you haven't read it, stop reading this and read that chapter. I'll wait. \n",
    "\n",
    "Okay, finished? Great. Gilbert's chapter is modern. Which is notable because his approach to things fell out of favour for a number of decades and didn't really find traction again until the late 50s and early 60s. \n",
    "\n",
    "Gilbert says on page 115: \"We have already seen that erosion is favoured by declivity. Where the declivity is great the agents of erosion are powerful; where it is small they are weak; where there is no declivity they are powerless. Moreover it has been shown that their power increases with the declivity in more than simple\n",
    "ratio.” That last bit means that the relationship between declivity (we would say gradient) and erosion rate is *nonlinear*.  \n",
    "\n",
    "We can also suppose that erosion is favoured when there is more water. And to get more water, you need more drainage area. We can state this in a very simple equation, which is exactly what Howard and Kirby did in 1983:\n",
    "\n",
    "$E = k A^m S^n$\n",
    "\n",
    "where $E$ is the erosion rate, $A$ is drainage area, $S$ is channel gradient, $m$ and $n$ are empirical coefficients, and $k$ is a lumped \"erodibility\" that is a Pandora's box of complexity.  \n",
    "\n",
    "The equation above is often called the \"stream power law\". It is a *MASSIVE* oversimplification of what happens during river incision. It is oversimplified to the degree that many geomorphologists think it is obscene. But it is a useful conceptual model that has helped informed many studies. There are a number of studies showing that in the right circumstances, it can be used to understand how channels evolve. So we are going to use it here. "
   ]
  },
  {
   "cell_type": "markdown",
   "metadata": {},
   "source": [
    "## Steady state"
   ]
  },
  {
   "cell_type": "markdown",
   "metadata": {},
   "source": [
    "Another concept you should be aware of is the concept of \"steady state\". Steady state means that something is not changing in time. You could have various forms of this. Hack (1960) suggested that channels in the Appalachians were eroding at a rate that matched long term uplift, and so the surface topography was in a steady state. This concept has proven quite useful over the years: it can help us understand what a channel might look like if uplift stayed the same for a very, very long time. We can then compare that form to actual channels and see if they have been perturbed, and maybe make some assumptions about the nature of that perturbation. To start, we will use this assumption:\n",
    "\n",
    "$U = E$\n",
    "\n",
    "$U = k A^m S^n$\n",
    "\n",
    "We can rearrange this a bit to isolate slope:\n",
    "\n",
    "$S = \\big(\\frac{U}{k}\\big)^{1/n} A^{-m/n}$\n",
    "\n",
    "Does that look familiar? Remember Morisawa's law?\n",
    "\n",
    "$S = k_s A^{-\\theta}$\n",
    "\n",
    "By comparing these two equations you can relate the concavity index, $\\theta$, to the ratio of $m$ and $n$, and the channel steepness index, $k_s$, to a ratio between $U$, the uplift rate, and $k$, the erodibility. \n",
    "\n",
    "So the steady state predictions of the stream power model are basically the same as the channel profiles predicted by Morisawa's law that we say in the previous lesson. "
   ]
  },
  {
   "cell_type": "markdown",
   "metadata": {},
   "source": [
    "## Further reading"
   ]
  },
  {
   "cell_type": "markdown",
   "metadata": {},
   "source": [
    "Howard, A.D., Kerby, G., 1983. Channel changes in badlands. GSA Bulletin 94, 739–752. https://doi.org/10.1130/0016-7606(1983)94<739:CCIB>2.0.CO;2\n"
   ]
  }
 ],
 "metadata": {
  "kernelspec": {
   "display_name": "Python 3",
   "language": "python",
   "name": "python3"
  },
  "language_info": {
   "codemirror_mode": {
    "name": "ipython",
    "version": 3
   },
   "file_extension": ".py",
   "mimetype": "text/x-python",
   "name": "python",
   "nbconvert_exporter": "python",
   "pygments_lexer": "ipython3",
   "version": "3.8.3"
  }
 },
 "nbformat": 4,
 "nbformat_minor": 4
}
