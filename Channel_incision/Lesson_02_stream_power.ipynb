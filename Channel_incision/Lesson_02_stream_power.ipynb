{
 "cells": [
  {
   "cell_type": "markdown",
   "metadata": {},
   "source": [
    "# Lesson 02: Stream power"
   ]
  },
  {
   "cell_type": "markdown",
   "metadata": {},
   "source": [
    "*This lesson has been written by Simon M. Mudd at the University of Edinburgh*\n",
    "\n",
    "*Last update 30/09/2020*"
   ]
  },
  {
   "cell_type": "markdown",
   "metadata": {},
   "source": [
    "Now that we have seen the basic form of channel profiles (see Lesson 1), we can start thinking about what might cause this form.\n",
    "\n",
    "Nearly two hundred years ago, there was something of a raging debate as to whether or not rivers could carve valleys. In Europe, one of the groups that promoted this idea was the \"Edinburgh\" school, which was based out of the Scottish Branch of the British Geological Survey, led, at the time, by Archibald Geikie. The impact of rivers on our post-glacial landscapes was perhaps not so obvious, but a rivers' power to erode the landscape is quite obvious if you travel along the Grand Canyon in the United States. \n",
    "\n",
    "Both the first and second directors of the United States Geological Surveys made observations in the canyons of the western states that helped convince others that rivers did indeed drive valley incision. The second director, G.K. Gilbert, wrote a highly influential report on the Geology of the Henry Mountains (a range in Utah) that not only contributed to a number of geophysical ideas (isostasy, for one), but also contained a chapter on erosion that expounded on erosion of channels by water. \n",
    "\n",
    "*Gilbert, G.K., 1877. Geology of the Henry Mountains (USGS Unnumbered Series), Geology of the Henry Mountains, Monograph. Government Printing Office, Washington, D.C. https://doi.org/10.3133/70038096*\n",
    "\n",
    "You can get this report online. Every geomorphologist should read chapter 5. In fact, if you haven't read it, stop reading this and read that chapter. I'll wait. \n",
    "\n",
    "Okay, finished? Great. Gilbert's chapter is modern. What I mean by that is his approach and his speculations would not seem out of place in a paper appearing today. If you look at other papers from this time they can seem quite dated. For examples of this one need look no further than the papers by W.M. Davis, who was the most famous geomorphologist of his era, but who was mostly wrong, took a totally qualitative approach, and was an absolutely dreadful human being. \n",
    "\n",
    "Pn the other hand Gilbert was far ahead of his time. Which is particularly notable because his approach to things fell out of favour for a number of decades and didn't really find traction again until the late 50s and early 60s (With the exception of the, uh, exceptional papers by R.E. Horton in the 30s and 40s, but we won't get into those here). \n",
    "\n",
    "Gilbert says on page 115 of his report: \"We have already seen that erosion is favoured by declivity. Where the declivity is great the agents of erosion are powerful; where it is small they are weak; where there is no declivity they are powerless. Moreover it has been shown that their power increases with the declivity in more than simple\n",
    "ratio.” That last bit means that the relationship between declivity (we would say gradient) and erosion rate is *nonlinear*.  \n",
    "\n",
    "We can also suppose that erosion is favoured when there is more water. And to get more water, you need more drainage area. We can state this in a very simple equation, which is exactly what Howard and Kirby did in 1983:\n",
    "\n",
    "$E = k A^m S^n$\n",
    "\n",
    "where $E$ is the erosion rate, $A$ is drainage area, $S$ is channel gradient, $m$ and $n$ are empirical coefficients, and $k$ is a lumped \"erodibility\" that is a Pandora's box of complexity.  \n",
    "\n",
    "The equation above is often called the \"stream power law\". It is a *MASSIVE* oversimplification of what happens during river incision. It is oversimplified to the degree that many geomorphologists think it is obscene. But it is a useful conceptual model that has helped informed many studies. There are a number of studies showing that in the right circumstances, it can be used to understand how channels evolve. So we are going to use it here. "
   ]
  },
  {
   "cell_type": "markdown",
   "metadata": {},
   "source": [
    "## Stream power warning labels"
   ]
  },
  {
   "cell_type": "markdown",
   "metadata": {},
   "source": [
    "* Stream power is designed for channels that incise through bedrock. If the channel is alluvial (that is, its bed and banks are made of sediment, even in the biggest floods), then stream power does not apply.\n",
    "* In reality, river incision into bedrock depends on many factors. With a few exceptions, water alone does not erode the bed, so more advanced incision rules include sediment supply. \n",
    "* Usually, small discharges don't really modify the bed: you need to get beyond a threshold discharge to incise. So more advanced incision laws take this into accout. \n",
    "* Stream power is used mainly because it is convinient rather than because it accurately describes any physical process.\n",
    "\n",
    "With those caveats, said, there is some good news:\n",
    "* It occasionally works (e.g., Lague, 2014; Schwanghart and Scherler 2020, although the Lague paper also has examples of where it doesn't work). \n",
    "* Lots of nasty thresholding behaviour (e.g., sediment cover thresholds, discharge thresholds for incision) can be mimiced by altering the $n$ exponent (see Gasparini and Brandon, 2011). \n",
    "\n",
    "Gasparini, N.M., Brandon, M.T., 2011. A generalized power law approximation for fluvial incision of bedrock channels. Journal of Geophysical Research: Earth Surface 116. https://doi.org/10.1029/2009JF001655\n",
    "\n",
    "Howard, A.D., Kerby, G., 1983. Channel changes in badlands. Geological Society of America Bulletin 94, 739–752. https://doi.org/10.1130/0016-7606(1983)94<739:CCIB>2.0.CO;2\n",
    "\n",
    "Lague, D., 2014. The stream power river incision model: Evidence, theory and beyond. Earth Surface Processes and Landforms 39, 38–61. https://doi.org/10.1002/esp.3462\n",
    "\n",
    "Schwanghart, W., Scherler, D., 2020. Divide mobility controls knickpoint migration on the Roan Plateau (Colorado, USA). Geology 48, 698–702. https://doi.org/10.1130/G47054.1\n",
    "\n",
    "\n"
   ]
  },
  {
   "cell_type": "markdown",
   "metadata": {},
   "source": [
    "## Steady state"
   ]
  },
  {
   "cell_type": "markdown",
   "metadata": {},
   "source": [
    "Another concept you should be aware of is the concept of \"steady state\". Steady state means that something is not changing in time. You could have various forms of this. Hack (1960) suggested that channels in the Appalachians were eroding at a rate that matched long term uplift, and so the surface topography was in a steady state. \n",
    "\n",
    "*Hack, J.T., 1960. Interpretation of erosional topography in humid temperate regions. American Journal of Science 258, 80–97.*\n",
    "\n",
    "This concept has proven quite useful over the years: it can help us understand what a channel might look like if uplift stayed the same for a very, very long time. We can then compare that form to actual channels and see if they have been perturbed, and maybe make some assumptions about the nature of that perturbation. To start, we will use this assumption:\n",
    "\n",
    "$U = E$\n",
    "\n",
    "So we replace the $E$ in the stream power law with uplift:\n",
    "\n",
    "$U = k A^m S^n$\n",
    "\n",
    "We can rearrange this a bit to isolate slope:\n",
    "\n",
    "$S = \\big(\\frac{U}{k}\\big)^{1/n} A^{-m/n}$\n",
    "\n",
    "Does that look familiar? Remember Morisawa's law?\n",
    "\n",
    "$S = k_s A^{-\\theta}$\n",
    "\n",
    "By comparing these two equations you can relate the concavity index, $\\theta$, to the ratio of $m$ and $n$, and the channel steepness index, $k_s$, to a ratio between $U$, the uplift rate, and $k$, the erodibility. \n",
    "\n",
    "**Key result: the steady state predictions of the stream power model are basically the same as the channel profiles predicted by Morisawa's law that we saw in the previous lesson.** "
   ]
  },
  {
   "cell_type": "markdown",
   "metadata": {},
   "source": [
    "## The channel toy"
   ]
  },
  {
   "cell_type": "markdown",
   "metadata": {},
   "source": [
    "I have made a little python package called `channeltoy` to look at a channel that incises through rocks following the stream power law. You can play with the stream power parameters and see what happens when, say, uplift rates change. We can use this to get some insight into how a channel might react to landscape perturbations. "
   ]
  },
  {
   "cell_type": "markdown",
   "metadata": {},
   "source": [
    "First we need to install the package and then import a few other tools."
   ]
  },
  {
   "cell_type": "code",
   "execution_count": null,
   "metadata": {},
   "outputs": [],
   "source": [
    "!pip install channeltoy"
   ]
  },
  {
   "cell_type": "code",
   "execution_count": null,
   "metadata": {},
   "outputs": [],
   "source": [
    "import channeltoy as ct\n",
    "import matplotlib.pyplot as plt\n",
    "import numpy as np"
   ]
  },
  {
   "cell_type": "markdown",
   "metadata": {},
   "source": [
    "We can create a channel with some parameters. Then we call a function to plot the channel at steady state. \n",
    "The spacing is in metres (this is the spacing of points in the channel where I solve the stream power law).\n",
    "The uplift is in m/yr. \n",
    "* U = 0.001 m/yr is very fast. Only extreme places like Taiwan have uplift rates faster than this.\n",
    "* U = 0.0001 - 0.0002 m/yr is the kind of rate you might find in a mountain range that isn't particularly active. Like the Carpathians or the Appalachians.  \n",
    "* U = 0.00001 m/yr would be in a place that has little relief and no tectonic activity. Some rolling hills on the African Craton, or hills in Australia, for example.\n",
    "\n",
    "Note: when I say \"uplift\" here, this isn't really uplift. These are long term erosion rates that we think relate to uplift (see the steady state section). If you measure short term uplift rates using GPS you can get quite high rates, in many places these are much higher than the long term erosion rates. We are still trying to understand this discrepancy.  "
   ]
  },
  {
   "cell_type": "code",
   "execution_count": null,
   "metadata": {},
   "outputs": [],
   "source": [
    "# Just run this code for now. Don't worry about what it does. \n",
    "first_channel = ct.channeltoy(spacing=250, U = 0.00025, K = 0.00005, n=1, m= 0.45)\n",
    "initial_elevation = first_channel.solve_steady_state_elevation()\n",
    "first_channel.plot_ss_channel(show_figure = True, print_to_file = False,show_area=True)"
   ]
  },
  {
   "cell_type": "markdown",
   "metadata": {},
   "source": [
    "I am now going to change the uplift and see what the profile looks like:"
   ]
  },
  {
   "cell_type": "code",
   "execution_count": null,
   "metadata": {},
   "outputs": [],
   "source": [
    "final_elevation = first_channel.set_U_values(U = 0.0005)\n",
    "first_channel.plot_ss_channel(show_figure = True, print_to_file = False,show_area=True)"
   ]
  },
  {
   "cell_type": "markdown",
   "metadata": {},
   "source": [
    "We can extract data from channels so we can plot data directly to see what different channels look like. \n",
    "\n",
    "Some more parameters:\n",
    "* `X_0`: the total length of the basin in metres.\n",
    "* `maximum_x`: the maximum distance of the channel in metres. __IMPORTANT__ this has to be less than `X_0`!!\n",
    "\n",
    "You can also set the exponent realting length and drainage area (see lesson 01). In this model we use `rho` for this. The default is 1.8, which is a fairly reasonable number, so you don't need to change it. "
   ]
  },
  {
   "cell_type": "code",
   "execution_count": null,
   "metadata": {},
   "outputs": [],
   "source": [
    "# Set up a first and second channel\n",
    "# Try changing the K, n, U, and other parameters below and in the second channel to see what happens. \n",
    "first_channel = ct.channeltoy(spacing=250, U = 0.0001, K = 0.00005, n=1, m= 0.45,maximum_x = 10000,X_0 = 12000)\n",
    "\n",
    "# I show here the setting of steady state but actually this happens automatically when you make a channel. \n",
    "initial_elevation = first_channel.solve_steady_state_elevation()\n",
    "\n",
    "second_channel = ct.channeltoy(spacing=250, U = 0.0002, K = 0.00005, n=1, m= 0.4,maximum_x = 8000,X_0 = 9000)\n",
    "second_channel.solve_steady_state_elevation() # This isn't really necessary but showing you how to reset a channel to steady state\n",
    "\n",
    "# Get the data from the two channels\n",
    "x1 = first_channel.x_data\n",
    "z1 = first_channel.z_data\n",
    "x2 = second_channel.x_data\n",
    "z2 = second_channel.z_data\n",
    "\n",
    "# Plot the channels\n",
    "plt.plot(x1,z1,label=\"First channel\")\n",
    "plt.plot(x2,z2,label=\"Second channel\")\n",
    "plt.legend()\n",
    "\n",
    "plt.xlabel(\"Distance from outlet ($m$)\")\n",
    "plt.ylabel(\"elevation (m)\")"
   ]
  },
  {
   "cell_type": "markdown",
   "metadata": {},
   "source": [
    "__Task:__ Play around with the parameters above to get a feeling for how much relief is generated for different erodibilites and uplift rates. \n",
    "\n",
    "__Question__: Set $n$ = 1 and $m$ = 0.45. Use an uplift rate of 0.0005 m/yr and 0.0002 m/yr. What are values of K that give realistic relief? You can go on Google earth to see how long channels are in big mountain ranges and how much releif they have. "
   ]
  },
  {
   "cell_type": "markdown",
   "metadata": {},
   "source": [
    "## Further reading"
   ]
  },
  {
   "cell_type": "markdown",
   "metadata": {},
   "source": [
    "Howard, A.D., Kerby, G., 1983. Channel changes in badlands. GSA Bulletin 94, 739–752. https://doi.org/10.1130/0016-7606(1983)94<739:CCIB>2.0.CO;2\n",
    "\n",
    "\n",
    "Whipple, K.X., Tucker, G.E., 1999. Dynamics of the stream-power river incision model: Implications for height limits of mountain ranges, landscape response timescales, and research needs. Journal of Geophysical Research: Solid Earth 104, 17661–17674. https://doi.org/10.1029/1999JB900120\n",
    "\n",
    "Whipple, K.X., DiBiase, R.A., Crosby, B.T., 2013. Bedrock Rivers. Treatise on Geomorphology 550–573. https://doi.org/10.1016/B978-0-12-374739-6.00254-2\n",
    "\n"
   ]
  }
 ],
 "metadata": {
  "kernelspec": {
   "display_name": "Python 3 (ipykernel)",
   "language": "python",
   "name": "python3"
  },
  "language_info": {
   "codemirror_mode": {
    "name": "ipython",
    "version": 3
   },
   "file_extension": ".py",
   "mimetype": "text/x-python",
   "name": "python",
   "nbconvert_exporter": "python",
   "pygments_lexer": "ipython3",
   "version": "3.8.10"
  }
 },
 "nbformat": 4,
 "nbformat_minor": 4
}
