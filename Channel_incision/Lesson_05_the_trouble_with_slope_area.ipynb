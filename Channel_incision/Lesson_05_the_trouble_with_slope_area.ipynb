{
 "cells": [
  {
   "cell_type": "markdown",
   "metadata": {},
   "source": [
    "# Lesson 5: the trouble with slope area"
   ]
  },
  {
   "cell_type": "markdown",
   "metadata": {},
   "source": [
    "*This lesson has been written by Simon M. Mudd at the University of Edinburgh*\n",
    "\n",
    "*Last update 05/10/2022*"
   ]
  },
  {
   "cell_type": "markdown",
   "metadata": {},
   "source": [
    "In the past few lessons, we have learned:\n",
    "    \n",
    "* Channels tend to have a higher gradient near their headwaters (i.e., parts of the network with low drainage area).\n",
    "* If the landscape is on uniform bedrock, and has an uplift rate that has remained steady for a long time, the relationship between slope and area looks like $S = k_s A^{-\\theta}$. \n",
    "* If the landscape is perturbed in some way, channel steepness will diverge from this idealised shape. \n",
    "* We might look for parts of the channel experiencing some sort of perturbation (i.e., changing lithology, changing uplift in space and time) by looking for parts of the landscape that are steeper than others. \n",
    "* Channel gradient doesn't work since it is changing along the channel even if there are no perturbations. So instead we look for changes in the \"channel steepness index\", or $k_s$ from the equation above. Areas of elevated $k_s$ are also known as knickpoints.\n"
   ]
  },
  {
   "cell_type": "markdown",
   "metadata": {},
   "source": [
    "## Using real data"
   ]
  },
  {
   "cell_type": "markdown",
   "metadata": {},
   "source": [
    "Okay, so lets try to fit some real data, and look for changes to the channel steepness. I prepared some data previously, which we will look at using `geopandas`."
   ]
  },
  {
   "cell_type": "code",
   "execution_count": null,
   "metadata": {},
   "outputs": [],
   "source": [
    "import pandas as pd\n",
    "import geopandas as gpd"
   ]
  },
  {
   "cell_type": "markdown",
   "metadata": {},
   "source": [
    "First read a csv that I made from Xi'an (see lesson_01) that contains slope and area data:"
   ]
  },
  {
   "cell_type": "code",
   "execution_count": null,
   "metadata": {},
   "outputs": [],
   "source": [
    "# This reads a csv file. You use panadas, and data in pandas is called a \"dataframe\" often shortened to \"df\".  \n",
    "df = pd.read_csv(\"Xian_SAvertical.csv\")"
   ]
  },
  {
   "cell_type": "markdown",
   "metadata": {},
   "source": [
    "Just to show you what is in this file, I will print out the data elements:"
   ]
  },
  {
   "cell_type": "code",
   "execution_count": null,
   "metadata": {},
   "outputs": [],
   "source": [
    "df.head()"
   ]
  },
  {
   "cell_type": "markdown",
   "metadata": {},
   "source": [
    "Each point has a latitude and longitude. Meaning it is spatial data. So we can load it as a `geopandas` dataframe: that is a kind of python object for holding geographic data. \n",
    "\n",
    "I wrote this data so I happen to know its coordinate system. It is in the global WGS84 geographic coordinate system. All coordinate systems have an **EPSG code**. This system's code is `epsg=4326`. I will assign that coordinate system after loading the data.\n",
    "\n",
    "**A slight note on coordinate systems**: coordinate systems might seem an arcane topic but if you are doing something in a GIS or manipulating spatial data and something goes wrong, a messed up coordinate system is frequently to blame. If I had to guess, i would say betwen 1/3-1/2 of problems students bring to me are solved by fixing the coordinate system. A very brief overview can be found here: https://lsdtopotools.github.io/LSDTT_documentation/LSDTT_introduction_to_geospatial_data.html#_projections_and_transformations\n",
    "\n",
    "Okay, now that I have said that, lets import some data:"
   ]
  },
  {
   "cell_type": "code",
   "execution_count": null,
   "metadata": {},
   "outputs": [],
   "source": [
    "# This changes a pandas dataframe (reminder, pandas is a little bit like the excel of python)\n",
    "# to a geopandas dataframe (which means the data has spatial information)\n",
    "gdf = gpd.GeoDataFrame(df, \n",
    "                       geometry=gpd.points_from_xy(df.longitude, df.latitude))\n",
    "\n",
    "# This sets the coordinate system of the data by giving it the EPSG code. \n",
    "gdf = gdf.set_crs(epsg=4326)\n",
    "gdf.head()"
   ]
  },
  {
   "cell_type": "markdown",
   "metadata": {},
   "source": [
    "Just to see where these are, we can use some map tiles. Here comes another EPSG code! This time we convert to something called web mercator, which all of the map tiling services (e.g., google maps) use. It is `epsg:3857`. But first we need to know the bounds of the data. "
   ]
  },
  {
   "cell_type": "code",
   "execution_count": null,
   "metadata": {},
   "outputs": [],
   "source": [
    "bounds = gdf.total_bounds\n",
    "print(bounds)"
   ]
  },
  {
   "cell_type": "markdown",
   "metadata": {},
   "source": [
    "Now we are going to plot these data, to show you where they are. \n",
    "They are in a few basins near Xian, China.\n",
    "\n",
    "Below in the `set_extent` call I pad the figure with a quarter of a degree of latitude and longitude. "
   ]
  },
  {
   "cell_type": "code",
   "execution_count": null,
   "metadata": {},
   "outputs": [],
   "source": [
    "import matplotlib.pyplot as plt\n",
    "from matplotlib.transforms import offset_copy\n",
    "import cartopy.crs as ccrs\n",
    "import cartopy.io.img_tiles as cimgt\n",
    "\n",
    "stamen_terrain = cimgt.Stamen('terrain-background')\n",
    "\n",
    "fig = plt.figure()\n",
    "\n",
    "# Create a GeoAxes in the tile's projection.\n",
    "ax = fig.add_subplot(1, 1, 1, projection=stamen_terrain.crs)\n",
    "\n",
    "# Limit the extent of the map to a small longitude/latitude range.\n",
    "ax.set_extent([bounds[0]-0.25, bounds[2]+0.25, bounds[1]-0.25, bounds[3]+0.25], crs=ccrs.Geodetic())\n",
    "\n",
    "# Add the Stamen data at zoom level 8.\n",
    "ax.add_image(stamen_terrain, 8)\n",
    "\n",
    "# Add the channel data\n",
    "gdf = gdf.to_crs(epsg=3857)    # We have to convert the data to the same \n",
    "                               #system as the ap tiles. It happens to be this one. \n",
    "                               # This epsg code is used for all map tiles (like google maps)\n",
    "gdf.plot(ax=ax, markersize=0.5, column='chi', zorder=10,cmap=\"jet\")\n"
   ]
  },
  {
   "cell_type": "markdown",
   "metadata": {},
   "source": [
    "Now lets plot the slope area data. \n",
    "\n",
    "Below I isolate data from a single basin in the first line of code (this is **MUCH** easier in `pandas` than in excel).\n",
    "\n",
    "I then plot the results."
   ]
  },
  {
   "cell_type": "code",
   "execution_count": null,
   "metadata": {},
   "outputs": [],
   "source": [
    "# First lets isolate just one of these basins. They go from 0 to 12\n",
    "gdf_b1 = gdf[(gdf['basin_key'] == 12)]\n",
    "\n",
    "# Now make the slope area plot\n",
    "fig = plt.figure()\n",
    "ax = fig.add_subplot(1, 1, 1)\n",
    "plt.scatter(gdf_b1.drainage_area,gdf_b1.slope,marker=\"+\")\n",
    "plt.xlabel(r\"Drainage area ($m^2$)\")\n",
    "plt.ylabel(\"Gradient (m/m)\")\n",
    "ax.set_xscale('log')\n",
    "ax.set_yscale('log')\n",
    "fig.show()"
   ]
  },
  {
   "cell_type": "markdown",
   "metadata": {},
   "source": [
    "__Task:__ Change the basin number. How noisy are the slope area plots?"
   ]
  },
  {
   "cell_type": "markdown",
   "metadata": {},
   "source": [
    "**What is happening?**\n",
    "\n",
    "Well, first of all, the gaps in drainage area are because there are tributary junctions where the drainage area takes a step change. Then,  between junctions, drainage are doesn't change much, but channels are rough: you get some boulders making some steps, or a little bit of slack water behind a log, etc. These mean that local gradient can change a lot between tributary junctions. So this shows up as a bunch of different gradients at apparently the same drainage area. \n",
    "\n",
    "These factors combine to make this a very noisy plot. When you see papers with slope-area data, it has been through some smoothing and binning routine, so you tend not to see figures this messy in scientific paper. But I assure you **all** slope area data is this messy before you start to bin and smooth it. \n",
    "\n",
    "In the next lesson we will explore a way to make these data less noisy. "
   ]
  }
 ],
 "metadata": {
  "kernelspec": {
   "display_name": "Python 3 (ipykernel)",
   "language": "python",
   "name": "python3"
  },
  "language_info": {
   "codemirror_mode": {
    "name": "ipython",
    "version": 3
   },
   "file_extension": ".py",
   "mimetype": "text/x-python",
   "name": "python",
   "nbconvert_exporter": "python",
   "pygments_lexer": "ipython3",
   "version": "3.8.13"
  }
 },
 "nbformat": 4,
 "nbformat_minor": 4
}
