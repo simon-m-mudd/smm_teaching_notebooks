{
 "cells": [
  {
   "cell_type": "markdown",
   "metadata": {},
   "source": [
    "# Lesson 04: Drainage capture (Eroding Landscape students can skip this!)"
   ]
  },
  {
   "cell_type": "markdown",
   "metadata": {},
   "source": [
    "*This lesson has been written by Simon M. Mudd at the University of Edinburgh*\n",
    "\n",
    "*Last update 30/09/2021*"
   ]
  },
  {
   "cell_type": "markdown",
   "metadata": {},
   "source": [
    "So far you should have learned:\n",
    "    \n",
    "* Typical channels have a concave up profile. And there is a power law relationship between slope and drainage areas: $S = k_s A^{-\\theta}$\n",
    "* The steepness of channels (as indicated by the steepness index $k_s$) is thought to be related to erosion rates. And the stream power law proposes a relationship between channel steepness, erodibility, and uplift rates. Despite many flaws, the stream power law has been used to help with conceptual models of channel evolution. \n",
    "* The stream power law (and its more complex variants) all suggest that changes in erosion rates will propagate upstream. If erosion rates increase, a **knickzone** will move upstream. "
   ]
  },
  {
   "cell_type": "markdown",
   "metadata": {},
   "source": [
    "We have run some simulations where changing the uplift rate can change the profile of the river. \n",
    "\n",
    "But other things can change the channel profile. One interesting process is **drainage capture**.\n",
    "\n",
    "A river's drainage area can change if one side of a drainage divide is eroding more quickly than the other, and the divide migrates into the slowly eroding landscape. \n",
    "\n",
    "An extreme version of this is drainage capture. Drainage capture can happen when the headwaters of one river erode into another river, and capture the other river's drainage area. Suddenly, a small headwater catchment can have a much larger river running down it. Because the headwaters will be relatively steep, this section of the river, now with much more discharge, should erode quickly. \n",
    "\n",
    "We can use our toy channel model to see what this erosion might look like. \n",
    "\n"
   ]
  },
  {
   "cell_type": "code",
   "execution_count": null,
   "metadata": {},
   "outputs": [],
   "source": [
    "!pip install channeltoy"
   ]
  },
  {
   "cell_type": "code",
   "execution_count": null,
   "metadata": {},
   "outputs": [],
   "source": [
    "import channeltoy as ct\n",
    "import matplotlib.pyplot as plt\n",
    "import numpy as np"
   ]
  },
  {
   "cell_type": "markdown",
   "metadata": {},
   "source": [
    "Set up a channel"
   ]
  },
  {
   "cell_type": "code",
   "execution_count": null,
   "metadata": {},
   "outputs": [],
   "source": [
    "initial_channel = ct.channeltoy(spacing=500, U = 0.0002,K = 0.00005,n=1)"
   ]
  },
  {
   "cell_type": "markdown",
   "metadata": {},
   "source": [
    "The channel toy allows you to splice on a channel above the one you have just made. This new channel is basically just another steady state channel that you attach to the top of the first channel. It approximates what would happen if a headwater channel erodes into another channel.\n",
    "You can edit the parameters of the new channel (like the `rho` values, the `X_0` value, etc.) and also the `capture_location_fraction` which is just how far upstream in the new channel the capture occurs (so 0.5 is when the initial channel captures the new channel at the new channel's halfway point). "
   ]
  },
  {
   "cell_type": "code",
   "execution_count": null,
   "metadata": {},
   "outputs": [],
   "source": [
    "initial_channel.create_drainage_capture_channel(new_K = 0.00005, new_U = 0.0002, \n",
    "                                                new_max_x = 10001,new_spacing = 500, \n",
    "                                                new_X_0 = 10501, new_rho = 1.8, \n",
    "                                                capture_location_fraction = 0.5)\n",
    "initial_channel.plot_channel(show_figure=True,print_to_file=False,show_area=True)"
   ]
  },
  {
   "cell_type": "markdown",
   "metadata": {},
   "source": [
    "Okay, now that we have done this, we can simulate how it evolves through time:"
   ]
  },
  {
   "cell_type": "code",
   "execution_count": null,
   "metadata": {},
   "outputs": [],
   "source": [
    "initial_z = initial_channel.get_elevations()\n",
    "\n",
    "# Now run the transient channel\n",
    "times, elevations = initial_channel.transient_simulation(base_level = 0, dt = 20, \n",
    "                                                         start_time = 0, end_time = 30001, \n",
    "                                                         print_interval = 7500)\n",
    "\n",
    "\n",
    "final_z = initial_channel.solve_steady_state_elevation()"
   ]
  },
  {
   "cell_type": "code",
   "execution_count": null,
   "metadata": {},
   "outputs": [],
   "source": [
    "initial_channel.plot_transient_channel(times = times, elevations = elevations,\n",
    "                                       initial_elevation = initial_z, \n",
    "                                       final_elevation =final_z,\n",
    "                                      show_figure=True,print_to_file=False)"
   ]
  },
  {
   "cell_type": "markdown",
   "metadata": {},
   "source": [
    "We can actually plot the depth of incision by subtracting the timesteps from the initial state of the river."
   ]
  },
  {
   "cell_type": "code",
   "execution_count": null,
   "metadata": {},
   "outputs": [],
   "source": [
    "incision = np.subtract(initial_z,elevations[1])\n",
    "incision2 = np.subtract(initial_z,elevations[2])\n",
    "flow_distance = initial_channel.x_data\n",
    "\n",
    "plt.plot(flow_distance,incision)\n",
    "plt.plot(flow_distance,incision2)\n",
    "plt.xlabel(\"Flow distance m\")\n",
    "plt.ylabel(\"Incision (m)\")\n",
    "plt.title(\"Incision depth\")\n",
    "plt.show"
   ]
  },
  {
   "cell_type": "code",
   "execution_count": null,
   "metadata": {},
   "outputs": [],
   "source": []
  }
 ],
 "metadata": {
  "kernelspec": {
   "display_name": "Python 3 (ipykernel)",
   "language": "python",
   "name": "python3"
  },
  "language_info": {
   "codemirror_mode": {
    "name": "ipython",
    "version": 3
   },
   "file_extension": ".py",
   "mimetype": "text/x-python",
   "name": "python",
   "nbconvert_exporter": "python",
   "pygments_lexer": "ipython3",
   "version": "3.8.10"
  }
 },
 "nbformat": 4,
 "nbformat_minor": 4
}
