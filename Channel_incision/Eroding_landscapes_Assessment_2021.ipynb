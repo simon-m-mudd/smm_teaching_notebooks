{
 "cells": [
  {
   "cell_type": "markdown",
   "id": "123c42bd",
   "metadata": {},
   "source": [
    "# Eroding Landscapes Assessment for 2021"
   ]
  },
  {
   "cell_type": "markdown",
   "id": "3b30403a",
   "metadata": {},
   "source": [
    "Written by Simon M Mudd last update 07/10/2021"
   ]
  },
  {
   "cell_type": "markdown",
   "id": "ab9dc749",
   "metadata": {},
   "source": [
    "In this assessment you will look at some real landscapes and extract the apparent \"erodibility\" (*K* in the stream power equation) from them. You will do this by measuring the basin length and the relief of the catchment. \n",
    "\n",
    "Once you have the *K* values, you will plug these values into a channel evolution model to see how a real channel might respond to changes in uplift rates. \n",
    "\n",
    "From there you will look at the rate of knickpoint retreat and the time it takes the channels to reach a new steady state. \n",
    "\n",
    "You will then write a short report, including figures, about your findings. The style of the figures and the writing should be similar to your essay, so feedback from this report can be used to improve your essay. "
   ]
  },
  {
   "cell_type": "markdown",
   "id": "9d386d77",
   "metadata": {},
   "source": [
    "## Learning objectives"
   ]
  },
  {
   "cell_type": "markdown",
   "id": "6c8a322a",
   "metadata": {},
   "source": [
    " * You will practise extracting data from online map resources and a erosion rate database.\n",
    " * You will use real world data to tune a model (the model has been provided in these notebooks). \n",
    " * You will then use values in your tuned model to explore landscape response to changing uplift. \n",
    " * You will practise writing scientifically and preparing figures. "
   ]
  },
  {
   "cell_type": "markdown",
   "id": "e6679f78",
   "metadata": {},
   "source": [
    "## Some preliminary python stuff"
   ]
  },
  {
   "cell_type": "code",
   "execution_count": null,
   "id": "6492b00f",
   "metadata": {},
   "outputs": [],
   "source": [
    "!pip install channeltoy\n",
    "%matplotlib inline\n",
    "import channeltoy as ct\n",
    "import matplotlib.pyplot as plt\n",
    "import numpy as np"
   ]
  },
  {
   "cell_type": "markdown",
   "id": "dcd006fe",
   "metadata": {},
   "source": [
    "## Assessment tasks"
   ]
  },
  {
   "cell_type": "markdown",
   "id": "fd6d4127",
   "metadata": {},
   "source": [
    "### Part 1: Extracting *K* values from real landscapes"
   ]
  },
  {
   "cell_type": "markdown",
   "id": "ecec7070",
   "metadata": {},
   "source": [
    "* You will need a combination of Google Earth and this website: https://earth.uow.edu.au/ \n",
    "* On the https://earth.uow.edu.au/ website, click on the \"CRN international river basins\" layer. \n",
    "    * Find a mountain range you like that has a basin. \n",
    "    * Click on the basin: it will have an erosion rate in mm/kyr. Divide by 1000000 to get the erosion rate in m/yr. So 1000 mm/kyr will be 0.001 m/yr. You will want a large basin because small basins will have noisier data. Write this number down. \n",
    "* Now go onto google earth and find the length of the basin and its relief (measure the distance from the outlet to the most distant channel, and to get the relief subtract the elevation of the farthest channel from the elevation of the outlet). \n",
    "\n",
    "Use the second box below (it has some python code) to change values of *K* until you get the right relief. **You just need the relief to be correct to within a few percent...don't try to match 2 significant digits!!!**\n",
    "\n",
    "**You need to do this for several basins (up to 10, no less than 4).**"
   ]
  },
  {
   "cell_type": "code",
   "execution_count": null,
   "id": "f94057dc",
   "metadata": {},
   "outputs": [],
   "source": [
    "# This function defines the plotting\n",
    "# DO NOT CHANGE\n",
    "plt.rcParams['figure.figsize'] = [10, 5]\n",
    "def plot_channel_SS(K = 0.00005, initial_U = 0.0002, basin_length = 10000 ):\n",
    "    \"\"\"Remove old lines from plot and plot new one\"\"\"\n",
    "\n",
    "    chan = ct.channeltoy(spacing=250, U = initial_U, K = K, n=1, m= 0.45, maximum_x = basin_length-999, X_0 = basin_length)\n",
    "    initial_elevation = chan.solve_steady_state_elevation()\n",
    "    x = chan.x_data\n",
    "    chi = chan.chi_data\n",
    "    relief = np.max(initial_elevation)\n",
    "\n",
    "    fig, ax = plt.subplots()\n",
    "    plt.plot(x, initial_elevation,label=\"Initial elevation\")\n",
    "    plt.xlabel(\"Distance from outlet (m)\")\n",
    "    plt.ylabel(\"Elevation (m)\")\n",
    "    plt.title(\"Erosion = \"+str(initial_U*1000)+\" mm/yr, K = \"+str(K)+\" and relief = \"+str(np.round(relief,2))+\" m\")\n",
    "    #ax.set_ylim([0, 200])\n",
    "    plt.legend()\n",
    "    \n",
    "    return relief"
   ]
  },
  {
   "cell_type": "code",
   "execution_count": null,
   "id": "37be1576",
   "metadata": {},
   "outputs": [],
   "source": [
    "# SET THE BELOW NUMBERS TO THE NUMBERS YOU GOT FROM GOOGLE EARTH\n",
    "erosion_rate_in_m_per_yr = 0.0002\n",
    "basin_length_in_metres = 10000\n",
    "\n",
    "# NOW CHANGE THIS UNTIL THE RELIEF IS THE SAME AS YOU MEASURED IN GOOGLE EARTH\n",
    "K = 0.00005\n",
    "\n",
    "relief = plot_channel_SS(K, erosion_rate_in_m_per_yr, basin_length_in_metres)\n",
    "print(\"The relief is: \" + str(relief))"
   ]
  },
  {
   "cell_type": "markdown",
   "id": "1715d434",
   "metadata": {},
   "source": [
    "**WHAT YOU WRITE IN PART 1**\n",
    "\n",
    "You will write 250 words and have 1-2 figures for this part. \n",
    "\n",
    "You should \n",
    "1. Write the method for calculating *K*. We know we just told you the method. But you need practise in explaining your methods for your essay. You will need to say how you measured length and relief, where your sites were, how you measured erosion rates (there needs to be a citation or citations) and how the channel profile was calculated (you do not say you used python from Simon, you say instead relief was calculated using the steady state stream power incision model (you could include an equation if you wanted) and there needs to be a reference to a paper. \n",
    "2. A comment on the values of K you found. Are they all the same? Is there any pattern? A few sentences will do. \n",
    "3. A figure or two that support your explanation of the method or that illustrate any trends in K. What these figures look like is up to you. \n",
    "\n",
    "Assessment criteria:\n",
    "* Clarity of writing. Could someone who knows nothing about rivers understand what you did?\n",
    "* Referencing. I will explain this in class. \n",
    "* Figures. Do they have a caption? Do they have scale bars? Do they help understand the text? Can they be understood without the text?"
   ]
  },
  {
   "cell_type": "markdown",
   "id": "bfb6386d",
   "metadata": {},
   "source": [
    "### Part 2: Transient channel behaviour"
   ]
  },
  {
   "cell_type": "markdown",
   "id": "39c08335",
   "metadata": {},
   "source": [
    "In part 1 you tuned **K** in a few places to get a sense for how it varies. \n",
    "\n",
    "In this part you are going to use those numbers to get a sense of how channels respond to a change in uplift. \n",
    "In part 1 we assumed erosion and uplift were the same (this is called a steady state assumption). In this part we exchange uplift for erosion rate (so the initial_U is the same as the erosion rate you used in part 1). \n",
    "\n",
    "You will do this by changing parameters in the code block below. \n",
    "By changing the parameters you can explore a number of questions. You just need to pick one area to explore and then write your findings and add some figures. \n",
    "\n",
    "* Change the uplift rate: how long does it take for the knickpoint to move through the landscape (to the top of the river profile)? Does this time change if the uplift rate is even greater? \n",
    "* Change the erodibility coefficient *K*: how long does it take for the knickpoint to move through the landscape (to the top of the river profile)? Does this time change if you change K? What is the significance of this result?\n",
    "* Does the knickpoint migration rate change, as the knickpoint moves upstream, or is it moving at the same rate all along?\n"
   ]
  },
  {
   "cell_type": "code",
   "execution_count": null,
   "id": "5a58e6ce",
   "metadata": {},
   "outputs": [],
   "source": [
    "##\n",
    "## IF YOU WANT TO CHANGE THE PLOT\n",
    "## Change these parameters\n",
    "##\n",
    "\n",
    "## The parameters for a given basin. This sets the initial profile, which is at steady state\n",
    "basin_length = 10000\n",
    "initial_U = 0.0001\n",
    "this_K = 0.00005\n",
    "\n",
    "## Change the uplift rate\n",
    "new_U = 0.0005\n",
    "\n",
    "## These controls \n",
    "print_every_this_many_years = 10000\n",
    "last_year_your_print_a_profile = 70000\n",
    "\n",
    "## We will talk about this a bit in the practical in week 3: chi plots make it easier to see the knickpoint but \n",
    "## harder to understand conceptually. Unless you have read and understand lesson_06 keep this False \n",
    "do_you_want_to_plot_in_chi_space = False  # True or False\n",
    "\n",
    "\n",
    "## !!!!!!!!!!!!!!!!!!!!!!!!!!!!!!\n",
    "## DO NOT CHANGE ANYTHING BELOW THIS LINE\n",
    "## !!!!!!!!!!!!!!!!!!!!!!!!!!!!!!\n",
    "\n",
    "# create a channel\n",
    "chan = ct.channeltoy(spacing=50, U = initial_U, K = 0.00005, n=1, m= 0.45,maximum_x = basin_length-999, X_0 = basin_length)\n",
    "initial_elevation = chan.solve_steady_state_elevation()\n",
    "\n",
    "# change the uplift rate\n",
    "chan.set_U_values(U = new_U)\n",
    "\n",
    "# Run the transient simulation. You can use the start and end time to \n",
    "times, elevations = chan.transient_simulation(base_level = 0, dt = 200, \n",
    "                                              start_time = 0, end_time = last_year_your_print_a_profile+1, \n",
    "                                              print_interval = print_every_this_many_years)\n",
    "\n",
    "# Make a plot of the elevations\n",
    "# If you set use_chi=True then you get the chi profiles. \n",
    "chan.plot_transient_channel(times = times, \n",
    "                            elevations = elevations, \n",
    "                            initial_elevation = initial_elevation,\n",
    "                            show_figure=True,print_to_file=False,use_chi = do_you_want_to_plot_in_chi_space)"
   ]
  },
  {
   "cell_type": "markdown",
   "id": "58d6fd5d",
   "metadata": {},
   "source": [
    "**What you do for part 2**:\n",
    "\n",
    "The word count for this part should be no more than 500 words (figure captions and references do not count). \n",
    "There can be up to 3 figures. \n",
    "\n",
    "* Explain briefly what you have done. Again do not say you used python and cite the lecture. Instead say you used stream power (with a citation to a paper), you started at steady state, and you then modified something (which will depend on what you looked at). \n",
    "* Then, you should write a few paragraphs about your findings. This should look like a small discussion section in a paper. Start with a few sentences explaining what you are simulating (that is, don't assume the reader already knows everything about knickpoints and channels). \n",
    "* Use 1-3 figures to explain what you found. \n",
    "\n",
    "Assessment criteria:\n",
    "* Clarity of writing (again, it should be clear what numerical experiments you did). \n",
    "* Focus: do not try to cover everything about knickpoint behaviour. Focus on one of the questions we asked in the previous text box. \n",
    "* References: you need a handful to set context (see below). \n",
    "* Figures: The figures should be in the format of a scientific paper: use figure captions instead of titles. Do they help understand the text? Can they be understood without the text?"
   ]
  },
  {
   "cell_type": "markdown",
   "id": "5629b28c",
   "metadata": {},
   "source": [
    "## Helpful references "
   ]
  },
  {
   "cell_type": "markdown",
   "id": "33f24f9e",
   "metadata": {},
   "source": [
    "These references can help your discussion.\n",
    "**We are more interested in you practising referencing than evidence you read widely. So you will not be marked down if you reference only a subset of these papers (but you will need to reference a few).**\n",
    "\n",
    " \n",
    "**The erosion rate dataset you use in part 1**\n",
    "Codilean, A.T., Munack, H., Cohen, T.J., Saktura, W.M., Gray, A., Mudd, S.M., 2018. OCTOPUS: an open cosmogenic isotope and luminescence database. Earth Syst. Sci. Data 10, 2123–2139. https://doi.org/10.5194/essd-10-2123-2018\n",
    " \n",
    " \n",
    "**First paper with the stream power law**\n",
    "\n",
    "Howard, A.D., Kerby, G., 1983. Channel changes in badlands. Geological Society of America Bulletin 94, 739–752. https://doi.org/10.1130/0016-7606(1983)94<739:CCIB>2.0.CO;2\n",
    "\n",
    "**An incredibly detailed paper about the stream power law (warning: lots of maths. Focus on the figures)**\n",
    "\n",
    "Whipple, K.X., Tucker, G.E., 1999. Dynamics of the stream-power river incision model: Implications for height limits of mountain ranges, landscape response timescales, and research needs. Journal of Geophysical Research: Solid Earth 104, 17661–17674. https://doi.org/10.1029/1999JB900120\n",
    "\n",
    "**First mention of steady state**\n",
    "\n",
    "Hack, J.T., 1960. Interpretation of erosional topography in humid temperate regions. American Journal of Science 258, 80–97.\n",
    "\n",
    "\n",
    "**Papers with discussion about how knickpoints move**\n",
    "\n",
    "Crosby, B.T., Whipple, K.X., 2006. Knickpoint initiation and distribution within fluvial networks: 236 waterfalls in the Waipaoa River, North Island, New Zealand. Geomorphology 82, 16–38. https://doi.org/10.1016/j.geomorph.2005.08.023\n",
    "\n",
    "Wobus, C.W., Crosby, B.T., Whipple, K.X., 2006. Hanging valleys in fluvial systems: Controls on occurrence and implications for landscape evolution. Journal of Geophysical Research: Earth Surface 111. https://doi.org/10.1029/2005JF000406\n",
    "\n",
    "Bishop, P., Hoey, T.B., Jansen, J.D., Artza, I.L., 2005. Knickpoint recession rate and catchment area: the case of uplifted rivers in Eastern Scotland. Earth Surface Processes and Landforms 30, 767–778. https://doi.org/10.1002/esp.1191\n",
    "\n",
    "Mitchell, N.A., Yanites, B.J., 2019. Spatially Variable Increase in Rock Uplift in the Northern U.S. Cordillera Recorded in the Distribution of River Knickpoints and Incision Depths. Journal of Geophysical Research: Earth Surface 124, 1238–1260. https://doi.org/10.1029/2018JF004880\n",
    "\n",
    "\n",
    "**Values of the K parameter**\n",
    "\n",
    "Harel, M.-A., Mudd, S.M., Attal, M., 2016. Global analysis of the stream power law parameters based on worldwide 10Be denudation rates. Geomorphology 268, 184–196. https://doi.org/10.1016/j.geomorph.2016.05.035\n",
    "\n"
   ]
  },
  {
   "cell_type": "code",
   "execution_count": null,
   "id": "4c9f7136",
   "metadata": {},
   "outputs": [],
   "source": []
  }
 ],
 "metadata": {
  "kernelspec": {
   "display_name": "Python 3 (ipykernel)",
   "language": "python",
   "name": "python3"
  },
  "language_info": {
   "codemirror_mode": {
    "name": "ipython",
    "version": 3
   },
   "file_extension": ".py",
   "mimetype": "text/x-python",
   "name": "python",
   "nbconvert_exporter": "python",
   "pygments_lexer": "ipython3",
   "version": "3.8.10"
  }
 },
 "nbformat": 4,
 "nbformat_minor": 5
}
