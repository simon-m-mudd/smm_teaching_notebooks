{
 "cells": [
  {
   "cell_type": "markdown",
   "metadata": {},
   "source": [
    "# Lesson 01: Basic channel profiles"
   ]
  },
  {
   "cell_type": "markdown",
   "metadata": {},
   "source": [
    "*This lesson has been written by Simon M. Mudd at the University of Edinburgh*\n",
    "\n",
    "*Last update 13/09/2021*"
   ]
  },
  {
   "cell_type": "markdown",
   "metadata": {},
   "source": [
    "This lesson explores the shape of channel profiles. A channel profile is the plot of the elevation of a river versus its distance downstream. We sometimes call this a channel longitudinal profile or a \"long profile\".\n",
    "\n",
    "In this lesson we will:\n",
    "* Look at some general properties of channels: drainage area and slope, drainage area and length, and length and slope.\n",
    "* Derive a basic equation for an \"ideal\" channel longitudinal profile. \n",
    "* We have some interactive plots so you can play with some typical parameters to see how they affect river profiles."
   ]
  },
  {
   "cell_type": "markdown",
   "metadata": {},
   "source": [
    "## Before we do anything we need to do some python stuff"
   ]
  },
  {
   "cell_type": "markdown",
   "metadata": {},
   "source": [
    "To get this all to run you should go to the menus above ↑, click on **kernal**, and then do **restart and run all**."
   ]
  },
  {
   "cell_type": "code",
   "execution_count": 1,
   "metadata": {},
   "outputs": [],
   "source": [
    "import matplotlib.pyplot as plt\n",
    "import numpy as np\n",
    "import pandas as pd\n",
    "import geopandas as gpd"
   ]
  },
  {
   "cell_type": "markdown",
   "metadata": {},
   "source": [
    "## Basic properties of channel profiles"
   ]
  },
  {
   "cell_type": "markdown",
   "metadata": {},
   "source": [
    "Imagine yourself in a nice mountain valley walking along a stream. You start quite low in the valley. The stream is nice and wide. As you go upstream the river gets smaller. This is because it is draining less area. In addition, the stream will probably change its gradient. Near the mountain tops, channels tend to get steeper. Because channels tend to get steeper as we move along them, we can call their profiles concave. There are exceptions, but the general trend of rivers is to get steeper as you go upstream. \n",
    "\n",
    "If you run the code below you will see a profile of a channel in an area near Xi'an, China. "
   ]
  },
  {
   "cell_type": "code",
   "execution_count": 21,
   "metadata": {},
   "outputs": [
    {
     "data": {
      "text/plain": [
       "<Figure size 432x288 with 0 Axes>"
      ]
     },
     "metadata": {},
     "output_type": "display_data"
    },
    {
     "data": {
      "image/png": "[encoded data removed]",
      "text/plain": [
       "<Figure size 432x288 with 1 Axes>"
      ]
     },
     "metadata": {
      "needs_background": "light"
     },
     "output_type": "display_data"
    }
   ],
   "source": [
    "# Pick a basin here. You can choose an integer between 0 and 12. Each one is a river basin. \n",
    "# Basin 3 has a very nice concave channel (not all of the channels are concave)\n",
    "basin_number = 3\n",
    "\n",
    "df = pd.read_csv(\"Xian_chi_data_map.csv\")\n",
    "gdf = gpd.GeoDataFrame(\n",
    "    df, geometry=gpd.points_from_xy(df.longitude, df.latitude))\n",
    "gdf = gdf.set_crs(epsg=4326)\n",
    "\n",
    "# First lets isolate just one of these basins.\n",
    "gdf_b1 = gdf[(gdf['basin_key'] == basin_number)]\n",
    "min_source = np.amin(gdf_b1.source_key)\n",
    "gdf_b2 = gdf_b1[(gdf_b1['source_key'] == min_source)]\n",
    "\n",
    "# Now make channel profile plots\n",
    "z = gdf_b2.elevation\n",
    "x_locs = gdf_b2.flow_distance\n",
    "\n",
    "# Create two subplots and unpack the output array immediately\n",
    "plt.clf()\n",
    "f, (ax1) = plt.subplots(1, 1)\n",
    "#ax1.scatter(x_locs, z,s = 1,marker='o')\n",
    "plt.plot(x_locs,z)\n",
    "\n",
    "ax1.set_xlabel(\"Distance from outlet ($m$)\")\n",
    "ax1.set_ylabel(\"Elevation (m)\")\n",
    "plt.title(\"Channel profile from the Qinling Shan south of Xi'an, China\",fontsize=16)\n",
    "\n",
    "\n",
    "plt.tight_layout()"
   ]
  },
  {
   "cell_type": "markdown",
   "metadata": {},
   "source": [
    "### Area - gradient relationship"
   ]
  },
  {
   "cell_type": "markdown",
   "metadata": {},
   "source": [
    "So we have a channel that is concave. So the headwaters are steep. Can we compare different points in the channel to determine their relative steepeness?\n",
    "\n",
    "One way to do this is to control for how much water is in the channel (bigger rivers tend to have lower gradients). But to measure this you need to put instruments in the river. This is difficult, so we frequently use drainage area as a proxy for the amount of water in the channel (we measure the water in the channel as discharge, the volume of water passing though a point per time). \n",
    "\n",
    "In the 1950's and 60's people started measuring how steep rivers were as a function of their drainage area (there is a classic 1957 paper by Hack on this topic). In 1962 Marie Morisawa realised that the relasionship between drainage area and gradient followed a power law. \n",
    "\n",
    "The power law can be described by:\n",
    "\n",
    "$S = k_s A^{-\\theta}$\n",
    "\n",
    "Some authors now refer to this as \"Flint's Law\", because of a 1974 paper by Flint where he went into a lot of details about this relationship, but it really should be called \"Morisawa's law\" since she was the first one to notice it. \n",
    "\n",
    "The symbols above are the ones used in loads of papers. $S$ is slope (or gradient), $A$ is drainage area, $k_s$ is something called the \"steepness index\" and $\\theta$ is called the concavity index. \n",
    "\n",
    "We can look at how these affect potential slopes with a bit of python. You don't need to worry too much about what this code is doing, but you should read the text and look at the plots. "
   ]
  },
  {
   "cell_type": "markdown",
   "metadata": {},
   "source": [
    "First we make a series of drainage areas:"
   ]
  },
  {
   "cell_type": "code",
   "execution_count": 24,
   "metadata": {},
   "outputs": [
    {
     "name": "stdout",
     "output_type": "stream",
     "text": [
      "[3.   3.25 3.5  3.75 4.   4.25 4.5  4.75 5.   5.25 5.5  5.75 6.  ] [   1000.            1778.27941004    3162.27766017    5623.4132519\n",
      "   10000.           17782.79410039   31622.77660168   56234.13251903\n",
      "  100000.          177827.94100389  316227.76601684  562341.32519035\n",
      " 1000000.        ]\n"
     ]
    }
   ],
   "source": [
    "logA = np.arange(3,6.01,0.25)\n",
    "A = 10**logA\n",
    "print(logA,A)"
   ]
  },
  {
   "cell_type": "markdown",
   "metadata": {},
   "source": [
    "Now I plot the slopes and areas. You should play with this by changing the $k_s$ and $\\theta$ parameters to see what happens. Remember these are just some numbers used to fit Morisawa's Law. \n",
    "\n",
    "Note how the plot has logarithmic spacing on the axes. We use logarithmic spacing when our data covers a big range of values. \n",
    "\n",
    "For some indication: \n",
    "* $k_s$ usually varies between 1 and 1000 (when $\\theta$ is 0.45).\n",
    "* $\\theta$ usually varies between 0.3 and 0.65"
   ]
  },
  {
   "cell_type": "code",
   "execution_count": 29,
   "metadata": {},
   "outputs": [
    {
     "data": {
      "text/plain": [
       "Text(0.5, 1.0, 'Relationship between gradient and drainge area for a hypothetical channel')"
      ]
     },
     "execution_count": 29,
     "metadata": {},
     "output_type": "execute_result"
    },
    {
     "data": {
      "image/png": "[encoded data removed]",
      "text/plain": [
       "<Figure size 432x288 with 1 Axes>"
      ]
     },
     "metadata": {
      "needs_background": "light"
     },
     "output_type": "display_data"
    }
   ],
   "source": [
    "# Try changing the values of the k and theta parameters\n",
    "k_s1 = 5\n",
    "theta1 = 0.45\n",
    "S1 = k_s1*A**(-theta1)\n",
    "\n",
    "k_s2 = 50\n",
    "theta2 = 0.45\n",
    "S2 = k_s2*A**(-theta2)\n",
    "\n",
    "plt.scatter(A,S1)\n",
    "plt.scatter(A,S2)\n",
    "plt.legend(['First channel','Second channel'])\n",
    "plt.xlabel(\"Drainage area ($m^2$)\")\n",
    "plt.ylabel(\"gradient (m/m)\")\n",
    "plt.yscale('log')\n",
    "plt.xscale('log')\n",
    "plt.title('Relationship between gradient and drainge area for a hypothetical channel')"
   ]
  },
  {
   "cell_type": "markdown",
   "metadata": {},
   "source": [
    "__Task:__ Change the values of $k_s$ and $\\theta$ in the plots above to see how they affect the relationship between drainage area and gradient. For a reference, a gradient of 0.1 is **very** steep for a river. You will probably transision to channels dominated by debris flows at this gradient. "
   ]
  },
  {
   "cell_type": "markdown",
   "metadata": {},
   "source": [
    "### Longitudinal profiles"
   ]
  },
  {
   "cell_type": "markdown",
   "metadata": {},
   "source": [
    "Another observation of channel profiles was made by Hack, where he noted that drainage area and stream length could be related by a power law. This is (rightfully) called Hack's law. He wrote this as:\n",
    "\n",
    "$L = c A^h$\n",
    "\n",
    "where $L$ is the length of a basin and $c$ and $h$ are some empirical constants.  \n",
    "\n",
    "Drainage area will get bigger as you go downstream. But this is a little bit annoying for my purposes so I am going to write this as a distance upstream from an outlet. \n",
    "\n",
    "$A = (x_0 - x)^b$\n",
    "\n",
    "where $x_0$ is the distance from the source to the outlet (basically the same as $L$ but I have chosen a specific outlet) and $b = 1/h$. \n",
    "\n",
    "We can plug this equation into Morisawa's law to get:\n",
    "\n",
    "$S = k_s (x_0 - x)^{-b \\theta}$\n",
    "\n",
    "Slope, however, is the same as the derivative of elevation, $dz/dx$. I will not bore you with the details, but this a differential equation that can be solved (remember EMP2?). The solution is:\n",
    "\n",
    "$z = \\frac{k_s \\left(x (x_0-x)^{-b \\theta }-x_0 (x_0-x)^{-b \\theta }+x_0^{1-b \\theta }\\right)}{1-b \\theta }$\n",
    "\n",
    "We can plot this using python. First we define a function to get the elevations (this is just a python version of the equation above). "
   ]
  },
  {
   "cell_type": "code",
   "execution_count": 30,
   "metadata": {},
   "outputs": [],
   "source": [
    "def channel_profile(x,ks,theta,b,x0):\n",
    "    z = []\n",
    "    term1 = 1-b*theta\n",
    "    term2 = -b*theta\n",
    "    for xi in x:\n",
    "        this_z = ks*( xi*(x0-xi)**term2 - x0*(x0-xi)**term2+ x0**(term1))/(term1)\n",
    "        z.append(this_z)\n",
    "    return np.asarray(z)"
   ]
  },
  {
   "cell_type": "markdown",
   "metadata": {},
   "source": [
    "Now, we can plot. Try manipulating the parameters. Typical ranges of $\\theta$ and $k_s$ are listed above. \n",
    "\n",
    "* $b$ will range from around 1.8 to a little over 2\n",
    "* $x_0$ is the length of the channel, so anywhere from a few km (you input this in m) to 50 km. "
   ]
  },
  {
   "cell_type": "code",
   "execution_count": 31,
   "metadata": {},
   "outputs": [
    {
     "data": {
      "text/plain": [
       "Text(0, 0.5, 'elevation (m)')"
      ]
     },
     "execution_count": 31,
     "metadata": {},
     "output_type": "execute_result"
    },
    {
     "data": {
      "image/png": "[encoded data removed]",
      "text/plain": [
       "<Figure size 432x288 with 1 Axes>"
      ]
     },
     "metadata": {
      "needs_background": "light"
     },
     "output_type": "display_data"
    }
   ],
   "source": [
    "# x0 needs to me in metres!!\n",
    "x0 = 5000\n",
    "ks = 25\n",
    "theta = 0.45\n",
    "b = 2\n",
    "x = np.arange(0,x0,25)\n",
    "z = channel_profile(x,ks,theta,b,x0)\n",
    "\n",
    "\n",
    "plt.plot(x,z)\n",
    "plt.xlabel(\"Distance from outlet (m)\")\n",
    "plt.ylabel(\"elevation (m)\")\n",
    "plt.title(\"A channel profile based on \")\n",
    "\n",
    "#print(z)"
   ]
  },
  {
   "cell_type": "markdown",
   "metadata": {},
   "source": [
    "Okay, so by now you should have a basic understanding of what channel long profiles look like!\n",
    "\n",
    "This is all rather simplified. The main thing we have missed out on when considering slope and the long profile is that river drainage area, is not smoothly increasing. At tributary junctions you get a jump in drainage area. So typical river profiles are not quite as smooth as the plot above. But this is not far off a well-behaved river. And by well behaved I mean that it is flowing over the same type of rocks, and there erosion rate has been steady (that is, not varying) for a really long time. "
   ]
  },
  {
   "cell_type": "markdown",
   "metadata": {},
   "source": [
    "__Task:__ Change the values of $k_s$, $b$, $x_0$, and $\\theta$ in the plots above to see how they affect the channel long profile."
   ]
  },
  {
   "cell_type": "markdown",
   "metadata": {},
   "source": [
    "## Further reading"
   ]
  },
  {
   "cell_type": "markdown",
   "metadata": {},
   "source": [
    "Hack, J., 1957. Studies of longitudinal profiles in Virginia and Maryland (U.S. Geological Survey Professional Paper No. 294- B). United States Government Printing Office, Washington, D.C.\n",
    "\n",
    "Morisawa, M., 1962. Quantitative Geomorphology of Some Watersheds in the Appalachian Plateau. Geol. Soc. Am. Bull. 73, 1025–1046. https://doi.org/10.1130/0016-7606(1962)73[1025:QGOSWI]2.0.CO;2"
   ]
  }
 ],
 "metadata": {
  "kernelspec": {
   "display_name": "Python 3 (ipykernel)",
   "language": "python",
   "name": "python3"
  },
  "language_info": {
   "codemirror_mode": {
    "name": "ipython",
    "version": 3
   },
   "file_extension": ".py",
   "mimetype": "text/x-python",
   "name": "python",
   "nbconvert_exporter": "python",
   "pygments_lexer": "ipython3",
   "version": "3.8.10"
  }
 },
 "nbformat": 4,
 "nbformat_minor": 4
}
