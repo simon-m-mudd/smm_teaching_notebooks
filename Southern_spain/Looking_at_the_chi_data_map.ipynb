{
 "cells": [
  {
   "cell_type": "markdown",
   "metadata": {},
   "source": [
    "# Looking at the `_chi_data_map.csv` file"
   ]
  },
  {
   "cell_type": "markdown",
   "metadata": {},
   "source": [
    "In a few of the notebooks we have used `lsdtopotools` to extract a channel profile. The software has a few different ways to extract profiles, but one produces a file with `chi_data_map.csv` in the filename. This file has a selection of useful data in it. Lets load the file and have a look."
   ]
  },
  {
   "cell_type": "code",
   "execution_count": null,
   "metadata": {},
   "outputs": [],
   "source": [
    "import pandas as pd\n",
    "import geopandas as gpd\n",
    "import cartopy as cp\n",
    "import cartopy.crs as ccrs\n",
    "import rasterio as rio\n",
    "import matplotlib.pyplot as plt\n",
    "import numpy as np"
   ]
  },
  {
   "cell_type": "markdown",
   "metadata": {},
   "source": [
    "We are going to load the csv data, which we generated in the previous notebook. \n",
    "We first use a package called `pandas` to do this, and then import that into `geopandas`. \n",
    "`pandas` is for dealing with data that you might use excel to look at. So data that might be in a spreadsheet. But it has many powerful data processing options. It was originally developed by a \"quant\" financial analyst to look at stock trends! But it is a super useful python package for many applications. "
   ]
  },
  {
   "cell_type": "code",
   "execution_count": null,
   "metadata": {},
   "outputs": [],
   "source": [
    "df = pd.read_csv(\"Sorbas_SRTM30_UTM_chi_data_map.csv\")\n",
    "gdf = gpd.GeoDataFrame(\n",
    "    df, geometry=gpd.points_from_xy(df.longitude, df.latitude))\n",
    "\n",
    "# We have to tell the geopandas data what geographic system we are in by using something called an EPSG code. \n",
    "# All major geographic projection and transformation system have this code. \n",
    "gdf.crs = \"EPSG:4326\" \n",
    "\n",
    "# The head command shows you what is in the file.\n",
    "print(gdf.head())"
   ]
  },
  {
   "cell_type": "markdown",
   "metadata": {},
   "source": [
    "Okay, I am not going to explain \"chi\" yet. Most other things should be self explanatory. The exceptions are `source_key` and `basin_key`:\n",
    "\n",
    "* Each basin is tagged by a `basin_key` so if you pick this, then you isolate the basin. \n",
    "* Each channel has a \"source\" at the tip of the channel. These have a source key. So if you pick this you have the flow path from that source to the outlet. \n"
   ]
  },
  {
   "cell_type": "code",
   "execution_count": null,
   "metadata": {},
   "outputs": [],
   "source": [
    "z = gdf.elevation\n",
    "x = gdf.flow_distance\n",
    "S = np.gradient(np.asarray(z),np.asarray(x))\n",
    "gdf[\"slope\"] = S\n",
    "gdf.head()"
   ]
  },
  {
   "cell_type": "code",
   "execution_count": null,
   "metadata": {},
   "outputs": [],
   "source": [
    "plt.rcParams['figure.figsize'] = [10, 10]\n",
    "\n",
    "# First lets isolate just one of these basins. There is only basin 0 and 1\n",
    "gdf_b1 = gdf[(gdf['basin_key'] == 0)]\n",
    "gdf_b1.head()"
   ]
  },
  {
   "cell_type": "code",
   "execution_count": null,
   "metadata": {},
   "outputs": [],
   "source": [
    "plt.rcParams['figure.figsize'] = [10, 10]\n",
    "\n",
    "# First lets isolate just one of these basins. There is only basin 0 and 1\n",
    "gdf_b1 = gdf[(gdf['basin_key'] == 0)]\n",
    "\n",
    "# The main stem channel is the one with the minimum source key in this basin\n",
    "min_source = np.amin(gdf_b1.source_key)\n",
    "gdf_b2 = gdf_b1[(gdf_b1['source_key'] == min_source)]\n",
    "#gdf_b2 = gdf_b1\n",
    "\n",
    "# Now make channel profile plots\n",
    "z = gdf_b2.elevation\n",
    "x_locs = gdf_b2.flow_distance\n",
    "S = gdf_b2.slope\n",
    "\n",
    "# Create two subplots and unpack the output array immediately\n",
    "plt.clf()\n",
    "f, (ax1, ax2) = plt.subplots(2, 1)\n",
    "ax1.scatter(x_locs, z,s = 0.2)\n",
    "ax2.scatter(x_locs, S,s = 1)\n",
    "\n",
    "\n",
    "ax1.set_xlabel(\"Distance from outlet ($m$)\")\n",
    "ax1.set_ylabel(\"elevation (m)\")\n",
    "\n",
    "ax2.set_xlabel(\"Distance from outlet ($m$)\")\n",
    "ax2.set_ylabel(\"Slope (m/m)\")\n",
    "\n",
    "plt.tight_layout()"
   ]
  },
  {
   "cell_type": "code",
   "execution_count": null,
   "metadata": {},
   "outputs": [],
   "source": [
    "gdf['slope_rolling'] = gdf.slope.rolling(10,win_type='hamming').mean()\n",
    "gdf.head()"
   ]
  },
  {
   "cell_type": "code",
   "execution_count": null,
   "metadata": {},
   "outputs": [],
   "source": [
    "plt.rcParams['figure.figsize'] = [10, 10]\n",
    "\n",
    "# First lets isolate just one of these basins. There is only basin 0 and 1\n",
    "gdf_b1 = gdf[(gdf['basin_key'] == 0)]\n",
    "\n",
    "# The main stem channel is the one with the minimum source key in this basin\n",
    "min_source = np.amin(gdf_b1.source_key)\n",
    "gdf_b2 = gdf_b1[(gdf_b1['source_key'] == min_source)]\n",
    "#gdf_b2 = gdf_b1\n",
    "\n",
    "# Now make channel profile plots\n",
    "z = gdf_b2.elevation\n",
    "x_locs = gdf_b2.flow_distance\n",
    "S = gdf_b2.slope\n",
    "SR = gdf_b2.slope_rolling\n",
    "\n",
    "# Create two subplots and unpack the output array immediately\n",
    "plt.clf()\n",
    "f, (ax1, ax2) = plt.subplots(2, 1)\n",
    "ax1.scatter(x_locs, S,s = 1)\n",
    "ax2.scatter(x_locs, SR,s = 1)\n",
    "\n",
    "\n",
    "ax1.set_xlabel(\"Distance from outlet ($m$)\")\n",
    "ax1.set_ylabel(\"Slope (m/m)\")\n",
    "\n",
    "ax2.set_xlabel(\"Distance from outlet ($m$)\")\n",
    "ax2.set_ylabel(\"Rolling Slope (m/m)\")\n",
    "\n",
    "plt.tight_layout()"
   ]
  },
  {
   "cell_type": "code",
   "execution_count": null,
   "metadata": {},
   "outputs": [],
   "source": [
    "plt.rcParams['figure.figsize'] = [10, 10]\n",
    "\n",
    "# First lets isolate just one of these basins. There is only basin 0 and 1\n",
    "gdf_b1 = gdf[(gdf['basin_key'] == 0)]\n",
    "\n",
    "# The main stem channel is the one with the minimum source key in this basin\n",
    "min_source = np.amin(gdf_b1.source_key)\n",
    "gdf_b2 = gdf_b1[(gdf_b1['source_key'] == min_source)]\n",
    "#gdf_b2 = gdf_b1\n",
    "\n",
    "# Now make channel profile plots\n",
    "z = gdf_b2.elevation\n",
    "x_locs = gdf_b2.flow_distance\n",
    "S = gdf_b2.slope\n",
    "SR = gdf_b2.slope_rolling\n",
    "A = gdf_b2.drainage_area\n",
    "\n",
    "# Create two subplots and unpack the output array immediately\n",
    "plt.clf()\n",
    "f, (ax1, ax2) = plt.subplots(2, 1)\n",
    "ax1.scatter(x_locs, SR,s = 1)\n",
    "ax2.scatter(A, SR,s = 1)\n",
    "\n",
    "\n",
    "ax1.set_xlabel(\"Distance from outlet ($m$)\")\n",
    "ax1.set_ylabel(\"Slope (m/m)\")\n",
    "\n",
    "ax2.set_xlabel(\"Distance from outlet ($m$)\")\n",
    "ax2.set_ylabel(\"Rolling Slope (m/m)\")\n",
    "ax2.set_xscale(\"log\")\n",
    "ax2.set_yscale(\"log\")\n",
    "ax2.set_ylim(0.001,0.2)\n",
    "\n",
    "plt.tight_layout()"
   ]
  },
  {
   "cell_type": "code",
   "execution_count": null,
   "metadata": {},
   "outputs": [],
   "source": []
  }
 ],
 "metadata": {
  "kernelspec": {
   "display_name": "Python 3",
   "language": "python",
   "name": "python3"
  },
  "language_info": {
   "codemirror_mode": {
    "name": "ipython",
    "version": 3
   },
   "file_extension": ".py",
   "mimetype": "text/x-python",
   "name": "python",
   "nbconvert_exporter": "python",
   "pygments_lexer": "ipython3",
   "version": "3.8.3"
  }
 },
 "nbformat": 4,
 "nbformat_minor": 4
}
