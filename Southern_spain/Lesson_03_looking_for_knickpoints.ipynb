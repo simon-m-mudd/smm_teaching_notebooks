{
 "cells": [
  {
   "cell_type": "markdown",
   "metadata": {},
   "source": [
    "# Looking for knickpoints"
   ]
  },
  {
   "cell_type": "markdown",
   "metadata": {},
   "source": [
    "In the previous lesson, we "
   ]
  },
  {
   "cell_type": "code",
   "execution_count": null,
   "metadata": {},
   "outputs": [],
   "source": [
    "import pandas as pd\n",
    "import geopandas as gpd\n",
    "import cartopy as cp\n",
    "import cartopy.crs as ccrs\n",
    "import rasterio as rio\n",
    "import matplotlib.pyplot as plt\n",
    "import numpy as np"
   ]
  },
  {
   "cell_type": "markdown",
   "metadata": {},
   "source": [
    "Now read in the data"
   ]
  },
  {
   "cell_type": "code",
   "execution_count": null,
   "metadata": {},
   "outputs": [],
   "source": [
    "df = pd.read_csv(\"SorbasChi_MC_MChiSegmented.csv\")\n",
    "gdf = gpd.GeoDataFrame(\n",
    "    df, geometry=gpd.points_from_xy(df.longitude, df.latitude))\n",
    "\n",
    "# We have to tell the geopandas data what geographic system we are in by using something called an EPSG code. \n",
    "# All major geographic projection and transformation system have this code. \n",
    "gdf.crs = \"EPSG:4326\" \n",
    "\n",
    "# The head command shows you what is in the file.\n",
    "print(gdf.head())"
   ]
  },
  {
   "cell_type": "markdown",
   "metadata": {},
   "source": [
    "Lets plot a single channel. This is the same as the penultamite plot in lesson 02 but I want to show the data again:"
   ]
  },
  {
   "cell_type": "code",
   "execution_count": null,
   "metadata": {},
   "outputs": [],
   "source": [
    "plt.rcParams['figure.figsize'] = [10, 5]\n",
    "\n",
    "# First lets isolate just one of these basins. There is only basin 0 and 1\n",
    "gdf_b1 = gdf[(gdf['basin_key'] == 0)]\n",
    "\n",
    "# The main stem channel is the one with the minimum source key in this basin\n",
    "# If you want to play with this a bit you can change the source number to look at different channels\n",
    "min_source = np.amin(gdf_b1.source_key)\n",
    "gdf_b2 = gdf_b1[(gdf_b1['source_key'] == min_source)]\n",
    "#gdf_b2 = gdf_b1\n",
    "\n",
    "# Now make channel profile plots\n",
    "z = gdf_b2.elevation\n",
    "x_locs = gdf_b2.flow_distance\n",
    "m_chi = gdf_b2.m_chi\n",
    "chi = gdf_b2.chi\n",
    "\n",
    "# Create two subplots and unpack the output array immediately\n",
    "plt.clf()\n",
    "f, (ax1) = plt.subplots(1, 1)\n",
    "ax2 = ax1.twinx()  # instantiate a second axes that shares the same x-axis\n",
    "\n",
    "# Make the scatter plots\n",
    "ax1.scatter(x_locs, z,s = 1, label='Longitudinal profile')\n",
    "ax2.scatter(x_locs, m_chi,s = 1,c=\"r\", label='Channel steepness')\n",
    "\n",
    "# Some code to make sure the legend renders on the same axis\n",
    "lines, labels = ax1.get_legend_handles_labels()\n",
    "lines2, labels2 = ax2.get_legend_handles_labels()\n",
    "ax2.legend(lines + lines2, labels + labels2, loc=0)\n",
    "\n",
    "# These are just the labels for the figure\n",
    "ax1.set_xlabel(\"Distance from outlet ($m$)\")\n",
    "ax1.set_ylabel(\"Elevation (m)\")\n",
    "\n",
    "ax2.set_xlabel(\"Distance from outlet ($m$)\")\n",
    "ax2.set_ylabel(\"Channel steepness ($k_{sn}$)\")\n",
    "\n",
    "plt.tight_layout()"
   ]
  },
  {
   "cell_type": "markdown",
   "metadata": {},
   "source": [
    "The knickpoints are the ones with a high channel steepness value. We can filter the data by only picking points with a channel steepness above a certain value. So lets try that."
   ]
  },
  {
   "cell_type": "code",
   "execution_count": null,
   "metadata": {},
   "outputs": [],
   "source": [
    "plt.rcParams['figure.figsize'] = [10, 5]\n",
    "\n",
    "# First lets isolate just one of these basins. There is only basin 0 and 1\n",
    "gdf_b1 = gdf[(gdf['basin_key'] == 0)]\n",
    "\n",
    "# The main stem channel is the one with the minimum source key in this basin\n",
    "# If you want to play with this a bit you can change the source number to look at different channels\n",
    "min_source = np.amin(gdf_b1.source_key)\n",
    "gdf_b2 = gdf_b1[(gdf_b1['source_key'] == min_source)]\n",
    "\n",
    "z_all = gdf_b2.elevation\n",
    "x_all = gdf_b2.flow_distance\n",
    "\n",
    "\n",
    "## HERE IS THE LINE FOR SELECTING DATA WITH A HIGH m_chi\n",
    "gdf_b3 = gdf_b2[(gdf_b2['m_chi'] > 80)]\n",
    "\n",
    "\n",
    "# Now make channel profile plots\n",
    "z = gdf_b3.elevation\n",
    "x_locs = gdf_b3.flow_distance\n",
    "m_chi = gdf_b3.m_chi\n",
    "chi = gdf_b3.chi\n",
    "\n",
    "# Create two subplots and unpack the output array immediately\n",
    "plt.clf()\n",
    "f, (ax1) = plt.subplots(1, 1)\n",
    "ax2 = ax1.twinx()  # instantiate a second axes that shares the same x-axis\n",
    "\n",
    "# Make the scatter plots\n",
    "ax1.scatter(x_locs, z,s = 1, label='Knickpoints',zorder = 2)\n",
    "ax1.scatter(x_all, z_all,s = 1, label='Longitudinal profile',alpha= 0.5)\n",
    "ax2.scatter(x_locs, m_chi,s = 1,c=\"r\", label='Channel steepness of knickpoins')\n",
    "\n",
    "# Some code to make sure the legend renders on the same axis\n",
    "lines, labels = ax1.get_legend_handles_labels()\n",
    "lines2, labels2 = ax2.get_legend_handles_labels()\n",
    "ax2.legend(lines + lines2, labels + labels2, loc=0)\n",
    "\n",
    "# These are just the labels for the figure\n",
    "ax1.set_xlabel(\"Distance from outlet ($m$)\")\n",
    "ax1.set_ylabel(\"Elevation (m)\")\n",
    "\n",
    "ax2.set_xlabel(\"Distance from outlet ($m$)\")\n",
    "ax2.set_ylabel(\"Channel steepness ($k_{sn}$)\")\n",
    "\n",
    "plt.tight_layout()"
   ]
  },
  {
   "cell_type": "markdown",
   "metadata": {},
   "source": [
    "Lets try to plot the knickpoints in space:"
   ]
  },
  {
   "cell_type": "code",
   "execution_count": null,
   "metadata": {},
   "outputs": [],
   "source": [
    "import matplotlib.pyplot as plt\n",
    "from matplotlib.transforms import offset_copy\n",
    "import cartopy.crs as ccrs\n",
    "import cartopy.io.img_tiles as cimgt\n",
    "plt.rcParams['figure.figsize'] = [10, 10]\n",
    "\n",
    "stamen_terrain = cimgt.Stamen('terrain-background')\n",
    "\n",
    "\n",
    "# Sample the data\n",
    "# First lets isolate just one of these basins. There is only basin 0 and 1\n",
    "gdf_b1 = gdf[(gdf['basin_key'] == 0)]\n",
    "\n",
    "# Set the bounds to the complete basin\n",
    "bounds = gdf_b1.total_bounds\n",
    "\n",
    "# The main stem channel is the one with the minimum source key in this basin\n",
    "# If you want to play with this a bit you can change the source number to look at different channels\n",
    "min_source = np.amin(gdf_b1.source_key)\n",
    "gdf_b2 = gdf_b1[(gdf_b1['source_key'] == min_source)]\n",
    "\n",
    "## HERE IS THE LINE FOR SELECTING DATA WITH A HIGH m_chi\n",
    "gdf_b3 = gdf_b2[(gdf_b2['m_chi'] > 80)]\n",
    "\n",
    "fig = plt.figure()\n",
    "\n",
    "# Create a GeoAxes in the tile's projection.\n",
    "ax = fig.add_subplot(1, 1, 1, projection=stamen_terrain.crs)\n",
    "\n",
    "# Limit the extent of the map to a small longitude/latitude range.\n",
    "ax.set_extent([bounds[0]-0.2, bounds[2]+0.2, bounds[1]-0.1, bounds[3]+0.1], crs=ccrs.Geodetic())\n",
    "\n",
    "# Add the Stamen data at zoom level 11.\n",
    "ax.add_image(stamen_terrain, 11)\n",
    "\n",
    "# Add the channel data\n",
    "gdf4 = gdf_b3.to_crs(epsg=3857)    # We have to convert the data to the same \n",
    "                               #system as the ap tiles. It happens to be this one. \n",
    "                               # This epsg code is used for all map tiles (like google maps)\n",
    "\n",
    "# Now plot the data\n",
    "gdf4.plot(ax=ax, markersize=0.5,column='m_chi', \n",
    "          zorder=10,cmap=\"viridis\",legend=True, \n",
    "          legend_kwds={'label': \"Channel steepness $k_{sn}$\",'orientation': \"horizontal\"})\n"
   ]
  },
  {
   "cell_type": "code",
   "execution_count": null,
   "metadata": {},
   "outputs": [],
   "source": []
  }
 ],
 "metadata": {
  "kernelspec": {
   "display_name": "Python 3",
   "language": "python",
   "name": "python3"
  },
  "language_info": {
   "codemirror_mode": {
    "name": "ipython",
    "version": 3
   },
   "file_extension": ".py",
   "mimetype": "text/x-python",
   "name": "python",
   "nbconvert_exporter": "python",
   "pygments_lexer": "ipython3",
   "version": "3.8.3"
  }
 },
 "nbformat": 4,
 "nbformat_minor": 4
}
