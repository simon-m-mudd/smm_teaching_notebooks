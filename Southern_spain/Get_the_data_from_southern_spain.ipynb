{
 "cells": [
  {
   "cell_type": "markdown",
   "metadata": {},
   "source": [
    "# Getting data for southern spain"
   ]
  },
  {
   "cell_type": "markdown",
   "metadata": {},
   "source": [
    "*This lesson has been written by Simon M. Mudd at the University of Edinburgh*\n",
    "\n",
    "*Last update 18/02/2021*"
   ]
  },
  {
   "cell_type": "markdown",
   "metadata": {},
   "source": [
    "In this notebook we will grab some data from southern Spain using a python package called `lsdviztools`. \n",
    "We also will do a little bit of topographic analysis using **lsdtopotools**.\n",
    "\n",
    "We are assuming you are on a Notable notebook via the University of Edinburgh's Learn pages. This already has **lsdtopotools** installed. If this is not the case, you will need to use conda to install that yourself. "
   ]
  },
  {
   "cell_type": "markdown",
   "metadata": {},
   "source": [
    "## Get the right python packages"
   ]
  },
  {
   "cell_type": "code",
   "execution_count": null,
   "metadata": {},
   "outputs": [],
   "source": [
    "!pip install lsdviztools utm"
   ]
  },
  {
   "cell_type": "code",
   "execution_count": null,
   "metadata": {},
   "outputs": [],
   "source": [
    "import lsdviztools.lsdbasemaptools as bmt\n",
    "from lsdviztools.lsdplottingtools import lsdmap_gdalio as gio\n",
    "import lsdviztools.lsdmapwrappers as lsdmw\n",
    "import pandas as pd\n",
    "import geopandas as gpd\n",
    "import cartopy as cp\n",
    "import cartopy.crs as ccrs\n",
    "import rasterio as rio\n",
    "import matplotlib.pyplot as plt\n",
    "import numpy as np"
   ]
  },
  {
   "cell_type": "markdown",
   "metadata": {},
   "source": [
    "## Now grab some data"
   ]
  },
  {
   "cell_type": "markdown",
   "metadata": {},
   "source": [
    "First, we need to grab some data. We use a tool in `lsdviztools.lsdbasemaptools` called the `ot_scraper` (`ot` is for opentopography.org).\n",
    "\n",
    "You can tell this what sort of data you want (most people will use the SRTM 30 metre data) and you also tell it the lower left and the upper right corners, using latitude and longitude. You can get these from goole earth by right clicking on the map and selecting \"what's here\". In this example below, I will just get a small area near Sorbas. But you might expand your search area. "
   ]
  },
  {
   "cell_type": "code",
   "execution_count": null,
   "metadata": {},
   "outputs": [],
   "source": [
    "# If you want to modify the DEM, change the bounding latitude and longitude. \n",
    "Sorbas_DEM = bmt.ot_scraper(source = \"SRTM30\",longitude_W = -2.3, longitude_E = -2, \n",
    "                            latitude_S = 37.1, latitude_N = 37.25,prefix = \"Sorbas\")\n",
    "Sorbas_DEM.print_parameters()\n",
    "Sorbas_DEM.download_pythonic()"
   ]
  },
  {
   "cell_type": "markdown",
   "metadata": {},
   "source": [
    "That just downloaded a .tif file, which you could look at in a GIS. \n",
    "You can also look at the raw data here in python using something called `rasterio`. \n",
    "\n",
    "But we will use some tools developed at the University of Edinburgh, called **lsdtopotools**, to look at the data. \n",
    "\n",
    "To do that, we need to convert the data into a format **lsdtopotools** can understand. "
   ]
  },
  {
   "cell_type": "code",
   "execution_count": null,
   "metadata": {},
   "outputs": [],
   "source": [
    "## IMPORTANT: This doens't work in noteable!! It doesn't read the proj database\n",
    "#DataDirectory = \"./\"\n",
    "#RasterFile = \"Sorbas_SRTM30.tif\"\n",
    "#gio.convert4lsdtt(DataDirectory, RasterFile,minimum_elevation=0.01,resolution=30)"
   ]
  },
  {
   "cell_type": "code",
   "execution_count": null,
   "metadata": {},
   "outputs": [],
   "source": [
    "!gdalwarp -t_srs '+proj=utm +zone=30 +datum=WGS84' -of ENVI -overwrite Sorbas_SRTM30.tif Sorbas_SRTM30_UTM.bil"
   ]
  },
  {
   "cell_type": "markdown",
   "metadata": {},
   "source": [
    "## Now we do some topographic analysis and look at the data"
   ]
  },
  {
   "cell_type": "markdown",
   "metadata": {},
   "source": [
    "We will extract some topogaphic metrics using `lsdtopotools`. \n",
    "This is already installed on the Noteable GeoScience Notebooks.\n",
    "\n",
    "The `lsdtt_parameters` are the various parametes that you can use to run an analysis. We will discuss these later. For now, we will just follow this recipie. "
   ]
  },
  {
   "cell_type": "code",
   "execution_count": null,
   "metadata": {},
   "outputs": [],
   "source": [
    "lsdtt_parameters = {\"write_hillshade\" : \"true\",  \n",
    "                    \"surface_fitting_radius\" : \"60\",\n",
    "                    \"print_slope\" : \"true\"}\n",
    "lsdtt_drive = lsdmw.lsdtt_driver(read_prefix = \"Sorbas_SRTM30_UTM\",\n",
    "                                 write_prefix= \"Sorbas_SRTM30_UTM\",\n",
    "                                 read_path = \"./\",\n",
    "                                 write_path = \"./\",\n",
    "                                 parameter_dictionary=lsdtt_parameters)\n",
    "lsdtt_drive.print_parameters()\n"
   ]
  },
  {
   "cell_type": "code",
   "execution_count": null,
   "metadata": {},
   "outputs": [],
   "source": [
    "lsdtt_drive.run_lsdtt_command_line_tool()"
   ]
  },
  {
   "cell_type": "markdown",
   "metadata": {},
   "source": [
    "## Plot some data"
   ]
  },
  {
   "cell_type": "markdown",
   "metadata": {},
   "source": [
    "We are now going to do some simple plots using a mapping package that we put together. There are more general ways to visualise data, but this makes pretty pictures quickly.  "
   ]
  },
  {
   "cell_type": "code",
   "execution_count": null,
   "metadata": {},
   "outputs": [],
   "source": [
    "%matplotlib inline\n",
    "Base_file = \"Sorbas_SRTM30_UTM\"\n",
    "DataDirectory = \"./\"\n",
    "this_img = lsdmw.SimpleHillshade(DataDirectory,Base_file,cmap=\"gist_earth\", \n",
    "                                 save_fig=False, size_format=\"geomorphology\")"
   ]
  },
  {
   "cell_type": "markdown",
   "metadata": {},
   "source": [
    "We can also plot the slope map"
   ]
  },
  {
   "cell_type": "code",
   "execution_count": null,
   "metadata": {},
   "outputs": [],
   "source": [
    "Base_file = \"Sorbas_SRTM30_UTM\"\n",
    "Drape_prefix = \"Sorbas_SRTM30_UTM_SLOPE\"\n",
    "DataDirectory = \"./\"\n",
    "img_name2 = lsdmw.SimpleDrape(DataDirectory,Base_file, Drape_prefix, \n",
    "                              cmap = \"bwr\", cbar_loc = \"right\", \n",
    "                              cbar_label = \"Gradient (m/m)\",\n",
    "                              save_fig=False, size_format=\"geomorphology\",\n",
    "                              colour_min_max = [0,1.25])"
   ]
  },
  {
   "cell_type": "markdown",
   "metadata": {},
   "source": [
    "## Get some channel profiles"
   ]
  },
  {
   "cell_type": "markdown",
   "metadata": {},
   "source": [
    "Okay, we will now run a different analysis. We will get some channel profiles. "
   ]
  },
  {
   "cell_type": "code",
   "execution_count": null,
   "metadata": {},
   "outputs": [],
   "source": [
    "lsdtt_parameters = {\"print_basin_raster\" : \"true\",\n",
    "                    \"print_chi_data_maps\" : \"true\",\n",
    "                    \"minimum_basin_size_pixels\" : \"5000\"}\n",
    "lsdtt_drive = lsdmw.lsdtt_driver(read_prefix = \"Sorbas_SRTM30_UTM\",\n",
    "                                 write_prefix= \"Sorbas_SRTM30_UTM\",\n",
    "                                 read_path = \"./\",\n",
    "                                 write_path = \"./\",\n",
    "                                 parameter_dictionary=lsdtt_parameters)\n",
    "lsdtt_drive.print_parameters()"
   ]
  },
  {
   "cell_type": "code",
   "execution_count": null,
   "metadata": {},
   "outputs": [],
   "source": [
    "lsdtt_drive.run_lsdtt_command_line_tool()"
   ]
  },
  {
   "cell_type": "markdown",
   "metadata": {},
   "source": [
    "Now we are going to read in the channel data using geopandas"
   ]
  },
  {
   "cell_type": "code",
   "execution_count": null,
   "metadata": {},
   "outputs": [],
   "source": [
    "df = pd.read_csv(\"Sorbas_SRTM30_UTM_chi_data_map.csv\")\n",
    "gdf = gpd.GeoDataFrame(\n",
    "    df, geometry=gpd.points_from_xy(df.longitude, df.latitude))\n",
    "gdf.crs = \"EPSG:4326\" \n",
    "print(gdf.head())"
   ]
  },
  {
   "cell_type": "code",
   "execution_count": null,
   "metadata": {},
   "outputs": [],
   "source": [
    "bounds = gdf.total_bounds\n",
    "print(bounds)"
   ]
  },
  {
   "cell_type": "markdown",
   "metadata": {},
   "source": [
    "We will plot these data on a map using something called cartopy"
   ]
  },
  {
   "cell_type": "code",
   "execution_count": null,
   "metadata": {},
   "outputs": [],
   "source": [
    "import matplotlib.pyplot as plt\n",
    "from matplotlib.transforms import offset_copy\n",
    "import cartopy.crs as ccrs\n",
    "import cartopy.io.img_tiles as cimgt\n",
    "plt.rcParams['figure.figsize'] = [10, 10]\n",
    "\n",
    "stamen_terrain = cimgt.Stamen('terrain-background')\n",
    "\n",
    "fig = plt.figure()\n",
    "\n",
    "# Create a GeoAxes in the tile's projection.\n",
    "ax = fig.add_subplot(1, 1, 1, projection=stamen_terrain.crs)\n",
    "\n",
    "# Limit the extent of the map to a small longitude/latitude range.\n",
    "ax.set_extent([bounds[0]-0.2, bounds[2]+0.2, bounds[1]-0.1, bounds[3]+0.1], crs=ccrs.Geodetic())\n",
    "\n",
    "# Add the Stamen data at zoom level 11.\n",
    "ax.add_image(stamen_terrain, 11)\n",
    "\n",
    "# Add the channel data\n",
    "gdf = gdf.to_crs(epsg=3857)    # We have to convert the data to the same \n",
    "                               #system as the ap tiles. It happens to be this one. \n",
    "                               # This epsg code is used for all map tiles (like google maps)\n",
    "\n",
    "# IF YOU WANT TO PLOT ONE BASIN, UNCOMMENT THE LINE BELOW        \n",
    "#gdf_b1 = gdf[(gdf['basin_key'] == 0)]\n",
    "gdf.plot(ax=ax, markersize=0.5, column='chi', zorder=10,cmap=\"jet\")"
   ]
  },
  {
   "cell_type": "markdown",
   "metadata": {},
   "source": [
    "Now to plot the channels in profile"
   ]
  },
  {
   "cell_type": "code",
   "execution_count": null,
   "metadata": {},
   "outputs": [],
   "source": [
    "plt.rcParams['figure.figsize'] = [10, 10]\n",
    "\n",
    "# First lets isolate just one of these basins. There is only basin 0 and 1\n",
    "gdf_b1 = gdf[(gdf['basin_key'] == 0)]\n",
    "\n",
    "# The main stem channel is the one with the minimum source key in this basin\n",
    "min_source = np.amin(gdf_b1.source_key)\n",
    "gdf_b2 = gdf_b1[(gdf_b1['source_key'] == min_source)]\n",
    "#gdf_b2 = gdf_b1\n",
    "\n",
    "# Now make channel profile plots\n",
    "z = gdf_b2.elevation\n",
    "x_locs = gdf_b2.flow_distance\n",
    "chi = gdf_b2.chi\n",
    "\n",
    "# Create two subplots and unpack the output array immediately\n",
    "plt.clf()\n",
    "f, (ax1, ax2) = plt.subplots(2, 1)\n",
    "ax1.scatter(x_locs, z,s = 0.2)\n",
    "ax2.scatter(chi, z,s = 0.2)\n",
    "\n",
    "\n",
    "ax1.set_xlabel(\"Distance from outlet ($m$)\")\n",
    "ax1.set_ylabel(\"elevation (m)\")\n",
    "\n",
    "ax2.set_xlabel(\"$\\chi$ ($m$)\")\n",
    "ax2.set_ylabel(\"elevation (m)\")\n",
    "\n",
    "plt.tight_layout()"
   ]
  },
  {
   "cell_type": "code",
   "execution_count": null,
   "metadata": {},
   "outputs": [],
   "source": []
  }
 ],
 "metadata": {
  "kernelspec": {
   "display_name": "Python 3",
   "language": "python",
   "name": "python3"
  },
  "language_info": {
   "codemirror_mode": {
    "name": "ipython",
    "version": 3
   },
   "file_extension": ".py",
   "mimetype": "text/x-python",
   "name": "python",
   "nbconvert_exporter": "python",
   "pygments_lexer": "ipython3",
   "version": "3.8.3"
  }
 },
 "nbformat": 4,
 "nbformat_minor": 4
}
